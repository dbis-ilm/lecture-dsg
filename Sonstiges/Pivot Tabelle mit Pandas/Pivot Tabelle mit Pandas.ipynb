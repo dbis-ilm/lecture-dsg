{
 "cells": [
  {
   "cell_type": "markdown",
   "id": "55463cf1",
   "metadata": {
    "deletable": false,
    "editable": false
   },
   "source": [
    "# Pivot Tabelle in Pandas"
   ]
  },
  {
   "cell_type": "markdown",
   "id": "05f5092e",
   "metadata": {
    "deletable": false,
    "editable": false
   },
   "source": [
    "## Vorbereitung"
   ]
  },
  {
   "cell_type": "code",
   "execution_count": null,
   "id": "70b00e93",
   "metadata": {
    "deletable": false
   },
   "outputs": [],
   "source": [
    "import pandas as pd"
   ]
  },
  {
   "cell_type": "code",
   "execution_count": null,
   "id": "aadecf1c",
   "metadata": {
    "deletable": false
   },
   "outputs": [],
   "source": [
    "df = pd.read_csv('disney_plus_titles.csv')\n",
    "\n",
    "df = df[df['type'] == 'Movie']\n",
    "\n",
    "df['release_year'] = df['release'].str[:4]\n",
    "df['release_month'] = df['release'].str[5:7]\n",
    "df['avg_runtime'] = pd.cut(df['runtime'],\n",
    "                           (0, 30, 70, df['runtime'].max()),\n",
    "                           labels=('kurz', 'mittel', 'lang'))\n",
    "\n",
    "df = df[['type', 'release_year', 'release_month', 'avg_runtime', 'popularity']]\n",
    "\n",
    "df"
   ]
  },
  {
   "cell_type": "markdown",
   "id": "2e1c7ed6",
   "metadata": {
    "deletable": false,
    "editable": false
   },
   "source": [
    "## `pivot_table`"
   ]
  },
  {
   "cell_type": "code",
   "execution_count": null,
   "id": "92f08e60",
   "metadata": {
    "deletable": false
   },
   "outputs": [],
   "source": [
    "pivot = pd.pivot_table(df,\n",
    "                       values='popularity',\n",
    "                       index='release_year',\n",
    "                       columns='avg_runtime',\n",
    "                       aggfunc='mean')\n",
    "pivot"
   ]
  },
  {
   "cell_type": "code",
   "execution_count": null,
   "id": "a3922e8d",
   "metadata": {
    "deletable": false
   },
   "outputs": [],
   "source": [
    "md_pivot = pd.pivot_table(df,\n",
    "                          values='popularity',\n",
    "                          index=['release_year', 'release_month'],\n",
    "                          columns='avg_runtime',\n",
    "                          aggfunc='mean')\n",
    "md_pivot"
   ]
  },
  {
   "cell_type": "code",
   "execution_count": null,
   "id": "e2fb2f8a",
   "metadata": {
    "deletable": false
   },
   "outputs": [],
   "source": [
    "md_pivot.loc['2021']"
   ]
  },
  {
   "cell_type": "code",
   "execution_count": null,
   "id": "ac962267",
   "metadata": {
    "deletable": false
   },
   "outputs": [],
   "source": [
    "md_pivot['kurz']"
   ]
  }
 ],
 "metadata": {
  "kernelspec": {
   "display_name": "Python 3 (ipykernel)",
   "language": "python",
   "name": "python3"
  },
  "language_info": {
   "codemirror_mode": {
    "name": "ipython",
    "version": 3
   },
   "file_extension": ".py",
   "mimetype": "text/x-python",
   "name": "python",
   "nbconvert_exporter": "python",
   "pygments_lexer": "ipython3",
   "version": "3.10.12"
  }
 },
 "nbformat": 4,
 "nbformat_minor": 5
}
