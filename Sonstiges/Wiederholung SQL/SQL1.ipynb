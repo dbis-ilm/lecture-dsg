{
 "cells": [
  {
   "cell_type": "markdown",
   "id": "196e190e-558b-42eb-8c6d-a9744eb09993",
   "metadata": {
    "deletable": false,
    "editable": false
   },
   "source": [
    "# Wiederholung: SQL"
   ]
  },
  {
   "cell_type": "code",
   "execution_count": null,
   "id": "24481953-7af8-4639-9f2e-743703ebc882",
   "metadata": {
    "deletable": false
   },
   "outputs": [],
   "source": [
    "%CREATE :memory: OF tables.sql"
   ]
  },
  {
   "cell_type": "markdown",
   "id": "4f508047-abce-499f-8944-0b0e709443a0",
   "metadata": {
    "deletable": false,
    "editable": false
   },
   "source": [
    "## Inhaltsverzeichnis\n",
    "- [Aufbau von SQL-Anfragen](#Aufbau-von-SQL-Anfragen)\n",
    "  - [SELECT-Klausel](#SELECT-Klausel)\n",
    "  - [distinct eliminiert Duplikate](#distinct-eliminiert-Duplikate)\n",
    "  - [Tupelvariablen und Relationennamen](#Tupelvariablen-und-Relationennamen)\n",
    "  - [Kartesisches Produkt](#Kartesisches-Produkt)\n",
    "  - [Natürlicher Verbund](#Natürlicher-Verbund)\n",
    "  - [Verbunde als explizite Operatoren](#Verbunde-als-explizite-Operatoren)\n",
    "  - [Präfixe für Eindeutigkeit](#Präfixe-für-Eindeutigkeit)\n",
    "  - [Tupelvariablen für Eindeutigkeit](#Tupelvariablen-für-Eindeutigkeit)\n",
    "  - [Die WHERE-Klausel als Verbundbedingung](#Die-WHERE-Klausel-als-Verbundbedingung)\n",
    "  - [Bereichsselektion](#Bereichsselektion)\n",
    "  - [Ungewissheitsselektion](#Ungewissheitsselektion)\n",
    "  - [Mengenoperationen in SQL](#Mengenoperationen-in-SQL)\n",
    "  - [in-Prädikat und geschachtelte Anfragen](#in-Prädikat-und-geschachtelte-Anfragen)\n",
    "  - [Negation des in-Prädikats](#Negation-des-in-Prädikats)\n",
    "- [Erweiterungen des SFW-Blocks](#Erweiterungen-des-SFW-Blocks)\n",
    "  - [Bedingte Ausdrücke](#Bedingte-Ausdrücke)\n",
    "  - [Typkonvertierung](#Typkonvertierung)\n",
    "  - [Bedingungen mit Quantoren](#Bedingungen-mit-Quantoren)\n",
    "  - [Vergleich von Wertemengen](#Vergleich-von-Wertemengen)\n",
    "  - [Verzahnt geschachtelte Anfragen](#Verzahnt-geschachtelte-Anfragen)\n",
    "- [Aggregatfunktionen und Gruppierungen](#Aggregatfunktionen-und-Gruppierungen)\n",
    "  - [Beispiele](#Beispiele)\n",
    "  - [Aggregatfunktionen in WHERE-Klausel](#Aggregatfunktionen-in-WHERE-Klausel)\n",
    "  - [Gruppierung: Schema](#Gruppierung-Schema)\n",
    "  - [Gruppierung: Beispiel](#Gruppierung-Beispiel)\n",
    "  - [having: Beispiel](#having-Beispiel)\n",
    "  - [Sortierung](#Sortierung)\n",
    "  - [Selektionen nach Nullwerten](#Selektionen-nach-Nullwerten)\n",
    "- [Rekursion](#Rekursion)\n",
    "  - [Benannte Anfragen](#Benannte-Anfragen)\n",
    "  - [Rekursive Anfrage: Busfahrt mit max. 2x Umsteigen](#Rekursive-Anfrage-Busfahrt-mit-max-2x-Umsteigen)\n",
    "  - [Rekursion in SQL:2003](#Rekursion-in-SQL2003)\n",
    "  - [Rekursion: Beispiel](#Rekursion-Beispiel)"
   ]
  },
  {
   "cell_type": "markdown",
   "id": "9d07a97d-c394-4813-aba7-f00ca6251aa5",
   "metadata": {
    "deletable": false,
    "editable": false
   },
   "source": [
    "## Aufbau von SQL-Anfragen"
   ]
  },
  {
   "cell_type": "markdown",
   "id": "d2077bc4-14fa-4542-a931-598f2dfa88b7",
   "metadata": {
    "deletable": false,
    "editable": false
   },
   "source": [
    "### SELECT-Klausel"
   ]
  },
  {
   "cell_type": "code",
   "execution_count": null,
   "id": "da2f18bd-b23c-4ac0-a21d-41bfe787c243",
   "metadata": {
    "deletable": false
   },
   "outputs": [],
   "source": [
    "SELECT * FROM WEINE"
   ]
  },
  {
   "cell_type": "markdown",
   "id": "f9e238a3-9dbe-4cc1-bad9-03d62ff45432",
   "metadata": {
    "deletable": false,
    "editable": false
   },
   "source": [
    "### distinct eliminiert Duplikate"
   ]
  },
  {
   "cell_type": "code",
   "execution_count": null,
   "id": "e3026d63-b1e8-455d-92f4-59c01f6d99c5",
   "metadata": {
    "deletable": false
   },
   "outputs": [],
   "source": [
    "SELECT Name FROM WEINE"
   ]
  },
  {
   "cell_type": "code",
   "execution_count": null,
   "id": "a9c3a630-e67f-4af2-8920-cda0738b5a09",
   "metadata": {
    "deletable": false
   },
   "outputs": [],
   "source": [
    "SELECT DISTINCT Name FROM WEINE"
   ]
  },
  {
   "cell_type": "markdown",
   "id": "44ab91fc-4716-4118-9647-4149bccc301a",
   "metadata": {
    "deletable": false,
    "editable": false
   },
   "source": [
    "### Tupelvariablen und Relationennamen"
   ]
  },
  {
   "cell_type": "code",
   "execution_count": null,
   "id": "fe7b7769-182e-4965-869f-ee957bcfef29",
   "metadata": {
    "deletable": false
   },
   "outputs": [],
   "source": [
    "SELECT WEINE.Name FROM WEINE"
   ]
  },
  {
   "cell_type": "code",
   "execution_count": null,
   "id": "10bafb68-c2d0-4b4e-924d-6fdb2a255b1c",
   "metadata": {
    "deletable": false
   },
   "outputs": [],
   "source": [
    "SELECT W.Name FROM WEINE W"
   ]
  },
  {
   "cell_type": "markdown",
   "id": "ca2f4db7-a17a-4476-b52a-7cfaf6a7935f",
   "metadata": {
    "deletable": false,
    "editable": false
   },
   "source": [
    "### Kartesisches Produkt"
   ]
  },
  {
   "cell_type": "code",
   "execution_count": null,
   "id": "dbbca77d-0269-47c7-87e9-a2f229059b9b",
   "metadata": {
    "deletable": false
   },
   "outputs": [],
   "source": [
    "SELECT * FROM WEINE, ERZEUGER"
   ]
  },
  {
   "cell_type": "code",
   "execution_count": null,
   "id": "673cc22b-b189-4e17-b249-7bf54aea54c7",
   "metadata": {
    "deletable": false
   },
   "outputs": [],
   "source": [
    "SELECT * FROM WEINE W1, WEINE W2"
   ]
  },
  {
   "cell_type": "markdown",
   "id": "bc4563d3-6b3c-4f17-98e2-36b193f034fd",
   "metadata": {
    "deletable": false,
    "editable": false
   },
   "source": [
    "### Natürlicher Verbund"
   ]
  },
  {
   "cell_type": "code",
   "execution_count": null,
   "id": "fcf26151-2d7a-4010-bb30-d96a2dd32f9a",
   "metadata": {
    "deletable": false
   },
   "outputs": [],
   "source": [
    "SELECT *\n",
    "FROM WEINE, ERZEUGER\n",
    "WHERE WEINE.Weingut = ERZEUGER.Weingut"
   ]
  },
  {
   "cell_type": "code",
   "execution_count": null,
   "id": "a5ce4470-e4e0-46f5-9d25-930aa19e89d5",
   "metadata": {
    "deletable": false
   },
   "outputs": [],
   "source": [
    "SELECT * FROM WEINE NATURAL JOIN ERZEUGER"
   ]
  },
  {
   "cell_type": "markdown",
   "id": "0bdb4b4a-8665-4746-890f-710d37f4c320",
   "metadata": {
    "deletable": false,
    "editable": false
   },
   "source": [
    "### Verbunde als explizite Operatoren"
   ]
  },
  {
   "cell_type": "code",
   "execution_count": null,
   "id": "e59c41fc-6915-460e-aa7f-d4bbd6d84a7d",
   "metadata": {
    "deletable": false
   },
   "outputs": [],
   "source": [
    "SELECT * FROM WEINE JOIN ERZEUGER ON WEINE.Weingut = ERZEUGER.Weingut"
   ]
  },
  {
   "cell_type": "code",
   "execution_count": null,
   "id": "fe00eace-127d-481c-ae25-b5a5d8512063",
   "metadata": {
    "deletable": false
   },
   "outputs": [],
   "source": [
    "SELECT * FROM WEINE JOIN ERZEUGER USING (Weingut)"
   ]
  },
  {
   "cell_type": "code",
   "execution_count": null,
   "id": "afe63847-c668-452f-9f54-baf62cbbe11c",
   "metadata": {
    "deletable": false
   },
   "outputs": [],
   "source": [
    "SELECT * FROM WEINE CROSS JOIN ERZEUGER"
   ]
  },
  {
   "cell_type": "code",
   "execution_count": null,
   "id": "66e530a3-50b6-47b5-9581-d2badc5ffdc0",
   "metadata": {
    "deletable": false
   },
   "outputs": [],
   "source": [
    "SELECT Ergebnis.Weingut\n",
    "FROM (\n",
    "    SELECT * FROM WEINE NATURAL JOIN ERZEUGER\n",
    ") Ergebnis"
   ]
  },
  {
   "cell_type": "markdown",
   "id": "16222958-c239-451e-8d0d-50726c64513d",
   "metadata": {
    "deletable": false,
    "editable": false
   },
   "source": [
    "### Präfixe für Eindeutigkeit"
   ]
  },
  {
   "cell_type": "code",
   "execution_count": null,
   "id": "7ea29c8b-3f57-475f-9e6f-6801d5fd5baf",
   "metadata": {
    "deletable": false,
    "tags": [
     "raises-exception"
    ]
   },
   "outputs": [],
   "source": [
    "-- DuckDB übernimmt das Join-Attribut nur einmalig beim \"NATURAL JOIN\".\n",
    "SELECT Name, Jahrgang, Weingut\n",
    "FROM WEINE JOIN ERZEUGER ON WEINE.Weingut = ERZEUGER.Weingut"
   ]
  },
  {
   "cell_type": "code",
   "execution_count": null,
   "id": "feb6d708-83d8-4360-8ce2-54a87723bab9",
   "metadata": {
    "deletable": false
   },
   "outputs": [],
   "source": [
    "SELECT Name, Jahrgang, WEINE.Weingut\n",
    "FROM WEINE JOIN ERZEUGER ON WEINE.Weingut = ERZEUGER.Weingut"
   ]
  },
  {
   "cell_type": "markdown",
   "id": "c44f99d4-d289-4dfb-bd4a-866fa885a4ba",
   "metadata": {
    "deletable": false,
    "editable": false
   },
   "source": [
    "### Tupelvariablen für Eindeutigkeit"
   ]
  },
  {
   "cell_type": "code",
   "execution_count": null,
   "id": "3b20e4ba-09ec-40b6-86e2-736190624f9b",
   "metadata": {
    "deletable": false
   },
   "outputs": [],
   "source": [
    "SELECT w1.Name, w2.Weingut FROM Weine w1, Weine w2"
   ]
  },
  {
   "cell_type": "markdown",
   "id": "03b52bfb-216b-4a68-a86f-538f5cb212e4",
   "metadata": {
    "deletable": false,
    "editable": false
   },
   "source": [
    "### Die WHERE-Klausel als Verbundbedingung"
   ]
  },
  {
   "cell_type": "code",
   "execution_count": null,
   "id": "f4979c8b-0588-456a-b2b9-d3c0a9dfebf2",
   "metadata": {
    "deletable": false
   },
   "outputs": [],
   "source": [
    "SELECT Name, Jahrgang, ERZEUGER.Weingut\n",
    "FROM WEINE, ERZEUGER\n",
    "WHERE WEINE.Weingut = ERZEUGER.Weingut"
   ]
  },
  {
   "cell_type": "markdown",
   "id": "ed01c168-a29c-40e6-9778-412e648cbb78",
   "metadata": {
    "deletable": false,
    "editable": false
   },
   "source": [
    "### Bereichsselektion"
   ]
  },
  {
   "cell_type": "code",
   "execution_count": null,
   "id": "691a3d7a-ae16-4d60-a618-b427b9455bcb",
   "metadata": {
    "deletable": false
   },
   "outputs": [],
   "source": [
    "SELECT * FROM WEINE\n",
    "WHERE Jahrgang BETWEEN 2000 AND 2005"
   ]
  },
  {
   "cell_type": "code",
   "execution_count": null,
   "id": "834c8818-c29d-4cfe-bc45-25bf9961e945",
   "metadata": {
    "deletable": false
   },
   "outputs": [],
   "source": [
    "SELECT * FROM WEINE\n",
    "WHERE Jahrgang >= 2000 AND Jahrgang <= 2005"
   ]
  },
  {
   "cell_type": "markdown",
   "id": "c89e6fc0-331d-459d-b63d-bcd56e8c8831",
   "metadata": {
    "deletable": false,
    "editable": false
   },
   "source": [
    "### Ungewissheitsselektion"
   ]
  },
  {
   "cell_type": "code",
   "execution_count": null,
   "id": "a0e78100-1cd2-4599-8d8b-d8ec31e3ff7f",
   "metadata": {
    "deletable": false
   },
   "outputs": [],
   "source": [
    "SELECT * FROM WEINE\n",
    "WHERE Name LIKE 'La Rose%'"
   ]
  },
  {
   "cell_type": "markdown",
   "id": "7c4d8162-9940-44b1-bb86-8b02a3437249",
   "metadata": {
    "deletable": false,
    "editable": false
   },
   "source": [
    "### Mengenoperationen in SQL"
   ]
  },
  {
   "cell_type": "code",
   "execution_count": null,
   "id": "bbe9c9b4-b561-47eb-8a3e-f14e03b78510",
   "metadata": {
    "deletable": false
   },
   "outputs": [],
   "source": [
    "SELECT *\n",
    "FROM (\n",
    "    SELECT Weingut FROM ERZEUGER\n",
    "    EXCEPT\n",
    "    SELECT Weingut FROM WEINE\n",
    ")"
   ]
  },
  {
   "cell_type": "code",
   "execution_count": null,
   "id": "f1808608-5250-4294-ab58-0d7d51390f72",
   "metadata": {
    "deletable": false
   },
   "outputs": [],
   "source": [
    "SELECT * FROM R\n",
    "UNION\n",
    "SELECT * FROM S"
   ]
  },
  {
   "cell_type": "code",
   "execution_count": null,
   "id": "e46a4d84-58ff-463d-a502-e5000a0dd381",
   "metadata": {
    "deletable": false
   },
   "outputs": [],
   "source": [
    "SELECT * FROM R\n",
    "UNION ALL\n",
    "SELECT * FROM S"
   ]
  },
  {
   "cell_type": "markdown",
   "id": "3919feaa-ace2-43d2-bf53-979f05ff5931",
   "metadata": {
    "deletable": false,
    "editable": false
   },
   "source": [
    "### in-Prädikat und geschachtelte Anfragen"
   ]
  },
  {
   "cell_type": "code",
   "execution_count": null,
   "id": "100c8643-0a3d-4461-9ba5-31d5f80d95e7",
   "metadata": {
    "deletable": false
   },
   "outputs": [],
   "source": [
    "SELECT Name\n",
    "FROM WEINE\n",
    "WHERE Weingut IN (\n",
    "    SELECT Weingut\n",
    "    FROM ERZEUGER\n",
    "    WHERE Region = 'Bordeaux'\n",
    ")"
   ]
  },
  {
   "cell_type": "code",
   "execution_count": null,
   "id": "23bb51cb-9903-4ff9-b144-b61586148c55",
   "metadata": {
    "deletable": false
   },
   "outputs": [],
   "source": [
    "SELECT Name\n",
    "FROM WEINE\n",
    "WHERE Weingut IN ('Chateau La Rose', 'Chateau La Pointe')"
   ]
  },
  {
   "cell_type": "code",
   "execution_count": null,
   "id": "140e5f1e-bd33-4a99-beea-5fb94a8f37df",
   "metadata": {
    "deletable": false
   },
   "outputs": [],
   "source": [
    "SELECT Name\n",
    "FROM WEINE NATURAL JOIN ERZEUGER\n",
    "WHERE Region = 'Bordeaux'"
   ]
  },
  {
   "cell_type": "markdown",
   "id": "b7bd72d2-c95a-4332-bfed-109acbd47169",
   "metadata": {
    "deletable": false,
    "editable": false
   },
   "source": [
    "### Negation des in-Prädikats"
   ]
  },
  {
   "cell_type": "code",
   "execution_count": null,
   "id": "e223097d-0039-4ce3-95c2-b542fcce9818",
   "metadata": {
    "deletable": false
   },
   "outputs": [],
   "source": [
    "SELECT Weingut\n",
    "FROM ERZEUGER\n",
    "WHERE Weingut NOT IN (\n",
    "    SELECT Weingut\n",
    "    FROM WEINE\n",
    ")"
   ]
  },
  {
   "cell_type": "markdown",
   "id": "b44e7c43-73c7-49b8-baf0-9583ef055160",
   "metadata": {
    "deletable": false,
    "editable": false
   },
   "source": [
    "## Erweiterungen des SFW-Blocks"
   ]
  },
  {
   "cell_type": "markdown",
   "id": "58365c50-68bf-4f71-b78c-e89087020fda",
   "metadata": {
    "deletable": false,
    "editable": false
   },
   "source": [
    "### Bedingte Ausdrücke"
   ]
  },
  {
   "cell_type": "code",
   "execution_count": null,
   "id": "657d4b89-dab0-40bd-a0a7-dd943b0d1787",
   "metadata": {
    "deletable": false
   },
   "outputs": [],
   "source": [
    "SELECT CASE\n",
    "    WHEN Farbe = 'Rot'  THEN 'Rotwein'\n",
    "    WHEN Farbe = 'Weiß' THEN 'Weißwein'\n",
    "    ELSE 'Sonstiges'\n",
    "END AS Weinart, Name\n",
    "FROM WEINE"
   ]
  },
  {
   "cell_type": "markdown",
   "id": "dd51b5be-5b53-4130-9aa3-ea88497bf680",
   "metadata": {
    "deletable": false,
    "editable": false
   },
   "source": [
    "### Typkonvertierung"
   ]
  },
  {
   "cell_type": "code",
   "execution_count": null,
   "id": "f3560029-d358-4194-bab8-0b3500076cca",
   "metadata": {
    "deletable": false
   },
   "outputs": [],
   "source": [
    "SELECT CAST(Jahrgang AS VARCHAR) || 'er ' || Name AS Bezeichnung\n",
    "FROM WEINE"
   ]
  },
  {
   "cell_type": "markdown",
   "id": "ed6a0aee-f858-418a-a635-9a12cc0c3902",
   "metadata": {
    "deletable": false,
    "editable": false
   },
   "source": [
    "### Bedingungen mit Quantoren"
   ]
  },
  {
   "cell_type": "code",
   "execution_count": null,
   "id": "af5b23b2-03f9-463e-a358-b3a0c5f18bca",
   "metadata": {
    "deletable": false
   },
   "outputs": [],
   "source": [
    "SELECT *\n",
    "FROM WEINE\n",
    "WHERE Jahrgang <= all(\n",
    "    SELECT Jahrgang\n",
    "    FROM WEINE\n",
    ")"
   ]
  },
  {
   "cell_type": "code",
   "execution_count": null,
   "id": "1d52f062-e929-496b-9c54-527fdf3a819b",
   "metadata": {
    "deletable": false
   },
   "outputs": [],
   "source": [
    "SELECT *\n",
    "FROM ERZEUGER\n",
    "WHERE Weingut = any(\n",
    "    SELECT Weingut FROM WEINE\n",
    "    WHERE Farbe = 'Rot'\n",
    ")"
   ]
  },
  {
   "cell_type": "markdown",
   "id": "7177b8a9-415b-4758-a50e-8cc70075ad93",
   "metadata": {
    "deletable": false,
    "editable": false
   },
   "source": [
    "### Vergleich von Wertemengen"
   ]
  },
  {
   "cell_type": "code",
   "execution_count": null,
   "id": "639453a3-11ee-4a1a-a684-ec61f97d218d",
   "metadata": {
    "deletable": false
   },
   "outputs": [],
   "source": [
    "SELECT Weingut\n",
    "FROM WEINE\n",
    "WHERE Farbe = 'Rot' AND Farbe = 'Weiß'"
   ]
  },
  {
   "cell_type": "code",
   "execution_count": null,
   "id": "5ae3f803-095d-4adc-8bd8-4f52f52bd8c9",
   "metadata": {
    "deletable": false
   },
   "outputs": [],
   "source": [
    "SELECT w1.Weingut\n",
    "FROM WEINE w1, WEINE w2\n",
    "WHERE w1.Weingut = w2.Weingut AND w1.Farbe = 'Rot' AND w2.Farbe = 'Weiß'"
   ]
  },
  {
   "cell_type": "markdown",
   "id": "42c1487e-e73d-4b69-930f-b325eab5fbb3",
   "metadata": {
    "deletable": false,
    "editable": false
   },
   "source": [
    "### Verzahnt geschachtelte Anfragen"
   ]
  },
  {
   "cell_type": "code",
   "execution_count": null,
   "id": "1bba80d5-c6ed-415f-a3fd-92529af3ed9b",
   "metadata": {
    "deletable": false
   },
   "outputs": [],
   "source": [
    "SELECT *\n",
    "FROM ERZEUGER\n",
    "WHERE 1999 IN (\n",
    "    SELECT Jahrgang\n",
    "    FROM WEINE\n",
    "    WHERE Farbe = 'Rot' AND Weine.Weingut = ERZEUGER.Weingut\n",
    ")"
   ]
  },
  {
   "cell_type": "code",
   "execution_count": null,
   "id": "cd3839f7-e59e-461f-964e-a9b6c47d140d",
   "metadata": {
    "deletable": false
   },
   "outputs": [],
   "source": [
    "SELECT *\n",
    "FROM ERZEUGER e\n",
    "WHERE Region = 'Bordeaux' AND NOT EXISTS (\n",
    "    SELECT *\n",
    "    FROM WEINE\n",
    "    WHERE Weingut = e.Weingut\n",
    ")"
   ]
  },
  {
   "cell_type": "markdown",
   "id": "ce8cf7da-5e14-4bd7-85c9-cfa7656be7f2",
   "metadata": {
    "deletable": false,
    "editable": false
   },
   "source": [
    "## Aggregatfunktionen und Gruppierungen"
   ]
  },
  {
   "cell_type": "markdown",
   "id": "f4ae3c79-eedd-40b0-bbc1-56f40c41efd5",
   "metadata": {
    "deletable": false,
    "editable": false
   },
   "source": [
    "### Beispiele"
   ]
  },
  {
   "cell_type": "code",
   "execution_count": null,
   "id": "88fe0f39-0bc7-4264-b116-c8b7291c2029",
   "metadata": {
    "deletable": false
   },
   "outputs": [],
   "source": [
    "SELECT COUNT(*) AS Anzahl\n",
    "FROM WEINE"
   ]
  },
  {
   "cell_type": "code",
   "execution_count": null,
   "id": "86e51c41-1929-4c90-b693-559bf0b1ffd9",
   "metadata": {
    "deletable": false
   },
   "outputs": [],
   "source": [
    "SELECT COUNT(DISTINCT Region)\n",
    "FROM ERZEUGER"
   ]
  },
  {
   "cell_type": "code",
   "execution_count": null,
   "id": "4907d69d-b3ff-48fa-ad16-64d6d7c7d6b5",
   "metadata": {
    "deletable": false
   },
   "outputs": [],
   "source": [
    "SELECT Name, Jahrgang\n",
    "FROM WEINE\n",
    "WHERE Jahrgang < (\n",
    "    SELECT AVG(Jahrgang)\n",
    "    FROM WEINE\n",
    ")"
   ]
  },
  {
   "cell_type": "markdown",
   "id": "e574161d-7bc1-4f7c-8221-8549254ae430",
   "metadata": {
    "deletable": false,
    "editable": false
   },
   "source": [
    "### Aggregatfunktionen in WHERE-Klausel"
   ]
  },
  {
   "cell_type": "code",
   "execution_count": null,
   "id": "5495adf2-d853-4d10-90b8-f12891437740",
   "metadata": {
    "deletable": false
   },
   "outputs": [],
   "source": [
    "SELECT *\n",
    "FROM ERZEUGER e\n",
    "WHERE 1 = (\n",
    "    SELECT COUNT(*)\n",
    "    FROM WEINE w\n",
    "    WHERE w.Weingut = e.Weingut\n",
    ")"
   ]
  },
  {
   "cell_type": "markdown",
   "id": "1addd464-9741-4d85-a86d-32efced96299",
   "metadata": {
    "deletable": false,
    "editable": false
   },
   "source": [
    "### Gruppierung: Schema"
   ]
  },
  {
   "cell_type": "code",
   "execution_count": null,
   "id": "e098d4da-83fc-48e2-9184-d9317cade327",
   "metadata": {
    "deletable": false
   },
   "outputs": [],
   "source": [
    "SELECT A, SUM(D)\n",
    "FROM REL\n",
    "-- WHERE ...\n",
    "GROUP BY A, B\n",
    "HAVING A < 4 AND SUM(D) < 10 AND MAX(C) = 4"
   ]
  },
  {
   "cell_type": "markdown",
   "id": "06388419-e8b5-454c-b3ab-484a634aa2a8",
   "metadata": {
    "deletable": false,
    "editable": false
   },
   "source": [
    "### Gruppierung: Beispiel"
   ]
  },
  {
   "cell_type": "code",
   "execution_count": null,
   "id": "49499dbe-05d4-4b00-82bf-273f6a2167a0",
   "metadata": {
    "deletable": false
   },
   "outputs": [],
   "source": [
    "SELECT Farbe, COUNT(*) AS Anzahl\n",
    "FROM WEINE\n",
    "GROUP BY Farbe"
   ]
  },
  {
   "cell_type": "markdown",
   "id": "3f1d9fff-0f40-4ce3-8aff-4f40d246612e",
   "metadata": {
    "deletable": false,
    "editable": false
   },
   "source": [
    "### having: Beispiel"
   ]
  },
  {
   "cell_type": "code",
   "execution_count": null,
   "id": "5a46b291-10ff-4f2d-b102-5fe11da6edf7",
   "metadata": {
    "deletable": false
   },
   "outputs": [],
   "source": [
    "SELECT Region, COUNT(*) AS Anzahl\n",
    "FROM ERZEUGER NATURAL JOIN WEINE\n",
    "GROUP BY Region\n",
    "HAVING COUNT(*) > 1"
   ]
  },
  {
   "cell_type": "markdown",
   "id": "e02e95c6-517d-4e3e-83b6-9071942c97ef",
   "metadata": {
    "deletable": false,
    "editable": false
   },
   "source": [
    "### Sortierung"
   ]
  },
  {
   "cell_type": "code",
   "execution_count": null,
   "id": "36c97cbd-46cf-4ca2-a8dc-5aff37216b76",
   "metadata": {
    "deletable": false
   },
   "outputs": [],
   "source": [
    "SELECT Weingut, COUNT(*) AS Anzahl\n",
    "FROM ERZEUGER NATURAL JOIN WEINE\n",
    "GROUP BY Weingut\n",
    "ORDER BY Anzahl DESC"
   ]
  },
  {
   "cell_type": "markdown",
   "id": "56b001d9-571b-42b0-9552-07f68c9b9d55",
   "metadata": {
    "deletable": false,
    "editable": false
   },
   "source": [
    "### Selektionen nach Nullwerten"
   ]
  },
  {
   "cell_type": "code",
   "execution_count": null,
   "id": "f3b34e10-734f-4d8a-ade1-ddb7e8d58a9a",
   "metadata": {
    "deletable": false
   },
   "outputs": [],
   "source": [
    "SELECT * FROM ERZEUGER\n",
    "WHERE Anbaugebiet IS NULL"
   ]
  },
  {
   "cell_type": "markdown",
   "id": "8f679f05-521c-4d47-a5ba-c8d68c8083d5",
   "metadata": {
    "deletable": false,
    "editable": false
   },
   "source": [
    "## Rekursion"
   ]
  },
  {
   "cell_type": "markdown",
   "id": "38f8d79e-e9a5-44e4-bac1-8cb9311c2815",
   "metadata": {
    "deletable": false,
    "editable": false
   },
   "source": [
    "### Benannte Anfragen"
   ]
  },
  {
   "cell_type": "code",
   "execution_count": null,
   "id": "cdc20292-e378-4b38-8f86-e6f789d526c8",
   "metadata": {
    "deletable": false
   },
   "outputs": [],
   "source": [
    "SELECT *\n",
    "FROM WEINE\n",
    "WHERE Jahrgang >= (SELECT AVG(Jahrgang) FROM WEINE) - 2 AND Jahrgang <= (SELECT AVG(Jahrgang) FROM WEINE) + 2"
   ]
  },
  {
   "cell_type": "code",
   "execution_count": null,
   "id": "c77a9210-483f-4d6e-852e-c42a80e8829b",
   "metadata": {
    "deletable": false
   },
   "outputs": [],
   "source": [
    "WITH ALTER(Durchschnitt) AS (\n",
    "    SELECT AVG(Jahrgang) FROM WEINE\n",
    ")\n",
    "\n",
    "SELECT *\n",
    "FROM WEINE, ALTER\n",
    "WHERE Jahrgang >= Durchschnitt - 2 AND Jahrgang <= Durchschnitt + 2"
   ]
  },
  {
   "cell_type": "markdown",
   "id": "651427bb-6a88-49c3-a518-89b807650a6d",
   "metadata": {
    "deletable": false,
    "editable": false
   },
   "source": [
    "### Rekursive Anfrage: Busfahrt mit max. 2x Umsteigen"
   ]
  },
  {
   "cell_type": "code",
   "execution_count": null,
   "id": "e48ce7b4-747d-4422-9445-178575e00ef6",
   "metadata": {
    "deletable": false
   },
   "outputs": [],
   "source": [
    "SELECT Abfahrt, Ankunft\n",
    "FROM BUSLINIE\n",
    "WHERE Abfahrt = 'Nuriootpa'\n",
    "\n",
    "UNION\n",
    "\n",
    "SELECT B1.Abfahrt, B2.Ankunft\n",
    "FROM BUSLINIE B1, BUSLINIE B2\n",
    "WHERE B1.Abfahrt = 'Nuriootpa' AND B1.Ankunft = B2.Abfahrt\n",
    "\n",
    "UNION\n",
    "\n",
    "SELECT B1.Abfahrt, B3.Ankunft\n",
    "FROM BUSLINIE B1, BUSLINIE B2, BUSLINIE B3\n",
    "WHERE B1.Abfahrt = 'Nuriootpa' AND B1.Ankunft = B2.Abfahrt AND B2.Ankunft = B3.Abfahrt"
   ]
  },
  {
   "cell_type": "markdown",
   "id": "605f600e-31f2-4a44-b65f-f8170016ab3a",
   "metadata": {
    "deletable": false,
    "editable": false
   },
   "source": [
    "### Rekursion in SQL:2003"
   ]
  },
  {
   "cell_type": "code",
   "execution_count": null,
   "id": "de3fd40e-94c7-40d3-8aa6-dadb9a098f4e",
   "metadata": {
    "deletable": false
   },
   "outputs": [],
   "source": [
    "WITH RECURSIVE TOUR(Abfahrt, Ankunft) AS (\n",
    "    SELECT Abfahrt, Ankunft\n",
    "    FROM BUSLINIE\n",
    "    WHERE Abfahrt = 'Nuriootpa'\n",
    "\n",
    "    UNION ALL\n",
    "\n",
    "    SELECT T.Abfahrt, B.Ankunft\n",
    "    FROM TOUR T, BUSLINIE B\n",
    "    WHERE T.Ankunft = B.Abfahrt\n",
    ")\n",
    "\n",
    "SELECT DISTINCT * FROM TOUR"
   ]
  },
  {
   "cell_type": "markdown",
   "id": "46a3c159-4878-4869-aad9-08e36e08f78d",
   "metadata": {
    "deletable": false,
    "editable": false
   },
   "source": [
    "### Rekursion: Beispiel"
   ]
  },
  {
   "cell_type": "code",
   "execution_count": null,
   "id": "c70e7668-03cc-4e6d-896f-e3fbe2a80ebb",
   "metadata": {
    "deletable": false
   },
   "outputs": [],
   "source": [
    "WITH RECURSIVE TOUR(Abfahrt, Ankunft, Strecke) as (\n",
    "    SELECT Abfahrt, Ankunft, Distanz as Strecke\n",
    "    FROM BUSLINIE\n",
    "    WHERE Abfahrt = 'Nuriootpa'\n",
    "\n",
    "    UNION ALL\n",
    "\n",
    "    SELECT T.Abfahrt, B.Ankunft, Strecke + Distanz AS Strecke\n",
    "    FROM TOUR T, BUSLINIE B\n",
    "    WHERE T.Ankunft = B.Abfahrt\n",
    ")\n",
    "\n",
    "SELECT DISTINCT * FROM TOUR"
   ]
  }
 ],
 "metadata": {
  "kernelspec": {
   "display_name": "DuckDB",
   "language": "",
   "name": "duckdb_kernel"
  },
  "language_info": {
   "file_extension": ".sql",
   "mimetype": "application/sql",
   "name": "duckdb"
  }
 },
 "nbformat": 4,
 "nbformat_minor": 5
}
