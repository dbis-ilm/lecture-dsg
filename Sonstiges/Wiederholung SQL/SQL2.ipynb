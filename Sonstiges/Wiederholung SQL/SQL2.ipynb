{
 "cells": [
  {
   "cell_type": "markdown",
   "id": "196e190e-558b-42eb-8c6d-a9744eb09993",
   "metadata": {
    "deletable": false,
    "editable": false
   },
   "source": [
    "# Wiederholung: SQL II"
   ]
  },
  {
   "cell_type": "code",
   "execution_count": null,
   "id": "24481953-7af8-4639-9f2e-743703ebc882",
   "metadata": {
    "deletable": false
   },
   "outputs": [],
   "source": [
    "%CREATE :memory:"
   ]
  },
  {
   "cell_type": "markdown",
   "id": "4f508047-abce-499f-8944-0b0e709443a0",
   "metadata": {
    "deletable": false,
    "editable": false
   },
   "source": [
    "## Inhaltsverzeichnis\n",
    "- [CSV-Import](#CSV-Import)\n",
    "- [Kreuztabellen](#Kreuztabellen)\n",
    "- [Cube](#Cube)\n",
    "- [Rollup](#Rollup)\n",
    "- [Grouping Sets](#Grouping-Sets)\n",
    "- [Fensterfunktionen](#Fensterfunktionen)"
   ]
  },
  {
   "cell_type": "markdown",
   "id": "9d07a97d-c394-4813-aba7-f00ca6251aa5",
   "metadata": {
    "deletable": false,
    "editable": false
   },
   "source": [
    "## CSV-Import\n",
    "**Achtung**: Das Laden von Dateien ist abhängig vom verwendeten Datenbanksystem. Bitte beachten Sie die Hilfeseiten zu dem von Ihnen eingesetzten DBMS!\n",
    "\n",
    "Die folgende Anfrage erzeugt eine View mit dem Inhalt der CSV-Datei."
   ]
  },
  {
   "cell_type": "code",
   "execution_count": null,
   "id": "4fd3e372",
   "metadata": {
    "deletable": false
   },
   "outputs": [],
   "source": [
    "CREATE OR REPLACE VIEW verkauf AS\n",
    "FROM read_csv(verkauf.csv, header=true, delim=',', auto_detect=true)"
   ]
  },
  {
   "cell_type": "code",
   "execution_count": null,
   "id": "7f460e31",
   "metadata": {
    "deletable": false
   },
   "outputs": [],
   "source": [
    "%MAX_ROWS 10\n",
    "SELECT * FROM verkauf"
   ]
  },
  {
   "cell_type": "markdown",
   "id": "656e1557",
   "metadata": {
    "deletable": false,
    "editable": false
   },
   "source": [
    "Bei jeder Anfrage wird die CSV-Datei neu eingelesen. Sie können das prüfen, indem Sie parallel die Datei mit einem Texteditor verändern und dann nur das zuletzt erfolgte `SELECT`-Statement neu ausführen, ohne die zuvor erzeugte View neuzuladen."
   ]
  },
  {
   "cell_type": "markdown",
   "id": "95bf6f9e",
   "metadata": {
    "deletable": false,
    "editable": false
   },
   "source": [
    "## Kreuztabellen"
   ]
  },
  {
   "cell_type": "code",
   "execution_count": null,
   "id": "132fdd83",
   "metadata": {
    "deletable": false
   },
   "outputs": [],
   "source": [
    "PIVOT verkauf\n",
    "-- Attribut + Beschränkung für Spalten\n",
    "ON Bundesland IN (\"Thüringen\", \"Sachsen-Anhalt\")\n",
    "-- Aggregation für Werte\n",
    "USING SUM(Volumen)\n",
    "-- Attribut für Zeilen\n",
    "GROUP BY Jahr\n",
    "ORDER BY Jahr"
   ]
  },
  {
   "cell_type": "markdown",
   "id": "6044a5de",
   "metadata": {
    "deletable": false,
    "editable": false
   },
   "source": [
    "## Cube"
   ]
  },
  {
   "cell_type": "code",
   "execution_count": null,
   "id": "68806969",
   "metadata": {
    "deletable": false,
    "scrolled": false
   },
   "outputs": [],
   "source": [
    "%ALL_ROWS\n",
    "SELECT Jahr, Bundesland, PGruppe, SUM(Volumen)\n",
    "FROM verkauf\n",
    "--\n",
    "WHERE Jahr IN (2021, 2022) AND Bundesland IN ('Thüringen', 'Sachsen-Anhalt')\n",
    "--\n",
    "GROUP BY CUBE(Jahr, Bundesland, PGruppe)"
   ]
  },
  {
   "cell_type": "markdown",
   "id": "24f5da9d",
   "metadata": {
    "deletable": false,
    "editable": false
   },
   "source": [
    "## Rollup"
   ]
  },
  {
   "cell_type": "code",
   "execution_count": null,
   "id": "973430f9",
   "metadata": {
    "deletable": false
   },
   "outputs": [],
   "source": [
    "%ALL_ROWS\n",
    "SELECT Jahr, Bundesland, SUM(Volumen)\n",
    "FROM verkauf\n",
    "--\n",
    "WHERE Jahr IN (2021, 2022) AND Bundesland IN ('Thüringen', 'Sachsen-Anhalt')\n",
    "--\n",
    "GROUP BY ROLLUP(Jahr, Bundesland)"
   ]
  },
  {
   "cell_type": "code",
   "execution_count": null,
   "id": "8593487f",
   "metadata": {
    "deletable": false
   },
   "outputs": [],
   "source": [
    "%ALL_ROWS\n",
    "SELECT Bundesland, Jahr, SUM(Volumen)\n",
    "FROM verkauf\n",
    "--\n",
    "WHERE Jahr IN (2021, 2022) AND Bundesland IN ('Thüringen', 'Sachsen-Anhalt')\n",
    "--\n",
    "GROUP BY ROLLUP(Bundesland, Jahr)"
   ]
  },
  {
   "cell_type": "markdown",
   "id": "3a06546e",
   "metadata": {
    "deletable": false,
    "editable": false
   },
   "source": [
    "## Grouping Sets"
   ]
  },
  {
   "cell_type": "code",
   "execution_count": null,
   "id": "cf62eeaf",
   "metadata": {
    "deletable": false
   },
   "outputs": [],
   "source": [
    "%ALL_ROWS\n",
    "SELECT Bundesland, Jahr, SUM(Volumen)\n",
    "FROM verkauf\n",
    "--\n",
    "WHERE Jahr IN (2021, 2022) AND Bundesland IN ('Thüringen', 'Sachsen-Anhalt')\n",
    "--\n",
    "GROUP BY GROUPING SETS((Jahr), (Bundesland))"
   ]
  },
  {
   "cell_type": "markdown",
   "id": "4cae9626",
   "metadata": {
    "deletable": false,
    "editable": false
   },
   "source": [
    "## Fensterfunktionen"
   ]
  },
  {
   "cell_type": "code",
   "execution_count": null,
   "id": "331def85",
   "metadata": {
    "deletable": false,
    "scrolled": false
   },
   "outputs": [],
   "source": [
    "%ALL_ROWS\n",
    "SELECT Bundesland, Volumen, RANK() OVER (ORDER BY Volumen DESC)\n",
    "FROM verkauf\n",
    "WHERE Jahr = 2023 AND PGruppe = 'Wein'"
   ]
  },
  {
   "cell_type": "code",
   "execution_count": null,
   "id": "a60b942a",
   "metadata": {
    "deletable": false
   },
   "outputs": [],
   "source": [
    "%ALL_ROWS\n",
    "SELECT Bundesland, PGruppe, Volumen, RANK() OVER (PARTITION BY PGruppe ORDER BY Volumen DESC)\n",
    "FROM verkauf\n",
    "WHERE Jahr = 2023"
   ]
  },
  {
   "cell_type": "code",
   "execution_count": null,
   "id": "99c8be62",
   "metadata": {
    "deletable": false,
    "scrolled": false
   },
   "outputs": [],
   "source": [
    "%ALL_ROWS\n",
    "SELECT\n",
    "    *,\n",
    "    AVG(Volumen) OVER(PARTITION BY Bundesland ROWS BETWEEN 2 PRECEDING AND 2 FOLLOWING)::int AS GM3\n",
    "FROM verkauf\n",
    "WHERE PGruppe = 'Wein' AND Bundesland = 'Thüringen'"
   ]
  }
 ],
 "metadata": {
  "kernelspec": {
   "display_name": "DuckDB",
   "language": "",
   "name": "duckdb_kernel"
  },
  "language_info": {
   "file_extension": ".sql",
   "mimetype": "application/sql",
   "name": "duckdb"
  }
 },
 "nbformat": 4,
 "nbformat_minor": 5
}
