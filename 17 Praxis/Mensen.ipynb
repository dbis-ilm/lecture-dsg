{
 "cells": [
  {
   "cell_type": "markdown",
   "id": "fa4778b9-b007-4b42-899b-caca11c039ed",
   "metadata": {
    "deletable": false,
    "editable": false,
    "slideshow": {
     "slide_type": ""
    },
    "tags": []
   },
   "source": [
    "# Mensa Daten"
   ]
  },
  {
   "cell_type": "code",
   "execution_count": null,
   "id": "9868ae12-bd7f-4b4e-8b75-8f38c39e79f1",
   "metadata": {
    "deletable": false,
    "editable": false
   },
   "outputs": [],
   "source": [
    "import tarfile\n",
    "from datetime import datetime\n",
    "\n",
    "from bs4 import BeautifulSoup\n",
    "import pandas as pd\n",
    "import plotly.express as px\n",
    "import spacy\n",
    "\n",
    "from sklearn.model_selection import train_test_split\n",
    "from sklearn.base import BaseEstimator, TransformerMixin\n",
    "from sklearn.pipeline import Pipeline\n",
    "from sklearn.metrics import mean_squared_error"
   ]
  },
  {
   "cell_type": "markdown",
   "id": "f5a2be95-52e1-4b9e-ab09-d66d44c46837",
   "metadata": {
    "deletable": false,
    "editable": false
   },
   "source": [
    "## Inhaltsverzeichnis\n",
    "- [Vorbereitung](#Vorbereitung)\n",
    "- [Plausibilitätsprüfung](#Plausibilitätsprüfung)\n",
    "- [Aufteilung der Daten](#Aufteilung-der-Daten)\n",
    "- [Analyse von Texten](#Analyse-von-Texten)\n",
    "- [Transformation des Textes](#Transformation-des-Textes)\n",
    "- [Regressionspipelines](#Regressionspipelines)\n",
    "- [Evaluation](#Evaluation)\n",
    "- [Übertragbarkeit auf zukünftige Ereignisse](#Übertragbarkeit-auf-zukünftige-Ereignisse)"
   ]
  },
  {
   "cell_type": "markdown",
   "id": "8dd87667-b24a-4276-a417-578b8df311f6",
   "metadata": {
    "deletable": false,
    "editable": false
   },
   "source": [
    "## Vorbereitung"
   ]
  },
  {
   "cell_type": "markdown",
   "id": "592b79c1-8648-463c-b2df-d2b6c0a3e523",
   "metadata": {
    "deletable": false,
    "editable": false
   },
   "source": [
    "Laden der generellen Informationen:"
   ]
  },
  {
   "cell_type": "code",
   "execution_count": null,
   "id": "8b53ef8a-b59d-4fed-b624-0861d75e549a",
   "metadata": {
    "deletable": false,
    "editable": false
   },
   "outputs": [],
   "source": [
    "mensen_info: pd.DataFrame = pd.read_csv('mensen_info.csv', encoding='utf-8')\n",
    "mensen_info[mensen_info['city'] == 'Ilmenau']"
   ]
  },
  {
   "cell_type": "markdown",
   "id": "97fcf763-6566-4144-b72f-ad25acee0af3",
   "metadata": {
    "deletable": false,
    "editable": false
   },
   "source": [
    "Einlesen des komprimierten Tarballs:"
   ]
  },
  {
   "cell_type": "code",
   "execution_count": null,
   "id": "407a3199-74fc-4496-86f3-66f7f69ce14d",
   "metadata": {
    "deletable": false,
    "editable": false
   },
   "outputs": [],
   "source": [
    "def load_tar_gz(path, whitelist=None):\n",
    "    with tarfile.open(path, 'r:gz', encoding='utf-8') as tar:\n",
    "        for member in tar.getmembers():\n",
    "            with tar.extractfile(member) as file:\n",
    "                mensa_id, year, month, day = map(int, member.name[:-5].split('-'))\n",
    "                if whitelist is not None and mensa_id not in whitelist:\n",
    "                    continue\n",
    "\n",
    "                day = datetime(year=year, month=month, day=day, hour=12)\n",
    "                html = BeautifulSoup(file, 'html.parser')\n",
    "\n",
    "                yield mensa_id, day, html"
   ]
  },
  {
   "cell_type": "markdown",
   "id": "3ab6d116-47e7-43b4-99e3-342fffda1108",
   "metadata": {
    "deletable": false,
    "editable": false
   },
   "source": [
    "HTML parsen:"
   ]
  },
  {
   "cell_type": "code",
   "execution_count": null,
   "id": "ea83a2be-d6a2-47b8-9341-981cde489207",
   "metadata": {
    "deletable": false,
    "editable": false
   },
   "outputs": [],
   "source": [
    "def load_meals(html):\n",
    "    for meal in html.find_all('div', {'class': 'rowMeal'}):\n",
    "        name = meal.find('div', {'class': 'mealText'}).text\n",
    "        name = name.strip()\n",
    "\n",
    "        prices_str = meal.find('div', {'class': 'mealPreise'}).text\n",
    "        if prices_str.startswith('je 100 gr. '):\n",
    "            continue\n",
    "\n",
    "        prices_str_without_eur = prices_str[:-2]\n",
    "        prices = [\n",
    "            float(p.replace(',', '.'))\n",
    "            for p in prices_str_without_eur.split('/')\n",
    "        ]\n",
    "\n",
    "        yield name, prices"
   ]
  },
  {
   "cell_type": "markdown",
   "id": "1ea71b5e-4d05-4684-b20c-0ab45365f3c8",
   "metadata": {
    "deletable": false,
    "editable": false
   },
   "source": [
    "Konvertieren in DataFrame:"
   ]
  },
  {
   "cell_type": "code",
   "execution_count": null,
   "id": "4af30dbc-8c00-4fcd-b5a0-3ab570fe5b1a",
   "metadata": {
    "deletable": false,
    "editable": false
   },
   "outputs": [],
   "source": [
    "# Parameter `whitelist` beachten!\n",
    "mensen_data = pd.DataFrame(\n",
    "    (\n",
    "        [mensa_id, day, name, *prices]\n",
    "        for mensa_id, day, html in load_tar_gz('mensen_html.tar.gz', whitelist=(46, 55))\n",
    "        for name, prices in load_meals(html)\n",
    "    ),\n",
    "    columns=['mensa', 'date', 'meal', 'student', 'employee', 'guest']\n",
    ")\n",
    "mensen_data"
   ]
  },
  {
   "cell_type": "markdown",
   "id": "c42600d2-a159-43aa-a5ec-2cdcefdd03f4",
   "metadata": {
    "deletable": false,
    "editable": false
   },
   "source": [
    "Join mit Daten zu einzelnen Mensen:"
   ]
  },
  {
   "cell_type": "code",
   "execution_count": null,
   "id": "88fc7057-ed13-4002-acf0-5d74a1eb5cd5",
   "metadata": {
    "deletable": false,
    "editable": false
   },
   "outputs": [],
   "source": [
    "df = pd.merge(mensen_data, mensen_info, left_on='mensa', right_on='id')\n",
    "df.drop(columns=['id'], inplace=True)\n",
    "\n",
    "df"
   ]
  },
  {
   "cell_type": "code",
   "execution_count": null,
   "id": "0a48a49f-dea5-41ae-8328-ad175fc2696a",
   "metadata": {
    "deletable": false,
    "editable": false
   },
   "outputs": [],
   "source": [
    "df.info()"
   ]
  },
  {
   "cell_type": "markdown",
   "id": "9854e051-0561-497a-a447-298c54577b69",
   "metadata": {
    "deletable": false,
    "editable": false
   },
   "source": [
    "## Plausibilitätsprüfung"
   ]
  },
  {
   "cell_type": "markdown",
   "id": "849b0290-fef9-4ab9-b544-3cb9cc5ce8c4",
   "metadata": {
    "deletable": false,
    "editable": false
   },
   "source": [
    "Gerichte an Feiertagen müssen fehlen:"
   ]
  },
  {
   "cell_type": "code",
   "execution_count": null,
   "id": "4a165e8b-cd8b-43b7-a759-b4d150351c51",
   "metadata": {
    "deletable": false,
    "editable": false
   },
   "outputs": [],
   "source": [
    "df[(datetime(2023, 10, 2) < df['date']) & (df['date'] < datetime(2023, 10, 5))]"
   ]
  },
  {
   "cell_type": "markdown",
   "id": "94e4e7e2-9039-47b3-9395-bc7bf1da7665",
   "metadata": {
    "deletable": false,
    "editable": false
   },
   "source": [
    "Preisentwicklung über die Zeit:"
   ]
  },
  {
   "cell_type": "code",
   "execution_count": null,
   "id": "6976a5ac-b65c-437b-910c-5a98d36c1dbc",
   "metadata": {
    "deletable": false,
    "editable": false
   },
   "outputs": [],
   "source": [
    "df['month'] = df['date'].map(lambda x: datetime(day=1, month=x.month, year=x.year, hour=12))\n",
    "df_grouped = df.groupby(['month', 'name'])['student'].mean().reset_index()\n",
    "\n",
    "fig = px.bar(df_grouped, x='month', y='student', color='name', barmode='group')\n",
    "fig.update_xaxes(title_text='Monat')\n",
    "fig.update_yaxes(title_text='Durchschnittlicher Preis', range=[2.5, 3.8])\n",
    "\n",
    "fig"
   ]
  },
  {
   "cell_type": "markdown",
   "id": "abbed9ce-3e87-4eab-ac01-606a37c72ba3",
   "metadata": {
    "deletable": false,
    "editable": false
   },
   "source": [
    "Einträge der NANOTeria fehlen in den ersten drei Quartalen:\n",
    "\n",
    "[Cafeteria NANOteria wurde wiedereröffnet! - Studierendenwerk Thüringen (12.10.2023)](https://www.stw-thueringen.de/news/cafeteria-nanoteria-wurde-wiedereroeffnet!.html)"
   ]
  },
  {
   "cell_type": "markdown",
   "id": "a06c7461-d33d-4256-802e-4b350a85f1e3",
   "metadata": {
    "deletable": false,
    "editable": false
   },
   "source": [
    "Weitere Ideen:"
   ]
  },
  {
   "cell_type": "markdown",
   "id": "87b3f86d-ccba-440e-b7b8-b2a146be72a8",
   "metadata": {
    "deletable": false,
    "editable": false
   },
   "source": [
    "## Aufteilung der Daten"
   ]
  },
  {
   "cell_type": "markdown",
   "id": "c391b701-8daf-4e70-8509-963338efe250",
   "metadata": {
    "deletable": false,
    "editable": false
   },
   "source": [
    "Trennen Sie die Daten in Trainings- und Testdaten im Verhältnis 3:1. Reduzieren Sie die Daten dann auf die Feature- und Zielvariablen."
   ]
  },
  {
   "cell_type": "code",
   "execution_count": null,
   "id": "a5f02504-9331-4f66-a215-e3856ffa4be7",
   "metadata": {
    "deletable": false
   },
   "outputs": [],
   "source": [
    "df_train, df_test = ..., ...\n",
    "\n",
    "X_train, y_train = [], []\n",
    "X_test, y_test = [], []\n",
    "\n",
    "len(X_train), len(X_test)"
   ]
  },
  {
   "cell_type": "markdown",
   "id": "accf11d2-77ea-4e63-858b-02b8b82a70d0",
   "metadata": {
    "deletable": false,
    "editable": false
   },
   "source": [
    "Aufräumen:"
   ]
  },
  {
   "cell_type": "code",
   "execution_count": null,
   "id": "badba5cd-5a7f-47b6-a26f-a76d200c696a",
   "metadata": {
    "deletable": false,
    "editable": false
   },
   "outputs": [],
   "source": [
    "del mensen_data, mensen_info, df, df_train, df_test"
   ]
  },
  {
   "cell_type": "markdown",
   "id": "fbac0cbf-01d7-483c-9e01-a8f3f4b4a98d",
   "metadata": {
    "deletable": false,
    "editable": false
   },
   "source": [
    "## Analyse von Texten\n",
    "SpaCy ist ein Python Paket, das vorgefertigte Modelle für die effiziente Verarbeitung von Text bereitstellt. Es bietet insbesondere Embeddings für Sätze oder Wortgruppen an:"
   ]
  },
  {
   "cell_type": "code",
   "execution_count": null,
   "id": "32643c21-299c-40a6-a4ea-54450a74a36b",
   "metadata": {
    "deletable": false,
    "editable": false
   },
   "outputs": [],
   "source": [
    "nlp = spacy.load('de_core_news_md')\n",
    "nlp"
   ]
  },
  {
   "cell_type": "markdown",
   "id": "df13b2bf-3b17-4995-b2da-67e8b94adc97",
   "metadata": {
    "deletable": false,
    "editable": false
   },
   "source": [
    "Vektoren des Modells besitzen immer eine Länge von 300:"
   ]
  },
  {
   "cell_type": "code",
   "execution_count": null,
   "id": "9c77a2b2-cfd2-44ae-badd-19afa1062af8",
   "metadata": {
    "deletable": false,
    "editable": false
   },
   "outputs": [],
   "source": [
    "embedding = nlp('Nudelauflauf \"Griechische Art\" mit Ratatouille und Reiskornnudeln').vector\n",
    "len(embedding)"
   ]
  },
  {
   "cell_type": "markdown",
   "id": "00edc1ac-ac7a-45cf-a513-abc4ce7a8cd4",
   "metadata": {
    "deletable": false,
    "editable": false
   },
   "source": [
    "## Transformation des Textes"
   ]
  },
  {
   "cell_type": "markdown",
   "id": "f49c06fb-b19f-4d52-bf71-2112ee7d09c9",
   "metadata": {
    "deletable": false,
    "editable": false
   },
   "source": [
    "Teil der Pipeline muss das Umwandeln des Gerichts in einen Vektor sein. Verfassen Sie einen Transformator, der die Spalte `meal` in mehrere Spalten mit den einzelnen Vektorelementen umwandelt."
   ]
  },
  {
   "cell_type": "code",
   "execution_count": null,
   "id": "1ebf87dd-c74d-4960-9379-7c7bd417a28b",
   "metadata": {
    "deletable": false
   },
   "outputs": [],
   "source": [
    "class Embedding(BaseEstimator, TransformerMixin):\n",
    "    def fit(self, X, y=None):\n",
    "        return self\n",
    "\n",
    "    def transform(self, X):\n",
    "        # TODO X['meal'] -> DataFrame mit Vektoren\n",
    "        return X"
   ]
  },
  {
   "cell_type": "markdown",
   "id": "bff7351c-e359-492b-af9c-5442605e9727",
   "metadata": {
    "deletable": false,
    "editable": false
   },
   "source": [
    "Das Ergebnis des Transformator sollte dann ein DataFrame mit $300$ Spalten sein:"
   ]
  },
  {
   "cell_type": "code",
   "execution_count": null,
   "id": "a69be09a-cdd1-43bc-9686-1321fde4a755",
   "metadata": {
    "deletable": false,
    "editable": false
   },
   "outputs": [],
   "source": [
    "Embedding().transform(X_train)"
   ]
  },
  {
   "cell_type": "markdown",
   "id": "3c2243cd-7a50-42e5-86f4-96d1c5358392",
   "metadata": {
    "deletable": false,
    "editable": false
   },
   "source": [
    "## Regressionspipelines"
   ]
  },
  {
   "cell_type": "markdown",
   "id": "2063b1e7-5dbe-4aea-9344-8fd423100ccc",
   "metadata": {
    "deletable": false,
    "editable": false
   },
   "source": [
    "### Methode der kleinsten Quadrate\n",
    "Erzeugen Sie eine Pipeline, die eine lineare Regression mit Hilfe der Klasse `LinearRegression` vornimmt."
   ]
  },
  {
   "cell_type": "code",
   "execution_count": null,
   "id": "163b5bfa-41db-4a16-b9f3-ab532a0ece99",
   "metadata": {
    "deletable": false,
    "editable": false
   },
   "outputs": [],
   "source": [
    "from sklearn.linear_model import LinearRegression"
   ]
  },
  {
   "cell_type": "code",
   "execution_count": null,
   "id": "011362cc-a296-4581-a103-e1892982f2a1",
   "metadata": {
    "deletable": false
   },
   "outputs": [],
   "source": [
    "ols_pipeline = Pipeline([\n",
    "    ...\n",
    "])"
   ]
  },
  {
   "cell_type": "code",
   "execution_count": null,
   "id": "6ffc5cfc-831b-48ce-bc16-812c600675d3",
   "metadata": {
    "deletable": false,
    "editable": false
   },
   "outputs": [],
   "source": [
    "ols_pipeline.fit(X_train, y_train)"
   ]
  },
  {
   "cell_type": "markdown",
   "id": "e941956e-500f-4123-b669-ea986fc6a7b4",
   "metadata": {
    "deletable": false,
    "editable": false
   },
   "source": [
    "Eventuell ist die Schätzung des Problems nicht linear vornehmbar. Mit Hilfe der Klasse `PolynomialFeatures` lassen sich Kombinationen aus Features erzeugen.\n",
    "\n",
    "Beispiel: $\\{ a, b \\} \\rightarrow \\{ 1, a, b, a^2, a*b, b^2 \\}$"
   ]
  },
  {
   "cell_type": "code",
   "execution_count": null,
   "id": "c109958d-1ac9-40fd-9910-1edbc09bd1c8",
   "metadata": {
    "deletable": false,
    "editable": false
   },
   "outputs": [],
   "source": [
    "from sklearn.preprocessing import PolynomialFeatures"
   ]
  },
  {
   "cell_type": "code",
   "execution_count": null,
   "id": "d10a8d7c-b562-4cdf-ba7d-3c61c54b9d3a",
   "metadata": {
    "deletable": false
   },
   "outputs": [],
   "source": [
    "pols_pipeline = Pipeline([\n",
    "    ...\n",
    "])"
   ]
  },
  {
   "cell_type": "code",
   "execution_count": null,
   "id": "4f4e2af8-5bb3-47a3-a2a5-612bf3ea71c3",
   "metadata": {
    "deletable": false,
    "editable": false
   },
   "outputs": [],
   "source": [
    "pols_pipeline.fit(X_train, y_train)"
   ]
  },
  {
   "cell_type": "markdown",
   "id": "e5067c82-f130-41db-a4fe-6401490a8d65",
   "metadata": {
    "deletable": false,
    "editable": false
   },
   "source": [
    "### Entscheidungsbaum\n",
    "Verwenden Sie die Klasse `DecisionTreeRegressor`, um einen Entscheidungsbaum zur Regression zu verwenden."
   ]
  },
  {
   "cell_type": "code",
   "execution_count": null,
   "id": "c6a3da1e-ed9d-46c9-a6f8-1911d96ae2f4",
   "metadata": {
    "deletable": false,
    "editable": false
   },
   "outputs": [],
   "source": [
    "from sklearn.tree import DecisionTreeRegressor"
   ]
  },
  {
   "cell_type": "code",
   "execution_count": null,
   "id": "08d369c1-cc37-4289-97ce-9a605225691b",
   "metadata": {
    "deletable": false
   },
   "outputs": [],
   "source": [
    "tree_pipeline = Pipeline([\n",
    "    ...\n",
    "])"
   ]
  },
  {
   "cell_type": "code",
   "execution_count": null,
   "id": "e272502f-c7ce-4805-bbcc-f51b1cb7cff4",
   "metadata": {
    "deletable": false,
    "editable": false
   },
   "outputs": [],
   "source": [
    "tree_pipeline.fit(X_train, y_train)"
   ]
  },
  {
   "cell_type": "markdown",
   "id": "29d218ec-b06b-4760-b0cd-541d1b26de8c",
   "metadata": {
    "deletable": false,
    "editable": false
   },
   "source": [
    "### Nächster Nachbar\n",
    "Verwenden Sie die Klasse `KNeighborsRegressor`, um einen Nächsten-Nachbar-Algorithmus zur Regression zu verwenden."
   ]
  },
  {
   "cell_type": "code",
   "execution_count": null,
   "id": "2f3cfe08-ce81-4d95-8823-95245d5bff71",
   "metadata": {
    "deletable": false,
    "editable": false
   },
   "outputs": [],
   "source": [
    "from sklearn.neighbors import KNeighborsRegressor"
   ]
  },
  {
   "cell_type": "code",
   "execution_count": null,
   "id": "ef4a364a-5774-4dc7-949a-b31da04c6a96",
   "metadata": {
    "deletable": false
   },
   "outputs": [],
   "source": [
    "nn_pipeline = Pipeline([\n",
    "    ...\n",
    "])"
   ]
  },
  {
   "cell_type": "code",
   "execution_count": null,
   "id": "622c3e0a-b8f2-4ebe-b4eb-65da608decf0",
   "metadata": {
    "deletable": false,
    "editable": false
   },
   "outputs": [],
   "source": [
    "nn_pipeline.fit(X_train, y_train)"
   ]
  },
  {
   "cell_type": "markdown",
   "id": "fff783f8-4c3c-4462-980d-2c46fda7dde8",
   "metadata": {
    "deletable": false,
    "editable": false
   },
   "source": [
    "### Deep Learning\n",
    "Verwenden Sie die Klasse `MLPRegressor`, um ein neuronales Netz zur Regression zu verwenden."
   ]
  },
  {
   "cell_type": "code",
   "execution_count": null,
   "id": "5d7f37ab-1e95-4163-abe6-aeb997ea8950",
   "metadata": {
    "deletable": false,
    "editable": false
   },
   "outputs": [],
   "source": [
    "from sklearn.neural_network import MLPRegressor"
   ]
  },
  {
   "cell_type": "code",
   "execution_count": null,
   "id": "dcbb70b5-55d7-41e4-b302-eef78c89a40d",
   "metadata": {
    "deletable": false
   },
   "outputs": [],
   "source": [
    "dnn_pipeline = Pipeline([\n",
    "    ...\n",
    "])"
   ]
  },
  {
   "cell_type": "code",
   "execution_count": null,
   "id": "281be6c2-b0f0-4eaf-bb60-180a247a260f",
   "metadata": {
    "deletable": false,
    "editable": false
   },
   "outputs": [],
   "source": [
    "dnn_pipeline.fit(X_train, y_train)"
   ]
  },
  {
   "cell_type": "markdown",
   "id": "5e6a7278-d724-405f-a138-217a857b9d9f",
   "metadata": {
    "deletable": false,
    "editable": false
   },
   "source": [
    "## Evaluation\n",
    "*Mean Squared Error* (MSE) berechnet die durchschnittliche, quadrierte Abweichung der geschätzten von den tatsächlichen Werten.\n",
    "\n",
    "$$ MSE(y, \\hat{y}) = \\frac{1}{n} \\sum_{i=1}^{n} (y_i - \\hat{y_i})^2 $$\n",
    "\n",
    "Verwenden Sie MSE, um die Leistung der trainierten Regressionspipelines zu bewerten. Verwenden Sie dabei **nacheinander** Trainings- und Testdaten."
   ]
  },
  {
   "cell_type": "code",
   "execution_count": null,
   "id": "cc06a200-a14c-4c87-8bd8-e7f980f353b6",
   "metadata": {
    "deletable": false,
    "editable": false
   },
   "outputs": [],
   "source": [
    "all_pipelines = [\n",
    "    ('ols', ols_pipeline),\n",
    "    ('pols', pols_pipeline),\n",
    "    ('tree', tree_pipeline),\n",
    "    ('nn', nn_pipeline),\n",
    "    ('dnn', dnn_pipeline)\n",
    "]"
   ]
  },
  {
   "cell_type": "code",
   "execution_count": null,
   "id": "8aa06ac8-cc63-4b66-b4b1-2f3c8af4649c",
   "metadata": {
    "deletable": false
   },
   "outputs": [],
   "source": [
    "..."
   ]
  },
  {
   "cell_type": "markdown",
   "id": "a5920d19-1e9a-415f-bce7-7464772c8073",
   "metadata": {
    "deletable": false,
    "editable": false
   },
   "source": [
    "Bewerten Sie die Ergebnisse. Gehen Sie dabei auf Overfitting ein."
   ]
  },
  {
   "cell_type": "markdown",
   "id": "7d508335-1a70-42e3-a47d-a8db316dca79",
   "metadata": {
    "deletable": false,
    "editable": false
   },
   "source": [
    "## Übertragbarkeit auf zukünftige Ereignisse\n",
    "Erstellen Sie ein DataFrame, das den Essensplan des aktuellen Tages widerspiegelt."
   ]
  },
  {
   "cell_type": "code",
   "execution_count": null,
   "id": "73d7a440-5105-459c-9d2c-a082dccc7fa8",
   "metadata": {
    "deletable": false,
    "editable": false
   },
   "outputs": [],
   "source": [
    "new_meals = pd.DataFrame({\n",
    "    'date': [\n",
    "        datetime.now()\n",
    "        for _ in range(4)\n",
    "    ],\n",
    "    'meal': [\n",
    "        'Tofusteak mit Spinat-Tomaten - Kokos - Gemüse mit Reis',\n",
    "        'Bunte Bratwurstpfanne mit Gemüse und Nudeln',\n",
    "        'Puten-Leberragout in Rotweinsoße an Kartoffelröstis und Krautsalat',\n",
    "        'Nudelauflauf \"Griechische Art\" mit Ratatouille und Reiskornnudeln'\n",
    "    ]\n",
    "})\n",
    "new_prices = pd.Series([1.95, 2.70, 3.10, 3.10])"
   ]
  },
  {
   "cell_type": "markdown",
   "id": "e91acd8c-f1db-45cf-b034-295fc5f9ec01",
   "metadata": {
    "deletable": false,
    "editable": false
   },
   "source": [
    "Bewerten Sie erneut die Leistung der trainierten Regressionspipelines."
   ]
  },
  {
   "cell_type": "code",
   "execution_count": null,
   "id": "8c18b871-a7b6-454c-8199-3a9389da4ec1",
   "metadata": {
    "deletable": false
   },
   "outputs": [],
   "source": [
    "..."
   ]
  },
  {
   "cell_type": "markdown",
   "id": "612bd0dd-e8e6-4529-ac61-0f4764021526",
   "metadata": {
    "deletable": false,
    "editable": false
   },
   "source": [
    "Bewerten Sie die Modelle hinsichtlich ihrer Übertragbarkeit auf neue Daten. Diskutieren Sie Gründe, warum die Modelle eine schlechtere Leistung als auf den Testdaten zeigen."
   ]
  }
 ],
 "metadata": {
  "kernelspec": {
   "display_name": "Python 3 (ipykernel)",
   "language": "python",
   "name": "python3"
  },
  "language_info": {
   "codemirror_mode": {
    "name": "ipython",
    "version": 3
   },
   "file_extension": ".py",
   "mimetype": "text/x-python",
   "name": "python",
   "nbconvert_exporter": "python",
   "pygments_lexer": "ipython3",
   "version": "3.12.8"
  }
 },
 "nbformat": 4,
 "nbformat_minor": 5
}
