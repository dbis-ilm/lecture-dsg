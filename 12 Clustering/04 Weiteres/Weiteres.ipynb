{
 "cells": [
  {
   "cell_type": "markdown",
   "id": "f0a6d832",
   "metadata": {
    "deletable": false,
    "editable": false
   },
   "source": [
    "# Weiteres"
   ]
  },
  {
   "cell_type": "markdown",
   "id": "d5efda96",
   "metadata": {
    "deletable": false,
    "editable": false
   },
   "source": [
    "## Normalisierung\n",
    "In Fällen, in denen Achsen stark unterschiedlich skaliert sind, hat beispielsweise bei der Verwendung der euklidischen Distanz eine Achse stärkeren Einfluss auf den berechneten Abstand. Es kann daher vor dem Anwenden von k-Means oder DBScan nützlich sein, die Achsen gleichermaßen zu skalieren."
   ]
  },
  {
   "cell_type": "code",
   "execution_count": null,
   "id": "5340f73a",
   "metadata": {
    "deletable": false,
    "editable": false
   },
   "outputs": [],
   "source": [
    "import pandas as pd\n",
    "import plotly.express as px\n",
    "\n",
    "df = pd.read_csv('clustering_example2.csv', usecols=['x', 'y'])\n",
    "px.scatter(df, x='x', y='y')"
   ]
  },
  {
   "cell_type": "markdown",
   "id": "2248a54b",
   "metadata": {
    "deletable": false,
    "editable": false
   },
   "source": [
    "`sklearn` bietet dazu verschiedene Methoden. Der Klasse `MinMaxScaler` kann ein Bereich übergeben werden, in den alle enthaltenen Werte abgebildet werden."
   ]
  },
  {
   "cell_type": "code",
   "execution_count": null,
   "id": "3052ccea",
   "metadata": {
    "deletable": false,
    "editable": false
   },
   "outputs": [],
   "source": [
    "from sklearn.preprocessing import MinMaxScaler\n",
    "\n",
    "df_scaled = MinMaxScaler((0, 1)).fit_transform(df)\n",
    "df_scaled = pd.DataFrame(df_scaled, columns=df.columns)\n",
    "\n",
    "px.scatter(df_scaled, x='x', y='y')"
   ]
  },
  {
   "cell_type": "markdown",
   "id": "c5710b18",
   "metadata": {
    "deletable": false,
    "editable": false
   },
   "source": [
    "Die Klasse `StandardScaler` hingegen bildet die enthaltenen Werte so ab, dass diese mittelwertfrei sind und Einheitsvarianz besitzen."
   ]
  },
  {
   "cell_type": "code",
   "execution_count": null,
   "id": "85406182",
   "metadata": {
    "deletable": false,
    "editable": false
   },
   "outputs": [],
   "source": [
    "from sklearn.preprocessing import StandardScaler\n",
    "\n",
    "df_scaled = StandardScaler().fit_transform(df)\n",
    "df_scaled = pd.DataFrame(df_scaled, columns=df.columns)\n",
    "\n",
    "px.scatter(df_scaled, x='x', y='y')"
   ]
  }
 ],
 "metadata": {
  "kernelspec": {
   "display_name": "Python 3 (ipykernel)",
   "language": "python",
   "name": "python3"
  },
  "language_info": {
   "codemirror_mode": {
    "name": "ipython",
    "version": 3
   },
   "file_extension": ".py",
   "mimetype": "text/x-python",
   "name": "python",
   "nbconvert_exporter": "python",
   "pygments_lexer": "ipython3",
   "version": "3.10.5"
  }
 },
 "nbformat": 4,
 "nbformat_minor": 5
}
