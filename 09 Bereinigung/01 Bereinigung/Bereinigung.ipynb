{
 "cells": [
  {
   "cell_type": "markdown",
   "id": "559b65b9",
   "metadata": {
    "deletable": false,
    "editable": false
   },
   "source": [
    "# Bereinigung\n",
    "Bisher haben Sie im Laufe dieser Vorlesung ausschließlich mit Daten gearbeitet, die bereits bereinigt waren. Neben der Datenbeschaffung wird die Bereinigung - je nach Datenquelle - einen großen Teil Ihrer Zeit bei der Arbeit mit den Daten einnehmen. In diesem Kapitel werden einige übliche Fehler in Datensätzen vorgestellt und ein möglicher Umgang vorgeschlagen."
   ]
  },
  {
   "cell_type": "markdown",
   "id": "26b5bfd1",
   "metadata": {
    "deletable": false,
    "editable": false
   },
   "source": [
    "## Inhaltsverzeichnis\n",
    "- [Vorbereitung](#Vorbereitung)\n",
    "- [Fehlende Einträge, Duplikate und Inkonsistenzen](#Fehlende-Einträge-Duplikate-und-Inkonsistenzen)\n",
    "- [Null-, NaN- und leere Werte](#Null--NaN--und-leere-Werte)\n",
    "- [Ausreißer](#Ausreißer)\n",
    "- [Aggregation und Diskretisierung](#Aggregation-und-Diskretisierung)\n",
    "- [Normalisierung](#Normalisierung)\n",
    "- [Hinweise zum Datensatz](#Hinweise-zum-Datensatz)"
   ]
  },
  {
   "cell_type": "markdown",
   "id": "34141bae",
   "metadata": {
    "deletable": false,
    "editable": false
   },
   "source": [
    "## Vorbereitung\n",
    "Importieren Sie zunächst Pandas, NumPy und zwei zusammenhängende Tabellen. Auf den ersten Blick mögen sie sich bis auf eine Spalte gleichen, dennoch stammt die erste aus dem Ihnen bereits bekannten Datensatz [Disney+ Movies and TV Shows](https://www.kaggle.com/code/werador/disney-data-analysis/data), während die zweite Tabelle aus Daten von [The Movie Database API](https://developers.themoviedb.org/3/getting-started) erstellt wurde."
   ]
  },
  {
   "cell_type": "code",
   "execution_count": null,
   "id": "6e21e3c5",
   "metadata": {
    "deletable": false,
    "editable": false
   },
   "outputs": [],
   "source": [
    "import pandas as pd\n",
    "import numpy as np"
   ]
  },
  {
   "cell_type": "code",
   "execution_count": null,
   "id": "032cd73c",
   "metadata": {
    "deletable": false,
    "editable": false
   },
   "outputs": [],
   "source": [
    "df1 = pd.read_csv('disney_plus_titles1.csv')\n",
    "df1.head(5)"
   ]
  },
  {
   "cell_type": "code",
   "execution_count": null,
   "id": "3fb2eb95",
   "metadata": {
    "deletable": false,
    "editable": false
   },
   "outputs": [],
   "source": [
    "df2 = pd.read_csv('disney_plus_titles2.csv')\n",
    "df2.head(5)"
   ]
  },
  {
   "cell_type": "markdown",
   "id": "1ea8505c",
   "metadata": {
    "deletable": false,
    "editable": false
   },
   "source": [
    "Verbinden Sie beide Tabellen mit einem Outer-Join anhand der Spalte `show_id`."
   ]
  },
  {
   "cell_type": "code",
   "execution_count": null,
   "id": "7a31c9a8",
   "metadata": {
    "deletable": false,
    "editable": false
   },
   "outputs": [],
   "source": [
    "df_joined = pd.merge(df1, df2, left_on='show_id', right_on='show_id', how='outer')\n",
    "df_joined.head(5)"
   ]
  },
  {
   "cell_type": "markdown",
   "id": "93487f79",
   "metadata": {
    "deletable": false,
    "editable": false
   },
   "source": [
    "## Fehlende Einträge, Duplikate und Inkonsistenzen\n",
    "Fehlende Werte können viele verschiedene Ursachen besitzen. Lücken in Zeitreihen könne zum Beispiel schon dann entstehen, wenn kurz die Energieversorgung oder die Internetanbindung eines Geräts ausfällt. Spätestens dann, wenn Sie Daten aus verschiedenen Quellen zusammenführen, werden Sie schnell feststellen, dass häufig keine der Quellen die absolute Wahrheit besitzt.\n",
    "\n",
    "Betrachten Sie zunächst die Ausgaben der Funktion `describe()` und achten Sie auf Unterschiede."
   ]
  },
  {
   "cell_type": "code",
   "execution_count": null,
   "id": "e51aea3d",
   "metadata": {
    "deletable": false,
    "editable": false
   },
   "outputs": [],
   "source": [
    "# `int` ausschließen, da sonst die Spalte `release_year` bevorzugt wird\n",
    "df1.describe(exclude=int)"
   ]
  },
  {
   "cell_type": "code",
   "execution_count": null,
   "id": "84d7cad1",
   "metadata": {
    "deletable": false,
    "editable": false
   },
   "outputs": [],
   "source": [
    "# `float` ausschließen, da sonst die Spalte `budget` bevorzugt wird\n",
    "df2.describe(exclude=float)"
   ]
  },
  {
   "cell_type": "markdown",
   "id": "c5c91408",
   "metadata": {
    "deletable": false,
    "editable": false
   },
   "source": [
    "An den Reihen `count` und `unique` erkennen Sie, dass der zweite Datensatz doppelte Titel enthält. Jedes DataFrame besitzt eine Funktion `duplicated`, die als Parameter den Namen einer Spalte akzeptiert und eine Series zurückgibt, die genau an den Stellen `True` enthält, die doppelt vorkommenden Einträgen entsprechen. Mit dem Parameter `keep` können Sie beeinflussen, welche der doppelten Reihen beibehalten wird - mit `False` werden alle in die Ausgabe aufgenommen.\n",
    "\n",
    "Das Ergebnis dieser Methode wird in der folgenden Zelle zur Filterung verwendet. Nach der Ausführung werden alle Reihen angezeigt, die doppelte Titel enthalten. Sie selbst müssen entscheiden, ob sich das in Ihrer Weiterverarbeitung zum Problem entwickelt. Beachten Sie aber auch, dass sich die Reihen dennoch in anderen Spalten unterscheiden können. So existiert *The Muppets* als Serie wie auch als Film unter dem selben Titel."
   ]
  },
  {
   "cell_type": "code",
   "execution_count": null,
   "id": "dfd9effc",
   "metadata": {
    "deletable": false,
    "editable": false
   },
   "outputs": [],
   "source": [
    "df2[df2.duplicated('title', keep=False)]"
   ]
  },
  {
   "cell_type": "markdown",
   "id": "f06c0f37",
   "metadata": {
    "deletable": false,
    "editable": false
   },
   "source": [
    "Der zweite Datensatz enthält weniger Einträge. Das legt die Vermutung nahe, dass in einer der beiden Tabellen Einträge fehlen. In der Join-Tabelle sind Einträge NaN, wenn kein Gegenstück anhand des Join-Kriteriums gefunden wurde. Die Suche nach fehlenden Werten bestimmt also genau die vermissten Einträge."
   ]
  },
  {
   "cell_type": "code",
   "execution_count": null,
   "id": "26cdfbe5",
   "metadata": {
    "deletable": false,
    "editable": false
   },
   "outputs": [],
   "source": [
    "df_joined[df_joined['type_x'].isna()]"
   ]
  },
  {
   "cell_type": "code",
   "execution_count": null,
   "id": "a2ac42ac",
   "metadata": {
    "deletable": false,
    "editable": false
   },
   "outputs": [],
   "source": [
    "df_joined[df_joined['type_y'].isna()]"
   ]
  },
  {
   "cell_type": "markdown",
   "id": "d1b78a06",
   "metadata": {
    "deletable": false,
    "editable": false
   },
   "source": [
    "In `type_x` wurden keine fehlenden Einträge gefunden, in `type_y` dagegen sieben. Beachten Sie, dass Sie natürlich vorkommende NaN Einträge vor dem Join möglicherweise maskieren müssen.\n",
    "\n",
    "Häufig gibt es keine zweite Tabelle, anhand derer Sie die Vollständigkeit prüfen können. Im Falle einer fortlaufend nummerierten Spalte wie `show_id` können Sie jedoch diese verwenden. Auch bei Datumsangaben lassen sich Lücken auf einfache Art und Weise finden.\n",
    "\n",
    "Zuletzt unterscheidet sich der Eintrag `top` bezüglich des Titels. (Laut Dokumentation der Funktion `describe` wird die Ausgabe beliebig gewählt, falls mehrere Werte mit der gleichen, maximalen Häufigkeit vorkommen.) Nun werden also in der Join-Tabelle Einträge gesucht, in denen sich der Titel unterscheidet."
   ]
  },
  {
   "cell_type": "code",
   "execution_count": null,
   "id": "74329a7a",
   "metadata": {
    "deletable": false,
    "editable": false
   },
   "outputs": [],
   "source": [
    "df_joined[df_joined['title_x'] != df_joined['title_y']].head(5)"
   ]
  },
  {
   "cell_type": "markdown",
   "id": "94816970",
   "metadata": {
    "deletable": false,
    "editable": false
   },
   "source": [
    "Sie sehen bereits, dass sich viele Angebote nur hinsichtlich der Groß- und Kleinschreibung oder durch ein Präfix unterscheiden. Mit der Funktion `apply` können Sie beliebig komplexe Vergleichsfunktionen implementieren und solche Fälle abfangen."
   ]
  },
  {
   "cell_type": "code",
   "execution_count": null,
   "id": "c2f3198a",
   "metadata": {
    "deletable": false,
    "editable": false
   },
   "outputs": [],
   "source": [
    "def compare(row):\n",
    "    x, y = row['title_x'], row['title_y']\n",
    "    if np.nan in (x, y):\n",
    "        return True\n",
    "\n",
    "    x, y = x.lower(), y.lower()\n",
    "    return x != y and not x.endswith(y)\n",
    "\n",
    "df_joined[df_joined.apply(compare, axis=1)].head(5)"
   ]
  },
  {
   "cell_type": "markdown",
   "id": "376bf937",
   "metadata": {
    "deletable": false,
    "editable": false
   },
   "source": [
    "Auch bei Spalten, die nicht schon mit der `describe` Funktion auffallen, lohnt gelegentlich eine Prüfung."
   ]
  },
  {
   "cell_type": "code",
   "execution_count": null,
   "id": "4323bff3",
   "metadata": {
    "deletable": false,
    "editable": false
   },
   "outputs": [],
   "source": [
    "df_joined[df_joined['type_x'] != df_joined['type_y']].head(5)"
   ]
  },
  {
   "cell_type": "markdown",
   "id": "b6d6842d",
   "metadata": {
    "deletable": false,
    "editable": false
   },
   "source": [
    "Auch dabei ergeben sich Widersprüche. Wie Sie mit diesen umgehen, ist stark vom zu bearbeiteten Problem und der Vertrauenswürdigkeit der Daten abhängig. Vielleicht kennen Sie einige der Produktionen und können selbst beurteilen, welcher Datensatz zuverlässiger erscheint. Falls nicht, müssen Sie wohl einen Experten mit Domänenwissen hinzuziehen."
   ]
  },
  {
   "cell_type": "markdown",
   "id": "d19a5f13",
   "metadata": {
    "deletable": false,
    "editable": false
   },
   "source": [
    "## Null-, NaN- und leere Werte\n",
    "NaN wird immer dann von Pandas eingesetzt, wenn ein Wert nicht vorhanden ist. In der Spalte `budget` haben Sie diese vermutlich schon bemerkt. Wie Sie mit NaN umgehen, hängt dabei ganz von Ihrer gewählten Zielstellung ab, Sie sollten sich aber bewusst sein, welche Auswirkungen auf die Berechnungen entstehen.\n",
    "\n",
    "Die folgende Zelle berechnet den Durchschnitt aller Budgets in Millionen US-Dollar."
   ]
  },
  {
   "cell_type": "code",
   "execution_count": null,
   "id": "8d0985e6",
   "metadata": {
    "deletable": false,
    "editable": false
   },
   "outputs": [],
   "source": [
    "df2['budget'].mean() // 1_000_000"
   ]
  },
  {
   "cell_type": "markdown",
   "id": "98702419",
   "metadata": {
    "deletable": false,
    "editable": false
   },
   "source": [
    "Für den nachfolgenden Wert wurden mit der Funktion `fillna` alle NaN Werte durch $0$ ersetzt. Da Pandas alle NaN Werte bei der Verwendung von Aggregationsfunktionen ignoriert, sinkt der Durchschnitt nach diesem Schritt, da deutlich mehr $0$-Werte als zuvor enthalten sind und gleichzeitig die Anzahl aller verwendeten Werte steigt."
   ]
  },
  {
   "cell_type": "code",
   "execution_count": null,
   "id": "e6511499",
   "metadata": {
    "deletable": false,
    "editable": false
   },
   "outputs": [],
   "source": [
    "df2['budget'].fillna(0).mean() // 1_000_000"
   ]
  },
  {
   "cell_type": "markdown",
   "id": "b2d73f1f",
   "metadata": {
    "deletable": false,
    "editable": false
   },
   "source": [
    "Je nach Fragestellung können jedoch auch spezielle Werte außer None und NaN das Fehlen von Informationen markieren. Um dies zu erkennen, benötigen Sie jedoch semantisches Wissen.\n",
    "\n",
    "Im Datensatz beinhaltet die Spalte `budget` immer NaN, wenn die Zeile eine Serie enthält. Bei Filmen dagegen ist NaN nicht enthalten, stattdessen sind einige Produktionen mit einem Budget von $0$ USD aufgelistet. Ein Film ohne Budget kann aber natürlich nicht produziert werden, weshalb davon auszugehen ist, dass es sich auch dabei um einen fehlenden Wert handelt. Ebenfalls beliebt sind Zeichenketten, die entweder leer sind oder *None* oder *null* als Wort enthalten.\n",
    "\n",
    "Mit der Funktion `replace` können Sie auch spezielle Werte mit NaN ersetzen, um sie bei der Berechnung auszunehmen. Der Durchschnitt steigt dadurch wieder."
   ]
  },
  {
   "cell_type": "code",
   "execution_count": null,
   "id": "88dc27fd",
   "metadata": {
    "deletable": false,
    "editable": false
   },
   "outputs": [],
   "source": [
    "df2['budget'].replace(0, np.nan).mean() // 1_000_000"
   ]
  },
  {
   "cell_type": "markdown",
   "id": "189911d1",
   "metadata": {
    "deletable": false,
    "editable": false
   },
   "source": [
    "## Ausreißer\n",
    "Pandas stellt verschiedene Funktionen bereit, um Ausreißer in Daten zu erkennen. Betrachten Sie zunächst ein Histogramm, um einen Überblick zu bekommen."
   ]
  },
  {
   "cell_type": "code",
   "execution_count": null,
   "id": "0cd4c82a",
   "metadata": {
    "deletable": false,
    "editable": false
   },
   "outputs": [],
   "source": [
    "budget = df2['budget'].replace(0, np.nan)\n",
    "budget.hist(bins=200, figsize=(10, 5))"
   ]
  },
  {
   "cell_type": "markdown",
   "id": "7f096da3",
   "metadata": {
    "deletable": false,
    "editable": false
   },
   "source": [
    "Die Verteilung lässt vermuten, dass es sich bei Filmen mit einem Budget von mehr als $250$ Millionen USD möglicherweise um Ausreißer handelt. Diese Filme kommen nur noch vereinzelt vor und könnten somit fehlerhafte Werte darstellen. In kleinen Datensätzen kann man diese nun händisch prüfen. Die folgende Zelle gibt alle Filme aus, die weiter als zwei Standardabweichungen vom Mittelwert entfernt liegen."
   ]
  },
  {
   "cell_type": "code",
   "execution_count": null,
   "id": "100401ce",
   "metadata": {
    "deletable": false,
    "editable": false
   },
   "outputs": [],
   "source": [
    "df2[budget > (budget.mean() + 2 * budget.std())]"
   ]
  },
  {
   "cell_type": "markdown",
   "id": "6e0c13eb",
   "metadata": {
    "deletable": false,
    "editable": false
   },
   "source": [
    "## Aggregation und Diskretisierung\n",
    "Aggregation und Diskretisierung dienen der Erhöhung des Abstraktionslevels bei gleichzeitiger Reduzierung der Datenmenge. Beide Verfahren sind nur mit Wissen über die Daten und einer genauen Zielvorstellung möglich. Aggregationen werden in Pandas mit der Funktion `groupby` durchgeführt. Damit lassen sich zum Beispiel die verwendeten Budgets jahrzehnteweise zusammenfassen."
   ]
  },
  {
   "cell_type": "code",
   "execution_count": null,
   "id": "23ed87f8",
   "metadata": {
    "deletable": false,
    "editable": false
   },
   "outputs": [],
   "source": [
    "dfc = df_joined.copy()\n",
    "\n",
    "dfc['budget'] = dfc['budget'].replace(0, np.nan)\n",
    "dfc['release_decade'] = dfc['release_year'] // 10 * 10\n",
    "\n",
    "dfc.groupby('release_decade')['budget'].mean()"
   ]
  },
  {
   "cell_type": "markdown",
   "id": "c02eea57",
   "metadata": {
    "deletable": false,
    "editable": false
   },
   "source": [
    "Bei einer Diskretisierung kann dagegen die Funktion `cut` behilflich sein."
   ]
  },
  {
   "cell_type": "code",
   "execution_count": null,
   "id": "ec800fa1",
   "metadata": {
    "deletable": false,
    "editable": false
   },
   "outputs": [],
   "source": [
    "dfc = df_joined.copy()\n",
    "\n",
    "dfc['budget'] = pd.cut(dfc['budget'], 3, labels=['wenig', 'mittel', 'viel'])\n",
    "\n",
    "dfc"
   ]
  },
  {
   "cell_type": "markdown",
   "id": "f6d938ee",
   "metadata": {
    "deletable": false,
    "editable": false
   },
   "source": [
    "## Normalisierung\n",
    "Für einfaches Rechnen, das Vermeiden von Missverständnissen oder auf Grund von Anforderungen, die Algorithmen an ihre Eingabedaten stellen, ist es häufig notwendig, Daten zu normalisieren.\n",
    "\n",
    "Denken Sie zum Beispiel daran, Währungen korrekt in eine gemeinsame, vergleichbare Basis umzurechnen, (internationale) Datumsformate richtig zu interpretieren und Zeitzonen zu beachten. Aber auch über einfache Umrechnungen hinaus existieren Sachverhalte, die Ergebnisse verfälschen können: Groß- und Kleinschreibung muss manchmal, wie sie weiter oben bereits gesehen haben, ignoriert werden. Ebenfalls in unserem Datensatz enthalten sind Angaben in einer Währung über einen langen Zeitraum, welche nicht kaufkraftbereinigt und kaum wenig vergleichbar sind.\n",
    "\n",
    "Normalisierung beschäftigt sich aber auch mit der Transformation hinsichtlich der Bezugsskalen. Möchten Sie beispielsweise eine Spalte im Intervall $[0, 1]$ abbilden, wie es für verschiedene Algorithmen des Clusterings und der Klassifikation empfehlenswert ist, genügt die folgende Abbildung.\n",
    "\n",
    "$$\n",
    "budget_{[0,1]} = \\dfrac{budget_{[a,b]} - a}{b - a}\n",
    "$$\n",
    "\n",
    "Dabei ist $a$ das Minimum und $b$ das Maximum aller Einträge. Natürlich dürfen nicht alle Einträge gleich groß sein, sodass $a \\neq b$."
   ]
  },
  {
   "cell_type": "code",
   "execution_count": null,
   "id": "96a46e80",
   "metadata": {
    "deletable": false,
    "editable": false
   },
   "outputs": [],
   "source": [
    "dfc = df2.copy()\n",
    "\n",
    "dfc['budget'] = dfc['budget'].replace(0, np.nan)\n",
    "dfc['relative_budget'] = (dfc['budget'] - dfc['budget'].min()) / (dfc['budget'].max() - dfc['budget'].min())\n",
    "\n",
    "dfc"
   ]
  },
  {
   "cell_type": "markdown",
   "id": "44a6fb20",
   "metadata": {
    "deletable": false,
    "editable": false
   },
   "source": [
    "## Hinweise zum Datensatz\n",
    "Ein Teil der Ihnen zur Verfügung gestellten Daten wurden mit Hilfe der TMDb API erzeugt. Die Verwendung wird weder von TMDb unterstützt noch zertifiziert.\n",
    "\n",
    "[![TMDb Logo]( data:image/png;base64,iVBORw0KGgoAAAANSUhEUgAAAF8AAAApBAMAAAChGegaAAAACXBIWXMAAA3XAAAN1wFCKJt4AAAAGFBMVEVCv8YnutOBzKhJwMRJwMVIwMVixrcPtt6/AjOqAAAABnRSTlP9+/oDda8H8hdKAAACoklEQVQ4y92Uu4/iQAzGB/GoEyGUPqdLzeKEbWEDXBs2Ya8d8XBNdCD+/bM9nglhq2vPEssKfT99fo3NZyoBUKTHE9DX5cJfAPnmW9Cvc5MG4IgX+mWJkxHrV8YMBjFHkjw02rIHYJaRcGdxyEakN5EicavEnYDN9iP9ud0CLI6IJQCiPRNQGWOiKIoHYpF4l3puSJn+4BwKPGJNwGQyFAMlSM+EetyegMXxjCfI8YJnrk3kURxJRsHh0XM4kXSJWzuUkrloV4PolVg9O5y+LrDDgh2sZGSoBl+EOkQ9hx3CFxaW5iD64NC23uBx7TksscRzgTSHiRYdu752xLXnUGBDf7wDG7ia29ClFwduUS0OlVEk1qT8sKueA00NS3FY+bYOdG6e6HeJSkYQh7kaRPFL1f05UFMvIA65kV3Soruu9id9orGdnYPLSWtIaPkUKV8c5MMOzsKllEhKzgAYyBU41JDrhwnZ17i33jcQ4J/ifwFyd2noSWvIqo5LvR2mkf8KatasEcDJOZycgxGWrWUO3Oe3cAQ+BMhSr2fCMDFSgMZQeuBOQKfPMiGste79lAyMDRFTBm6b37x8C71k3gEt1eCe9JABGv0+iRn4A8CAZuTC6SdKjBwAeZKUDkgI+Hx1QErJCjFTAPaPWoCca0g7B0EmvmbDF8UB63ZKwP2QPKbhGEvRfg6+CA+8CaDH2Ou5gkwTsqI3weHdA/ziVO8IPznJKYr6Kd2afdcl0R/dGHxbzTgU3bqi4RedSj+HTAnLScluDIa+rTxqAd7pkBUq5+XLfFedQ63Avr2Dd7jqajgHHbSOwcguzapuNbZy+RZhW58drBjAWq59HLZVLl9Yjm7Suhh+W8sAyCGDvHmJw7Y5bOSBraqqOrgH1MYtP6C/fvSvEPCZwaQAAAAASUVORK5CYII=)](https://developers.themoviedb.org/3)"
   ]
  }
 ],
 "metadata": {
  "kernelspec": {
   "display_name": "Python 3 (ipykernel)",
   "language": "python",
   "name": "python3"
  },
  "language_info": {
   "codemirror_mode": {
    "name": "ipython",
    "version": 3
   },
   "file_extension": ".py",
   "mimetype": "text/x-python",
   "name": "python",
   "nbconvert_exporter": "python",
   "pygments_lexer": "ipython3",
   "version": "3.8.10"
  }
 },
 "nbformat": 4,
 "nbformat_minor": 5
}
