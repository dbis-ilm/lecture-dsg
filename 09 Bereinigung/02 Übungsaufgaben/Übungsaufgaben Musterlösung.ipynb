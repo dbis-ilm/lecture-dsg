{
 "cells": [
  {
   "cell_type": "markdown",
   "id": "b246bd15",
   "metadata": {
    "deletable": false,
    "editable": false
   },
   "source": [
    "# Übungsaufgaben\n",
    "Importieren Sie zuerst die benötigten Bibliotheken und die Tests für dieses Übungsblatt."
   ]
  },
  {
   "cell_type": "code",
   "execution_count": null,
   "id": "aa487607",
   "metadata": {
    "deletable": false,
    "editable": false
   },
   "outputs": [],
   "source": [
    "import pandas as pd\n",
    "import numpy as np"
   ]
  },
  {
   "cell_type": "markdown",
   "id": "16d76cb8",
   "metadata": {
    "deletable": false,
    "editable": false
   },
   "source": [
    "# Aufgabe 1\n",
    "Laden Sie den Datensatz aus der Datei `disney_plus_titles.csv`. Die Daten setzen sich zusammen aus dem Datensatz [Disney+ Movies and TV Shows](https://www.kaggle.com/code/werador/disney-data-analysis/data) und Daten aus der TMDb API."
   ]
  },
  {
   "cell_type": "code",
   "execution_count": null,
   "id": "08eda642",
   "metadata": {
    "deletable": false,
    "editable": false,
    "tags": [
     "task-1"
    ]
   },
   "outputs": [],
   "source": [
    "df = pd.read_csv('disney_plus_titles.csv')\n",
    "df"
   ]
  },
  {
   "cell_type": "markdown",
   "id": "a067d812",
   "metadata": {
    "deletable": false,
    "editable": false
   },
   "source": [
    "## Aufgabe 2\n",
    "Die Spalte `tmdb_ref` enthält zu jedem Film und jeder Serie einen Pfad zur entsprechenden TMDb-Seite. Benutzen Sie diese Angabe (**ohne** HTTP-Anfragen an TMDb zu senden), um die Werte der Spalte `type` zu korrigieren."
   ]
  },
  {
   "cell_type": "code",
   "execution_count": null,
   "id": "f834dedd",
   "metadata": {
    "deletable": false,
    "editable": false,
    "tags": [
     "task-2"
    ]
   },
   "outputs": [],
   "source": [
    "df_type = df.copy()\n",
    "\n",
    "df_type['type'] = df_type['tmdb_ref'].str.split('/').str[1].replace({\n",
    "    'movie': 'Movie',\n",
    "    'tv': 'TV Show'\n",
    "})\n",
    "\n",
    "df_type"
   ]
  },
  {
   "cell_type": "markdown",
   "id": "c37009d5",
   "metadata": {
    "deletable": false,
    "editable": false
   },
   "source": [
    "## Aufgabe 3\n",
    "Die Spalte `release` enthält in diesem Ausschnitt die Veröffentlichung aller Werke auf den Tag genau. Allerdings können Sie beobachten, dass die Datumsformate nicht einheitlich sind. Vereinheitlichen Sie alle Datumsformate der Spalte in die Form `YYYY-MM-DD`. Konvertieren Sie die Spalte anschließend zum Datentyp `datetime64`."
   ]
  },
  {
   "cell_type": "code",
   "execution_count": null,
   "id": "d9849200",
   "metadata": {
    "deletable": false,
    "editable": false,
    "tags": [
     "task-3"
    ]
   },
   "outputs": [],
   "source": [
    "df_release = df.copy()\n",
    "\n",
    "def to_yyyymmdd(x):\n",
    "    if x is np.nan or isinstance(x, float):\n",
    "        return x\n",
    "    if len(x) == 10:\n",
    "        return x\n",
    "\n",
    "    year = int(x[:2])\n",
    "    if year <= 30:\n",
    "        year += 2000\n",
    "    else:\n",
    "        year += 1900\n",
    "\n",
    "    return f'{year}-{x[2:]}'\n",
    "\n",
    "df_release['release'] = df_release['release'].map(to_yyyymmdd)\n",
    "df_release['release'] = pd.to_datetime(df_release['release'])\n",
    "\n",
    "df_release"
   ]
  },
  {
   "cell_type": "markdown",
   "id": "bbabb54c",
   "metadata": {
    "deletable": false,
    "editable": false
   },
   "source": [
    "## Aufgabe 4\n",
    "Ersetzen Sie die Spalte `revenue` nach folgendem Schema:\n",
    "- `unbekannt`: Das Einspielergebnis ist unbekannt. (Dazu gehören nicht nur `NaN`-Werte!)\n",
    "- `niedrig`: Das Einspielergebnis beträgt weniger als oder exakt 40 Millionen USD.\n",
    "- `mittel`: Das Einspielergebnis beträgt weniger als oder exakt 400 Millionen USD.\n",
    "- `hoch`: Das Einspielergebnis beträgt mehr als 400 Millionen USD."
   ]
  },
  {
   "cell_type": "code",
   "execution_count": null,
   "id": "15db5128",
   "metadata": {
    "deletable": false,
    "editable": false,
    "tags": [
     "task-4"
    ]
   },
   "outputs": [],
   "source": [
    "df_grouped = df.copy()\n",
    "\n",
    "df_grouped['revenue'] = df_grouped['revenue'].replace(0, np.nan)\n",
    "df_grouped['revenue'] = pd.cut(df_grouped['revenue'],\n",
    "                               [0, 40_000_000, 400_000_000, df_grouped['revenue'].max()],\n",
    "                               labels=['niedrig', 'mittel', 'hoch'])\n",
    "df_grouped['revenue'] = df_grouped['revenue'].cat.add_categories(['unbekannt']).fillna('unbekannt')\n",
    "\n",
    "df_grouped"
   ]
  },
  {
   "cell_type": "markdown",
   "id": "aa82fd12",
   "metadata": {
    "deletable": false,
    "editable": false
   },
   "source": [
    "## Aufgabe 5\n",
    "Berechnen Sie die durchschnittliche Laufzeit getrennt nach Filmen und Serien. Im Fall von Serien ist die durchschnittliche Laufzeit pro Episode gefragt.\n",
    "\n",
    "**Hinweis**: Es sind einige Werke enthalten, deren Laufzeit mit $0$ angegeben wird."
   ]
  },
  {
   "cell_type": "code",
   "execution_count": null,
   "id": "66352b0b",
   "metadata": {
    "deletable": false,
    "editable": false,
    "tags": [
     "task-5"
    ]
   },
   "outputs": [],
   "source": [
    "df2 = df.copy()\n",
    "\n",
    "df2['runtime'] = df2['runtime'].replace(0, np.nan)\n",
    "df2['episode_count'] = df2['episode_count'].fillna(1)\n",
    "df2['avg_runtime'] = df2['runtime'] / df2['episode_count']\n",
    "\n",
    "result = df2.groupby('type')['avg_runtime'].mean()\n",
    "\n",
    "avg_movie_runtime = result['Movie']\n",
    "avg_tvshow_runtime = result['TV Show']\n",
    "\n",
    "avg_movie_runtime, avg_tvshow_runtime"
   ]
  },
  {
   "cell_type": "markdown",
   "id": "cc2df64d",
   "metadata": {
    "deletable": false,
    "editable": false
   },
   "source": [
    "## Aufgabe 6\n",
    "Die Spalte `popularity` erstreckt sich auf einen Bereich zwischen $0.6$ und $985.642$. Normalisieren Sie die Spalte auf das Intervall $[0, 100]$."
   ]
  },
  {
   "cell_type": "code",
   "execution_count": null,
   "id": "d0ed6fdc",
   "metadata": {
    "deletable": false,
    "editable": false,
    "tags": [
     "task-6"
    ]
   },
   "outputs": [],
   "source": [
    "df_normalized = df.copy()\n",
    "\n",
    "min_value = df_normalized['popularity'].min()\n",
    "max_value = df_normalized['popularity'].max()\n",
    "df_normalized['popularity'] = (df_normalized['popularity'] - min_value) / (max_value - min_value) * 100\n",
    "\n",
    "df_normalized"
   ]
  },
  {
   "cell_type": "markdown",
   "id": "14bbaa45",
   "metadata": {
    "deletable": false,
    "editable": false
   },
   "source": [
    "## Hinweise zum Datensatz\n",
    "Ein Teil der Ihnen zur Verfügung gestellten Daten wurden mit Hilfe der TMDb API erzeugt. Die Verwendung wird weder von TMDb unterstützt noch zertifiziert.\n",
    "\n",
    "[![TMDb Logo]( data:image/png;base64,iVBORw0KGgoAAAANSUhEUgAAAF8AAAApBAMAAAChGegaAAAACXBIWXMAAA3XAAAN1wFCKJt4AAAAGFBMVEVCv8YnutOBzKhJwMRJwMVIwMVixrcPtt6/AjOqAAAABnRSTlP9+/oDda8H8hdKAAACoklEQVQ4y92Uu4/iQAzGB/GoEyGUPqdLzeKEbWEDXBs2Ya8d8XBNdCD+/bM9nglhq2vPEssKfT99fo3NZyoBUKTHE9DX5cJfAPnmW9Cvc5MG4IgX+mWJkxHrV8YMBjFHkjw02rIHYJaRcGdxyEakN5EicavEnYDN9iP9ud0CLI6IJQCiPRNQGWOiKIoHYpF4l3puSJn+4BwKPGJNwGQyFAMlSM+EetyegMXxjCfI8YJnrk3kURxJRsHh0XM4kXSJWzuUkrloV4PolVg9O5y+LrDDgh2sZGSoBl+EOkQ9hx3CFxaW5iD64NC23uBx7TksscRzgTSHiRYdu752xLXnUGBDf7wDG7ia29ClFwduUS0OlVEk1qT8sKueA00NS3FY+bYOdG6e6HeJSkYQh7kaRPFL1f05UFMvIA65kV3Soruu9id9orGdnYPLSWtIaPkUKV8c5MMOzsKllEhKzgAYyBU41JDrhwnZ17i33jcQ4J/ifwFyd2noSWvIqo5LvR2mkf8KatasEcDJOZycgxGWrWUO3Oe3cAQ+BMhSr2fCMDFSgMZQeuBOQKfPMiGste79lAyMDRFTBm6b37x8C71k3gEt1eCe9JABGv0+iRn4A8CAZuTC6SdKjBwAeZKUDkgI+Hx1QErJCjFTAPaPWoCca0g7B0EmvmbDF8UB63ZKwP2QPKbhGEvRfg6+CA+8CaDH2Ou5gkwTsqI3weHdA/ziVO8IPznJKYr6Kd2afdcl0R/dGHxbzTgU3bqi4RedSj+HTAnLScluDIa+rTxqAd7pkBUq5+XLfFedQ63Avr2Dd7jqajgHHbSOwcguzapuNbZy+RZhW58drBjAWq59HLZVLl9Yjm7Suhh+W8sAyCGDvHmJw7Y5bOSBraqqOrgH1MYtP6C/fvSvEPCZwaQAAAAASUVORK5CYII=)](https://developers.themoviedb.org/3)"
   ]
  }
 ],
 "metadata": {
  "kernelspec": {
   "display_name": "Python 3 (ipykernel)",
   "language": "python",
   "name": "python3"
  },
  "language_info": {
   "codemirror_mode": {
    "name": "ipython",
    "version": 3
   },
   "file_extension": ".py",
   "mimetype": "text/x-python",
   "name": "python",
   "nbconvert_exporter": "python",
   "pygments_lexer": "ipython3",
   "version": "3.8.10"
  }
 },
 "nbformat": 4,
 "nbformat_minor": 5
}
