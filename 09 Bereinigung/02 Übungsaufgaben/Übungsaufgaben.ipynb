{
 "cells": [
  {
   "cell_type": "markdown",
   "id": "b246bd15",
   "metadata": {
    "deletable": false,
    "editable": false
   },
   "source": [
    "# Übungsaufgaben\n",
    "Importieren Sie zuerst die benötigten Bibliotheken und die Tests für dieses Übungsblatt."
   ]
  },
  {
   "cell_type": "code",
   "execution_count": null,
   "id": "b363cf19",
   "metadata": {
    "deletable": false
   },
   "outputs": [],
   "source": [
    "import pandas as pd\n",
    "import numpy as np\n",
    "\n",
    "from tests import *"
   ]
  },
  {
   "cell_type": "markdown",
   "id": "16d76cb8",
   "metadata": {
    "deletable": false,
    "editable": false
   },
   "source": [
    "# Aufgabe 1\n",
    "Laden Sie den Datensatz aus der Datei `disney_plus_titles.csv`."
   ]
  },
  {
   "cell_type": "code",
   "execution_count": null,
   "id": "6dbfd750",
   "metadata": {
    "deletable": false,
    "tags": [
     "task-1"
    ]
   },
   "outputs": [],
   "source": [
    "df = ...\n",
    "df"
   ]
  },
  {
   "cell_type": "code",
   "execution_count": null,
   "id": "1fa637db",
   "metadata": {
    "deletable": false,
    "editable": false
   },
   "outputs": [],
   "source": [
    "aufgabe1(df)"
   ]
  },
  {
   "cell_type": "markdown",
   "id": "a067d812",
   "metadata": {
    "deletable": false,
    "editable": false
   },
   "source": [
    "## Aufgabe 2\n",
    "Die Spalte `tmdb_ref` enthält zu jedem Film und jeder Serie einen Pfad zur entsprechenden TMDb-Seite. Benutzen Sie diese Angabe (**ohne** HTTP-Anfragen an TMDb zu senden), um die Werte der Spalte `type` zu korrigieren."
   ]
  },
  {
   "cell_type": "code",
   "execution_count": null,
   "id": "fc5fba3a",
   "metadata": {
    "deletable": false,
    "tags": [
     "task-2"
    ]
   },
   "outputs": [],
   "source": [
    "df_type = df.copy()\n",
    "\n",
    "...\n",
    "\n",
    "df_type"
   ]
  },
  {
   "cell_type": "code",
   "execution_count": null,
   "id": "e25951dd",
   "metadata": {
    "deletable": false,
    "editable": false
   },
   "outputs": [],
   "source": [
    "aufgabe2(df_type)"
   ]
  },
  {
   "cell_type": "markdown",
   "id": "c37009d5",
   "metadata": {
    "deletable": false,
    "editable": false
   },
   "source": [
    "## Aufgabe 3\n",
    "Die Spalte `release` enthält in diesem Ausschnitt die Veröffentlichung aller Werke auf den Tag genau. Allerdings können Sie beobachten, dass die Datumsformate nicht einheitlich sind. Vereinheitlichen Sie alle Datumsformate der Spalte in die Form `YYYY-MM-DD`. Konvertieren Sie die Spalte anschließend zum Datentyp `datetime64`."
   ]
  },
  {
   "cell_type": "code",
   "execution_count": null,
   "id": "f04ccfd8",
   "metadata": {
    "deletable": false,
    "tags": [
     "task-3"
    ]
   },
   "outputs": [],
   "source": [
    "df_release = df.copy()\n",
    "\n",
    "...\n",
    "\n",
    "df_release"
   ]
  },
  {
   "cell_type": "code",
   "execution_count": null,
   "id": "1df445f2",
   "metadata": {
    "deletable": false,
    "editable": false
   },
   "outputs": [],
   "source": [
    "aufgabe3(df_release)"
   ]
  },
  {
   "cell_type": "markdown",
   "id": "bbabb54c",
   "metadata": {
    "deletable": false,
    "editable": false
   },
   "source": [
    "## Aufgabe 4\n",
    "Ersetzen Sie die Spalte `revenue` nach folgendem Schema:\n",
    "- `unbekannt`: Das Einspielergebnis ist unbekannt. (Dazu gehören nicht nur `NaN`-Werte!)\n",
    "- `niedrig`: Das Einspielergebnis beträgt weniger als oder exakt 40 Millionen USD.\n",
    "- `mittel`: Das Einspielergebnis beträgt weniger als oder exakt 400 Millionen USD.\n",
    "- `hoch`: Das Einspielergebnis beträgt mehr als 400 Millionen USD."
   ]
  },
  {
   "cell_type": "code",
   "execution_count": null,
   "id": "0ad61520",
   "metadata": {
    "deletable": false,
    "tags": [
     "task-4"
    ]
   },
   "outputs": [],
   "source": [
    "df_grouped = df.copy()\n",
    "\n",
    "...\n",
    "\n",
    "df_grouped"
   ]
  },
  {
   "cell_type": "code",
   "execution_count": null,
   "id": "43a82b70",
   "metadata": {
    "deletable": false,
    "editable": false
   },
   "outputs": [],
   "source": [
    "aufgabe4(df_grouped)"
   ]
  },
  {
   "cell_type": "markdown",
   "id": "aa82fd12",
   "metadata": {
    "deletable": false,
    "editable": false
   },
   "source": [
    "## Aufgabe 5\n",
    "Berechnen Sie die durchschnittliche Laufzeit getrennt nach Filmen und Serien. Im Fall von Serien ist die durchschnittliche Laufzeit pro Episode gefragt.\n",
    "\n",
    "**Hinweis**: Es sind einige Werke enthalten, deren Laufzeit mit $0$ angegeben wird."
   ]
  },
  {
   "cell_type": "code",
   "execution_count": null,
   "id": "a78d22d9",
   "metadata": {
    "deletable": false,
    "tags": [
     "task-5"
    ]
   },
   "outputs": [],
   "source": [
    "avg_movie_runtime, avg_tvshow_runtime = 0.0, 0.0\n",
    "\n",
    "...\n",
    "\n",
    "avg_movie_runtime, avg_tvshow_runtime"
   ]
  },
  {
   "cell_type": "code",
   "execution_count": null,
   "id": "52d71abb",
   "metadata": {
    "deletable": false,
    "editable": false
   },
   "outputs": [],
   "source": [
    "aufgabe5(avg_movie_runtime, avg_tvshow_runtime)"
   ]
  },
  {
   "cell_type": "markdown",
   "id": "cc2df64d",
   "metadata": {
    "deletable": false,
    "editable": false
   },
   "source": [
    "## Aufgabe 6\n",
    "Die Spalte `popularity` erstreckt sich auf einen Bereich zwischen $0.6$ und $985.642$. Normalisieren Sie die Spalte auf das Intervall $[0, 100]$."
   ]
  },
  {
   "cell_type": "code",
   "execution_count": null,
   "id": "1abc67b0",
   "metadata": {
    "deletable": false,
    "tags": [
     "task-6"
    ]
   },
   "outputs": [],
   "source": [
    "df_normalized = df.copy()\n",
    "\n",
    "...\n",
    "\n",
    "df_normalized"
   ]
  },
  {
   "cell_type": "code",
   "execution_count": null,
   "id": "1d296496",
   "metadata": {
    "deletable": false,
    "editable": false
   },
   "outputs": [],
   "source": [
    "aufgabe6(df_normalized)"
   ]
  }
 ],
 "metadata": {
  "kernelspec": {
   "display_name": "Python 3 (ipykernel)",
   "language": "python",
   "name": "python3"
  },
  "language_info": {
   "codemirror_mode": {
    "name": "ipython",
    "version": 3
   },
   "file_extension": ".py",
   "mimetype": "text/x-python",
   "name": "python",
   "nbconvert_exporter": "python",
   "pygments_lexer": "ipython3",
   "version": "3.8.10"
  }
 },
 "nbformat": 4,
 "nbformat_minor": 5
}
