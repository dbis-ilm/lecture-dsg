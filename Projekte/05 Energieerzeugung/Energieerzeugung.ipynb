{
 "cells": [
  {
   "cell_type": "markdown",
   "id": "96f0dbe9-aec0-4289-b4b4-8524acb54ade",
   "metadata": {
    "deletable": false,
    "editable": false
   },
   "source": [
    "# Energieerzeugung\n",
    "Für dieses Projekt erhalten Sie eine ausgewählte Zeitreihe, die Daten zur Energieerzeugung und zum Energieverbrauch in Deutschland enthält. Die [Strom- und Gasmarktdaten](https://www.smard.de/) werden von der Bundesnetzagentur unter der Lizenz CC BY 4.0 kostenfrei bereitgestellt. Weiterhin existiert [ein Benutzerhandbuch](https://www.smard.de/resource/blob/212924/61a75e052eddb43a8d3cc4c6e1653fa3/smard-benutzerhandbuch-02-2024-data.pdf), das auch Erklärungen zu den Daten enthält."
   ]
  },
  {
   "cell_type": "markdown",
   "id": "0c026934-1fa2-42a9-82bb-0c2ef0c53d1e",
   "metadata": {
    "deletable": false,
    "editable": false
   },
   "source": [
    "## Inhaltsverzeichnis\n",
    "- [Datensatz](#Datensatz)\n",
    "- [Aufgabenstellung](#Aufgabenstellung)"
   ]
  },
  {
   "cell_type": "markdown",
   "id": "0cdf9add-3cd8-4f6d-8b34-dfe62a97fd92",
   "metadata": {
    "deletable": false,
    "editable": false
   },
   "source": [
    "## Datensatz\n",
    "Der Name *SMARD* steht für **S**trom**mar**kt**d**aten. Sie erhalten vier extrahierte Dateien:\n",
    "- `consumption` (`consumption_2024.csv.gz`) enthält eine Zeitreihe zum Verbrauch. Jeder Eintrag repräsentiert einen 15-minütigen Slot. Der Verbrauch ist eingeteilt in die Netzlast (inklusive Übertragungsverluste) und die Abnahme durch Pumpspeicherwerke.\n",
    "- `generation` (`generation_2024.csv.gz`) enthält eine Zeitreihe zur Erzeugung. Jeder Eintrag repräsentiert einen 15-minütigen Slot mit der erzeugten Energie. Die Erzeugung ist eingeteilt in verschiedene Kategorien von Kraftwerken.\n",
    "- `prices` (`prices_2024.csv.gz`) enthält eine Zeitreihe zu den Großhandelspreisen für unterschiedliche Staaten. Die Daten sind hier stündlich aufgenommen.\n",
    "- `trade` (`trade_2024.csv.gz`) enthält die Nettoexporte und -Importe in verschiedene Länder. Die Daten sind ebenfalls in 15-minütigen Slots erfasst. (Es Exporte und Importe gleichzeitig stattfinden, indem unterschiedliche Verbraucher bei unterschiedlichen Erzeugern einkaufen.)\n",
    "\n",
    "**Hinweis:** 2024 war ein Schaltjahr."
   ]
  },
  {
   "cell_type": "markdown",
   "id": "0ebfbf62-0648-4398-acbc-ec40361de1c8",
   "metadata": {
    "deletable": false,
    "editable": false
   },
   "source": [
    "## Aufgabenstellung\n",
    "Legen Sie ein Jupyter Notebook an, laden Sie den Datensatz, achten Sie dabei auf die korrekte Erfassung der Zeitangaben und verschaffen Sie sich einen Überblick über die enthaltenen Daten.\n",
    "\n",
    "Beantworten Sie anschließend die folgenden Fragen:\n",
    "- Wie entwickelt sich der Anteil der regenerativen Energien im Verlauf des Jahres?\n",
    "- Wie verhalten sich Exporte und Importe im Bezug auf internationale Handelspreise?\n",
    "\n",
    "Wählen Sie zusätzlich eine eigene, komplexere Fragestellung, die Sie anschaulich mit den Daten beantworten. Verwenden Sie dazu Methoden der Zeitreihenanalyse. Falls Ihnen bei der Beantwortung der vorangegangen Fragen Ungereimtheiten oder interessante Tatsachen auffallen, sind diese möglicherweise ein günstiger Anfang."
   ]
  },
  {
   "cell_type": "markdown",
   "id": "880105a2-2ab8-4a65-ad7c-25676a5fc32f",
   "metadata": {
    "deletable": false,
    "editable": false
   },
   "source": [
    "Verstehen Sie die Fragestellung bitte als Anreiz für eine Beschäftigung mit dem Datensatz. Das Wort \"Donnerstag\" mag eine korrekte Antwort sein, weckt aber weder das Interesse noch den Forschergeist des Adressaten. Verwenden Sie Tabellen und Graphen, suchen Sie Zusammenhänge und graben Sie tiefer.\n",
    "\n",
    "Achten Sie bei Ihren Antworten und Herleitungen außerdem darauf, dass diese immer verständlich und nachvollziehbar dokumentiert sind. Verwenden Sie dazu auch Kommentare in den Quelltextabschnitten. Stellen Sie Ihre Ergebnisse immer Interesse weckend dar."
   ]
  }
 ],
 "metadata": {
  "kernelspec": {
   "display_name": "Python 3 (ipykernel)",
   "language": "python",
   "name": "python3"
  },
  "language_info": {
   "codemirror_mode": {
    "name": "ipython",
    "version": 3
   },
   "file_extension": ".py",
   "mimetype": "text/x-python",
   "name": "python",
   "nbconvert_exporter": "python",
   "pygments_lexer": "ipython3",
   "version": "3.12.10"
  }
 },
 "nbformat": 4,
 "nbformat_minor": 5
}
