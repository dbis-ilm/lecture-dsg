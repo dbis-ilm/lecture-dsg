{
 "cells": [
  {
   "cell_type": "markdown",
   "id": "c339fb38",
   "metadata": {
    "deletable": false,
    "editable": false
   },
   "source": [
    "# Treibstoffpreise\n",
    "In diesem Projekt werden die Preise für verschiedene Treibstoffarten innerhalb Thüringens untersucht."
   ]
  },
  {
   "cell_type": "markdown",
   "id": "5981af44",
   "metadata": {
    "deletable": false,
    "editable": false
   },
   "source": [
    "## Inhaltsverzeichnis\n",
    "- [Datensatz](#Datensatz)\n",
    "- [Aufgabenstellung](#Aufgabenstellung)"
   ]
  },
  {
   "cell_type": "markdown",
   "id": "5dba90f3",
   "metadata": {
    "deletable": false,
    "editable": false
   },
   "source": [
    "## Datensatz\n",
    "Sie erhalten zwei Dateien:\n",
    "- `tanken_stations.csv` enthält grundlegende Informationen über alle Tankstellen in Thüringen. Dazu zählt eine eindeutige ID, der Name, die Betreiberkette und die Stadt.\n",
    "- `tanken.csv.gz` enthält eine komprimierte CSV-Datei, in der reihenweise alle erfassten Preise abgelegt sind. Der Zeitraum umfasst das gesamte Jahr 2021."
   ]
  },
  {
   "cell_type": "markdown",
   "id": "a3f624aa",
   "metadata": {
    "deletable": false,
    "editable": false
   },
   "source": [
    "## Aufgabenstellung\n",
    "Legen Sie ein Jupyter Notebook an, laden Sie den Datensatz und verschaffen Sie sich einen Überblick über die enthaltenen Informationen.\n",
    "\n",
    "Beantworten Sie anschließend die folgenden Fragen, ggf. nur für einen ausgewählten Treibstoff.\n",
    "- In welcher Stadt ist das Tanken am günstigsten?\n",
    "- Gibt es eine Kette, die den Treibstoff am günstigsten anbietet?\n",
    "- An welchem Wochentag, welcher Uhrzeit oder einer Kombination aus beidem ist das Tanken am günstigsten?\n",
    "\n",
    "Wählen Sie zusätzlich eine eigene, komplexere Fragestellung, die Sie anschaulich mit den Daten beantworten. Verwenden Sie dazu eine der erweiterten Data Science Methoden, also beispielsweise Clustering, Klassifikation oder Graphanalyse. Falls Ihnen bei der Beantwortung der vorangegangen Fragen Ungereimtheiten oder interessante Tatsachen auffallen, sind diese möglicherweise ein günstiger Anfang."
   ]
  },
  {
   "cell_type": "markdown",
   "id": "3fb181ad",
   "metadata": {
    "deletable": false,
    "editable": false
   },
   "source": [
    "Verstehen Sie die Fragestellung bitte als Anreiz für eine Beschäftigung mit dem Datensatz. Das Wort \"Donnerstag\" mag eine korrekte Antwort sein, weckt aber weder das Interesse noch den Forschergeist des Adressaten. Verwenden Sie Tabellen und Graphen, suchen Sie Zusammenhänge und graben Sie tiefer.\n",
    "\n",
    "Achten Sie bei Ihren Antworten und Herleitungen außerdem darauf, dass diese immer verständlich und nachvollziehbar dokumentiert sind. Verwenden Sie dazu auch Kommentare in den Quelltextabschnitten. Stellen Sie Ihre Ergebnisse immer Interesse weckend dar."
   ]
  }
 ],
 "metadata": {
  "kernelspec": {
   "display_name": "Python 3 (ipykernel)",
   "language": "python",
   "name": "python3"
  },
  "language_info": {
   "codemirror_mode": {
    "name": "ipython",
    "version": 3
   },
   "file_extension": ".py",
   "mimetype": "text/x-python",
   "name": "python",
   "nbconvert_exporter": "python",
   "pygments_lexer": "ipython3",
   "version": "3.10.12"
  }
 },
 "nbformat": 4,
 "nbformat_minor": 5
}
