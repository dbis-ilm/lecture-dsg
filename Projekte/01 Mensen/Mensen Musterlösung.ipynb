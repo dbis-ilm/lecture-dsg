{
 "cells": [
  {
   "cell_type": "markdown",
   "id": "3d3ccbb3",
   "metadata": {
    "deletable": false,
    "editable": false
   },
   "source": [
    "# Mensen"
   ]
  },
  {
   "cell_type": "markdown",
   "id": "077d30e2",
   "metadata": {
    "deletable": false,
    "editable": false
   },
   "source": [
    "## Inhaltsverzeichnis\n",
    "- [Vorbereitungen](#Vorbereitungen)\n",
    "- [Pommes-Frites Angebot](#Pommes-Frites-Angebot)\n",
    "- [Preisniveau der Gerichte](#Preisniveau-der-Gerichte)"
   ]
  },
  {
   "cell_type": "markdown",
   "id": "c6adc609",
   "metadata": {
    "deletable": false,
    "editable": false
   },
   "source": [
    "## Vorbereitungen"
   ]
  },
  {
   "cell_type": "markdown",
   "id": "f04250a6",
   "metadata": {
    "deletable": false,
    "editable": false
   },
   "source": [
    "Import der benötigten Module:"
   ]
  },
  {
   "cell_type": "code",
   "execution_count": null,
   "id": "bd7c9c5c",
   "metadata": {
    "deletable": false,
    "editable": false
   },
   "outputs": [],
   "source": [
    "import tarfile\n",
    "from datetime import datetime\n",
    "from typing import Dict, List, Any\n",
    "from bs4 import BeautifulSoup\n",
    "\n",
    "import pandas as pd\n",
    "import plotly.express as px"
   ]
  },
  {
   "cell_type": "markdown",
   "id": "fdc8a156",
   "metadata": {
    "deletable": false,
    "editable": false
   },
   "source": [
    "Laden der Metadaten in den Arbeitsspeicher:"
   ]
  },
  {
   "cell_type": "code",
   "execution_count": null,
   "id": "7568a5ec",
   "metadata": {
    "deletable": false,
    "editable": false
   },
   "outputs": [],
   "source": [
    "mensen_info: pd.DataFrame = pd.read_csv('mensen_info.csv', encoding='utf-8')\n",
    "mensen_info.sample(n=5, random_state=1)"
   ]
  },
  {
   "cell_type": "markdown",
   "id": "a50929cc",
   "metadata": {
    "deletable": false,
    "editable": false
   },
   "source": [
    "Laden aller HTML-Dateien, parsen mit BeautifulSoup und speichern in einem DataFrame:"
   ]
  },
  {
   "cell_type": "code",
   "execution_count": null,
   "id": "c9109fc3",
   "metadata": {
    "deletable": false,
    "editable": false
   },
   "outputs": [],
   "source": [
    "# temporäre Liste anlegen\n",
    "data: List[Dict[str, Any]] = []\n",
    "\n",
    "# über alle Dateien im Tarball iterieren\n",
    "with tarfile.open('mensen_html.tar.gz', 'r:gz', encoding='utf-8') as tar:\n",
    "    for member in tar.getmembers():\n",
    "        with tar.extractfile(member) as file:\n",
    "            # Mensa ID und Datum extrahieren\n",
    "            mensa_id, year, month, day = map(int, member.name[:-5].split('-'))\n",
    "            date = datetime(year=year, month=month, day=day, hour=12)\n",
    "\n",
    "            # HTML parsen\n",
    "            html = BeautifulSoup(file, 'html.parser')\n",
    "\n",
    "            # Container finden und angebotsfreie Tage überspringen\n",
    "            # container = html.find('div', {'class': 'splGroupWrapper'})\n",
    "\n",
    "            #if container is None:\n",
    "            #    h2 = html.find('h2', {'class': {'mt-3'}})\n",
    "            #    if h2 is not None and h2.text == 'Zum gewählten Datum werden in dieser Einrichtung keine Essen angeboten.':\n",
    "            #        continue\n",
    "\n",
    "            #if container is None:\n",
    "            #    continue\n",
    "\n",
    "            # Gerichte finden\n",
    "            for meal in html.find_all('div', {'class': 'rowMeal'}):\n",
    "                # Daten auslesen\n",
    "                name = meal.find('div', {'class': 'mealText'}).text\n",
    "                name = name.strip()\n",
    "\n",
    "                prices = meal.find('div', {'class': 'mealPreise'}).text\n",
    "                prices = ','.join(map(str.strip, map(lambda x: x.replace(',', '.'), prices[:-2].split('/'))))\n",
    "\n",
    "                categories = meal.find_all('img', {'class': 'splIconMeal'})\n",
    "                categories = ','.join([i['title'] for i in categories])\n",
    "\n",
    "                allergens = meal.find('div', {'class': 'allergene'})\n",
    "                if allergens is None:\n",
    "                    allergens = []\n",
    "                else:\n",
    "                    allergens = ','.join(map(str.strip, allergens.text.split(':')[1].split(',')))\n",
    "\n",
    "                # zu temporärer Liste hinzufügen\n",
    "                data.append({\n",
    "                    'id': mensa_id,\n",
    "                    'date': date,\n",
    "                    'name': name,\n",
    "                    'prices': prices,\n",
    "                    'categories': categories,\n",
    "                    'allergens': allergens,\n",
    "                })\n",
    "\n",
    "# in DataFrame konvertieren und Liste löschen\n",
    "df = pd.DataFrame(data)\n",
    "del data\n",
    "\n",
    "# Auszüge aus DataFrame ausgeben\n",
    "df.sample(n=10, random_state=1)"
   ]
  },
  {
   "cell_type": "markdown",
   "id": "86b31e2f",
   "metadata": {
    "deletable": false,
    "editable": false
   },
   "source": [
    "## Pommes-Frites Angebot\n",
    "**In welcher Stadt lohnt sich das Studium, wenn man eigentlich nur an Pommes Frites interessiert ist?**"
   ]
  },
  {
   "cell_type": "markdown",
   "id": "b76863fb",
   "metadata": {
    "deletable": false,
    "editable": false
   },
   "source": [
    "Zuerst wird ein neues DataFrame erstellt, das nur die Stadt, den Wochentag und die Information, ob es Pommes gibt, enthält."
   ]
  },
  {
   "cell_type": "code",
   "execution_count": null,
   "id": "ade9a127",
   "metadata": {
    "deletable": false,
    "editable": false
   },
   "outputs": [],
   "source": [
    "df_fries = pd.DataFrame()\n",
    "\n",
    "df_fries['city'] = pd.merge(df, mensen_info, how='left', on='id')['city']\n",
    "# df_fries['name'] = df['name']\n",
    "df_fries['fries'] = df['name'].map(lambda x: 'pommes' in x.lower())\n",
    "df_fries['day_of_week'] = df['date'].map(datetime.isoweekday)\n",
    "\n",
    "df_fries.sample(n=10, random_state=2)"
   ]
  },
  {
   "cell_type": "markdown",
   "id": "3c5cda4c",
   "metadata": {
    "deletable": false,
    "editable": false
   },
   "source": [
    "Anschließend wird nach der Stadt und dem Wochentag gruppiert und die Summe gebildet. (`True` zählt als Summand $1$, `False` als $0$.)"
   ]
  },
  {
   "cell_type": "code",
   "execution_count": null,
   "id": "b3505061",
   "metadata": {
    "deletable": false,
    "editable": false
   },
   "outputs": [],
   "source": [
    "fries_city_dow = df_fries.groupby(['city', 'day_of_week']).sum()\n",
    "fries_city_dow.head(7)"
   ]
  },
  {
   "cell_type": "markdown",
   "id": "b1179861",
   "metadata": {
    "deletable": false,
    "editable": false
   },
   "source": [
    "Danach wird die entstandene Tabelle in ein DataFrame konvertiert, das reihenweise die Wochentage und spaltenweise die verschiedenen Städte repräsentiert. Im Zuge dessen werden `NaN` Werte mit $0$ ersetzt, die Namen der Spalten zurückgesetzt und die Zahlwerte der Wochentage gegen Namen getauscht."
   ]
  },
  {
   "cell_type": "code",
   "execution_count": null,
   "id": "ffc4dc37",
   "metadata": {
    "deletable": false,
    "editable": false
   },
   "outputs": [],
   "source": [
    "fries = fries_city_dow.swaplevel(i=0, j=1).unstack(fill_value=0).reset_index()\n",
    "fries.columns = [col[1 if col[0] == 'fries' else 0] for col in fries.columns.values]\n",
    "fries['day_of_week'] = fries['day_of_week'].replace({\n",
    "    1: 'Mo',\n",
    "    2: 'Di',\n",
    "    3: 'Mi',\n",
    "    4: 'Do',\n",
    "    5: 'Fr',\n",
    "    6: 'Sa',\n",
    "    7: 'So',\n",
    "})\n",
    "\n",
    "fries"
   ]
  },
  {
   "cell_type": "code",
   "execution_count": null,
   "id": "70f5d580",
   "metadata": {
    "deletable": false,
    "editable": false
   },
   "outputs": [],
   "source": [
    "fig = px.bar(fries, x='day_of_week', y=fries.columns[1:], barmode='group',\n",
    "             title='Anzahl der Pommes-Frites Gerichte nach Stadt',\n",
    "             labels={'day_of_week': 'Wochentag', 'variable': 'Stadt'})\n",
    "fig.update_layout(yaxis_title='Anzahl')\n",
    "\n",
    "fig"
   ]
  },
  {
   "cell_type": "markdown",
   "id": "a0cd7f88",
   "metadata": {
    "deletable": false,
    "editable": false
   },
   "source": [
    "Gera und Eisenach sind also zu meiden, während Jena und Ilmenau empfehlenswert sind."
   ]
  },
  {
   "cell_type": "markdown",
   "id": "30fcbc54",
   "metadata": {
    "deletable": false,
    "editable": false
   },
   "source": [
    "## Preisniveau der Gerichte\n",
    "**Wie entwicklen sich die Preise in verschiedenen Städten?**"
   ]
  },
  {
   "cell_type": "markdown",
   "id": "5b52dc98",
   "metadata": {
    "deletable": false,
    "editable": false
   },
   "source": [
    "An dieser Stelle sollen die Preise für Studenten betrachtet werden. Zunächst wird also die Spalte `prices` von anderen Preisen bereinigt und in `float` konvertiert. Ebenfalls werden alle Gerichte anhand des Datums der Kalenderwoche zugeordnet."
   ]
  },
  {
   "cell_type": "code",
   "execution_count": null,
   "id": "6dbcc95f",
   "metadata": {
    "deletable": false,
    "editable": false
   },
   "outputs": [],
   "source": [
    "df_std = df.copy()\n",
    "\n",
    "df_std['price'] = df_std['prices'].str.split(',').str[0]\n",
    "df_std['price'] = pd.to_numeric(df_std['price'])\n",
    "\n",
    "df_std['week'] = df_std['date'].map(lambda x: f'{x.year}-{x.week}')\n",
    "\n",
    "df_std.sample(n=5, random_state=1)"
   ]
  },
  {
   "cell_type": "markdown",
   "id": "2ddef74a",
   "metadata": {
    "deletable": false,
    "editable": false
   },
   "source": [
    "Anschließend wird nach der entsprechenden Mensa und der Woche gruppiert und die Indizes vertauscht, um den Durchschnittspreis jeder Woche jeder Mensa berechnen zu können."
   ]
  },
  {
   "cell_type": "code",
   "execution_count": null,
   "id": "b182a4bc",
   "metadata": {
    "deletable": false,
    "editable": false
   },
   "outputs": [],
   "source": [
    "s_grouped = df_std.groupby(['id', 'week']).mean().swaplevel(i=0, j=1).reset_index()"
   ]
  },
  {
   "cell_type": "markdown",
   "id": "8f431558",
   "metadata": {
    "deletable": false,
    "editable": false
   },
   "source": [
    "Eine Verknüpfung mit den Daten in `mensen_info` erlaubt, zu jeder Mensa die Stadt zuzuordnen."
   ]
  },
  {
   "cell_type": "code",
   "execution_count": null,
   "id": "398cb020",
   "metadata": {
    "deletable": false,
    "editable": false
   },
   "outputs": [],
   "source": [
    "df_merged = pd.merge(\n",
    "    s_grouped, mensen_info,\n",
    "    how='left', on='id'\n",
    ")\n",
    "df_merged.sample(n=5, random_state=1)"
   ]
  },
  {
   "cell_type": "markdown",
   "id": "16c98820",
   "metadata": {
    "deletable": false,
    "editable": false
   },
   "source": [
    "Zuletzt erfolgt die Darstellung."
   ]
  },
  {
   "cell_type": "code",
   "execution_count": null,
   "id": "6a3b5638",
   "metadata": {
    "deletable": false,
    "editable": false
   },
   "outputs": [],
   "source": [
    "# ToDo Darstellung überarbeiten\n",
    "px.line(df_merged, x='week', y='price', color='city')"
   ]
  },
  {
   "cell_type": "markdown",
   "id": "6cdfcaef",
   "metadata": {
    "deletable": false,
    "editable": false
   },
   "source": [
    "ToDo: **Zusammenfassung**"
   ]
  }
 ],
 "metadata": {
  "kernelspec": {
   "display_name": "Python 3 (ipykernel)",
   "language": "python",
   "name": "python3"
  },
  "language_info": {
   "codemirror_mode": {
    "name": "ipython",
    "version": 3
   },
   "file_extension": ".py",
   "mimetype": "text/x-python",
   "name": "python",
   "nbconvert_exporter": "python",
   "pygments_lexer": "ipython3",
   "version": "3.8.10"
  }
 },
 "nbformat": 4,
 "nbformat_minor": 5
}
