{
 "cells": [
  {
   "cell_type": "markdown",
   "id": "c339fb38",
   "metadata": {
    "deletable": false,
    "editable": false
   },
   "source": [
    "# Mensen\n",
    "In diesem Projekt werfen Sie von außen einen Blick in den Speiseplan der [Mensen des Studierendenwerks Thüringen](https://www.stw-thueringen.de/mensen/). Der Schwerpunkt liegt dabei auf der Verarbeitung vieler HTML-Dateien und der Extraktion von Wissen aus diesen. Sie benötigen dazu zwangsweise Wissen über den Aufbau von HTML-Dokumenten."
   ]
  },
  {
   "cell_type": "markdown",
   "id": "5981af44",
   "metadata": {
    "deletable": false,
    "editable": false
   },
   "source": [
    "## Inhaltsverzeichnis\n",
    "- [Datensatz](#Datensatz)\n",
    "- [Aufgabenstellung](#Aufgabenstellung)"
   ]
  },
  {
   "cell_type": "markdown",
   "id": "5dba90f3",
   "metadata": {
    "deletable": false,
    "editable": false
   },
   "source": [
    "## Datensatz\n",
    "Sie erhalten zwei Dateien:\n",
    "- `mensen_info.csv` enthält grundlegende Informationen über alle Mensen in Thüringen. Dazu zählt eine eindeutige ID, die jeder Mensa vom Studierendenwerk zugewiesen und auch auf der Website verwendet wird.\n",
    "- `mensen_html.tar.gz` enthält eine Sammlung von HTML-Dateien. Sie sind nach dem Muster `<id>-<jahr>-<monat>-<tag>.html` benannt und enthalten jeweils die angebotenen Gerichte einer Mensa an einem bestimmten Tag. Den Inhalt der HTML-Dateien bekommen Sie jeweils angezeigt, wenn Sie auf [einer der Seiten](https://www.stw-thueringen.de/mensen/ilmenau/mensa-ehrenberg.html) eine Mensa und einen Tag auswählen. Filter wurden vor dem Abspeichern nicht gesetzt, sodass alle Gerichte enthalten sind."
   ]
  },
  {
   "cell_type": "markdown",
   "id": "91ec5e33",
   "metadata": {
    "deletable": false,
    "editable": false
   },
   "source": [
    "Tarballs mit der Endung `.tar`, nach Kompression beispielsweise auch `.tar.gz` oder `.tar.bz2`, sind eine der einfachsten Möglichkeiten, Dateien \"zusammenzukleben\", um diese anschließend gemeinsam zu komprimieren. Auf der Kommandozeile können Sie das Archiv wie folgt entpacken. Beachten Sie dabei aber, dass hunderte kleine Dateien geschrieben werden.\n",
    "\n",
    "```bash\n",
    "tar -vxzf mensen_html.tar.gz\n",
    "```"
   ]
  },
  {
   "cell_type": "markdown",
   "id": "27f0dbbd",
   "metadata": {
    "deletable": false,
    "editable": false
   },
   "source": [
    "Alternativ können Sie die Datei auch mit Python lesen. Der nachfolgende Codeausschnitt zeigt, wie Sie auf die Dateien im komprimierten Tarball zugreifen und den Inhalt laden können."
   ]
  },
  {
   "cell_type": "code",
   "execution_count": null,
   "id": "d14c9420",
   "metadata": {
    "deletable": false
   },
   "outputs": [],
   "source": [
    "import tarfile\n",
    "\n",
    "# Tarball öffnen. Kompression wird durch 'r:gz' automatisch behandelt\n",
    "with tarfile.open('mensen_html.tar.gz', 'r:gz', encoding='utf-8') as tar:\n",
    "    # über enthaltene Dateien iterieren\n",
    "    for member in tar.getmembers():\n",
    "        # enthaltene Datei öffnen\n",
    "        with tar.extractfile(member) as file:\n",
    "            name = member.name\n",
    "            html = file.read()\n",
    "\n",
    "        # Beispieldatum ausgeben und Schleife unterbrechen\n",
    "        print(name, html[:81])\n",
    "        break"
   ]
  },
  {
   "cell_type": "markdown",
   "id": "a3f624aa",
   "metadata": {
    "deletable": false,
    "editable": false
   },
   "source": [
    "## Aufgabenstellung\n",
    "Legen Sie ein Jupyter Notebook an, laden Sie den Datensatz und verschaffen Sie sich einen Überblick über die enthaltenen Informationen.\n",
    "\n",
    "Beantworten Sie anschließend zwei der folgenden Fragen.\n",
    "- An welchen Tagen ist das Angebot an Pommes-Frites am größten?\n",
    "- Sind einige Gerichte oder Zusätze auf bestimmte Wochentage begrenzt?\n",
    "- Wie verändert sich das Preisniveau der Gerichte?\n",
    "\n",
    "Wählen Sie zusätzlich eine eigene, komplexere Fragestellung, die Sie anschaulich mit den Daten beantworten. Verwenden Sie dazu eine der erweiterten Data Science Methoden, also beispielsweise Clustering, Klassifikation oder Graphanalyse. Falls Ihnen bei der Beantwortung der vorangegangen Fragen Ungereimtheiten oder interessante Tatsachen auffallen, sind diese möglicherweise ein günstiger Anfang."
   ]
  },
  {
   "cell_type": "markdown",
   "id": "3fb181ad",
   "metadata": {
    "deletable": false,
    "editable": false
   },
   "source": [
    "Verstehen Sie die Fragestellung bitte als Anreiz für eine Beschäftigung mit dem Datensatz. Das Wort \"Donnerstag\" mag eine korrekte Antwort sein, weckt aber weder das Interesse noch den Forschergeist des Adressaten. Verwenden Sie Tabellen und Graphen, suchen Sie Zusammenhänge und graben Sie tiefer.\n",
    "\n",
    "Achten Sie bei Ihren Antworten und Herleitungen außerdem darauf, dass diese immer verständlich und nachvollziehbar dokumentiert sind. Verwenden Sie dazu auch Kommentare in den Quelltextabschnitten. Stellen Sie Ihre Ergebnisse immer Interesse weckend dar."
   ]
  }
 ],
 "metadata": {
  "kernelspec": {
   "display_name": "Python 3 (ipykernel)",
   "language": "python",
   "name": "python3"
  },
  "language_info": {
   "codemirror_mode": {
    "name": "ipython",
    "version": 3
   },
   "file_extension": ".py",
   "mimetype": "text/x-python",
   "name": "python",
   "nbconvert_exporter": "python",
   "pygments_lexer": "ipython3",
   "version": "3.10.12"
  }
 },
 "nbformat": 4,
 "nbformat_minor": 5
}
