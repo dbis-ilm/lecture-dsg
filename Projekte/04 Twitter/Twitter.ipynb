{
 "cells": [
  {
   "cell_type": "markdown",
   "id": "9309d6f6",
   "metadata": {
    "deletable": false,
    "editable": false
   },
   "source": [
    "# Twitter\n",
    "Dieses Projekt beschäftigt sich mit einer Sammlung von Twitter. Sie erhalten einen Datensatz mit etwa $13.000$ Tweets aus dem internationalen Raum und untersuchen diese mit Hilfe grundlegender Methoden der Textanalyse."
   ]
  },
  {
   "cell_type": "markdown",
   "id": "2f95e20a",
   "metadata": {
    "deletable": false,
    "editable": false
   },
   "source": [
    "## Inhaltsverzeichnis\n",
    "- [Datensatz](#Datensatz)\n",
    "- [Aufgabenstellung](#Aufgabenstellung)"
   ]
  },
  {
   "cell_type": "markdown",
   "id": "0d23c6b3",
   "metadata": {
    "deletable": false,
    "editable": false
   },
   "source": [
    "## Datensatz\n",
    "Sie erhalten den Datensatz mit etwa $13.000$ Tweets aus dem internationalen Raum. Enthalten sind die folgenden Spalten:\n",
    "\n",
    "| Spalte             | Beschreibung                                    |\n",
    "| ------------------ | ----------------------------------------------- |\n",
    "| `text`             | Der Originaltext des Tweets.                    |\n",
    "| `lang`             | Die Sprache des Tweets.                         |\n",
    "| `country`          | Das Land des Autors.                            |\n",
    "| `created_at`       | Der Zeitpunkt der Veröffentlichung des Tweets.  |"
   ]
  },
  {
   "cell_type": "markdown",
   "id": "87121cbb",
   "metadata": {
    "deletable": false,
    "editable": false
   },
   "source": [
    "## Aufgabenstellung\n",
    "Laden Sie die Daten und verschaffen Sie sich einen Überblick über die enthaltenen Tweets. Bearbeiten Sie anschließend die folgende Fragestellung:\n",
    "\n",
    "- Finden Sie die $12$ am häufigsten verwendeten Hashtags. Stellen Sie das Erscheinen dieser in Abhängigkeit der Veröffentlichung der Tweets mit Hilfe einer [Timeline](https://plotly.com/python-api-reference/generated/plotly.express.timeline.html) dar. (Tipp: Gruppieren Sie die Daten nach Woche und verwenden Sie die Häufigkeit als Merkmal zur Einfärbung der Elemente in der Timeline.)\n",
    "\n",
    "Wählen Sie zusätzlich eine eigene, komplexere Fragestellung, die Sie anschaulich mit den Daten beantworten. Falls Ihnen bei der Beantwortung der vorangegangen Fragen Ungereimtheiten oder interessante Tatsachen auffallen, sind diese möglicherweise ein günstiger Anfang."
   ]
  },
  {
   "cell_type": "markdown",
   "id": "b9ee0ab0",
   "metadata": {
    "deletable": false,
    "editable": false
   },
   "source": [
    "Verstehen Sie die Fragestellung bitte als Anreiz für eine Beschäftigung mit dem Datensatz. Das Wort \"Donnerstag\" mag eine korrekte Antwort sein, weckt aber weder das Interesse noch den Forschergeist des Adressaten. Verwenden Sie Tabellen und Graphen, suchen Sie Zusammenhänge und graben Sie tiefer.\n",
    "\n",
    "Achten Sie bei Ihren Antworten und Herleitungen außerdem darauf, dass diese immer verständlich und nachvollziehbar dokumentiert sind. Verwenden Sie dazu auch Kommentare in den Quelltextabschnitten. Stellen Sie Ihre Ergebnisse immer Interesse weckend dar."
   ]
  }
 ],
 "metadata": {
  "kernelspec": {
   "display_name": "Python 3 (ipykernel)",
   "language": "python",
   "name": "python3"
  },
  "language_info": {
   "codemirror_mode": {
    "name": "ipython",
    "version": 3
   },
   "file_extension": ".py",
   "mimetype": "text/x-python",
   "name": "python",
   "nbconvert_exporter": "python",
   "pygments_lexer": "ipython3",
   "version": "3.10.12"
  }
 },
 "nbformat": 4,
 "nbformat_minor": 5
}
