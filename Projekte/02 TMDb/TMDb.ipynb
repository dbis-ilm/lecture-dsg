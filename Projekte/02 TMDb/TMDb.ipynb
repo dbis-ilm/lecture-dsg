{
 "cells": [
  {
   "cell_type": "markdown",
   "id": "817ffb7b",
   "metadata": {
    "deletable": false,
    "editable": false
   },
   "source": [
    "# TMDb\n",
    "Im Laufe der Veranstaltung haben Sie bereits gesehen, dass der Datensatz [Disney+ Movies and TV Shows](https://www.kaggle.com/code/werador/disney-data-analysis/data) mit Daten der [TMDb API](https://developers.themoviedb.org/3/) erweitert werden kann. So lassen sich Fehler korrigieren und genauere Einblicke gewinnen. Der Schwerpunkt dieses Projekts liegt dabei auf der Interaktion mit einer JSON-API und der Verknüpfung dieser Daten.\n",
    "\n",
    "Sie benötigen einen Zugang zu TMDb und einen [API Key](https://www.themoviedb.org/settings/api)."
   ]
  },
  {
   "cell_type": "markdown",
   "id": "c6790b50",
   "metadata": {
    "deletable": false,
    "editable": false
   },
   "source": [
    "## Inhaltsverzeichnis\n",
    "- [Datensatz](#Datensatz)\n",
    "- [Aufgabenstellung](#Aufgabenstellung)"
   ]
  },
  {
   "cell_type": "markdown",
   "id": "0e268c68",
   "metadata": {
    "deletable": false,
    "editable": false
   },
   "source": [
    "## Datensatz\n",
    "Sie erhalten den oben genannten Datensatz, der schon häufiger in verschiedenen Ausschnitten zum Einsatz kam, im CSV-Format. Erweitert wurde er um eine Spalte, die eine Referenz zu TMDb enthält. Mit Hilfe des beantragten API Keys können Sie damit wietere Details zu Filmen und Serien erhalten.\n",
    "\n",
    "Auf Basis des Eintrags `/tv/92830` lässt sich eine Anfrage an `https://api.themoviedb.org/3/tv/92830?api_key=<<api_key>>` senden, um detaillierte Informationen zu dieser Serie in Erfahrung zu bringen. TMDb besitzt jedoch noch viele weitere Informationen, wie beispielsweise die offiziellen Konten auf verschiedenen Social-Media Seiten unter `https://api.themoviedb.org/3/tv/92830/external_ids?api_key=<<api_key>>`."
   ]
  },
  {
   "cell_type": "markdown",
   "id": "8b6b1176",
   "metadata": {
    "deletable": false,
    "editable": false
   },
   "source": [
    "## Aufgabenstellung\n",
    "Lesen Sie [die Dokumentation der TMDb API](https://developers.themoviedb.org/3/), fragen Sie Informationen ab, die für die Beantwortung Ihrer Fragestellung hilfreich sind, und speichern Sie diese zwischen.\n",
    "\n",
    "Beantworten Sie anschließend eine der folgenden Fragen.\n",
    "- Verringert sich der Abstand zwischen Veröffentlichungen im Kino und im Streaming?\n",
    "- Werden Serien so veröffentlicht, dass Kunden zu einem möglichst langen Beibehalten ihres Abonnements angehalten sind?\n",
    "\n",
    "Wählen Sie zusätzlich eine eigene, komplexere Fragestellung, die Sie anschaulich mit den Daten beantworten. Verwenden Sie dazu eine der erweiterten Data Science Methoden, also beispielsweise Clustering, Klassifikation oder Graphanalyse. Falls Ihnen bei der Beantwortung der vorangegangen Fragen Ungereimtheiten oder interessante Tatsachen auffallen, sind diese möglicherweise ein günstiger Anfang."
   ]
  },
  {
   "cell_type": "markdown",
   "id": "49d0cc69",
   "metadata": {
    "deletable": false,
    "editable": false
   },
   "source": [
    "Verstehen Sie die Fragestellung bitte als Anreiz für eine Beschäftigung mit dem Datensatz. Das Wort \"Donnerstag\" mag eine korrekte Antwort sein, weckt aber weder das Interesse noch den Forschergeist des Adressaten. Verwenden Sie Tabellen und Graphen, suchen Sie Zusammenhänge und graben Sie tiefer.\n",
    "\n",
    "Achten Sie bei Ihren Antworten und Herleitungen außerdem darauf, dass diese immer verständlich und nachvollziehbar dokumentiert sind. Verwenden Sie dazu auch Kommentare in den Quelltextabschnitten. Stellen Sie Ihre Ergebnisse immer Interesse weckend dar."
   ]
  }
 ],
 "metadata": {
  "kernelspec": {
   "display_name": "Python 3 (ipykernel)",
   "language": "python",
   "name": "python3"
  },
  "language_info": {
   "codemirror_mode": {
    "name": "ipython",
    "version": 3
   },
   "file_extension": ".py",
   "mimetype": "text/x-python",
   "name": "python",
   "nbconvert_exporter": "python",
   "pygments_lexer": "ipython3",
   "version": "3.10.12"
  }
 },
 "nbformat": 4,
 "nbformat_minor": 5
}
