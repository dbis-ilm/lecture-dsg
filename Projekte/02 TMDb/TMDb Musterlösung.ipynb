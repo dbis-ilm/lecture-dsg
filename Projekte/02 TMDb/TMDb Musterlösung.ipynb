{
 "cells": [
  {
   "cell_type": "markdown",
   "id": "76f9ecec",
   "metadata": {
    "deletable": false,
    "editable": false
   },
   "source": [
    "# TMDb"
   ]
  },
  {
   "cell_type": "markdown",
   "id": "32f4fd79",
   "metadata": {
    "deletable": false,
    "editable": false
   },
   "source": [
    "## Inhaltsverzeichnis\n",
    "- [Vorbereitungen](#Vorbereitungen)\n",
    "- [Abstand der Veröffentlichung](#Abstand-der-Veröffentlichung)\n",
    "- [Veröffentlichung der Serien](#Veröffentlichung-der-Serien)"
   ]
  },
  {
   "cell_type": "markdown",
   "id": "fb321989",
   "metadata": {
    "deletable": false,
    "editable": false
   },
   "source": [
    "## Vorbereitungen"
   ]
  },
  {
   "cell_type": "markdown",
   "id": "11a5d046",
   "metadata": {
    "deletable": false,
    "editable": false
   },
   "source": [
    "TMDb API Key:"
   ]
  },
  {
   "cell_type": "code",
   "execution_count": null,
   "id": "e2072c70",
   "metadata": {
    "deletable": false,
    "editable": false
   },
   "outputs": [],
   "source": [
    "tmdb_apikey = '78f6ddbaaf328e1f969c219240da9025'"
   ]
  },
  {
   "cell_type": "markdown",
   "id": "3643c91d",
   "metadata": {
    "deletable": false,
    "editable": false
   },
   "source": [
    "Import der benötigten Module:"
   ]
  },
  {
   "cell_type": "code",
   "execution_count": null,
   "id": "7de1cabe",
   "metadata": {
    "deletable": false,
    "editable": false
   },
   "outputs": [],
   "source": [
    "import requests\n",
    "import json\n",
    "\n",
    "from pathlib import Path\n",
    "from datetime import datetime, timedelta, date\n",
    "\n",
    "import pandas as pd\n",
    "import numpy as np\n",
    "import plotly.express as px"
   ]
  },
  {
   "cell_type": "markdown",
   "id": "7f65d62a",
   "metadata": {
    "deletable": false,
    "editable": false
   },
   "source": [
    "Anlegen des Download Ordners:"
   ]
  },
  {
   "cell_type": "code",
   "execution_count": null,
   "id": "fa5867a8",
   "metadata": {
    "deletable": false,
    "editable": false
   },
   "outputs": [],
   "source": [
    "download_folder = Path('download')\n",
    "download_folder.mkdir(exist_ok=True)"
   ]
  },
  {
   "cell_type": "markdown",
   "id": "5ca58c18",
   "metadata": {
    "deletable": false,
    "editable": false
   },
   "source": [
    "Laden des Datensatzes:"
   ]
  },
  {
   "cell_type": "code",
   "execution_count": null,
   "id": "af87288b",
   "metadata": {
    "deletable": false,
    "editable": false
   },
   "outputs": [],
   "source": [
    "disney_plus_titles = pd.read_csv('disney_plus_titles.csv', parse_dates=['date_added'])"
   ]
  },
  {
   "cell_type": "markdown",
   "id": "f09868e2",
   "metadata": {
    "deletable": false,
    "editable": false
   },
   "source": [
    "Entfernen der Einträge, zu denen keine Informationen bei TMDb existieren:"
   ]
  },
  {
   "cell_type": "code",
   "execution_count": null,
   "id": "d090e22e",
   "metadata": {
    "deletable": false,
    "editable": false
   },
   "outputs": [],
   "source": [
    "disney_plus_titles = disney_plus_titles.dropna(axis=0, subset='tmdb_ref')"
   ]
  },
  {
   "cell_type": "markdown",
   "id": "fe9ab1be",
   "metadata": {
    "deletable": false,
    "editable": false
   },
   "source": [
    "Korrektur der Spalte `type` anhand der TMDb Ergebnisse:"
   ]
  },
  {
   "cell_type": "code",
   "execution_count": null,
   "id": "03f6ea4e",
   "metadata": {
    "deletable": false,
    "editable": false
   },
   "outputs": [],
   "source": [
    "disney_plus_titles['type'] = disney_plus_titles['tmdb_ref'].str.split('/').str[1].replace({\n",
    "    'movie': 'Movie',\n",
    "    'tv': 'TV Show'\n",
    "})\n",
    "disney_plus_titles.head(5)\n",
    "# .sample(n=5, random_state=8)"
   ]
  },
  {
   "cell_type": "markdown",
   "id": "77165b2a",
   "metadata": {
    "deletable": false,
    "editable": false
   },
   "source": [
    "## Abstand der Veröffentlichung\n",
    "**Verringert sich der Abstand zwischen Veröffentlichungen im Kino und im Streaming?**"
   ]
  },
  {
   "cell_type": "markdown",
   "id": "027b0910",
   "metadata": {
    "deletable": false,
    "editable": false
   },
   "source": [
    "Zur Beantwortung dieser Frage benötigen wir zu jedem Film die Angabe, wann er im Kino veröffentlicht wurde. Zunächst erfolgt nun die Auswahl der Filme bzw. das Entfernen der Serien aus der Liste aller Titel. Dazu werden Spalten entfernt, die für die weitere Betrachtung nicht notwendig sind und lediglich die Ausgabe vergrößern."
   ]
  },
  {
   "cell_type": "code",
   "execution_count": null,
   "id": "8e42fd37",
   "metadata": {
    "deletable": false,
    "editable": false
   },
   "outputs": [],
   "source": [
    "disney_plus_movies = disney_plus_titles[disney_plus_titles['type'] == 'Movie']\n",
    "disney_plus_movies = disney_plus_movies.drop(['director', 'cast', 'country', 'rating',\n",
    "                                              'listed_in', 'duration', 'description'], axis=1)\n",
    "# disney_plus_movies"
   ]
  },
  {
   "cell_type": "markdown",
   "id": "fe14d70d",
   "metadata": {
    "deletable": false,
    "editable": false
   },
   "source": [
    "Anschließend werden alle Dateien heruntergeladen, die nicht bereits im Download-Ordner enthalten sind."
   ]
  },
  {
   "cell_type": "code",
   "execution_count": null,
   "id": "04fcbf68",
   "metadata": {
    "deletable": false,
    "editable": false
   },
   "outputs": [],
   "source": [
    "for _, row in disney_plus_movies.iterrows():\n",
    "    # Variablen vorbereiten\n",
    "    tmdb_ref = row['tmdb_ref']\n",
    "    filename = tmdb_ref[1:].replace('/', '_')\n",
    "\n",
    "    target = download_folder.joinpath(f'{filename}.json')\n",
    "\n",
    "    # überspringen, falls Datei existiert und Daten enthält\n",
    "    if target.exists() and target.stat().st_size > 200:\n",
    "        continue\n",
    "\n",
    "    # Anfrage an TMDb senden\n",
    "    print('get', tmdb_ref)\n",
    "\n",
    "    r = requests.get(f'https://api.themoviedb.org/3{tmdb_ref}?api_key={tmdb_apikey}')\n",
    "    assert r.status_code == 200\n",
    "\n",
    "    # JSON parsen und in Datei speichern\n",
    "    o = r.json()\n",
    "    with open(target, 'w', encoding='utf-8') as file:\n",
    "        json.dump(o, file, indent=4)"
   ]
  },
  {
   "cell_type": "markdown",
   "id": "46950f9a",
   "metadata": {
    "deletable": false,
    "editable": false
   },
   "source": [
    "Darauf werden alle diese Dateien eingelesen und die Veröffentlichungszeitpunkte und weitere Daten im DataFrame abgelegt."
   ]
  },
  {
   "cell_type": "code",
   "execution_count": null,
   "id": "aafe8501",
   "metadata": {
    "deletable": false,
    "editable": false
   },
   "outputs": [],
   "source": [
    "def load(tmdb_ref: str, field: str):\n",
    "    filename = tmdb_ref[1:].replace('/', '_')\n",
    "    source = download_folder.joinpath(f'{filename}.json')\n",
    "\n",
    "    with open(source, 'r', encoding='utf-8') as file:\n",
    "        data = json.load(file)\n",
    "        return data[field]\n",
    "\n",
    "disney_plus_movies['release_date'] = pd.to_datetime(disney_plus_movies['tmdb_ref'].map(lambda tr: load(tr, 'release_date')))\n",
    "disney_plus_movies.head(5)"
   ]
  },
  {
   "cell_type": "markdown",
   "id": "0756a295",
   "metadata": {
    "deletable": false,
    "editable": false
   },
   "source": [
    "Filme, die vor der Veröffentlichung von Disney+ am 12.11.2019 erschienen, sind nicht repräsentativ. Sie werden entfernt."
   ]
  },
  {
   "cell_type": "code",
   "execution_count": null,
   "id": "66a04ff2",
   "metadata": {
    "deletable": false,
    "editable": false
   },
   "outputs": [],
   "source": [
    "disney_plus_movies = disney_plus_movies[disney_plus_movies['release_date'] > '2019-11-12'].copy()\n",
    "# disney_plus_movies"
   ]
  },
  {
   "cell_type": "markdown",
   "id": "705766b2",
   "metadata": {
    "deletable": false,
    "editable": false
   },
   "source": [
    "Danach wird eine neue Spalte eingeführt, welche die Differenz zwischen Veröffentlichung und Aufnahme in den Online-Katalog in Tagen enthält."
   ]
  },
  {
   "cell_type": "code",
   "execution_count": null,
   "id": "7b35c57b",
   "metadata": {
    "deletable": false,
    "editable": false
   },
   "outputs": [],
   "source": [
    "disney_plus_movies['release_diff'] = (disney_plus_movies['date_added'] - disney_plus_movies['release_date'])\n",
    "disney_plus_movies['release_diff'] = disney_plus_movies['release_diff'].astype(np.int64) / (24 * 60 * 60 * 1000 * 1000 * 1000)\n",
    "disney_plus_movies.tail(5)"
   ]
  },
  {
   "cell_type": "markdown",
   "id": "9621c480",
   "metadata": {
    "deletable": false,
    "editable": false
   },
   "source": [
    "Anscheinend enthält der Katalog einige Filme, die entweder falsch zugeordnet oder vor der eigentlichen Veröffentlichung aufgenommen wurden. Auch diese werden entfernt."
   ]
  },
  {
   "cell_type": "code",
   "execution_count": null,
   "id": "98b387da",
   "metadata": {
    "deletable": false,
    "editable": false
   },
   "outputs": [],
   "source": [
    "disney_plus_movies = disney_plus_movies[disney_plus_movies['release_diff'] >= 0].copy()"
   ]
  },
  {
   "cell_type": "markdown",
   "id": "f5c929f5",
   "metadata": {
    "deletable": false,
    "editable": false
   },
   "source": [
    "Es werden weitere Daten aus den heruntergeladenenen Details geladen."
   ]
  },
  {
   "cell_type": "code",
   "execution_count": null,
   "id": "f6c6c408",
   "metadata": {
    "deletable": false,
    "editable": false
   },
   "outputs": [],
   "source": [
    "for prop in 'budget', 'vote_average', 'popularity':\n",
    "    disney_plus_movies[prop] = disney_plus_movies['tmdb_ref'].map(lambda tr: load(tr, prop)).replace(0, np.nan)\n",
    "\n",
    "disney_plus_movies"
   ]
  },
  {
   "cell_type": "markdown",
   "id": "cbd29ae7",
   "metadata": {
    "deletable": false,
    "editable": false
   },
   "source": [
    "Da lediglich $151$ Filme für mehrere Jahre verbleiben, wird die Veröffentlichung im Katalog auf den Monat reduziert."
   ]
  },
  {
   "cell_type": "code",
   "execution_count": null,
   "id": "3ddd15e6",
   "metadata": {
    "deletable": false,
    "editable": false
   },
   "outputs": [],
   "source": [
    "disney_plus_movies['month_added'] = pd.to_datetime(disney_plus_movies['date_added'].astype(str).str[:7])"
   ]
  },
  {
   "cell_type": "markdown",
   "id": "c87e39a2",
   "metadata": {
    "deletable": false,
    "editable": false
   },
   "source": [
    "Zuletzt wird alles als Scatter-Plot mit Trendlinie dargestellt. Zum Einfärben der einzelnen Punkte werden die zusätzlich geladenen Daten verwendet."
   ]
  },
  {
   "cell_type": "code",
   "execution_count": null,
   "id": "67604ab2",
   "metadata": {
    "deletable": false,
    "editable": false
   },
   "outputs": [],
   "source": [
    "def plot(color, size):\n",
    "    fig = px.scatter(disney_plus_movies,\n",
    "                     x='month_added', y='release_diff', trendline='ols',\n",
    "                     hover_name='title',\n",
    "                     title='Differenz zwischen Veröffentlichung und Aufnahme in den Katalog',\n",
    "                     labels={\n",
    "                         'month_added': 'Aufnahme in den Katalog',\n",
    "                         'release_diff': 'Differenz in Tagen',\n",
    "                         'budget': 'Budget',\n",
    "                         'vote_average': 'Wertung',\n",
    "                         'popularity': 'Popularität'\n",
    "                     },\n",
    "                     color=color,\n",
    "                     size=size)\n",
    "    fig.data[1].update(line_color='red')\n",
    "\n",
    "    return fig"
   ]
  },
  {
   "cell_type": "code",
   "execution_count": null,
   "id": "402bf82e",
   "metadata": {
    "deletable": false,
    "editable": false
   },
   "outputs": [],
   "source": [
    "plot('budget', 'popularity')"
   ]
  },
  {
   "cell_type": "code",
   "execution_count": null,
   "id": "be8ab31c",
   "metadata": {
    "deletable": false,
    "editable": false
   },
   "outputs": [],
   "source": [
    "plot('vote_average', 'popularity')"
   ]
  },
  {
   "cell_type": "markdown",
   "id": "1cdc8bc1",
   "metadata": {
    "deletable": false,
    "editable": false
   },
   "source": [
    "Die Differenz zwischen der Veröffentlichung im Kino und im Streaming scheint seit der Veröffentlichung von Disney+ leicht zu steigen. Eine Kategorisierung nach Budget, Zuschauerwertung und Popularität ergibt keine erkennbaren Muster hinsichtlich des Veröffentlichungszeitpunkts."
   ]
  },
  {
   "cell_type": "markdown",
   "id": "56e4d08c",
   "metadata": {
    "deletable": false,
    "editable": false
   },
   "source": [
    "## Veröffentlichung der Serien\n",
    "**Werden Serien so veröffentlicht, dass Kunden zu einem möglichst langen Beibehalten ihres Abonnements angehalten sind?**"
   ]
  },
  {
   "cell_type": "markdown",
   "id": "c3728a9b",
   "metadata": {
    "deletable": false,
    "editable": false
   },
   "source": [
    "Zur Beantwortung der Frage benötigen wir dieses Mal detaillierte Informationen über die Serien. Filme werden herausgefiltert und Spalten entfernt, die für die weitere Betrachtung nicht notwendig sind."
   ]
  },
  {
   "cell_type": "code",
   "execution_count": null,
   "id": "c8f36689",
   "metadata": {
    "deletable": false,
    "editable": false
   },
   "outputs": [],
   "source": [
    "disney_plus_shows = disney_plus_titles[disney_plus_titles['type'] == 'TV Show']\n",
    "disney_plus_shows = disney_plus_shows.drop(['director', 'cast', 'country', 'rating',\n",
    "                                              'listed_in', 'duration', 'description',\n",
    "                                              'date_added', 'release_year'], axis=1)\n",
    "# disney_plus_shows"
   ]
  },
  {
   "cell_type": "markdown",
   "id": "cb402eeb",
   "metadata": {
    "deletable": false,
    "editable": false
   },
   "source": [
    "Anschließend werden die Daten von TMDb heruntergeladen."
   ]
  },
  {
   "cell_type": "code",
   "execution_count": null,
   "id": "fea3a882",
   "metadata": {
    "deletable": false,
    "editable": false
   },
   "outputs": [],
   "source": [
    "def load_season(tmdb_ref: str, season_number: int):\n",
    "    # Anfrage senden\n",
    "    r = requests.get(f'https://api.themoviedb.org/3{tmdb_ref}/season/{season_number}?api_key={tmdb_apikey}')\n",
    "    assert r.status_code == 200\n",
    "\n",
    "    # parsen\n",
    "    o = r.json()\n",
    "\n",
    "    # zurückgeben\n",
    "    return o\n",
    "\n",
    "\n",
    "def load_show(tmdb_ref: str):\n",
    "    # Anfrage senden\n",
    "    r = requests.get(f'https://api.themoviedb.org/3{tmdb_ref}?api_key={tmdb_apikey}')\n",
    "    assert r.status_code == 200\n",
    "\n",
    "    # parsen\n",
    "    o = r.json()\n",
    "\n",
    "    # Details zu jeder Staffel abfragen\n",
    "    o['seasons_details'] = [load_season(tmdb_ref, s['season_number'])\n",
    "                            for s in o['seasons']]\n",
    "\n",
    "    # zurückgeben\n",
    "    return o\n",
    "\n",
    "\n",
    "for _, row in disney_plus_shows.iterrows():\n",
    "    # Variablen vorbereiten\n",
    "    tmdb_ref = row['tmdb_ref']\n",
    "    filename = tmdb_ref[1:].replace('/', '_')\n",
    "\n",
    "    target = download_folder.joinpath(f'{filename}.json')\n",
    "\n",
    "    # überspringen, falls Datei existiert und Daten enthält\n",
    "    if target.exists() and target.stat().st_size > 200:\n",
    "        continue\n",
    "\n",
    "    # Anfrage an TMDb senden\n",
    "    print('get', tmdb_ref)\n",
    "    o = load_show(tmdb_ref)\n",
    "\n",
    "    # in Dateisystem speichern\n",
    "    with open(target, 'w', encoding='utf-8') as file:\n",
    "        json.dump(o, file, indent=4)"
   ]
  },
  {
   "cell_type": "markdown",
   "id": "76989aa4",
   "metadata": {
    "deletable": false,
    "editable": false
   },
   "source": [
    "Darauf werden alle Episoden in ein DataFrame übertragen."
   ]
  },
  {
   "cell_type": "code",
   "execution_count": null,
   "id": "7d65fdf2",
   "metadata": {
    "deletable": false,
    "editable": false
   },
   "outputs": [],
   "source": [
    "def load():\n",
    "    download_folder = Path('download')\n",
    "    for file in download_folder.iterdir():\n",
    "        if not file.name.startswith('tv_'):\n",
    "            continue\n",
    "\n",
    "        with open(file, 'r', encoding='utf-8') as handle:\n",
    "            data = json.load(handle)\n",
    "\n",
    "        for season, season_detail in zip(data['seasons'], data['seasons_details']):\n",
    "            for episode in season_detail['episodes']:\n",
    "                s = season['season_number']\n",
    "                e = episode['episode_number']\n",
    "\n",
    "                if episode['air_date'] is not None:\n",
    "                    yield data['name'], f'S{s:02}E{e:02}', datetime.strptime(episode['air_date'], '%Y-%m-%d')\n",
    "\n",
    "names, episodes, releases = zip(*load())\n",
    "disney_plus_episodes = pd.DataFrame({\n",
    "    'name': names,\n",
    "    'episode': episodes,\n",
    "    'release': releases\n",
    "})\n",
    "\n",
    "disney_plus_episodes"
   ]
  },
  {
   "cell_type": "markdown",
   "id": "412c0d23",
   "metadata": {
    "deletable": false,
    "editable": false
   },
   "source": [
    "Erneut werden alle Episoden vor dem Erscheinen von Disney+ entfernt. Den restlichen Folgen wird eine Spalte hinzugefügt, die die Veröffentlichungswoche enthält."
   ]
  },
  {
   "cell_type": "code",
   "execution_count": null,
   "id": "563d54d3",
   "metadata": {
    "deletable": false,
    "editable": false
   },
   "outputs": [],
   "source": [
    "def to_week_start(x):\n",
    "    year, week, day = x.isocalendar()\n",
    "    return date.fromisocalendar(year, week, 1)\n",
    "\n",
    "disney_plus_weekly = disney_plus_episodes[disney_plus_episodes['release'] > '2019-11-12'].copy()\n",
    "disney_plus_weekly['release_week'] = disney_plus_weekly['release'].map(to_week_start)\n",
    "disney_plus_weekly"
   ]
  },
  {
   "cell_type": "markdown",
   "id": "ebd3fa24",
   "metadata": {
    "deletable": false,
    "editable": false
   },
   "source": [
    "Zuletzt wird nach der entstandenen Spalte `release_week` gruppiert und gezählt."
   ]
  },
  {
   "cell_type": "code",
   "execution_count": null,
   "id": "806ad071",
   "metadata": {
    "deletable": false,
    "editable": false
   },
   "outputs": [],
   "source": [
    "disney_plus_weekly_episodes = disney_plus_weekly.groupby('release_week')['episode'].count().reset_index()\n",
    "disney_plus_weekly_episodes"
   ]
  },
  {
   "cell_type": "markdown",
   "id": "5f0cb900",
   "metadata": {
    "deletable": false,
    "editable": false
   },
   "source": [
    "Die grafische Darstellung zeigt die veröffentlichten Episoden pro Woche. Rot markiert sind jeweils die Jahreswechsel."
   ]
  },
  {
   "cell_type": "code",
   "execution_count": null,
   "id": "fa531d7b",
   "metadata": {
    "deletable": false,
    "editable": false
   },
   "outputs": [],
   "source": [
    "fig = px.bar(disney_plus_weekly_episodes,\n",
    "             x='release_week', y='episode',\n",
    "             hover_name='release_week',\n",
    "             title='Anzahl der Veröffentlichungen pro Woche',\n",
    "             labels={\n",
    "                 'release_week': 'Woche',\n",
    "                 'episode': 'Anzahl an Veröffentlichungen',\n",
    "             })\n",
    "\n",
    "fig.add_vline(x='2020-01-01', line_width=1, line_color='red')\n",
    "fig.add_vline(x='2021-01-01', line_width=1, line_color='red')\n",
    "fig.add_vline(x='2022-01-01', line_width=1, line_color='red')\n",
    "\n",
    "fig"
   ]
  },
  {
   "cell_type": "markdown",
   "id": "715e3dbe",
   "metadata": {
    "deletable": false,
    "editable": false
   },
   "source": [
    "Es bleibt festzuhalten, dass es kleinere Schwankungen innerhalb jedes Jahres gibt, so zum Beispiel um die Weihnachtszeit und den Jahreswechsel. Im Rest des Jahres scheinen Serien gleichmäßig veröffentlicht zu werden - möglicherweise auch, um Kunden durch steige Veröffentlichungen zur Beibehaltung ihres Abonnements zu überreden.\n",
    "\n",
    "Weiterhin scheint interessant, dass im Laufe des Jahres 2022 bisher weniger Episoden veröffentlicht wurden als in den Jahren zuvor."
   ]
  }
 ],
 "metadata": {
  "kernelspec": {
   "display_name": "Python 3 (ipykernel)",
   "language": "python",
   "name": "python3"
  },
  "language_info": {
   "codemirror_mode": {
    "name": "ipython",
    "version": 3
   },
   "file_extension": ".py",
   "mimetype": "text/x-python",
   "name": "python",
   "nbconvert_exporter": "python",
   "pygments_lexer": "ipython3",
   "version": "3.8.10"
  }
 },
 "nbformat": 4,
 "nbformat_minor": 5
}
