{
 "cells": [
  {
   "cell_type": "markdown",
   "id": "72dbbba1",
   "metadata": {
    "deletable": false,
    "editable": false
   },
   "source": [
    "# Übungsaufgaben\n",
    "In den folgenden Übungsaufgaben wollen wir einen Klassifikator trainieren, der die Beliebtheit von Filmen vorhersagt. Im Folgenden gilt ein Film als beliebt, wenn die durchschnittliche Zuschauerwertung $6.0$ überschreitet. Sie erhalten dazu einen Datensatz mit folgenden Spalten:\n",
    "\n",
    "- `budget`: Das Budget des Films,\n",
    "- `countries`: die Anzahl der an der Produktion beteiligten Länder,\n",
    "- `runtime`: die Laufzeit des Films in Minuten,\n",
    "- `cast_size`: die Anzahl der an der Produktion beteiligten Schauspieler,\n",
    "- `crew_size`: die Anzahl der an der Produktion beteiligten Crewmitglieder und\n",
    "- `cast_vote_avg`: die durchschnittliche Wertung sonstiger Produktionen der Schauspieler.\n",
    "\n",
    "Beginnen Sie wie üblich mit dem Import der Algorithmen und Tests für dieses Übungsblatt."
   ]
  },
  {
   "cell_type": "code",
   "execution_count": null,
   "id": "ff75f78d",
   "metadata": {
    "deletable": false,
    "editable": false
   },
   "outputs": [],
   "source": [
    "import numpy as np\n",
    "import pandas as pd\n",
    "\n",
    "from sklearn.model_selection import train_test_split\n",
    "from sklearn.neighbors import KNeighborsClassifier\n",
    "from sklearn.tree import DecisionTreeClassifier\n",
    "from sklearn.metrics import accuracy_score, precision_score, recall_score"
   ]
  },
  {
   "cell_type": "markdown",
   "id": "78722cda",
   "metadata": {
    "deletable": false,
    "editable": false
   },
   "source": [
    "Funktionen wie beispielsweise die Aufteilung in Trainings- und Testdaten sind randomisiert. Zur besseren Vergleichbarkeit wird der Zufallszahlengenerator mit einem festen Startwert initialisiert."
   ]
  },
  {
   "cell_type": "markdown",
   "id": "69fe722b",
   "metadata": {
    "deletable": false,
    "editable": false
   },
   "source": [
    "## Aufgabe 1\n",
    "Laden Sie zuerst den Datensatz aus der Datei `classification_movies.csv`."
   ]
  },
  {
   "cell_type": "code",
   "execution_count": null,
   "id": "8023796c",
   "metadata": {
    "deletable": false,
    "editable": false,
    "tags": [
     "task-1"
    ]
   },
   "outputs": [],
   "source": [
    "df = pd.read_csv('classification_movies.csv')\n",
    "df"
   ]
  },
  {
   "cell_type": "markdown",
   "id": "6b12b713",
   "metadata": {
    "deletable": false,
    "editable": false
   },
   "source": [
    "Teilen Sie den Datensatz in Test- und Trainingsdaten. Wählen Sie ein Verhältnis von 3:1."
   ]
  },
  {
   "cell_type": "code",
   "execution_count": null,
   "id": "96d34a81",
   "metadata": {
    "deletable": false,
    "editable": false,
    "tags": [
     "task-1"
    ]
   },
   "outputs": [],
   "source": [
    "df_train, df_test = train_test_split(df, test_size=0.25)"
   ]
  },
  {
   "cell_type": "markdown",
   "id": "dc2cb51d",
   "metadata": {
    "deletable": false,
    "editable": false
   },
   "source": [
    "## Aufgabe 2\n",
    "Trainieren Sie einen k-Nächster-Nachbar-Klassifikator mit allen Spalten aus `df_train`. Als `X` dienen alle Spalten außer `popular`, während diese Spalte genau `y` beschreibt. Nutzen Sie die Implementierung aus `scikit-learn` und wählen Sie einen brauchbaren Wert für den Parameter `k`."
   ]
  },
  {
   "cell_type": "code",
   "execution_count": null,
   "id": "36312e61",
   "metadata": {
    "deletable": false,
    "editable": false,
    "tags": [
     "task-2"
    ]
   },
   "outputs": [],
   "source": [
    "X, y = df_train.drop('popular', axis=1), df_train['popular']\n",
    "nn = KNeighborsClassifier(n_neighbors=4).fit(X, y)"
   ]
  },
  {
   "cell_type": "markdown",
   "id": "d6c62cbb",
   "metadata": {
    "deletable": false,
    "editable": false
   },
   "source": [
    "Berechnen Sie anhand der Testdaten in `df_test` die Genauigkeit (`accuracy`). Verwenden Sie dafür ebenfalls die Funktion aus `scitkit-learn`."
   ]
  },
  {
   "cell_type": "code",
   "execution_count": null,
   "id": "8b619657",
   "metadata": {
    "deletable": false,
    "editable": false,
    "tags": [
     "task-2"
    ]
   },
   "outputs": [],
   "source": [
    "nn_accuracy = accuracy_score(df_test['popular'], nn.predict(df_test.drop('popular', axis=1)))\n",
    "nn_accuracy"
   ]
  },
  {
   "cell_type": "markdown",
   "id": "9142f889",
   "metadata": {
    "deletable": false,
    "editable": false
   },
   "source": [
    "## Aufgabe 3\n",
    "Erstellen Sie einen Entscheidungsbaum mit allen Spalten aus `df_train`. Als `X` dienen alle Spalten außer `popular`, während diese Spalte genau `y` beschreibt. Nutzen Sie die Implementierung aus `scikit-learn`."
   ]
  },
  {
   "cell_type": "code",
   "execution_count": null,
   "id": "bfd923c1",
   "metadata": {
    "deletable": false,
    "editable": false,
    "tags": [
     "task-3"
    ]
   },
   "outputs": [],
   "source": [
    "X, y = df_train.drop('popular', axis=1), df_train['popular']\n",
    "tree = DecisionTreeClassifier().fit(X, y)"
   ]
  },
  {
   "cell_type": "markdown",
   "id": "bca1dc7b",
   "metadata": {
    "deletable": false,
    "editable": false
   },
   "source": [
    "Berechnen Sie anhand der Testdaten in `df_test` die Genauigkeit (`accuracy`). Verwenden Sie dafür ebenfalls die Funktion aus `scitkit-learn`."
   ]
  },
  {
   "cell_type": "code",
   "execution_count": null,
   "id": "31182e3e",
   "metadata": {
    "deletable": false,
    "editable": false,
    "tags": [
     "task-3"
    ]
   },
   "outputs": [],
   "source": [
    "tree_accuracy = accuracy_score(df_test['popular'], tree.predict(df_test.drop('popular', axis=1)))\n",
    "tree_accuracy"
   ]
  },
  {
   "cell_type": "markdown",
   "id": "16b7f153",
   "metadata": {
    "deletable": false,
    "editable": false
   },
   "source": [
    "## Aufgabe 4\n",
    "Die folgende Zelle definiert einen neuen Film."
   ]
  },
  {
   "cell_type": "code",
   "execution_count": null,
   "id": "4e67f0bb",
   "metadata": {
    "deletable": false,
    "editable": false
   },
   "outputs": [],
   "source": [
    "df_new = pd.DataFrame({'budget': 14145774,\n",
    "                       'countries': 2,\n",
    "                       'runtime': 109,\n",
    "                       'cast_size': 38,\n",
    "                       'crew_size': 136,\n",
    "                       'cast_vote_avg': 6.8}, index=[0])\n",
    "df_new"
   ]
  },
  {
   "cell_type": "markdown",
   "id": "d2237b52",
   "metadata": {
    "deletable": false,
    "editable": false
   },
   "source": [
    "Verwenden Sie beide Klassifikatoren und erstellen Sie jeweils eine Vorhersage, ob dieser Film überdurchschnittlich vom Publikum bewertet wird."
   ]
  },
  {
   "cell_type": "code",
   "execution_count": null,
   "id": "e1ea3d51",
   "metadata": {
    "deletable": false,
    "editable": false,
    "tags": [
     "task-4"
    ]
   },
   "outputs": [],
   "source": [
    "nn_prediction = nn.predict(df_new)\n",
    "tree_prediction = tree.predict(df_new)\n",
    "\n",
    "nn_prediction, tree_prediction"
   ]
  },
  {
   "cell_type": "markdown",
   "id": "4e3c85be",
   "metadata": {
    "deletable": false,
    "editable": false
   },
   "source": [
    "## Aufgabe 5\n",
    "Berechnen Sie *Precision* und *Recall* für beide Klassifikatoren. Interpretieren Sie die Ergebnisse."
   ]
  },
  {
   "cell_type": "code",
   "execution_count": null,
   "id": "9d32dae4",
   "metadata": {
    "deletable": false,
    "editable": false,
    "tags": [
     "task-5"
    ]
   },
   "outputs": [],
   "source": [
    "nn_precision = precision_score(df_test['popular'], nn.predict(df_test.drop('popular', axis=1)))\n",
    "nn_recall = recall_score(df_test['popular'], nn.predict(df_test.drop('popular', axis=1)))\n",
    "tree_precision = precision_score(df_test['popular'], tree.predict(df_test.drop('popular', axis=1)))\n",
    "tree_recall = recall_score(df_test['popular'], tree.predict(df_test.drop('popular', axis=1)))\n",
    "\n",
    "print(f'nn_precision   = {nn_precision}')\n",
    "print(f'nn_recall      = {nn_recall}')\n",
    "print(f'tree_precision = {tree_precision}')\n",
    "print(f'tree_recall    = {tree_recall}')"
   ]
  },
  {
   "attachments": {
    "1.png": {
     "image/png": "[encoded data removed]"
    }
   },
   "cell_type": "markdown",
   "id": "842b67f9",
   "metadata": {
    "deletable": false,
    "editable": false
   },
   "source": [
    "## Hinweise zum Datensatz\n",
    "Ein Teil der Ihnen zur Verfügung gestellten Daten wurden mit Hilfe der TMDb API erzeugt. Die Verwendung wird weder von TMDb unterstützt noch zertifiziert.\n",
    "\n",
    "[![TMDb Logo](attachment:1.png)](https://developers.themoviedb.org/3)"
   ]
  }
 ],
 "metadata": {
  "kernelspec": {
   "display_name": "Python 3 (ipykernel)",
   "language": "python",
   "name": "python3"
  },
  "language_info": {
   "codemirror_mode": {
    "name": "ipython",
    "version": 3
   },
   "file_extension": ".py",
   "mimetype": "text/x-python",
   "name": "python",
   "nbconvert_exporter": "python",
   "pygments_lexer": "ipython3",
   "version": "3.8.10"
  }
 },
 "nbformat": 4,
 "nbformat_minor": 5
}
