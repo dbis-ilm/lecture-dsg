{
 "cells": [
  {
   "cell_type": "markdown",
   "id": "6b0393ac",
   "metadata": {
    "deletable": false,
    "editable": false
   },
   "source": [
    "# Nächster Nachbar Klassifikator\n",
    "Man soll ein Buch nicht nach dem Einband bewerten. In welchem Regal es steht kann dagegen mehr verraten, als dem Besitzer lieb ist. Der Nächste Nachbar Klassifikator macht sich diese Eigenschaft zu Nutze, indem er aus Eigenschaften der Umgebung auf die Eigenschaften eines noch nicht klassifizierten Punktes ableitet."
   ]
  },
  {
   "cell_type": "markdown",
   "id": "c51c94fb",
   "metadata": {
    "deletable": false,
    "editable": false
   },
   "source": [
    "## Inhaltsverzeichnis\n",
    "- [Definition und Beispiel](#Definition-und-Beispiel)\n",
    "- [Probleme](#Probleme)\n",
    "- [k-Nächster-Nachbar-Klassifikator](#k-Nächster-Nachbar-Klassifikator)\n",
    "- [Datennormalisierung](#Datennormalisierung)"
   ]
  },
  {
   "cell_type": "markdown",
   "id": "16e9a8df",
   "metadata": {
    "deletable": false,
    "editable": false
   },
   "source": [
    "## Definition und Beispiel"
   ]
  },
  {
   "cell_type": "markdown",
   "id": "59b49e49",
   "metadata": {
    "deletable": false,
    "editable": false
   },
   "source": [
    "## Probleme"
   ]
  },
  {
   "cell_type": "markdown",
   "id": "a179848b",
   "metadata": {
    "deletable": false,
    "editable": false
   },
   "source": [
    "## k-Nächster-Nachbar-Klassifikator"
   ]
  },
  {
   "cell_type": "markdown",
   "id": "5dfbfa67",
   "metadata": {
    "deletable": false,
    "editable": false
   },
   "source": [
    "## Datennormalisierung"
   ]
  }
 ],
 "metadata": {
  "kernelspec": {
   "display_name": "Python 3 (ipykernel)",
   "language": "python",
   "name": "python3"
  },
  "language_info": {
   "codemirror_mode": {
    "name": "ipython",
    "version": 3
   },
   "file_extension": ".py",
   "mimetype": "text/x-python",
   "name": "python",
   "nbconvert_exporter": "python",
   "pygments_lexer": "ipython3",
   "version": "3.8.10"
  }
 },
 "nbformat": 4,
 "nbformat_minor": 5
}
