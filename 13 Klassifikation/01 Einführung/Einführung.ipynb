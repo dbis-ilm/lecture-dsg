{
 "cells": [
  {
   "cell_type": "markdown",
   "id": "2c3d3a11",
   "metadata": {
    "deletable": false,
    "editable": false
   },
   "source": [
    "# Einführung\n",
    "Klassen sind Mengen von Objekten, die sich eine gemeinsame Eigenschaft teilen. Jedoch ist das zur Einteilung herangezogene Merkmal nicht immer beobachtbar. Ein Klassifikationsalgorithmus soll nun einem neuen Objekt mit unbekannter Klasse eine solche zuordnen, indem beobeachtbare Merkmale herangezogen werden."
   ]
  },
  {
   "cell_type": "markdown",
   "id": "ee3cc055",
   "metadata": {
    "deletable": false,
    "editable": false
   },
   "source": [
    "## Inhaltsverzeichnis\n",
    "- [Beispiel](#Beispiel)\n",
    "- [Trainings- und Testdaten](#Trainings--und-Testdaten)"
   ]
  },
  {
   "cell_type": "markdown",
   "id": "623cd42a",
   "metadata": {
    "deletable": false,
    "editable": false
   },
   "source": [
    "## Beispiel\n",
    "Am einfachsten lässt sich Klassifikation veranschaulichen, wenn Daten nur zwei Dimensionen und eine Kennzahl besitzen. Die folgende Zelle stellt Ihnen Daten zur Größe und Gewicht von $2.000$ Menschen dar. Die Farbe repräsentiert das Geschlecht der jeweiligen Person. (Die Daten entstammen dem Datensatz [weight-height.csv](https://www.kaggle.com/datasets/mustafaali96/weight-height). Es wurden zufällig $2.000$ Zeilen entnommen und ins metrische System konvertiert.)"
   ]
  },
  {
   "cell_type": "code",
   "execution_count": null,
   "id": "5d574d6a",
   "metadata": {
    "deletable": false,
    "editable": false
   },
   "outputs": [],
   "source": [
    "import pandas as pd\n",
    "import plotly.express as px\n",
    "\n",
    "df = pd.read_csv('cl_weightheight.csv')\n",
    "px.scatter(df, x='weight', y='height', color='gender')"
   ]
  },
  {
   "cell_type": "markdown",
   "id": "86e8d75a",
   "metadata": {
    "deletable": false,
    "editable": false
   },
   "source": [
    "Die Aufgabe des Klassifikators ist es nun, neu hinzugekommenen Personen unbekannten Geschlechts ein solches zuzordnen. Als Basis dieser Zuordnung sind ausschließlich Größe und Gewicht bekannt.\n",
    "\n",
    "1. $110 kg, 185cm$\n",
    "2. $50 kg, 160cm$\n",
    "3. $70 kg, 170cm$\n",
    "\n",
    "Vermutlich fällt es Ihnen auch ohne Blick auf den Graphen leicht, die ersten beiden Personen relativ treffsicher einem Geschlecht zuzuordnen. Der dritte Mensch hingegen fällt jedoch genau in den Bereich, in dem sich beide Punktwolken vermischen - es könnte sich also um einen unterdurchschnittlich schweren und großen Mann, aber auch um eine überdurchschnittlich große und schwere Frau handeln.\n",
    "\n",
    "Klassifikatoren übernehmen diese Aufgabe auf einer mathematischen, durch den Computer berechenbaren Basis. In diesem Kapitel werden Ihnen deshalb Methoden vorgestellt, die mit Hilfe vorgegebener Beispiele lernen, Unterscheidungen zu treffen. Sie werden auch sehen, wie die Entscheidungen eines trainierten Klassifikators bewertet werden können, wenn er beispielsweise mit unscharfen Fällen wie der dritten Person konfrontiert wird."
   ]
  },
  {
   "cell_type": "markdown",
   "id": "3c9cf707",
   "metadata": {
    "deletable": false,
    "editable": false
   },
   "source": [
    "## Trainings- und Testdaten\n",
    "Sie werden im Verlauf des Kapitels feststellen, dass die zum Einsatz kommenden Datensätze vor dem Lernen des Klassifikators aufgeteilt werden. Zum Einsatz kommt dabei die Funktion `train_test_split` aus dem Paket `scikit-learn`, welche sowohl NumPy Arrays wie auch Pandas DataFrames aufteilen kann."
   ]
  },
  {
   "cell_type": "code",
   "execution_count": null,
   "id": "6203aaf3",
   "metadata": {
    "deletable": false,
    "editable": false
   },
   "outputs": [],
   "source": [
    "from sklearn.model_selection import train_test_split\n",
    "df_train, df_test = train_test_split(df, test_size=0.25)\n",
    "\n",
    "len(df), len(df_train), len(df_test)"
   ]
  },
  {
   "cell_type": "markdown",
   "id": "a0ca1557",
   "metadata": {
    "deletable": false,
    "editable": false
   },
   "source": [
    "Den Namen entsprechend wird der Trainingsdatensatz für das Training und der Testdatensatz für die Überprüfung des Lernerfolgs eingesetzt. Verwenden Sie die selbe Menge für beide Schritte, besteht die Möglichkeit, dass der Klassifikator den Trainingsdatensatz \"auswendig lernt\". Stattdessen soll der Klassifikator jedoch verallgemeinern, sodass auch neu hinzukommende Daten korrekt eingeordnet werden.\n",
    "\n",
    "Stellen Sie sich analog einen Studenten vor, der für eine bevorstehende Prüfung lernt. Alte Klausuren dienen dabei als Trainingsdatensatz. Gibt es nur wenige Aufgaben, kann auswendig lernen und wiedergeben der alten Lösungen effizienter sein als sie zu verstehen und den Lösungsansatz zu verallgemeinern. Nach einer bestandenen Prüfung erwartet man in aller Regel jedoch genau letzteres - Lösungsstrategien sollten auf neue Probleme angewendet werden können. Prüfer werden sich also davor hüten, die Bewertung von Aufgaben abhängig zu machen, die dem Lernenden alle bereits zur Verfügung standen.\n",
    "\n",
    "Gerade im Bereich des tiefen Lernens geschieht es jedoch schnell, dass die Netzkapazität ausreicht, um auch zunächst umfangreich erscheinende Mengen an Trainingsdaten auswendig zu lernen. Man spricht dann von *Overfitting*. Wenn der Fehler bei der Klassifikation von Trainingsbeispielen kontinuierlich sinkt, während er in Zusammenhang mit den Testbeispielen steigt, ist dies ein starkes Indiz. (Der Prüfling wäre in diesem Fall im Stande alle alten Klausuren zügig zu lösen und würde trotzdem durchfallen.)\n",
    "\n",
    "Zu welchen Anteilen Trainings- und Testdaten gewählt werden sollten hängt indes stark von deren Anzahl, der Komplexität des Klassifikators, der gewählten Lernmethode und weiteren Faktoren ab. Beim tiefen Lernen wird gelegentlich sogar eine dritte Teilmenge zur Validierung der Parameter genutzt. Im Allgemeinen ist eine Aufteilung, die grob $75$ Prozent des Datensatzes den Trainingsdaten zuordnet, ein guter Anfang.\n",
    "\n",
    "Achten Sie zudem darauf, dass die Daten vor der Aufteilung zufällig gemischt werden. Sind bei der Erhebung zuerst Frauen und anschließend Männer untersucht worden und sie wählen das letzte Viertel als Testdatensatz, enthält dieser ansonsten nur die Werte der Herren."
   ]
  }
 ],
 "metadata": {
  "kernelspec": {
   "display_name": "Python 3 (ipykernel)",
   "language": "python",
   "name": "python3"
  },
  "language_info": {
   "codemirror_mode": {
    "name": "ipython",
    "version": 3
   },
   "file_extension": ".py",
   "mimetype": "text/x-python",
   "name": "python",
   "nbconvert_exporter": "python",
   "pygments_lexer": "ipython3",
   "version": "3.8.10"
  }
 },
 "nbformat": 4,
 "nbformat_minor": 5
}
