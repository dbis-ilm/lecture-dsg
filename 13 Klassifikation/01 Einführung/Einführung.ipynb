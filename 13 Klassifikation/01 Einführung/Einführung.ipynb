{
 "cells": [
  {
   "cell_type": "markdown",
   "id": "2c3d3a11",
   "metadata": {
    "deletable": false,
    "editable": false
   },
   "source": [
    "# Einführung\n",
    "Klassen sind Mengen von Objekten, die sich eine gemeinsame Eigenschaft teilen. Jedoch ist das zur Einteilung herangezogene Merkmal nicht immer beobachtbar. Ein Klassifikationsalgorithmus soll nun einem neuen Objekt mit unbekannter Klasse eine solche zuordnen, indem beobeachtbare Merkmale herangezogen werden."
   ]
  },
  {
   "cell_type": "markdown",
   "id": "623cd42a",
   "metadata": {
    "deletable": false,
    "editable": false
   },
   "source": [
    "## Beispiel\n",
    "Am einfachsten lässt sich Klassifikation veranschaulichen, wenn Daten nur zwei Dimensionen und eine Kennzahl besitzen. Die folgende Zelle stellt Ihnen Daten zur Größe und Gewicht von $2.000$ Menschen dar. Die Farbe repräsentiert das Geschlecht der jeweiligen Person. (Die Daten entstammen dem Datensatz [weight-height.csv](https://www.kaggle.com/datasets/mustafaali96/weight-height). Es wurden zufällig $2.000$ Zeilen entnommen und ins metrische System konvertiert.)"
   ]
  },
  {
   "cell_type": "code",
   "execution_count": null,
   "id": "5d574d6a",
   "metadata": {
    "deletable": false
   },
   "outputs": [],
   "source": [
    "import pandas as pd\n",
    "import plotly.express as px\n",
    "\n",
    "df = pd.read_csv('cl_weightheight.csv')\n",
    "px.scatter(df, x='weight', y='height', color='gender')"
   ]
  },
  {
   "cell_type": "markdown",
   "id": "86e8d75a",
   "metadata": {
    "deletable": false,
    "editable": false
   },
   "source": [
    "Die Aufgabe des Klassifikators ist es nun, neu hinzugekommenen Personen unbekannten Geschlechts ein solches zuzordnen. Als Basis dieser Zuordnung sind ausschließlich Größe und Gewicht bekannt.\n",
    "\n",
    "1. $110 kg, 185cm$\n",
    "2. $50 kg, 160cm$\n",
    "3. $70 kg, 170cm$\n",
    "\n",
    "Vermutlich fällt es Ihnen auch ohne Blick auf den Graphen leicht, die ersten beiden Personen relativ treffsicher einem Geschlecht zuzuordnen. Der dritte Mensch hingegen fällt jedoch genau in den Bereich, in dem sich beide Punktwolken vermischen - es könnte sich also um einen unterdurchschnittlich schweren und großen Mann, aber auch um eine überdurchschnittlich große und schwere Frau handeln.\n",
    "\n",
    "Klassifikatoren übernehmen diese Aufgabe auf einer mathematischen, durch den Computer berechenbaren Basis. In diesem Kapitel werden Ihnen deshalb Methoden vorgestellt, die mit Hilfe vorgegebener Beispiele lernen, Unterscheidungen zu treffen. Sie werden auch sehen, wie die Entscheidungen eines trainierten Klassifikators bewertet werden können, wenn er beispielsweise mit unscharfen Fällen wie der dritten Person konfrontiert wird."
   ]
  }
 ],
 "metadata": {
  "kernelspec": {
   "display_name": "Python 3 (ipykernel)",
   "language": "python",
   "name": "python3"
  },
  "language_info": {
   "codemirror_mode": {
    "name": "ipython",
    "version": 3
   },
   "file_extension": ".py",
   "mimetype": "text/x-python",
   "name": "python",
   "nbconvert_exporter": "python",
   "pygments_lexer": "ipython3",
   "version": "3.10.5"
  }
 },
 "nbformat": 4,
 "nbformat_minor": 5
}
