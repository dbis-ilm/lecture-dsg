{
 "cells": [
  {
   "cell_type": "markdown",
   "id": "b8343182",
   "metadata": {
    "deletable": false,
    "editable": false
   },
   "source": [
    "# Evaluation\n",
    "Wie bereits beim Clustering gibt es Maße, die eine Aussage über die Leistung eines Klassifikators in einen numerischen Wert fassen. In diesem Abschnitt sollen Ihnen mehrere dieser Maße anhand eines Beispiels gezeigt werden.\n",
    "\n",
    "Die ersten Code-Zellen laden Pandas und den Datensatz [weight-height.csv](https://www.kaggle.com/datasets/mustafaali96/weight-height), den Sie bereits aus der Einleitung dieses Kapitels kennen. Die Spalte `gender` wird zudem in ein numerisches Attribut transformiert."
   ]
  },
  {
   "cell_type": "code",
   "execution_count": null,
   "id": "7d22a07e",
   "metadata": {
    "deletable": false
   },
   "outputs": [],
   "source": [
    "from ipywidgets import interact, IntSlider\n",
    "import pandas as pd\n",
    "import plotly.express as px\n",
    "\n",
    "from tui_dsg.datasets import weightheight_path"
   ]
  },
  {
   "cell_type": "code",
   "execution_count": null,
   "id": "0e1523d9-64dd-4f09-a34c-c1808736b2e4",
   "metadata": {
    "deletable": false
   },
   "outputs": [],
   "source": [
    "df = pd.read_csv(weightheight_path)\n",
    "px.scatter(df, x='weight', y='height', color='gender')"
   ]
  },
  {
   "cell_type": "code",
   "execution_count": null,
   "id": "b2d7fe5c-c136-43a2-bd0e-8ebf93e00a04",
   "metadata": {
    "deletable": false
   },
   "outputs": [],
   "source": [
    "df['gender'] = df['gender'].map({'f': 0, 'm': 1})"
   ]
  },
  {
   "cell_type": "markdown",
   "id": "3d48da31",
   "metadata": {
    "deletable": false,
    "editable": false
   },
   "source": [
    "## Inhaltsverzeichnis\n",
    "- [Trainings- und Testdaten](#Trainings--und-Testdaten)\n",
    "- [Training des Klassifikators](#Training-des-Klassifikators)\n",
    "- [Genauigkeit](#Genauigkeit)\n",
    "- [Detaillierter Wahrheitsgehalt von Vorhersagen](#Detaillierter-Wahrheitsgehalt-von-Vorhersagen)\n",
    "- [Precision](#Precision)\n",
    "- [Recall](#Recall)\n",
    "- [Kompromisse](#Kompromisse)\n",
    "- [F1-Maß](#F1-Maß)"
   ]
  },
  {
   "cell_type": "markdown",
   "id": "fc5b729c",
   "metadata": {
    "deletable": false,
    "editable": false
   },
   "source": [
    "## Trainings- und Testdaten\n",
    "Bisher wurden die Daten ausschließlich zum Training verwendet. Um jedoch den Erfolg des Lernens bewerten zu können, müssen zusätzlich annotierte Testdaten bereitstehen. Im einfachsten Fall wird dazu eine Menge bekannter Daten vor dem Lernen des Klassifikators in Trainings- und Testdaten aufgeteilt aufgeteilt werden. Die hilfreiche Funktion `train_test_split` stammt aus dem Paket `scikit-learn` und kann sowohl NumPy Arrays wie auch Pandas DataFrames aufteilen."
   ]
  },
  {
   "cell_type": "code",
   "execution_count": null,
   "id": "771ae298",
   "metadata": {
    "deletable": false
   },
   "outputs": [],
   "source": [
    "from sklearn.model_selection import train_test_split\n",
    "df_train, df_test = train_test_split(df, test_size=0.25)\n",
    "\n",
    "len(df_train), len(df_test)"
   ]
  },
  {
   "cell_type": "markdown",
   "id": "4b9d3ab8",
   "metadata": {
    "deletable": false,
    "editable": false
   },
   "source": [
    "Den Namen entsprechend wird der Trainingsdatensatz für das Training und der Testdatensatz für die Überprüfung des Lernerfolgs eingesetzt. Verwenden Sie die selbe Menge für beide Schritte, besteht die Möglichkeit, dass der Klassifikator den Trainingsdatensatz \"auswendig lernt\" und damit eine sehr gute Wertung mit diesen Beispielen erreicht. Stattdessen soll der Klassifikator jedoch verallgemeinern, sodass auch neu hinzukommende, unbekannte Daten korrekt eingeordnet werden.\n",
    "\n",
    "Stellen Sie sich analog einen Studenten vor, der für eine bevorstehende Prüfung lernt. Alte Klausuren dienen dabei als Trainingsdatensatz. Gibt es nur wenige Aufgaben, kann auswendig lernen und wiedergeben der alten Lösungen effizienter sein als sie zu verstehen und den Lösungsansatz zu verallgemeinern. Nach einer bestandenen Prüfung erwartet man in aller Regel jedoch genau letzteres - Lösungsstrategien sollten auf neue Probleme angewendet werden können. Prüfer werden sich also davor hüten, die Bewertung von Aufgaben abhängig zu machen, die dem Lernenden alle bereits zur Verfügung standen.\n",
    "\n",
    "Gerade im Bereich des tiefen Lernens geschieht es jedoch schnell, dass die Netzkapazität ausreicht, um auch zunächst umfangreich erscheinende Mengen an Trainingsdaten auswendig zu lernen. Man spricht dann von *Overfitting*. Wenn der Fehler bei der Klassifikation von Trainingsbeispielen kontinuierlich sinkt, während er in Zusammenhang mit den Testbeispielen steigt, ist dies ein starkes Indiz. (Der Prüfling wäre in diesem Fall im Stande alle alten Klausuren zügig zu lösen und würde trotzdem durchfallen.)\n",
    "\n",
    "Zu welchen Anteilen Trainings- und Testdaten gewählt werden sollten hängt indes stark von deren Anzahl, der Komplexität des Klassifikators, der gewählten Lernmethode und weiteren Faktoren ab. Beim tiefen Lernen wird gelegentlich sogar eine dritte Teilmenge zur Validierung der Parameter genutzt. Im Allgemeinen ist eine Aufteilung, die grob $75$ Prozent des Datensatzes den Trainingsdaten zuordnet, ein guter Anfang.\n",
    "\n",
    "Achten Sie zudem darauf, dass die Daten vor der Aufteilung zufällig gemischt werden. Sind bei der Erhebung zuerst Frauen und anschließend Männer untersucht worden und sie wählen das letzte Viertel als Testdatensatz, enthält dieser ansonsten nur die Werte der Herren."
   ]
  },
  {
   "cell_type": "markdown",
   "id": "0ee1f288",
   "metadata": {
    "deletable": false,
    "editable": false
   },
   "source": [
    "## Training des Klassifikators\n",
    "Um die Leistung des Klassifikators zu bewerten, kommt als Beispiel ein Nächster-Nachbar-Klassifikator zum Einsatz. Dieser wird anhand der Trainingsdaten lernen und anschließend anhand der Testdaten bewertet. Die nachfolgende Zelle definiert jedoch nur eine Funktion, die Training und Bewertung übernimmt, sodass Sie bei jedem Gütemaß die Möglichkeit haben, interaktiv die Auswirkung des Parameters `n_neighbors` zu erkunden."
   ]
  },
  {
   "cell_type": "code",
   "execution_count": null,
   "id": "4adf2520",
   "metadata": {
    "deletable": false
   },
   "outputs": [],
   "source": [
    "from sklearn.neighbors import KNeighborsClassifier\n",
    "\n",
    "def fit_and_predict(n, test_data=df_test):\n",
    "    nn = KNeighborsClassifier(n_neighbors=n).fit(df_train[['weight', 'height']], df_train['gender'])\n",
    "    prediction = nn.predict(test_data[['weight', 'height']])\n",
    "\n",
    "    return prediction"
   ]
  },
  {
   "cell_type": "markdown",
   "id": "604626ef",
   "metadata": {
    "deletable": false,
    "editable": false
   },
   "source": [
    "## Genauigkeit\n",
    "Die Genauigkeit ist das einfachste Maß zur Bewertung eines Klassifikators. Sie gibt den relativen Anteil der korrekt klassifizierten Objekte an und ist damit sehr einfach zu berechnen. Sie können dazu eine Funktion aus dem Paket `scikit-learn` verwenden, die $1$ bei einer perfekten Klassifikation und $0$ bei keinerlei richtigen Ergebnissen zurückgibt."
   ]
  },
  {
   "cell_type": "code",
   "execution_count": null,
   "id": "ef7ba121",
   "metadata": {
    "deletable": false
   },
   "outputs": [],
   "source": [
    "from sklearn.metrics import accuracy_score\n",
    "\n",
    "@interact(n=IntSlider(3, 1, 30, 1))\n",
    "def _(n):\n",
    "    return accuracy_score(df_test['gender'], fit_and_predict(n))"
   ]
  },
  {
   "cell_type": "markdown",
   "id": "bcd831a3",
   "metadata": {
    "deletable": false,
    "editable": false
   },
   "source": [
    "**Verständnisfrage**: Für welches $n$ liefert der Klassifikator beim Trainingsdatensatz eine möglichst hohe Genauigkeit?"
   ]
  },
  {
   "cell_type": "code",
   "execution_count": null,
   "id": "e3a40c16",
   "metadata": {
    "deletable": false
   },
   "outputs": [],
   "source": [
    "@interact(n=IntSlider(3, 1, 30, 1))\n",
    "def _(n):\n",
    "    return accuracy_score(df_train['gender'], fit_and_predict(n, test_data=df_train))"
   ]
  },
  {
   "attachments": {
    "1.png": {
     "image/png": "[encoded data removed]"
    }
   },
   "cell_type": "markdown",
   "id": "23dfd634",
   "metadata": {
    "deletable": false,
    "editable": false
   },
   "source": [
    "## Detaillierter Wahrheitsgehalt von Vorhersagen\n",
    "Die Annahme, eine Vorhersage könnte lediglich falsch oder korrekt liegen, mag schlüssig sein, greift aber zu kurz. Im Folgenden unterteilen wir am Beispiel der binären Klassifikation mit zwei Klassen sowohl richtige wie falsche Vorhersagen jeweils in zwei Unterkategorien. Diese Kategorisierung ist dabei abhängig von der getroffenen Vorhersage wie von der tatsächlichen Klasse eines Objekts.\n",
    "\n",
    "![Wahrheitstabelle](attachment:1.png)"
   ]
  },
  {
   "cell_type": "markdown",
   "id": "2725060d",
   "metadata": {
    "deletable": false,
    "editable": false
   },
   "source": [
    "## Precision\n",
    "*Precision* gibt als Maß an, wie viele der als wahr vorhergesagten Objekte tatsächlich diese Klasse besitzen. Umgekehrt könnte man es als Fähigkeit des Klassifikators bezeichnen, Beispiele nicht als wahr zu bewerten, die tatsächlich negativ sind. Auf Basis der getroffenen Einteilung berechnet sich die Precision wie folgt.\n",
    "\n",
    "$$\n",
    "P = \\dfrac{TP}{TP+FP}\n",
    "$$\n",
    "\n",
    "Auch für die Precision existiert eine Funktion in `scikit-learn`."
   ]
  },
  {
   "cell_type": "code",
   "execution_count": null,
   "id": "1b12bccb",
   "metadata": {
    "deletable": false
   },
   "outputs": [],
   "source": [
    "from sklearn.metrics import precision_score\n",
    "\n",
    "@interact(n=IntSlider(3, 1, 30, 1))\n",
    "def _(n):\n",
    "    return precision_score(df_test['gender'], fit_and_predict(n))"
   ]
  },
  {
   "cell_type": "markdown",
   "id": "f75c9b22",
   "metadata": {
    "deletable": false,
    "editable": false
   },
   "source": [
    "## Recall\n",
    "*Recall* oder auch *Trefferquote* gibt als Maß an, wie viele der wahren Beispiele durch den Klassifikator tatsächlich aufgedeckt wurden. Auf Basis der getroffenen Einteilung berechnet sich der Recall wie folgt.\n",
    "\n",
    "$$\n",
    "R = \\dfrac{TP}{TP+FN}\n",
    "$$\n",
    "\n",
    "Auch für den Recall existiert eine Funktion in `scikit-learn`."
   ]
  },
  {
   "cell_type": "code",
   "execution_count": null,
   "id": "21fe5b33",
   "metadata": {
    "deletable": false
   },
   "outputs": [],
   "source": [
    "from sklearn.metrics import recall_score\n",
    "\n",
    "@interact(n=IntSlider(3, 1, 30, 1))\n",
    "def _(n):\n",
    "    return recall_score(df_test['gender'], fit_and_predict(n))"
   ]
  },
  {
   "cell_type": "markdown",
   "id": "5d7146ac",
   "metadata": {
    "deletable": false,
    "editable": false
   },
   "source": [
    "## Kompromisse\n",
    "In realen Szenarien werden Precision und Recall niemals gleichzeitig $1$ sein. Es gestaltet sich dagegen eher so, dass eine Optimierung immer einen Kompromiss beider Werte zur Folge hat. Ohne einen starken Rückgang des jeweils anderen Wertes lassen sich beide nicht perfektionieren.\n",
    "\n",
    "Stellen Sie sich beispielsweise vor, dass Patienten als gesund oder krank klassifiziert werden sollen. Personen mit schwachen Symptomen könnten beispielsweise als gesund (aber übermüdet) eingestuft werden, sodass der Recall sinkt. Diese Patienten dennoch ausnahmslos als krank zu betrachten, wird immer einige einschließen, die tatsächlich nur stark erschöpft sind, sodass die Precision sinkt.\n",
    "\n",
    "Allerdings ist es natürlich je nach Problem sogar notwendig, einseitig zu optimieren. Wird eine Vorauswahl für die Beschädigung sicherheitsrelevanter Bauteile getroffen, ist es vermutlich besser, $100$ Fälle an einen menschlichen Experten zu übergeben als auch nur ein defektes Teil in einem Hochgeschwindigkeitszug zu verbauen."
   ]
  },
  {
   "cell_type": "markdown",
   "id": "4d048b34",
   "metadata": {
    "deletable": false,
    "editable": false
   },
   "source": [
    "## F1-Maß\n",
    "Das F1-Maß ist das harmonische Mittel aus Precision und Recall. Diese beiden Werte fließen also zu gleichen Teilen in das Ergebnis ein. Ob diese Gewichtung erwünscht ist, hängt erneut von der Problemstellung ab.\n",
    "\n",
    "$$\n",
    "F_1 = 2 * \\dfrac{P*R}{P+R}\n",
    "$$\n",
    "\n",
    "Natürlich stellt `scitkit-learn` auch für das F1-Maß eine Funktion bereit."
   ]
  },
  {
   "cell_type": "code",
   "execution_count": null,
   "id": "8031a620",
   "metadata": {
    "deletable": false
   },
   "outputs": [],
   "source": [
    "from sklearn.metrics import f1_score\n",
    "\n",
    "@interact(n=IntSlider(3, 1, 30, 1))\n",
    "def _(n):\n",
    "    return f1_score(df_test['gender'], fit_and_predict(n))"
   ]
  }
 ],
 "metadata": {
  "kernelspec": {
   "display_name": "Python 3 (ipykernel)",
   "language": "python",
   "name": "python3"
  },
  "language_info": {
   "codemirror_mode": {
    "name": "ipython",
    "version": 3
   },
   "file_extension": ".py",
   "mimetype": "text/x-python",
   "name": "python",
   "nbconvert_exporter": "python",
   "pygments_lexer": "ipython3",
   "version": "3.10.12"
  }
 },
 "nbformat": 4,
 "nbformat_minor": 5
}
