{
 "cells": [
  {
   "cell_type": "markdown",
   "id": "5a48f479",
   "metadata": {
    "deletable": false,
    "editable": false
   },
   "source": [
    "# Entscheidungsbäume\n",
    "Entscheidungsbäume stellen eine Form der Klassifikation dar, die nicht auf das vollständige Abspeichern aller zum Training verwendeter Beispiele angewiesen ist. Durch Untersuchung der Attribute werden solche ausgewählt, die eine möglichst gute Unterteilung ermöglicht, bis auf Klassen geschlossen werden kann.\n",
    "\n",
    "Laden Sie zuerst die benötigten Funktionen."
   ]
  },
  {
   "cell_type": "code",
   "execution_count": null,
   "id": "c4c456c2",
   "metadata": {
    "deletable": false,
    "editable": false
   },
   "outputs": [],
   "source": [
    "import pandas as pd"
   ]
  },
  {
   "cell_type": "markdown",
   "id": "902ffc2c",
   "metadata": {
    "deletable": false,
    "editable": false
   },
   "source": [
    "## Inhaltsverzeichnis\n",
    "- [Einleitung](#Einleitung)\n",
    "- [Splits](#Splits)\n",
    "- [Konstruktion des Baumes](#Konstruktion-des-Baumes)\n",
    "- [Beispiel mit Trainingsdaten](#Beispiel-mit-Trainingsdaten)\n",
    "- [Implementierung in `scikit-learn`](#Implementierung-in-scikit-learn)\n",
    "- [Random Forest](#Random-Forest)"
   ]
  },
  {
   "attachments": {
    "1.png": {
     "image/png": "[encoded data removed]"
    }
   },
   "cell_type": "markdown",
   "id": "d55251ca",
   "metadata": {
    "deletable": false,
    "editable": false
   },
   "source": [
    "## Einleitung\n",
    "Stellen Sie sich vor einen Ausflug zu planen. Anhand des Wetterberichts ist für jeden der kommenden Tage bekannt, wie sich Aussicht, Temperatur, Feuchtigkeit und Wind entwickeln. Um zu klassifizieren, ob ein Tag für den Ausflug geeignet sein wird, könnten Sie beispielsweise mehrere Attribute jedes einzelnen Tages in Folge bewerten.\n",
    "\n",
    "![Entscheidungsbaum](attachment:1.png)\n",
    "\n",
    "Im gegebenen Beispiel ist auch direkt ersichtlich, warum diese Art des Klassifikators als Entscheidungs**baum** bezeichnet wird. Diese Darstellung unterstreicht nämlich die hierarchisch angeordneten Regeln, die von der Wurzel zu den entfernten Blättern durchlaufen werden. Die Blätter - Knoten ohne Kinder - stellen die Klassen dar. Es müssen dabei nicht alle Attribute verwendet werden. Die Temperatur wurde beispielsweise nicht als entscheidendes Attribut in den Entscheidungsbaum übernommen.\n",
    "\n",
    "Im Gegensatz zu diesem einfachen Beispiel, das sich mit niedrig-dimensionalen Daten an offensichtlichen Erfahrungswerten orientiert, ist die Erstellung eines Entscheidungsbaumes für komplexe Datensätze nicht immer von Hand möglich. Zumindest aber sind bei komplexen Fragestellungen Experten notwendig."
   ]
  },
  {
   "cell_type": "markdown",
   "id": "865ea124",
   "metadata": {
    "deletable": false,
    "editable": false
   },
   "source": [
    "## Splits\n",
    "Um automatisiert einen Entscheidungsbaum erstellen zu können ist es nun also notwendig, Kriterien für die Relevanz einer Aufteilung, auch Split genannt, zu finden. Diese Splits können entweder zu zwei (binär) oder mehr Verzweigungen führen. Dabei werden sie abhängig vom Typ des Attributs als kategorisch oder numerisch bezeichnet. Um die Anzahl der Verzweigungen zu reduzieren, kann es lohnenswert sein, numerische Attribute zu diskretisieren. (Dazu können Sie beispielsweise die Funktion `cut` aus Pandas verwenden.)\n",
    "\n",
    "Ziel eines Splits sollte sein, die Menge aller Beispiele in möglichst wenigen Schritten zu teilen, bis Mengen mit ausschließlich einer einzelnen Klasse übrig bleiben. Es wird daher versucht, möglichst früh ein Attribut zu wählen, das *reine* Splits erzeugt. (*Rein* bedeutet in diesem Kontext, dass alle Elemente der entstandenen Menge die selbe Klasse besitzen.)\n",
    "\n",
    "Zuerst wird also ein Maß für die Unreinheit benötigt. Der sogenannte Gini-Index - benannt nach Corrado Gini - kann für eine Partition von Trainingsobjekten wie folgt berechnet werden. Dabei ist $k$ die Anzahl an Klassen, $T$ eine Menge von Trainingsobjekten und $C_i \\subseteq T$ genau die Teilmenge, die der $i$-ten Klasse zugeordnet wird.\n",
    "\n",
    "$$\n",
    "gini(T) = 1 - \\sum_{i=1}^{k}\\left(\\dfrac{|C_i|}{|T|}\\right)^2\n",
    "$$\n",
    "\n",
    "Anhand einiger Beispiele lässt sich feststellen, dass der Wert am größten ist, wenn die Elemente über alle Klassen gleichverteilt sind. Ein niedriger Wert spricht dagegen für eine hohe Reinheit. Im Falle binärer Splits lässt sich die Gleichung wie folgt in Python ausdrücken."
   ]
  },
  {
   "cell_type": "code",
   "execution_count": null,
   "id": "831bf809",
   "metadata": {
    "deletable": false,
    "editable": false
   },
   "outputs": [],
   "source": [
    "def gini(T):\n",
    "    return 1 - (len(T[T['class'] == 0]) / len(T)) ** 2 - (len(T[T['class'] == 1]) / len(T)) ** 2"
   ]
  },
  {
   "cell_type": "markdown",
   "id": "30a29015",
   "metadata": {
    "deletable": false,
    "editable": false
   },
   "source": [
    "Als nächstes wird ein Maß benötigt, das ein Attribut $A$ beispielsweise anhand des Gini-Index bewertet. Stellen Sie sich nun vor, dass das Attribut die Menge aller Trainingsbeispiele $T$ in mehrere Teilmengen $T_1, \\dots, T_m$ zerlegt. Durch das Attribut Feuchtigkeit entstehen dabei beispielsweise die zwei Teilmengen $T_1$ (normal) und $T_2$ (hoch). Der Gini-Index wird anschließend anhand des relativen Anteils der Teilmenge gewichtet und zur Bewertung des Attributs herangezogen.\n",
    "\n",
    "$$\n",
    "gini_A(T) = \\sum_{i=1}^{m}\\dfrac{|T_i|}{|T|}*gini(T_i)\n",
    "$$\n",
    "\n",
    "Auch dieser Wert ist so konstruiert, dass ein Ergebnis nahe $0$ für eine hohe Reinheit spricht. In Python lässt sich diese Gleichung ebenfalls ausdrücken."
   ]
  },
  {
   "cell_type": "code",
   "execution_count": null,
   "id": "d1d25779",
   "metadata": {
    "deletable": false,
    "editable": false
   },
   "outputs": [],
   "source": [
    "def gini_A(T, A):\n",
    "    T1, T2 = T[T[A] == 0], T[T[A] == 1]\n",
    "    if len(T1) == 0 or len(T2) == 0:\n",
    "        return 1\n",
    "\n",
    "    return len(T1) / len(T) * gini(T1) + len(T2) / len(T) * gini(T2)"
   ]
  },
  {
   "cell_type": "markdown",
   "id": "99d851f7",
   "metadata": {
    "deletable": false,
    "editable": false
   },
   "source": [
    "Die Bewertung des Splits ist nicht nur mit dem Gini-Index möglich. Alternativ lässt sich beispielsweise die Entropie verwenden, um ein Gütekriterium aufzustellen. Um die nachfolgende Funktion `construct_tree` zu verstehen, genügt der Gini-Index jedoch vollkommen."
   ]
  },
  {
   "cell_type": "markdown",
   "id": "0114c985",
   "metadata": {
    "deletable": false,
    "editable": false
   },
   "source": [
    "## Konstruktion des Baumes\n",
    "Die rekursive Funktion `construct_tree` erhält zwei Parameter. `T` bezeichnet die Trainingsmenge und `min_conf` die minimale Konfidenz. Der Ablauf gestaltet sich wie folgt:\n",
    "\n",
    "1. Wenn die Konfidenz der Menge `T` die minimale Konfidenz überschreitet, endet der Aufruf.\n",
    "2. Für jedes Attribut wird\n",
    "    1. jeder mögliche Split\n",
    "      - betrachtet und bewertet.\n",
    "3. Der beste gefundene Split wird durchgeführt.\n",
    "4. Die Teilmengen $T_1, \\dots, T_m$ sind die durch diesen Split entstehenden Partitionen von T.\n",
    "5. Für jede Teilmenge $T_1, \\dots, T_m$ wird die Funktion `construct_tree` rekursiv aufgerufen.\n",
    "\n",
    "Die folgende Funktion demonstriert den Ablauf ausschließlich für binäre Splits. Weiter unten werden Sie eine komplexere Funktion aus `scikit-learn` sehen, die auch für numerische Attribute geeignet ist."
   ]
  },
  {
   "cell_type": "code",
   "execution_count": null,
   "id": "6f47e735",
   "metadata": {
    "deletable": false,
    "editable": false
   },
   "outputs": [],
   "source": [
    "def construct_tree(T, min_conf):\n",
    "    # Zuerst wird die Anzahl der Objekte jeder der zwei\n",
    "    # möglichen Klassen bestimmt und gespeichert.\n",
    "    count_0 = len(T[T['class'] == 0])\n",
    "    count_1 = len(T[T['class'] == 1])\n",
    "\n",
    "    # Die minimale Konfidenz bildet die Abbruchbedingung.\n",
    "    if count_0 / len(T) >= min_conf:\n",
    "        return 0\n",
    "    if count_1 / len(T) >= min_conf:\n",
    "        return 1\n",
    "\n",
    "    # Anhand des Gini-Index wird das geeignetste Attribut\n",
    "    # `A` gesucht. Der Split ist bei binären Entscheidungen\n",
    "    # automatisch gegeben und muss nicht zusätzlich gefunden\n",
    "    # werden.\n",
    "    min_A = None\n",
    "    min_score = 2\n",
    "\n",
    "    for A in T.drop('class', axis=1):\n",
    "        score = gini_A(T, A)\n",
    "        if score < 1 and score < min_score:\n",
    "            min_A = A\n",
    "            min_score = score\n",
    "\n",
    "    # Wenn kein Attribut gefunden werden konnte, wird die\n",
    "    # Klasse zurückgegeben, der mehr Objekte angehören.\n",
    "    if min_A is None:\n",
    "        if count_0 >= count_1:\n",
    "            return 0\n",
    "        else:\n",
    "            return 1\n",
    "\n",
    "    # Falls ein Attribut gefunden wurde, wird der Split\n",
    "    # durchgeführt. Bei binären Splits entstehen immer genau\n",
    "    # zwei neue Teilmengen.\n",
    "    T1 = T[T[min_A] == 0]\n",
    "    T2 = T[T[min_A] == 1]\n",
    "\n",
    "    # Für jede dieser Teilmengen wird die Funktion\n",
    "    # `construct_tree` rekursiv aufgerufen.\n",
    "    # Zurückgegeben wird ein Tupel der Form\n",
    "    # (Attribut, Baum oder Klasse für 0, rechter Baum oder Klasse für 1).\n",
    "    return min_A, construct_tree(T1, min_conf), construct_tree(T2, min_conf)"
   ]
  },
  {
   "cell_type": "markdown",
   "id": "d3bb1815",
   "metadata": {
    "deletable": false,
    "editable": false
   },
   "source": [
    "## Beispiel mit Trainingsdaten\n",
    "Um einen ersten Entscheidungsbaum zu konstruieren, verwenden wir den Datensatz [banknote authentication Data Set](https://archive.ics.uci.edu/ml/datasets/banknote+authentication). Enthalten sind verschiedene Features, die aus Aufnahmen von Geldscheinen extrahiert wurden, und eine Klasse, welche die Authentizität der Note repräsentiert.\n",
    "\n",
    "Da der Algorithmus zunächst nur mit binären Entscheidungen arbeitet, wird eine konvertierte Version geladen."
   ]
  },
  {
   "cell_type": "code",
   "execution_count": null,
   "id": "13c6e344",
   "metadata": {
    "deletable": false,
    "editable": false
   },
   "outputs": [],
   "source": [
    "df_binary = pd.read_csv('data_banknote_authentication_binary.csv', sep=',')\n",
    "df_binary"
   ]
  },
  {
   "cell_type": "markdown",
   "id": "53e71c57",
   "metadata": {
    "deletable": false,
    "editable": false
   },
   "source": [
    "Mit diesem DataFrame wird anschließend die Funktion `construct_tree` aufgerufen."
   ]
  },
  {
   "cell_type": "code",
   "execution_count": null,
   "id": "380f97e8",
   "metadata": {
    "deletable": false,
    "editable": false
   },
   "outputs": [],
   "source": [
    "df_tree = construct_tree(df_binary, 0.9)\n",
    "df_tree"
   ]
  },
  {
   "cell_type": "markdown",
   "id": "0b0188a5",
   "metadata": {
    "deletable": false,
    "editable": false
   },
   "source": [
    "Das entstandene, gestaffelte Tupel können Sie bereits von Hand auswerten und einige Beispiele damit klassifizieren. Die folgende Zelle stellt es abschließend als tatsächlichen Baum dar."
   ]
  },
  {
   "cell_type": "code",
   "execution_count": null,
   "id": "370978b6",
   "metadata": {
    "deletable": false,
    "editable": false
   },
   "outputs": [],
   "source": [
    "from tree import draw\n",
    "draw(df_tree)"
   ]
  },
  {
   "cell_type": "markdown",
   "id": "5f59b3f7",
   "metadata": {
    "deletable": false,
    "editable": false
   },
   "source": [
    "Anhand der Baumdarstellung lässt sich auch einer der größten Vorteile von Entscheidungsbäumen erkennen. Man kann bis zu einer gewissen Komplexität die Entscheidungen nachvollziehen und leicht vermitteln."
   ]
  },
  {
   "cell_type": "markdown",
   "id": "59bf1fc9",
   "metadata": {
    "deletable": false,
    "editable": false
   },
   "source": [
    "## Implementierung in `scikit-learn`\n",
    "`scikit-learn` bietet wie so oft eine fertige Implementierung für die Erstellung eines Entscheidungsbaums. Diese Funktion akzeptiert auch numerische Daten und findet ohne weitere Informationen die besten Splits. Zuerst wird daher der vollständige Datensatz geladen."
   ]
  },
  {
   "cell_type": "code",
   "execution_count": null,
   "id": "77ac9de9",
   "metadata": {
    "deletable": false,
    "editable": false
   },
   "outputs": [],
   "source": [
    "df = pd.read_csv('data_banknote_authentication.csv', sep=',')\n",
    "df"
   ]
  },
  {
   "cell_type": "markdown",
   "id": "36b6eb18",
   "metadata": {
    "deletable": false,
    "editable": false
   },
   "source": [
    "Zum Training ist es zuerst notwendig, die Daten in Features und Klassen zu teilen. Dazu werden zwei DataFrames erzeugt, wobei das erste alle Spalten außer `class` und das zweite ausschließlich die Spalte `class` enthält. Bei werden anschließend der Methode `fit` eines Objekts der Klasse `DecisionTreeClassifier` übergeben. Die erlernten Splits werden in diesem Objekt gespeichert."
   ]
  },
  {
   "cell_type": "code",
   "execution_count": null,
   "id": "99ff16ae",
   "metadata": {
    "deletable": false,
    "editable": false
   },
   "outputs": [],
   "source": [
    "from sklearn.tree import DecisionTreeClassifier\n",
    "\n",
    "X, y = df.drop('class', axis=1), df[['class']]\n",
    "tree = DecisionTreeClassifier().fit(X, y)"
   ]
  },
  {
   "cell_type": "markdown",
   "id": "08299cd0",
   "metadata": {
    "deletable": false,
    "editable": false
   },
   "source": [
    "Mit `plot_tree` steht außerdem eine Funktion bereit, die den entstandenen Baum grafisch darstellt. Verwenden Sie `pass` als letzte Anweisung in der Zelle, um die Ausgabe der exakten Koordinaten zu unterdrücken."
   ]
  },
  {
   "cell_type": "code",
   "execution_count": null,
   "id": "c528a5f5",
   "metadata": {
    "deletable": false,
    "editable": false
   },
   "outputs": [],
   "source": [
    "from sklearn.tree import plot_tree\n",
    "plot_tree(tree)\n",
    "\n",
    "pass"
   ]
  },
  {
   "cell_type": "markdown",
   "id": "4544ee83",
   "metadata": {
    "deletable": false,
    "editable": false
   },
   "source": [
    "## Random Forest"
   ]
  }
 ],
 "metadata": {
  "kernelspec": {
   "display_name": "Python 3 (ipykernel)",
   "language": "python",
   "name": "python3"
  },
  "language_info": {
   "codemirror_mode": {
    "name": "ipython",
    "version": 3
   },
   "file_extension": ".py",
   "mimetype": "text/x-python",
   "name": "python",
   "nbconvert_exporter": "python",
   "pygments_lexer": "ipython3",
   "version": "3.8.10"
  }
 },
 "nbformat": 4,
 "nbformat_minor": 5
}
