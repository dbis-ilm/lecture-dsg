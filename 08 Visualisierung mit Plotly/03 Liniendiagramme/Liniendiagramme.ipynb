{
 "cells": [
  {
   "cell_type": "markdown",
   "id": "e621898f",
   "metadata": {
    "deletable": false,
    "editable": false
   },
   "source": [
    "# Liniendiagramme\n",
    "Liniendiagramme werden aus einer Menge von Punkten gebildet, die anschließend durch eine Linie verbunden werden. Liniendiagramme suggerieren Kontinuität und sollten daher nur bei solchen Daten verwendet werden, denen tatsächlich eine stetige Funktion zugrunde liegt."
   ]
  },
  {
   "cell_type": "markdown",
   "id": "8fa8f692",
   "metadata": {
    "deletable": false,
    "editable": false
   },
   "source": [
    "## Vorverarbeitung\n",
    "Importieren Sie zunächst `pandas` und `plotly` und laden Sie den Datensatz."
   ]
  },
  {
   "cell_type": "code",
   "execution_count": null,
   "id": "f355d5de",
   "metadata": {
    "deletable": false,
    "editable": false
   },
   "outputs": [],
   "source": [
    "import pandas as pd\n",
    "import plotly.express as px\n",
    "from ipywidgets import interact\n",
    "\n",
    "df = pd.read_csv('walt_disney_assets.csv')\n",
    "df"
   ]
  },
  {
   "cell_type": "markdown",
   "id": "1825a2f0",
   "metadata": {
    "deletable": false,
    "editable": false
   },
   "source": [
    "## Ein einfaches Liniendiagramm\n",
    "Liniendiagramme werden mit der Funktion `line` erzeugt. Als Parameter werden wie gewohnt ein DataFrame und die Namen der zu verwendenden Spalten übergeben."
   ]
  },
  {
   "cell_type": "code",
   "execution_count": null,
   "id": "e7ddb120",
   "metadata": {
    "deletable": false,
    "editable": false
   },
   "outputs": [],
   "source": [
    "px.line(df, x='year', y='total_assets')"
   ]
  }
 ],
 "metadata": {
  "kernelspec": {
   "display_name": "Python 3 (ipykernel)",
   "language": "python",
   "name": "python3"
  },
  "language_info": {
   "codemirror_mode": {
    "name": "ipython",
    "version": 3
   },
   "file_extension": ".py",
   "mimetype": "text/x-python",
   "name": "python",
   "nbconvert_exporter": "python",
   "pygments_lexer": "ipython3",
   "version": "3.8.10"
  }
 },
 "nbformat": 4,
 "nbformat_minor": 5
}
