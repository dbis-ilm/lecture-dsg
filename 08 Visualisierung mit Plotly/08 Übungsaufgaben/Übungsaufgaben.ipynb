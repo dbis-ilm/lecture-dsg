{
 "cells": [
  {
   "cell_type": "markdown",
   "id": "a0d30af2-330b-4585-80cd-c06b55fbcfa0",
   "metadata": {
    "deletable": false,
    "editable": false
   },
   "source": [
    "# Übungsaufgaben Visualisierung"
   ]
  },
  {
   "cell_type": "code",
   "execution_count": null,
   "id": "72ca7aba-cbfc-4b8e-977a-c684bff9ed2e",
   "metadata": {
    "deletable": false,
    "editable": false
   },
   "outputs": [],
   "source": [
    "import pandas as pd\n",
    "import plotly.express as px"
   ]
  },
  {
   "cell_type": "markdown",
   "id": "8dcd556c-0495-4a30-90a0-58ff86b3c72d",
   "metadata": {
    "deletable": false,
    "editable": false
   },
   "source": [
    "## Aufgabe 1: Vorbereitung\n",
    "Laden Sie den Datensatz aus der Datei `sales.csv`. Gehen Sie sicher, dass die Spalte `Datum` hinsichtlich ihres Datentyps tatsächlich ein Datum (`datetime`) repräsentiert."
   ]
  },
  {
   "cell_type": "code",
   "execution_count": null,
   "id": "a5ad887e-7b5f-4a02-8b1c-f93f8b9f6949",
   "metadata": {
    "deletable": false
   },
   "outputs": [],
   "source": [
    "df = ...\n",
    "df"
   ]
  },
  {
   "cell_type": "markdown",
   "id": "abeb5939-1e12-46cf-b92d-d1b9a1199584",
   "metadata": {
    "deletable": false,
    "editable": false
   },
   "source": [
    "## Aufgabe 2: Plausibilitätsprüfung\n",
    "Zeigen Sie das Auftreten verschiedener Verkaufshäufigkeiten (`Anzahl`)."
   ]
  },
  {
   "cell_type": "code",
   "execution_count": null,
   "id": "2571032c-d01c-4fe8-bf2f-e25a240c2eef",
   "metadata": {
    "deletable": false
   },
   "outputs": [],
   "source": [
    "..."
   ]
  },
  {
   "cell_type": "markdown",
   "id": "3b212310-e707-45fc-833a-2b758f469fa4",
   "metadata": {
    "deletable": false,
    "editable": false
   },
   "source": [
    "Zeigen Sie die Summe der Verkäufe pro Wochentag."
   ]
  },
  {
   "cell_type": "code",
   "execution_count": null,
   "id": "4f7525b5-74eb-458d-b83e-6ba4e77eab87",
   "metadata": {
    "deletable": false
   },
   "outputs": [],
   "source": [
    "..."
   ]
  },
  {
   "cell_type": "markdown",
   "id": "1ec1b4da-152c-4eff-a3a3-0c38826ff969",
   "metadata": {
    "deletable": false,
    "editable": false
   },
   "source": [
    "Interpretieren Sie die Ergebnisse. Fokussieren Sie sich dabei insbesondere auf auffällige Eigenschaften."
   ]
  },
  {
   "cell_type": "markdown",
   "id": "d0c363a5-20c2-42b6-979f-c8c347227569",
   "metadata": {
    "deletable": false,
    "editable": false
   },
   "source": [
    "## Aufgabe 3: Anteile\n",
    "Visualisieren Sie die Anteile der einzelnen Verkaufsstandorte."
   ]
  },
  {
   "cell_type": "code",
   "execution_count": null,
   "id": "51fa62ff-d9c0-477d-a442-fd4c46e5484d",
   "metadata": {
    "deletable": false
   },
   "outputs": [],
   "source": [
    "..."
   ]
  },
  {
   "cell_type": "markdown",
   "id": "c6e2355e-336a-4e75-b4ad-f4764decadd3",
   "metadata": {
    "deletable": false,
    "editable": false
   },
   "source": [
    "Visualisieren Sie die Anteile der einzelnen Produkte."
   ]
  },
  {
   "cell_type": "code",
   "execution_count": null,
   "id": "9fcbc09c-c3d0-4419-8c99-d8289eae4970",
   "metadata": {
    "deletable": false
   },
   "outputs": [],
   "source": [
    "..."
   ]
  },
  {
   "cell_type": "markdown",
   "id": "849d90dc-e737-4f03-b530-253bff8da862",
   "metadata": {
    "deletable": false,
    "editable": false
   },
   "source": [
    "Visualisieren Sie die Anteile der einzelnen Verkaufsstandorte an den einzelnen Produkten."
   ]
  },
  {
   "cell_type": "code",
   "execution_count": null,
   "id": "69f5ffff-8604-4663-acb8-4f58d72da5f0",
   "metadata": {
    "deletable": false
   },
   "outputs": [],
   "source": [
    "..."
   ]
  },
  {
   "cell_type": "markdown",
   "id": "1091f8b2-3778-48cd-8ad0-dbff4f8a02ce",
   "metadata": {
    "deletable": false,
    "editable": false
   },
   "source": [
    "## Aufgabe 4: Verlauf\n",
    "Stellen Sie die Verkäufe in Abhängigkeit der Zeit dar."
   ]
  },
  {
   "cell_type": "code",
   "execution_count": null,
   "id": "82a1ad8f-9877-4a7e-9324-1cb24c541b1e",
   "metadata": {
    "deletable": false
   },
   "outputs": [],
   "source": [
    "..."
   ]
  },
  {
   "cell_type": "markdown",
   "id": "965d2167-be79-4133-b04f-bd65c74722ce",
   "metadata": {
    "deletable": false,
    "editable": false
   },
   "source": [
    "Stellen Sie die Verkäufe der einzelnen Produktgruppen in Abhängigkeit der Zeit dar."
   ]
  },
  {
   "cell_type": "code",
   "execution_count": null,
   "id": "b7f79995-29f9-44a3-8708-d8489a9019b1",
   "metadata": {
    "deletable": false
   },
   "outputs": [],
   "source": [
    "..."
   ]
  },
  {
   "cell_type": "markdown",
   "id": "2dfab66c-595e-4b69-927b-469a281251e0",
   "metadata": {
    "deletable": false,
    "editable": false
   },
   "source": [
    "Begründen Sie explizit die Wahl des Diagrammtyps."
   ]
  },
  {
   "cell_type": "markdown",
   "id": "653a1a90-20ac-4d9b-843d-a8f7edf7f765",
   "metadata": {
    "deletable": false,
    "editable": false
   },
   "source": [
    "## Aufgabe 5: Zusammenhang der Standorte\n",
    "Stellen Sie die Abhängigkeit der Verkäufe der Standorte in Erfurt und Weimar dar."
   ]
  },
  {
   "cell_type": "code",
   "execution_count": null,
   "id": "e7a41dbd-f2e4-419b-bf40-59e099924dc0",
   "metadata": {
    "deletable": false
   },
   "outputs": [],
   "source": [
    "..."
   ]
  },
  {
   "cell_type": "markdown",
   "id": "8fb84645-6c8f-4ca1-abf5-dfb3be510d4c",
   "metadata": {
    "deletable": false,
    "editable": false
   },
   "source": [
    "Färben Sie zusätzlich nach der Produktkategorie ein."
   ]
  },
  {
   "cell_type": "code",
   "execution_count": null,
   "id": "a33a90d8-8220-4039-ad90-9d3ee5ffa2ad",
   "metadata": {
    "deletable": false
   },
   "outputs": [],
   "source": [
    "..."
   ]
  },
  {
   "cell_type": "markdown",
   "id": "8d23b13a-ea86-4ffd-bd09-4c763cf29e92",
   "metadata": {
    "deletable": false,
    "editable": false
   },
   "source": [
    "Welche Erkenntnisse lassen sich aus der Darstellung gewinnen? Nutzen Sie die Interaktivität der Plotly-Diagramme!"
   ]
  }
 ],
 "metadata": {
  "kernelspec": {
   "display_name": "Python 3 (ipykernel)",
   "language": "python",
   "name": "python3"
  },
  "language_info": {
   "codemirror_mode": {
    "name": "ipython",
    "version": 3
   },
   "file_extension": ".py",
   "mimetype": "text/x-python",
   "name": "python",
   "nbconvert_exporter": "python",
   "pygments_lexer": "ipython3",
   "version": "3.10.12"
  }
 },
 "nbformat": 4,
 "nbformat_minor": 5
}
