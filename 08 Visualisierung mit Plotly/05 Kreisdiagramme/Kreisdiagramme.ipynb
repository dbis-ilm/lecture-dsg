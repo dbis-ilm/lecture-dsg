{
 "cells": [
  {
   "cell_type": "markdown",
   "id": "b4bf3dcb",
   "metadata": {
    "deletable": false,
    "editable": false
   },
   "source": [
    "# Kreisdiagramme\n",
    "Kreisdiagramme eignen sich insbesondere für die Darstellung von Anteilen."
   ]
  },
  {
   "cell_type": "markdown",
   "id": "a1625ca5",
   "metadata": {
    "deletable": false,
    "editable": false
   },
   "source": [
    "## Vorverarbeitung\n",
    "Importieren Sie zunächst `pandas` und `plotly` und laden Sie den Datensatz [Disney+ Movies and TV Shows](https://www.kaggle.com/code/werador/disney-data-analysis/data)."
   ]
  },
  {
   "cell_type": "code",
   "execution_count": null,
   "id": "5cc0eded",
   "metadata": {
    "deletable": false
   },
   "outputs": [],
   "source": [
    "import pandas as pd\n",
    "import plotly.express as px\n",
    "from ipywidgets import interact\n",
    "\n",
    "df = pd.read_csv('disney_plus_titles.csv', parse_dates=['date_added'])\n",
    "df = df[['type', 'director', 'release_year']]\n",
    "\n",
    "df"
   ]
  },
  {
   "cell_type": "markdown",
   "id": "d1e7d62b",
   "metadata": {
    "deletable": false,
    "editable": false
   },
   "source": [
    "Die nachfolgende Zelle reduziert die Regisseure auf die Anzahl ihrer Filme seit 2019 und setzt den Namen derer, die lediglich an einer einzigen Produktion mitwirkten, auf `Andere`."
   ]
  },
  {
   "cell_type": "code",
   "execution_count": null,
   "id": "79688d3d",
   "metadata": {
    "deletable": false
   },
   "outputs": [],
   "source": [
    "df2 = df[df['type'] == 'Movie']\n",
    "df3 = df2[df2['release_year'] >= 2019][['director']].dropna()\n",
    "df4 = df3['director'].str.split(', ', expand=True).stack().reset_index(level=1, drop=True).value_counts()\n",
    "df5 = pd.DataFrame({'name': df4.index, 'count': df4.values})\n",
    "df5.loc[df5['count'] <= 1, 'name'] = 'Andere'"
   ]
  },
  {
   "cell_type": "markdown",
   "id": "1604e0da",
   "metadata": {
    "deletable": false,
    "editable": false
   },
   "source": [
    "Zusätzlich ist die Aufteilung nach Film und Serie von Interesse. Zur Veranschaulichung wird noch eine dritte, künstliche Kategorie `Unbekannt` eingeführt, die so im Datensatz nicht auftaucht."
   ]
  },
  {
   "cell_type": "code",
   "execution_count": null,
   "id": "88c52ef7",
   "metadata": {
    "deletable": false
   },
   "outputs": [],
   "source": [
    "df6 = pd.DataFrame({\n",
    "    'type': ['Serien', 'Filme', 'Unbekannt'],\n",
    "    'count': [\n",
    "        len(df[df['type'] == 'TV Show']),\n",
    "        len(df[df['type'] == 'Movie']),\n",
    "        150\n",
    "    ]\n",
    "})"
   ]
  },
  {
   "cell_type": "markdown",
   "id": "25ff10da",
   "metadata": {
    "deletable": false,
    "editable": false
   },
   "source": [
    "## Ein simples Kreisdiagramm\n",
    "Kreisdiagramme werden mit der Funktion `pie` erstellt. Als erster Parameter dient das DataFrame, als `names` wird der Name der Spalte mit den anzuzeigenden Namen übergeben und als `values` der Name der Spalte mit den Werten. Ist ein Name doppelt vorhanden - wie im Beispiel *Andere* - so werden diese automatisch zusammengefasst."
   ]
  },
  {
   "cell_type": "code",
   "execution_count": null,
   "id": "1c11a3ac",
   "metadata": {
    "deletable": false
   },
   "outputs": [],
   "source": [
    "px.pie(df5, values='count', names='name')"
   ]
  },
  {
   "cell_type": "markdown",
   "id": "8588a5b6",
   "metadata": {
    "deletable": false,
    "editable": false
   },
   "source": [
    "Mit Hilfe des Parameters `hole` lässt sich dieser Kreis in einen Donut transformieren."
   ]
  },
  {
   "cell_type": "code",
   "execution_count": null,
   "id": "5d88444e",
   "metadata": {
    "deletable": false
   },
   "outputs": [],
   "source": [
    "@interact(hole=(0, 0.95, 0.05))\n",
    "def _(hole):\n",
    "    return px.pie(df5, values='count', names='name', hole=hole)"
   ]
  },
  {
   "cell_type": "markdown",
   "id": "1a7f7504",
   "metadata": {
    "deletable": false,
    "editable": false
   },
   "source": [
    "## Hervorgehobene Teile\n",
    "Durch den Parameter `pull` lassen sich einzelne Kreisteile aus der Mitte herausziehen und somit hervorheben."
   ]
  },
  {
   "cell_type": "code",
   "execution_count": null,
   "id": "54bd3d88",
   "metadata": {
    "deletable": false
   },
   "outputs": [],
   "source": [
    "@interact(pull=(0, 1, 0.05))\n",
    "def _(pull):\n",
    "    fig = px.pie(df6, names='type', values='count')\n",
    "    fig.update_traces(pull=[pull, 0, 0])\n",
    "    return fig"
   ]
  }
 ],
 "metadata": {
  "kernelspec": {
   "display_name": "Python 3 (ipykernel)",
   "language": "python",
   "name": "python3"
  },
  "language_info": {
   "codemirror_mode": {
    "name": "ipython",
    "version": 3
   },
   "file_extension": ".py",
   "mimetype": "text/x-python",
   "name": "python",
   "nbconvert_exporter": "python",
   "pygments_lexer": "ipython3",
   "version": "3.10.5"
  }
 },
 "nbformat": 4,
 "nbformat_minor": 5
}
