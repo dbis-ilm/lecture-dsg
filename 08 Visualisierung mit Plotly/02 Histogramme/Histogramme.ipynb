{
 "cells": [
  {
   "cell_type": "markdown",
   "id": "c53dd8a2",
   "metadata": {
    "deletable": false,
    "editable": false
   },
   "source": [
    "# Histogramme\n",
    "Histogramme sind spezielle Säulendiagramme, in denen absolute oder relative Häufigkeiten verschiedener Klassen veranschaulicht werden. Die Klassen werden als `bins` *(Behälter)* bezeichnet und müssen entsprechend der darzustellenden Daten gewählt werden.\n",
    "\n",
    "Im vergangenen Abschnitt haben Sie bereits zwei Histogramme gesehen, mit denen Veröffentlichungen auf der Stufe von Jahren und Monaten betrachtet wurden. An dieser Stelle sollen kurz die relevanten Parameter erläutert werden. Importieren Sie dazu erneut pandas und plotly und laden Sie den Datensatz."
   ]
  },
  {
   "cell_type": "code",
   "execution_count": null,
   "id": "e3819756",
   "metadata": {
    "deletable": false,
    "editable": false
   },
   "outputs": [],
   "source": [
    "import pandas as pd\n",
    "import plotly.express as px\n",
    "from ipywidgets import interact, IntSlider, FloatSlider\n",
    "\n",
    "df = pd.read_csv('disney_plus_titles.csv', parse_dates=['date_added'])\n",
    "df = df[['title', 'release_year', 'date_added']]\n",
    "\n",
    "df"
   ]
  },
  {
   "cell_type": "markdown",
   "id": "39c03b8d",
   "metadata": {
    "deletable": false,
    "editable": false
   },
   "source": [
    "## `nbins`\n",
    "`nbins` gibt an, wie viele bins *(Behälter)* verwendet werden sollen. Führen Sie die Zelle aus und bewegen Sie anschließend den Slider."
   ]
  },
  {
   "cell_type": "code",
   "execution_count": null,
   "id": "cc3512a3",
   "metadata": {
    "deletable": false,
    "editable": false
   },
   "outputs": [],
   "source": [
    "@interact(nbins=IntSlider(min=1, max=100, step=1, value=10))\n",
    "def _(nbins):\n",
    "    return px.histogram(df, x='release_year', nbins=nbins)"
   ]
  },
  {
   "cell_type": "markdown",
   "id": "e6793ce1",
   "metadata": {
    "deletable": false,
    "editable": false
   },
   "source": [
    "## `bargap`\n",
    "`bargap` bestimmt die Distanz zwischen den einzelnen Säulen."
   ]
  },
  {
   "cell_type": "code",
   "execution_count": null,
   "id": "f545794b",
   "metadata": {
    "deletable": false,
    "editable": false
   },
   "outputs": [],
   "source": [
    "@interact(bargap=FloatSlider(min=0, max=1, step=0.05, value=0.5))\n",
    "def _(bargap):\n",
    "    fig = px.histogram(df, x='release_year')\n",
    "    fig.update_layout(bargap=bargap)\n",
    "    return fig"
   ]
  }
 ],
 "metadata": {
  "kernelspec": {
   "display_name": "Python 3 (ipykernel)",
   "language": "python",
   "name": "python3"
  },
  "language_info": {
   "codemirror_mode": {
    "name": "ipython",
    "version": 3
   },
   "file_extension": ".py",
   "mimetype": "text/x-python",
   "name": "python",
   "nbconvert_exporter": "python",
   "pygments_lexer": "ipython3",
   "version": "3.10.5"
  }
 },
 "nbformat": 4,
 "nbformat_minor": 5
}
