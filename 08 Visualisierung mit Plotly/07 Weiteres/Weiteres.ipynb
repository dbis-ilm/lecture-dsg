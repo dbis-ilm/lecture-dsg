{
 "cells": [
  {
   "cell_type": "markdown",
   "id": "f98ab2e2",
   "metadata": {
    "deletable": false,
    "editable": false
   },
   "source": [
    "# Weiteres"
   ]
  },
  {
   "cell_type": "markdown",
   "id": "7d7da9d0",
   "metadata": {
    "deletable": false,
    "editable": false
   },
   "source": [
    "## Inhaltsverzeichnis\n",
    "- [Vorbereitung](#Vorbereitung)\n",
    "- [Benennung von Diagrammen und Achsen](#Benennung-von-Diagrammen-und-Achsen)\n",
    "- [Export als Datei](#Export-als-Datei)\n",
    "- [Streudiagramm-Matrix](#Streudiagramm-Matrix)\n",
    "- [Versetzen der Achsen](#Versetzen-der-Achsen)"
   ]
  },
  {
   "cell_type": "markdown",
   "id": "125f029d",
   "metadata": {
    "deletable": false,
    "editable": false
   },
   "source": [
    "## Vorbereitung\n",
    "Importieren Sie zuerst Pandas und Plotly und laden Sie den Datensatz [Disney+ Movies and TV Shows](https://www.kaggle.com/code/werador/disney-data-analysis/data)."
   ]
  },
  {
   "cell_type": "code",
   "execution_count": null,
   "id": "4360f7e7",
   "metadata": {
    "deletable": false
   },
   "outputs": [],
   "source": [
    "import pandas as pd\n",
    "import plotly.express as px\n",
    "from ipywidgets import interact, IntSlider\n",
    "\n",
    "df = pd.read_csv('disney_plus_titles.csv', parse_dates=['date_added'])\n",
    "# df = df[['type', 'director', 'release_year']]\n",
    "\n",
    "df.head(3)"
   ]
  },
  {
   "cell_type": "markdown",
   "id": "36dae7a0",
   "metadata": {
    "deletable": false,
    "editable": false
   },
   "source": [
    "## Benennung von Diagrammen und Achsen\n",
    "Zur Bennung des Diagramms existiert der Parameter `title`. Um die Namen der Achsen zu ändern, übergeben Sie ein Dictionary, das eine Abbildung der Spaltennamen aus Pandas auf die gewünschten Namen enthält."
   ]
  },
  {
   "cell_type": "code",
   "execution_count": null,
   "id": "2dfa9417",
   "metadata": {
    "deletable": false
   },
   "outputs": [],
   "source": [
    "fig = px.histogram(df, x='release_year',\n",
    "                   title='Produktionen pro Jahr',\n",
    "                   labels={'release_year': 'Jahr', 'count': 'Anzahl'})\n",
    "fig"
   ]
  },
  {
   "cell_type": "markdown",
   "id": "73cbe595",
   "metadata": {
    "deletable": false,
    "editable": false
   },
   "source": [
    "Die Umbenennung der y-Achse war nicht wirksam, da die Spalte `count` nicht dem DataFrame entstammt, sondern von Plotly aus den Daten erzeugt wurde. Derartige Achsen müssen Sie nach dem Erzeugen des Diagramms umbenennen."
   ]
  },
  {
   "cell_type": "code",
   "execution_count": null,
   "id": "b0f57a53",
   "metadata": {
    "deletable": false
   },
   "outputs": [],
   "source": [
    "fig.update_layout(yaxis_title='Anzahl')\n",
    "fig"
   ]
  },
  {
   "cell_type": "markdown",
   "id": "55bd0eb8",
   "metadata": {
    "deletable": false,
    "editable": false
   },
   "source": [
    "## Export als Datei\n",
    "Gelegentlich möchte man die Ergebnisse einer Darstellung außerhalb eines Notebooks speichern. In den interaktiven Darstellungen haben Sie in der oberen rechten Ecke die Möglichkeit, das Ergebnis als Grafik zu exportieren.\n",
    "\n",
    "Der Exportlässt sich auch automatisch bewerkstelligen. Für Rastergrafiken rufen Sie die Funktion `write_image` auf und übergeben den Namen einer Datei mit der Endung `.png`, `.jpg` oder `.webp`."
   ]
  },
  {
   "cell_type": "code",
   "execution_count": null,
   "id": "99a57f03",
   "metadata": {
    "deletable": false
   },
   "outputs": [],
   "source": [
    "fig.write_image('figure.png')"
   ]
  },
  {
   "cell_type": "markdown",
   "id": "7db8fbcb",
   "metadata": {
    "deletable": false,
    "editable": false
   },
   "source": [
    "Zur Verwendung in wissenschaftlichen Arbeiten sind Vektorformate in der Regel besser geeignet. Daher unterstützt `write_image` auf Dateien mit den Endungen `.pdf`, `.svg` und `.eps`."
   ]
  },
  {
   "cell_type": "code",
   "execution_count": null,
   "id": "3c58bc96",
   "metadata": {
    "deletable": false
   },
   "outputs": [],
   "source": [
    "fig.write_image('figure.pdf')"
   ]
  },
  {
   "cell_type": "markdown",
   "id": "32ce85af",
   "metadata": {
    "deletable": false,
    "editable": false
   },
   "source": [
    "## Streudiagramm-Matrix\n",
    "Streudiagramm-Matrizen werden verwendet, um alle möglichen Kombinationen zweier Merkmale als Streudiagramm zu betrachten."
   ]
  },
  {
   "cell_type": "code",
   "execution_count": null,
   "id": "50993587",
   "metadata": {
    "deletable": false
   },
   "outputs": [],
   "source": [
    "px.scatter_matrix(df[['type', 'date_added', 'release_year', 'rating', 'duration']])"
   ]
  },
  {
   "cell_type": "markdown",
   "id": "5021fffa",
   "metadata": {
    "deletable": false,
    "editable": false
   },
   "source": [
    "Auch in diesem Fall lassen sich Punkte einfärben."
   ]
  },
  {
   "cell_type": "code",
   "execution_count": null,
   "id": "fe8daa5e",
   "metadata": {
    "deletable": false
   },
   "outputs": [],
   "source": [
    "px.scatter_matrix(df[['type', 'date_added', 'release_year', 'rating', 'duration']], color='type')"
   ]
  },
  {
   "cell_type": "markdown",
   "id": "09aef9a8",
   "metadata": {
    "deletable": false,
    "editable": false
   },
   "source": [
    "## Versetzen der Achsen\n",
    "Gelegentlich kann es notwendig sein, dass insbesondere die y-Achse nicht bei $0$ startet. Der Funktion `update_layout` können Sie daher auch ein Wertepaar `yaxis_range` übergeben, das den Beginn und das Ende der Darstellung bestimmt."
   ]
  },
  {
   "cell_type": "code",
   "execution_count": null,
   "id": "3a5701ff",
   "metadata": {
    "deletable": false
   },
   "outputs": [],
   "source": [
    "@interact(ystart=IntSlider(value=0, min=0, max=300, step=1))\n",
    "def _(ystart):\n",
    "    fig = px.histogram(df, x='release_year')\n",
    "    fig.update_layout(yaxis_range=(ystart, 375))\n",
    "    return fig"
   ]
  }
 ],
 "metadata": {
  "kernelspec": {
   "display_name": "Python 3 (ipykernel)",
   "language": "python",
   "name": "python3"
  },
  "language_info": {
   "codemirror_mode": {
    "name": "ipython",
    "version": 3
   },
   "file_extension": ".py",
   "mimetype": "text/x-python",
   "name": "python",
   "nbconvert_exporter": "python",
   "pygments_lexer": "ipython3",
   "version": "3.8.10"
  }
 },
 "nbformat": 4,
 "nbformat_minor": 5
}
