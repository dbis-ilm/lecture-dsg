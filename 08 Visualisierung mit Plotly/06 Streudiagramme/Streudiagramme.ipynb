{
 "cells": [
  {
   "cell_type": "markdown",
   "id": "b4bf3dcb",
   "metadata": {
    "deletable": false,
    "editable": false
   },
   "source": [
    "# Streudiagramme\n",
    "Streudiagramme werden auch als Punktwolken bezeichnet und sind geeignet, um die Abhängigkeit zweier Merkmale festzustellen."
   ]
  },
  {
   "cell_type": "markdown",
   "id": "a1625ca5",
   "metadata": {
    "deletable": false,
    "editable": false
   },
   "source": [
    "## Vorverarbeitung\n",
    "Importieren Sie zunächst `pandas` und `plotly` und laden Sie den Datensatz [Disney+ Movies and TV Shows](https://www.kaggle.com/code/werador/disney-data-analysis/data)."
   ]
  },
  {
   "cell_type": "code",
   "execution_count": null,
   "id": "5cc0eded",
   "metadata": {
    "deletable": false,
    "editable": false
   },
   "outputs": [],
   "source": [
    "import pandas as pd\n",
    "import numpy as np\n",
    "import plotly.express as px\n",
    "from ipywidgets import interact\n",
    "\n",
    "df = pd.read_csv('disney_plus_titles.csv', parse_dates=['date_added'])\n",
    "df = df[['type', 'release_year', 'director', 'cast', 'duration']]\n",
    "df = df[df['type'] == 'Movie'].drop('type', axis=1)\n",
    "df"
   ]
  },
  {
   "cell_type": "markdown",
   "id": "d1e7d62b",
   "metadata": {
    "deletable": false,
    "editable": false
   },
   "source": [
    "Die nachfolgende Zelle kopiert das DataFrame und fügt zwei Spalten der Kopie hinzu:\n",
    "- `cast_size` spiegelt die Anzahl der in `cast` aufgelisteten Schauspieler wider.\n",
    "- `duration_in_minutes` beschreibt die Länge des Films in Minuten, abgeleitet aus dem Feld `duration`."
   ]
  },
  {
   "cell_type": "code",
   "execution_count": null,
   "id": "79688d3d",
   "metadata": {
    "deletable": false,
    "editable": false
   },
   "outputs": [],
   "source": [
    "df2 = df.copy()\n",
    "df2['cast_size'] = df2['cast'].map(lambda x: len(x.split(', ')) if x is not np.NaN else 0)\n",
    "df2['director_size'] = df2['director'].map(lambda x: len(x.split(', ')) if x is not np.NaN else 0)\n",
    "df2['duration_in_minutes'] = df2['duration'].map(lambda x: int(x[:-4]))"
   ]
  },
  {
   "cell_type": "markdown",
   "id": "25ff10da",
   "metadata": {
    "deletable": false,
    "editable": false
   },
   "source": [
    "## Ein simples Streudiagramm\n",
    "Streudiagramme werden mit der Funktion `scatter` erstellt."
   ]
  },
  {
   "cell_type": "code",
   "execution_count": null,
   "id": "1c11a3ac",
   "metadata": {
    "deletable": false,
    "editable": false
   },
   "outputs": [],
   "source": [
    "px.scatter(df2, x=\"release_year\", y=\"duration_in_minutes\")"
   ]
  },
  {
   "cell_type": "markdown",
   "id": "8588a5b6",
   "metadata": {
    "deletable": false,
    "editable": false
   },
   "source": [
    "## Hinzunahme einer dritten Variablen\n",
    "Mit dem Parameter `size` lässt sich die Größe der einzelnen Kreise beispielsweise anhand der Menge der Schauspieler anpassen."
   ]
  },
  {
   "cell_type": "code",
   "execution_count": null,
   "id": "5d88444e",
   "metadata": {
    "deletable": false,
    "editable": false
   },
   "outputs": [],
   "source": [
    "px.scatter(df2, x=\"release_year\", y=\"duration_in_minutes\", size='cast_size')"
   ]
  },
  {
   "cell_type": "markdown",
   "id": "1a7f7504",
   "metadata": {
    "deletable": false,
    "editable": false
   },
   "source": [
    "Der Parameter `color` hingegen verändert die Farbe in Abhängigkeit einer Spalte des DataFrames."
   ]
  },
  {
   "cell_type": "code",
   "execution_count": null,
   "id": "54bd3d88",
   "metadata": {
    "deletable": false,
    "editable": false
   },
   "outputs": [],
   "source": [
    "px.scatter(df2, x=\"release_year\", y=\"duration_in_minutes\", color='cast_size')"
   ]
  },
  {
   "cell_type": "markdown",
   "id": "4a617452",
   "metadata": {
    "deletable": false,
    "editable": false
   },
   "source": [
    "Mit dem Parameter `symbol` wird das verwendete Symbol angepasst."
   ]
  },
  {
   "cell_type": "code",
   "execution_count": null,
   "id": "89e68756",
   "metadata": {
    "deletable": false,
    "editable": false
   },
   "outputs": [],
   "source": [
    "px.scatter(df2, x=\"release_year\", y=\"duration_in_minutes\", symbol='director_size')"
   ]
  }
 ],
 "metadata": {
  "kernelspec": {
   "display_name": "Python 3 (ipykernel)",
   "language": "python",
   "name": "python3"
  },
  "language_info": {
   "codemirror_mode": {
    "name": "ipython",
    "version": 3
   },
   "file_extension": ".py",
   "mimetype": "text/x-python",
   "name": "python",
   "nbconvert_exporter": "python",
   "pygments_lexer": "ipython3",
   "version": "3.8.10"
  }
 },
 "nbformat": 4,
 "nbformat_minor": 5
}
