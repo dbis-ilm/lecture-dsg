{
 "cells": [
  {
   "cell_type": "markdown",
   "id": "1252c81a",
   "metadata": {
    "deletable": false,
    "editable": false
   },
   "source": [
    "# Visualisierung\n",
    "<blockquote>\n",
    "    \"Es gibt nur eine Breitbandverbindung ins Gehirn.\" <br>\n",
    "    - David Kriesel\n",
    "</blockquote>\n",
    "\n",
    "Visualisierung ist immens wichtig. Denn visuell ist es uns Menschen am einfachsten möglich, komplexe Sachverhalte in kurzer Zeit zu erfassen, Zusammenhänge zu erkennen und Informationen zu verknüpfen. So können einige grundlegende Graphen einen ersten Eindruck beschleunigen und Ideen für einen tieferen Einblick geben. Spätestens aber, wenn Sie Ergebnisse präsentieren möchten und nicht nur Bewunderer von Zahlen adressieren, wird Ihnen Ihr Publikum für eine anschauliche und Interesse weckende Darstellung dankbar sein.\n",
    "\n",
    "Dieses Kapitel beschäftigt sich mit der Bibliothek [`plotly`](https://plotly.com/python/), deren herausstechendstes Merkmal die Interaktivität der entstehenden Graphen ist. Alternativ stehen [`matplotlib`](https://matplotlib.org/) und [`seaborn`](https://seaborn.pydata.org/) zur Verfügung. Zum Laden der Daten wird weiterhin Pandas verwendet, das im vergangenen Kapitel bereits thematisiert wurde."
   ]
  },
  {
   "cell_type": "code",
   "execution_count": null,
   "id": "64426ade",
   "metadata": {
    "deletable": false
   },
   "outputs": [],
   "source": [
    "import pandas as pd\n",
    "import plotly.express as px"
   ]
  },
  {
   "cell_type": "markdown",
   "id": "d280bea1",
   "metadata": {
    "deletable": false,
    "editable": false
   },
   "source": [
    "## Ein kurzes Beispiel\n",
    "Erneut laden wir den Datensatz [Disney+ Movies and TV Shows](https://www.kaggle.com/code/werador/disney-data-analysis/data)."
   ]
  },
  {
   "cell_type": "code",
   "execution_count": null,
   "id": "a3e7b014",
   "metadata": {
    "deletable": false
   },
   "outputs": [],
   "source": [
    "df = pd.read_csv('disney_plus_titles.csv', parse_dates=['date_added'])\n",
    "df = df[['title', 'release_year', 'date_added']]\n",
    "\n",
    "df"
   ]
  },
  {
   "cell_type": "markdown",
   "id": "8801df9b",
   "metadata": {
    "deletable": false,
    "editable": false
   },
   "source": [
    "Die ersten Fragen könnten nun lauten:\n",
    "- In welchem Zeitraum wurden die meisten Werke veröffentlicht?\n",
    "- In welchem Zeitraum wurden die meisten Werke zum Streaming zur Verfügung gestellt?\n",
    "\n",
    "Natürlich lassen sich beide Fragen mit wenigen Zeilen Python-Code beantworten:"
   ]
  },
  {
   "cell_type": "code",
   "execution_count": null,
   "id": "4aefb467",
   "metadata": {
    "deletable": false
   },
   "outputs": [],
   "source": [
    "m = df.groupby('release_year').size()\n",
    "m.idxmax(), m.loc[m.idxmax()]"
   ]
  },
  {
   "cell_type": "code",
   "execution_count": null,
   "id": "2da8f6c4",
   "metadata": {
    "deletable": false
   },
   "outputs": [],
   "source": [
    "m = df.groupby('date_added').size()\n",
    "m.idxmax(), m.loc[m.idxmax()]"
   ]
  },
  {
   "cell_type": "markdown",
   "id": "54b4ba03",
   "metadata": {
    "deletable": false,
    "editable": false
   },
   "source": [
    "Wie weit diese Extremwerte herausstechen, ob weitere lokale Extremwerte existieren und ob sich aus der Betrachung vielleicht sogar kompliziertere Sachverhalte ergeben, bleibt uns verborgen. Natürlich lassen sich Durchschnitt, Median und Varianz berechnen und eventuell können Sie sogar eine Funktion an den Verlauf anpassen, für einen ersten Eindruck ist dieser Aufwand jedoch nicht unbedingt nötig.\n",
    "\n",
    "Die Darstellung mit plotly sieht dagegen wie folgt aus. Zögern Sie nicht, die Histogramme mit der Maus zu erkunden."
   ]
  },
  {
   "cell_type": "code",
   "execution_count": null,
   "id": "867d41dd",
   "metadata": {
    "deletable": false
   },
   "outputs": [],
   "source": [
    "px.histogram(df, x='release_year',\n",
    "             nbins=int(df['release_year'].max() - df['release_year'].min() + 1))"
   ]
  },
  {
   "cell_type": "code",
   "execution_count": null,
   "id": "b45a9b54",
   "metadata": {
    "deletable": false
   },
   "outputs": [],
   "source": [
    "px.histogram(df, x='date_added')"
   ]
  },
  {
   "cell_type": "markdown",
   "id": "2743d3fc",
   "metadata": {
    "deletable": false,
    "editable": false
   },
   "source": [
    "Mit einer solchen Darstellung sehen Sie schnell zusätzliche Zusammenhänge.\n",
    "- Die Veröffentlichungen scheinen seit 1990 kontinuierlich zu steigen und gipfeln im bereits als Zahl festgestellten Höchstwert von 125 Produktionen im Jahr 2021. Es scheint sich dabei nicht um einen Ausreißer, sondern um eine stetige Erhöhung der Produktionskapazitäten zu handeln.\n",
    "- Der Höchstwert von 722 Veröffentlichungen im Streaming am 12. November 2019 ist selbst in der Monatsdarstellung noch ein extremer Ausreißer. In der Regel erscheinen weniger als 50 Titel monatlich. ([Disney+ startete als Dienst am 12.11.2019 in den USA, Kanada und den Niederlanden.](https://de.wikipedia.org/wiki/Disney%2B))"
   ]
  }
 ],
 "metadata": {
  "kernelspec": {
   "display_name": "Python 3 (ipykernel)",
   "language": "python",
   "name": "python3"
  },
  "language_info": {
   "codemirror_mode": {
    "name": "ipython",
    "version": 3
   },
   "file_extension": ".py",
   "mimetype": "text/x-python",
   "name": "python",
   "nbconvert_exporter": "python",
   "pygments_lexer": "ipython3",
   "version": "3.8.10"
  }
 },
 "nbformat": 4,
 "nbformat_minor": 5
}
