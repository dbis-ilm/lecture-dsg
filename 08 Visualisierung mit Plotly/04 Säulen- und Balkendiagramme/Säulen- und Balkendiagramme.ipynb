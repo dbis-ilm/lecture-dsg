{
 "cells": [
  {
   "cell_type": "markdown",
   "id": "c53dd8a2",
   "metadata": {
    "deletable": false,
    "editable": false
   },
   "source": [
    "# Säulen- und Balkendiagramme\n",
    "Säulen- und Balkendiagramme sind die Diagramme zur vergleichenden Darstellung. Die Höhe, manchmal auch die Fläche, verhält sich dabei proportional zur Ausprägung eines Merkmals."
   ]
  },
  {
   "cell_type": "code",
   "execution_count": null,
   "id": "da35b28d-f30d-4c94-9995-7cfee6429507",
   "metadata": {
    "deletable": false
   },
   "outputs": [],
   "source": [
    "import pandas as pd\n",
    "import plotly.express as px\n",
    "from ipywidgets import interact\n",
    "\n",
    "from tui_dsg.datasets import disney_plus_titles_extended_path"
   ]
  },
  {
   "cell_type": "markdown",
   "id": "140f8606",
   "metadata": {
    "deletable": false,
    "editable": false
   },
   "source": [
    "## Vorverarbeitung\n",
    "Laden Sie den Datensatz [Disney+ Movies and TV Shows](https://www.kaggle.com/code/werador/disney-data-analysis/data)."
   ]
  },
  {
   "cell_type": "code",
   "execution_count": null,
   "id": "9e8c36eb",
   "metadata": {
    "deletable": false
   },
   "outputs": [],
   "source": [
    "df = pd.read_csv(disney_plus_titles_extended_path, parse_dates=['date_added'])\n",
    "df = df[['type', 'country', 'release_year', 'duration']]\n",
    "\n",
    "df"
   ]
  },
  {
   "cell_type": "markdown",
   "id": "34190fc8",
   "metadata": {
    "deletable": false,
    "editable": false
   },
   "source": [
    "Die nachfolgende Zelle reduziert jedes Land auf die Anzahl der Filme und Serien."
   ]
  },
  {
   "cell_type": "code",
   "execution_count": null,
   "id": "9d3d8a46",
   "metadata": {
    "deletable": false
   },
   "outputs": [],
   "source": [
    "df2 = df[['type']].join(\n",
    "    df['country'].str.split(', ', expand=True).stack().reset_index(level=1, drop=True).rename('country')\n",
    ")\n",
    "df3 = pd.merge(\n",
    "    df2[df2['type'] == 'TV Show'].groupby('country').count().rename(columns={'type': 'movies'}).reset_index(),\n",
    "    df2[df2['type'] == 'Movie'].groupby('country').count().rename(columns={'type': 'tvshows'}).reset_index(),\n",
    "    on='country'\n",
    ")"
   ]
  },
  {
   "cell_type": "markdown",
   "id": "8d4f390a",
   "metadata": {
    "deletable": false,
    "editable": false
   },
   "source": [
    "Die nachfolgende Zelle berechnet die durchschnittliche Filmlänge nach Jahr."
   ]
  },
  {
   "cell_type": "code",
   "execution_count": null,
   "id": "b8a04033",
   "metadata": {
    "deletable": false
   },
   "outputs": [],
   "source": [
    "df4 = df[df['type'] == 'Movie'][['release_year', 'duration']]\n",
    "df4['duration_in_minutes'] = df4['duration'].map(lambda x: int(x[:-4]))\n",
    "\n",
    "df5 = pd.merge(\n",
    "    df4.groupby('release_year')['duration_in_minutes'].mean().rename('duration').reset_index(),\n",
    "    df4.groupby('release_year')['duration_in_minutes'].sem().rename('sem').reset_index(),\n",
    "    on='release_year'\n",
    ")"
   ]
  },
  {
   "cell_type": "markdown",
   "id": "20ce1fee",
   "metadata": {
    "deletable": false,
    "editable": false
   },
   "source": [
    "## Ein simples Säulendiagramm\n",
    "Anschließend können die Werte als Säulendiagramm dargestellt werden. Zusätzlich können die Achsen durch die booleschen Paramter `log_y` und `log_x` logarithmisch skaliert werden."
   ]
  },
  {
   "cell_type": "code",
   "execution_count": null,
   "id": "36d7f50c",
   "metadata": {
    "deletable": false
   },
   "outputs": [],
   "source": [
    "@interact(log_y=False)\n",
    "def _(log_y):\n",
    "    return px.bar(df3, x='country', y='movies', log_y=log_y)"
   ]
  },
  {
   "cell_type": "markdown",
   "id": "64565429",
   "metadata": {
    "deletable": false,
    "editable": false
   },
   "source": [
    "## Balkendiagramme\n",
    "Balkendiagramme werden wie Säulendiagramme erstellt. Dabei wird der Parameter `orientation` auf `\"h\"` gesetzt und die Werte für die x- und y-Achse vertauscht."
   ]
  },
  {
   "cell_type": "code",
   "execution_count": null,
   "id": "3cb7e5df",
   "metadata": {
    "deletable": false
   },
   "outputs": [],
   "source": [
    "px.bar(df3, x='movies', y='country', orientation='h')"
   ]
  },
  {
   "cell_type": "markdown",
   "id": "b5f118c3",
   "metadata": {
    "deletable": false,
    "editable": false
   },
   "source": [
    "## Gruppen und Stapel\n",
    "Zusätzlich lassen sich verschiedene Werte durch den Paramter `barmode` entweder gruppieren (`group`) oder stapeln (`stack`). Der y-Achse wird dabei eine Liste von Spaltennamen zugeordnet."
   ]
  },
  {
   "cell_type": "code",
   "execution_count": null,
   "id": "f2348780",
   "metadata": {
    "deletable": false
   },
   "outputs": [],
   "source": [
    "@interact(barmode=['group', 'stack'])\n",
    "def _(barmode):\n",
    "    return px.bar(df3, x='country', y=['movies', 'tvshows'], barmode=barmode, log_y=True)"
   ]
  },
  {
   "cell_type": "markdown",
   "id": "cae4d093",
   "metadata": {
    "deletable": false,
    "editable": false
   },
   "source": [
    "## Fehlerbalken\n",
    "Fehlerbalken lassen sich durch die Parameter `error_y` und `error_x` hinzufügen."
   ]
  },
  {
   "cell_type": "code",
   "execution_count": null,
   "id": "98ea3a87",
   "metadata": {
    "deletable": false
   },
   "outputs": [],
   "source": [
    "px.bar(df5, x='release_year', y='duration', error_y='sem')"
   ]
  }
 ],
 "metadata": {
  "kernelspec": {
   "display_name": "Python 3 (ipykernel)",
   "language": "python",
   "name": "python3"
  },
  "language_info": {
   "codemirror_mode": {
    "name": "ipython",
    "version": 3
   },
   "file_extension": ".py",
   "mimetype": "text/x-python",
   "name": "python",
   "nbconvert_exporter": "python",
   "pygments_lexer": "ipython3",
   "version": "3.10.12"
  }
 },
 "nbformat": 4,
 "nbformat_minor": 5
}
