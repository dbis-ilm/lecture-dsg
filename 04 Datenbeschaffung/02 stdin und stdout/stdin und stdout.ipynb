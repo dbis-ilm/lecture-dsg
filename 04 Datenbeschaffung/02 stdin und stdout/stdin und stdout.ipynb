{
 "cells": [
  {
   "cell_type": "markdown",
   "id": "c7d5b582",
   "metadata": {
    "deletable": false,
    "editable": false
   },
   "source": [
    "# `stdin` und `stdout`\n",
    "Die *Standard-Datenströme* umfassen drei verschiedene Kanäle, die ursprünglich aus der Unix Welt stammen und der Anbindung an die Außenwelt dienten. Angedacht waren sie als Abstraktionsschicht für Eingaben und Ausgaben, sodass nicht jedes Programm eine eigene Unterstützung für Lochkarten und Magnetbänder mitbringen musste. Darüber hinaus machte es bei der Entwicklung plötzlich keinen Unterschied mehr, ob die Daten von einer Lochkarte, einer Tastatur oder einer angeschlossenen Festplatte geladen wurden. Das simpel klingende Konzept war aber so mächtig, dass noch heute nahezu alle modernen Programmiersprachen einen Zugriff auf die folgenden drei Datenströme erlauben und auf manchen Systemen sogar simulieren."
   ]
  },
  {
   "cell_type": "markdown",
   "id": "80813a95",
   "metadata": {
    "deletable": false,
    "editable": false
   },
   "source": [
    "## Inhaltsverzeichnis\n",
    "- [`stdin` - Die Standardeingabe](#stdin---Die-Standardeingabe)\n",
    "- [`stdout` - Die Standardausgabe](#stdout---Die-Standardausgabe)\n",
    "- [`stderr` - Die Standardfehlerausgabe](#stderr---Die-Standardfehlerausgabe)\n",
    "- [Umleitung und Verknüpfung](#Umleitung-und-Verknüpfung)"
   ]
  },
  {
   "cell_type": "markdown",
   "id": "c1922046-7629-418a-b346-2ccf5b4944ee",
   "metadata": {
    "deletable": false,
    "editable": false
   },
   "source": [
    "## `stdin` - Die Standardeingabe\n",
    "In Python lässt sich die Standardeingabe wie eine Datei lesen, indem `stdin` aus dem Modul `sys` verwendet wird. Da Jupyter jedoch keine alternative Belegung der Standardeingabe zulässt, muss die noch abstraktere Funktion `input` verwendet werden. Standardmäßig blockiert diese Funktion die Ausführung bis zum Erscheinen eines Zeilenumbruchs, in Jupyter wird stattdessen ein einzeiliges Eingabefeld bereitgestellt. Der Rückgabetyp ist standardmäßig `str`."
   ]
  },
  {
   "cell_type": "code",
   "execution_count": null,
   "id": "9c2f0ada-6508-4ce4-a8cc-8af9a350a5f4",
   "metadata": {
    "deletable": false,
    "editable": false,
    "tags": [
     "jp:input=1"
    ]
   },
   "outputs": [],
   "source": [
    "a = input('Ihre Eingabe:')\n",
    "a, type(a)"
   ]
  },
  {
   "cell_type": "markdown",
   "id": "bffe1870-d2a3-494a-a161-1184aab56508",
   "metadata": {
    "deletable": false,
    "editable": false
   },
   "source": [
    "## `stdout` - Die Standardausgabe\n",
    "Auch die Standardausgabe lässt sich wie eine Datei ansprechen, indem `stdout` aus dem Modul `sys` verwendet wird. Jupyter gibt diese Ausgaben als Ergebnis der Zelle wider."
   ]
  },
  {
   "cell_type": "code",
   "execution_count": null,
   "id": "89a0a8ee-505c-418f-9cec-1fb5715cbaf2",
   "metadata": {
    "deletable": false,
    "editable": false
   },
   "outputs": [],
   "source": [
    "from sys import stdout\n",
    "stdout.write('Normale Ausgabe')"
   ]
  },
  {
   "cell_type": "markdown",
   "id": "9c584218-cf6f-4018-a5cd-78535ce052c9",
   "metadata": {
    "deletable": false,
    "editable": false
   },
   "source": [
    "Alternativ kann die Methode `print` verwendet werden."
   ]
  },
  {
   "cell_type": "code",
   "execution_count": null,
   "id": "4945626d-bd09-4d05-bea1-b44188ed0f83",
   "metadata": {
    "deletable": false,
    "editable": false
   },
   "outputs": [],
   "source": [
    "print('Ebenfalls eine normale Ausgabe')"
   ]
  },
  {
   "cell_type": "markdown",
   "id": "6abbc324-da3a-4094-bddf-626021d7681f",
   "metadata": {
    "deletable": false,
    "editable": false
   },
   "source": [
    "## `stderr` - Die Standardfehlerausgabe\n",
    "Die Standardfehlerausgabe funktioniert analog zur Standardausgabe, indem `stderr` aus dem Modul `sys` verwendet wird."
   ]
  },
  {
   "cell_type": "code",
   "execution_count": null,
   "id": "312fe936-f445-4674-90b0-c2c897d77fac",
   "metadata": {
    "deletable": false,
    "editable": false
   },
   "outputs": [],
   "source": [
    "from sys import stderr\n",
    "stdout.write('Ein Fehler')"
   ]
  },
  {
   "cell_type": "markdown",
   "id": "6fa8a6fd-b498-4423-b0fd-ca12fbaf2f5a",
   "metadata": {
    "deletable": false,
    "editable": false
   },
   "source": [
    "Alternativ lässt sich die Funktion `print` mit der Standardfehlerausgabe kombinieren. In Jupyter ist diese Methode vorzuziehen, da die Ausgabe farblich als Fehler markiert wird."
   ]
  },
  {
   "cell_type": "code",
   "execution_count": null,
   "id": "cf824457-28bc-4bcd-8083-50c7bdfe7832",
   "metadata": {
    "deletable": false,
    "editable": false
   },
   "outputs": [],
   "source": [
    "print('Ein anderer Fehler', file=stderr)"
   ]
  },
  {
   "cell_type": "markdown",
   "id": "77194765-d6e6-4842-a62a-1b930db10b0d",
   "metadata": {
    "deletable": false,
    "editable": false
   },
   "source": [
    "## Umleitung und Verknüpfung\n",
    "Moderne Systeme besitzen die Möglichkeit, Datenströme umzuleiten, sodass Sie Ergebnisse in Dateien speichern oder daraus lesen können. Mehr dazu erfahren Sie z.B. in der [Wikipedia](https://de.wikipedia.org/wiki/Standard-Datenstr%C3%B6me).\n",
    "\n",
    "Außerdem ist es möglich, die Ausgabe eines Programms als Eingabe eines anderen zu verwenden. Diese Technik nennt sich Pipe und lässt sich tatsächlich anhand eines Rohres veranschaulichen. Nähere Informationen finden Sie erneut in der [Wikipedia](https://de.wikipedia.org/wiki/Pipe_(Informatik))."
   ]
  }
 ],
 "metadata": {
  "kernelspec": {
   "display_name": "Python 3 (ipykernel)",
   "language": "python",
   "name": "python3"
  },
  "language_info": {
   "codemirror_mode": {
    "name": "ipython",
    "version": 3
   },
   "file_extension": ".py",
   "mimetype": "text/x-python",
   "name": "python",
   "nbconvert_exporter": "python",
   "pygments_lexer": "ipython3",
   "version": "3.8.10"
  }
 },
 "nbformat": 4,
 "nbformat_minor": 5
}
