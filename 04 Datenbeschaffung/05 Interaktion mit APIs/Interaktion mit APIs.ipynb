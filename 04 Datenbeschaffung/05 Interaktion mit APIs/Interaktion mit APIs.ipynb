{
 "cells": [
  {
   "cell_type": "markdown",
   "id": "d091f388",
   "metadata": {
    "deletable": false,
    "editable": false
   },
   "source": [
    "# Interaktion mit APIs\n",
    "*API* steht für *Application Programming Interface* und bezeichnet einen Programmteil, der die Anbindung eines anderen Programms erlaubt. Im Kontext der Datenwissenschaften bezeichnet man mit API oft Schnittstellen, die über das Internet erreichbar sind und Zugriff auf die Daten einer fremden Plattform erlauben.\n",
    "\n",
    "In der Regel verlangen Anbieter eine Registrierung und das Senden einer Authentifizierung mit jeder Anfrage. [The Star Wars API](https://swapi.dev/) hingegen bietet eine öffentlich zugängliche API, die lediglich die Anzahl der täglichen Anfragen begrenzt und zu Anschauungszwecken genügt. Eine [ausführlich Dokumentation](https://swapi.dev/documentation) der API existiert ebenfalls."
   ]
  },
  {
   "cell_type": "markdown",
   "id": "4a53f52a",
   "metadata": {
    "deletable": false,
    "editable": false
   },
   "source": [
    "## Inhaltsverzeichnis\n",
    "- [Anfragen mit `requests`](#Anfragen-mit-requests)\n",
    "- [Fehler bei der Nutzung einer API](#Fehler-bei-der-Nutzung-einer-API)"
   ]
  },
  {
   "cell_type": "markdown",
   "id": "cb7a9f39",
   "metadata": {
    "deletable": false,
    "editable": false
   },
   "source": [
    "## Anfragen mit `requests`\n",
    "Importieren Sie mit der folgenden Zelle zunächst die Bibliothek `requests`, die Anfragen mit HTTP vereinfacht."
   ]
  },
  {
   "cell_type": "code",
   "execution_count": null,
   "id": "cd533b7d",
   "metadata": {
    "deletable": false,
    "editable": false
   },
   "outputs": [],
   "source": [
    "import requests"
   ]
  },
  {
   "cell_type": "markdown",
   "id": "c35e18e5",
   "metadata": {
    "deletable": false,
    "editable": false
   },
   "source": [
    "requests unterstützt verschiedene HTTP Methoden. Wenn Sie ausschließlich Daten abrufen, reicht häufig `GET` aus. Die folgende Zelle sendet eine einfache Anfrage an den Server und ruft Informationen über den ersten Film unter der URL `https://swapi.dev/api/films/1` ab."
   ]
  },
  {
   "cell_type": "code",
   "execution_count": null,
   "id": "37a8e82a",
   "metadata": {
    "deletable": false,
    "editable": false
   },
   "outputs": [],
   "source": [
    "first_movie_response = requests.get('https://swapi.dev/api/films/1')\n",
    "first_movie_response.text"
   ]
  },
  {
   "cell_type": "markdown",
   "id": "ee4d0022",
   "metadata": {
    "deletable": false,
    "editable": false
   },
   "source": [
    "Obwohl die Antwort nicht formatiert dargestellt wird, kommt Ihnen das Format eventuell trotzdem bekannt vor. requests bietet eine Funktion, um Antworten im JSON-Format direkt in ein Dictionary umzuwandeln."
   ]
  },
  {
   "cell_type": "code",
   "execution_count": null,
   "id": "d5ed38f0",
   "metadata": {
    "deletable": false,
    "editable": false
   },
   "outputs": [],
   "source": [
    "first_movie = first_movie_response.json()\n",
    "first_movie"
   ]
  },
  {
   "cell_type": "markdown",
   "id": "520fff1d",
   "metadata": {
    "deletable": false,
    "editable": false
   },
   "source": [
    "Anschließend können Sie auf einzelne Elemente zugreifen..."
   ]
  },
  {
   "cell_type": "code",
   "execution_count": null,
   "id": "221c406d",
   "metadata": {
    "deletable": false,
    "editable": false
   },
   "outputs": [],
   "source": [
    "first_movie['planets']"
   ]
  },
  {
   "cell_type": "markdown",
   "id": "a0f82c0a",
   "metadata": {
    "deletable": false,
    "editable": false
   },
   "source": [
    "... und diese auch zur Konstruktion weiterer Anfragen verwenden."
   ]
  },
  {
   "cell_type": "code",
   "execution_count": null,
   "id": "b2cc2a3a",
   "metadata": {
    "deletable": false,
    "editable": false
   },
   "outputs": [],
   "source": [
    "planet_response = requests.get(first_movie['planets'][0])\n",
    "planet = planet_response.json()\n",
    "\n",
    "planet"
   ]
  },
  {
   "cell_type": "markdown",
   "id": "bc606676",
   "metadata": {
    "deletable": false,
    "editable": false
   },
   "source": [
    "## Fehler bei der Nutzung einer API\n",
    "Immer wieder kommt es vor, dass Sie Ressourcen anfragen, die (nicht) mehr existieren, oder andere Fehler auftreten. Das genaue Verhalten der API in diesen Fällen entnehmen Sie bitte der jeweiligen Dokumentation. The Star Wars API zeigt vorbildlich auf zwei verschiedene Arten an, dass der gewünschte Inhalt nicht gefunden wurde.\n",
    "\n",
    "Um dies zu verdeutlichen, fragt die nächste Zelle Informationen zum 50. Film ab, der noch nicht gedreht wurde."
   ]
  },
  {
   "cell_type": "code",
   "execution_count": null,
   "id": "9c495ada",
   "metadata": {
    "deletable": false,
    "editable": false
   },
   "outputs": [],
   "source": [
    "fiftieth_movie_response = requests.get('https://swapi.dev/api/films/50')"
   ]
  },
  {
   "cell_type": "markdown",
   "id": "8ebae62e",
   "metadata": {
    "deletable": false,
    "editable": false
   },
   "source": [
    "Einerseits enthält das zurückgelieferte Objekt keine Angaben, sondern nur das Feld `detail` mit einer Fehlermeldung."
   ]
  },
  {
   "cell_type": "code",
   "execution_count": null,
   "id": "ea1b5e48",
   "metadata": {
    "deletable": false,
    "editable": false
   },
   "outputs": [],
   "source": [
    "fiftieth_movie_response.json()"
   ]
  },
  {
   "cell_type": "markdown",
   "id": "0e388fa5",
   "metadata": {
    "deletable": false,
    "editable": false
   },
   "source": [
    "Andererseits lautet der [Status-Code](https://de.wikipedia.org/wiki/HTTP-Statuscode) der Antwort `404 Not Found`. Bei erfolgreichen Anfragen lautet er dagegen `200 OK`."
   ]
  },
  {
   "cell_type": "code",
   "execution_count": null,
   "id": "e15f758e",
   "metadata": {
    "deletable": false,
    "editable": false
   },
   "outputs": [],
   "source": [
    "fiftieth_movie_response.status_code"
   ]
  }
 ],
 "metadata": {
  "kernelspec": {
   "display_name": "Python 3 (ipykernel)",
   "language": "python",
   "name": "python3"
  },
  "language_info": {
   "codemirror_mode": {
    "name": "ipython",
    "version": 3
   },
   "file_extension": ".py",
   "mimetype": "text/x-python",
   "name": "python",
   "nbconvert_exporter": "python",
   "pygments_lexer": "ipython3",
   "version": "3.8.10"
  }
 },
 "nbformat": 4,
 "nbformat_minor": 5
}
