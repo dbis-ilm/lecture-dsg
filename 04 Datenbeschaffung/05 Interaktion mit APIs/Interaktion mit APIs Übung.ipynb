{
 "cells": [
  {
   "cell_type": "markdown",
   "id": "7b3e5077",
   "metadata": {
    "deletable": false,
    "editable": false
   },
   "source": [
    "# Interaktion mit APIs\n",
    "Importieren Sie vor der Arbeit an den Aufgaben die `requests` Bibliothek und die Tests zu diesem Übungsblatt."
   ]
  },
  {
   "cell_type": "code",
   "execution_count": null,
   "id": "a1b52c8e",
   "metadata": {
    "deletable": false,
    "editable": false
   },
   "outputs": [],
   "source": [
    "import requests\n",
    "\n",
    "from tests import *"
   ]
  },
  {
   "cell_type": "markdown",
   "id": "9e3e3c52",
   "metadata": {
    "deletable": false,
    "editable": false
   },
   "source": [
    "## Aufgabe 1\n",
    "Laden Sie Informationen zum vierten Film und speichern Sie die Links zu allen Raumschiffen (`starships`) in einer Liste."
   ]
  },
  {
   "cell_type": "code",
   "execution_count": null,
   "id": "8cd5c37a",
   "metadata": {
    "deletable": false,
    "tags": [
     "task-1"
    ]
   },
   "outputs": [],
   "source": [
    "starships = []\n",
    "\n",
    "...\n",
    "\n",
    "starships"
   ]
  },
  {
   "cell_type": "code",
   "execution_count": null,
   "id": "35e81f58-7bc0-4aa1-9b44-37e1d103ba47",
   "metadata": {
    "deletable": false,
    "editable": false
   },
   "outputs": [],
   "source": [
    "aufgabe1(starships)"
   ]
  },
  {
   "cell_type": "markdown",
   "id": "e187869b",
   "metadata": {
    "deletable": false,
    "editable": false
   },
   "source": [
    "## Aufgabe 2\n",
    "Laden Sie jeden Eintrag der Raumschiff-Liste herunter. Speichern Sie die enthaltenen Namen (Feld `name`) der jeweiligen Raumschiffe in einer weiteren Liste."
   ]
  },
  {
   "cell_type": "code",
   "execution_count": null,
   "id": "cd80caed",
   "metadata": {
    "deletable": false,
    "tags": [
     "task-2"
    ]
   },
   "outputs": [],
   "source": [
    "starship_names = []\n",
    "\n",
    "...\n",
    "\n",
    "starship_names"
   ]
  },
  {
   "cell_type": "code",
   "execution_count": null,
   "id": "c0729ca2-086e-4cd6-be20-4eb289c48a9e",
   "metadata": {
    "deletable": false,
    "editable": false
   },
   "outputs": [],
   "source": [
    "aufgabe2(starship_names)"
   ]
  }
 ],
 "metadata": {
  "kernelspec": {
   "display_name": "Python 3 (ipykernel)",
   "language": "python",
   "name": "python3"
  },
  "language_info": {
   "codemirror_mode": {
    "name": "ipython",
    "version": 3
   },
   "file_extension": ".py",
   "mimetype": "text/x-python",
   "name": "python",
   "nbconvert_exporter": "python",
   "pygments_lexer": "ipython3",
   "version": "3.10.12"
  }
 },
 "nbformat": 4,
 "nbformat_minor": 5
}
