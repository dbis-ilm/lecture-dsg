{
 "cells": [
  {
   "cell_type": "markdown",
   "id": "50b3980e-2e39-44ad-b44c-979aedbddcb7",
   "metadata": {
    "deletable": false,
    "editable": false
   },
   "source": [
    "# Einlesen von Dateien\n",
    "Importieren Sie zunächst die Tests für dieses Übungsblatt."
   ]
  },
  {
   "cell_type": "markdown",
   "id": "e7a395e4-6ba7-41a6-8e9f-7998902aa9bf",
   "metadata": {
    "deletable": false,
    "editable": false
   },
   "source": [
    "## 1. Anzahl der Buchstaben\n",
    "Schreiben Sie ein Programm, das die Datei `disney_plus_titles_jun22.txt` einliest und berechnet, wie häufig welcher Buchstabe vorkommt."
   ]
  },
  {
   "cell_type": "code",
   "execution_count": null,
   "id": "e83736f8-ae18-4247-804f-92e42aa15fd2",
   "metadata": {
    "deletable": false,
    "editable": false,
    "tags": [
     "task-1"
    ]
   },
   "outputs": [],
   "source": [
    "letters = {}\n",
    "\n",
    "with open('disney_plus_titles_jun22.txt') as file:\n",
    "    for line in file:\n",
    "        for character in line:\n",
    "            if character.isalpha():\n",
    "                if character in letters:\n",
    "                    letters[character] += 1\n",
    "                else:\n",
    "                    letters[character] = 1\n",
    "\n",
    "sorted(letters.items(), key=lambda x: x[1], reverse=True)[:10]"
   ]
  },
  {
   "cell_type": "markdown",
   "id": "8836ea2b-9e2d-4e03-8416-b6d55c95f2b9",
   "metadata": {
    "deletable": false,
    "editable": false
   },
   "source": [
    "## 2. Doppelte Einträge\n",
    "Schreiben Sie Programm, das die Datei `disney_plus_titles_jun22.txt` einliest und berechnet, wie viele Titel doppelt vorkommen."
   ]
  },
  {
   "cell_type": "code",
   "execution_count": null,
   "id": "ca94cd0c-ae91-45c3-a1bc-a12d04005345",
   "metadata": {
    "deletable": false,
    "editable": false,
    "tags": [
     "task-2"
    ]
   },
   "outputs": [],
   "source": [
    "titles = set()\n",
    "lines = 0\n",
    "\n",
    "with open('disney_plus_titles_jun22.txt') as file:\n",
    "    for line in file:\n",
    "        titles.add(line.strip())\n",
    "        lines += 1\n",
    "\n",
    "number_of_duplicate_entries = lines - len(titles)\n",
    "number_of_duplicate_entries"
   ]
  }
 ],
 "metadata": {
  "kernelspec": {
   "display_name": "Python 3 (ipykernel)",
   "language": "python",
   "name": "python3"
  },
  "language_info": {
   "codemirror_mode": {
    "name": "ipython",
    "version": 3
   },
   "file_extension": ".py",
   "mimetype": "text/x-python",
   "name": "python",
   "nbconvert_exporter": "python",
   "pygments_lexer": "ipython3",
   "version": "3.8.10"
  }
 },
 "nbformat": 4,
 "nbformat_minor": 5
}
