{
 "cells": [
  {
   "cell_type": "markdown",
   "id": "50b3980e-2e39-44ad-b44c-979aedbddcb7",
   "metadata": {
    "deletable": false,
    "editable": false
   },
   "source": [
    "# Einlesen von Dateien\n",
    "Importieren Sie zunächst die Tests für dieses Übungsblatt."
   ]
  },
  {
   "cell_type": "code",
   "execution_count": null,
   "id": "f800e78b",
   "metadata": {
    "deletable": false,
    "editable": false
   },
   "outputs": [],
   "source": [
    "from tests import *"
   ]
  },
  {
   "cell_type": "markdown",
   "id": "e7a395e4-6ba7-41a6-8e9f-7998902aa9bf",
   "metadata": {
    "deletable": false,
    "editable": false
   },
   "source": [
    "## 1. Anzahl der Buchstaben\n",
    "Schreiben Sie ein Programm, das die Datei `disney_plus_titles_jun22.txt` einliest und berechnet, wie häufig welcher Buchstabe vorkommt."
   ]
  },
  {
   "cell_type": "code",
   "execution_count": null,
   "id": "7d920f6c-b458-4574-a59f-8e1727a1c55d",
   "metadata": {
    "deletable": false,
    "tags": [
     "task-1"
    ]
   },
   "outputs": [],
   "source": [
    "letters = {}\n",
    "\n",
    "...\n",
    "\n",
    "sorted(letters.items(), key=lambda x: x[1], reverse=True)[:10]"
   ]
  },
  {
   "cell_type": "code",
   "execution_count": null,
   "id": "1445098d",
   "metadata": {
    "deletable": false,
    "editable": false
   },
   "outputs": [],
   "source": [
    "aufgabe1(letters)"
   ]
  },
  {
   "cell_type": "markdown",
   "id": "8836ea2b-9e2d-4e03-8416-b6d55c95f2b9",
   "metadata": {
    "deletable": false,
    "editable": false
   },
   "source": [
    "## 2. Doppelte Einträge\n",
    "Schreiben Sie Programm, das die Datei `disney_plus_titles_jun22.txt` einliest und berechnet, wie viele Titel doppelt vorkommen."
   ]
  },
  {
   "cell_type": "code",
   "execution_count": null,
   "id": "8e16c18d-9f96-4d14-845f-1aa0bfb780c6",
   "metadata": {
    "deletable": false,
    "tags": [
     "task-2"
    ]
   },
   "outputs": [],
   "source": [
    "number_of_duplicate_entries = 0\n",
    "\n",
    "...\n",
    "\n",
    "number_of_duplicate_entries"
   ]
  },
  {
   "cell_type": "code",
   "execution_count": null,
   "id": "6498861f",
   "metadata": {
    "deletable": false,
    "editable": false
   },
   "outputs": [],
   "source": [
    "aufgabe2(number_of_duplicate_entries)"
   ]
  }
 ],
 "metadata": {
  "kernelspec": {
   "display_name": "Python 3 (ipykernel)",
   "language": "python",
   "name": "python3"
  },
  "language_info": {
   "codemirror_mode": {
    "name": "ipython",
    "version": 3
   },
   "file_extension": ".py",
   "mimetype": "text/x-python",
   "name": "python",
   "nbconvert_exporter": "python",
   "pygments_lexer": "ipython3",
   "version": "3.8.10"
  }
 },
 "nbformat": 4,
 "nbformat_minor": 5
}
