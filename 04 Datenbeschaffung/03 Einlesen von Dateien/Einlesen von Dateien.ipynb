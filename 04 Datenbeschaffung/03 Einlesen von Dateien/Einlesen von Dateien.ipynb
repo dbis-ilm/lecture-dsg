{
 "cells": [
  {
   "cell_type": "markdown",
   "id": "091fc07d",
   "metadata": {
    "deletable": false,
    "editable": false
   },
   "source": [
    "# Einlesen von Dateien\n",
    "Im vorigen Teil wurde bereits angeschnitten, dass sich Dateien über die Standardeingabe umleiten und somit einlesen lassen. In Jupyter und auch andernorts, sofern sich die Datenströme nicht frei konfigurieren lassen, ist der direkte Zugriff eine Alternative. Im Gegensatz zu einem Datenstrom, der nur einmalig gelesen werden kann, bietet die entsprechende Programmierschnittstelle außerdem den Vorteil, wahlfrei in der Datei springen oder mehrere Dateien gleichzeitig öffnen zu können.\n",
    "\n",
    "Im Folgenden wird ein Auszug aus dem Datensatz [Disney+ Movies and TV Shows](https://www.kaggle.com/code/werador/disney-data-analysis/data) verwendet. Klicken Sie auf den Link, um mehr zu erfahren."
   ]
  },
  {
   "cell_type": "markdown",
   "id": "011b9a44",
   "metadata": {
    "deletable": false,
    "editable": false
   },
   "source": [
    "## Inhaltsverzeichnis\n",
    "- [Öffnen und Lesen einer Datei](#Öffnen-und-Lesen-einer-Datei)\n",
    "- [Schreiben in Dateien](#Schreiben-in-Dateien)\n",
    "- [Lesen komprimierter Dateien](#Lesen-komprimierter-Dateien)"
   ]
  },
  {
   "cell_type": "markdown",
   "id": "bf29da9e-f8f7-487a-9690-8f7fdde04d81",
   "metadata": {
    "deletable": false,
    "editable": false
   },
   "source": [
    "## Öffnen und Lesen einer Datei\n",
    "Zum Öffnen von Dateien steht die Funktion `open` der Standardbibliothek bereit. Sie gibt ein Objekt zurück, das die Datei repräsentiert. Dieses Objekt besitzt verschiedene Methoden und kann auch als Iterator dienen. Verwenden Sie das Dateiobjekt als Kontext-Manager, sodass Sie sich nicht selbst um den Aufruf der `close` Funktion kümmern müssen. Andernfalls können nicht mehr benötigte Ressourcen weiter belegt bleiben und Speicherlecks verursachen."
   ]
  },
  {
   "cell_type": "code",
   "execution_count": null,
   "id": "7c2a1acf-030f-400d-b9c3-4f97acb593df",
   "metadata": {
    "deletable": false,
    "editable": false
   },
   "outputs": [],
   "source": [
    "# Öffnen der Datei\n",
    "with open('disney_plus_titles_jun22.txt') as file:\n",
    "    # zeilenweise Iteration\n",
    "    for line_number, title in enumerate(file, 1):\n",
    "        # Ausgabe des Titels ohne anschließenden Zeilenumbruch\n",
    "        print(title.strip())\n",
    "\n",
    "        # Abbruch nach 10 Titeln\n",
    "        if line_number >= 10:\n",
    "            break"
   ]
  },
  {
   "cell_type": "markdown",
   "id": "b38e2146-ee47-4b1f-8468-d45162bc2389",
   "metadata": {
    "deletable": false,
    "editable": false
   },
   "source": [
    "Als zweiten Parameter lässt sich der Modus bestimmen, in dem die Datei geöffnet wird. Die wichtigsten Modi sind:\n",
    "\n",
    "- `r`: Die Datei wird zum Lesen im Textmodus geöffnet.\n",
    "- `w`: Die Datei wird geleert und anschließend zum Schreiben im Textmodus geöffnet.\n",
    "- `a`: Die Datei wird zum Schreiben im Textmodus geöffnet. Jede Schreiboperation fügt Daten ans Ende der Datei an.\n",
    "- `rb`: Die Datei wird zum Lesen im Binärmodus geöffnet.\n",
    "- `wb`: Die Datei wird zum Schreiben im Binärmodus geöffnet.\n",
    "\n",
    "Ohne Angabe wird die Datei lesend (`r`) geöffnet."
   ]
  },
  {
   "cell_type": "markdown",
   "id": "c89f4ee4-d571-40b9-bbc0-42bdbe15c765",
   "metadata": {
    "deletable": false,
    "editable": false
   },
   "source": [
    "Statt über die Datei zeilenweise zu iterieren, lassen sich natürlich auch andere Funktionen zur Interaktion nutzen.\n",
    "\n",
    "| Name          | Rückgabewert | Beschreibung                                                  |\n",
    "| ------------- | ------------ | ------------------------------------------------------------- |\n",
    "| `read()`      | `str`        | liest die gesamte Datei ein                                   |\n",
    "| `readline()`  | `str`        | liest die Datei bis zum nächsten Zeilenumbruch                |\n",
    "| `readlines()` | `List[str]`  | liest die gesamte Datei ein und trennt an jedem Zeilenumbruch |"
   ]
  },
  {
   "cell_type": "markdown",
   "id": "4968d822-b3e5-4caa-8608-019f4f29fde4",
   "metadata": {
    "deletable": false,
    "editable": false
   },
   "source": [
    "Außerdem lässt sich beim Öffnen einer Datei das Encoding, also die Art, wie Zeichen kodiert sind, bestimmen. Der Standardwert ist abhängig von der Plattform, auf der Sie das Skript ausführen. Sollte bei Ihnen also beispielsweise ein Name mit Umlaut nicht korrekt dargestellt werden, kann es helfen, das Encoding explizit zu setzen. Sollten Sie sich ungewiss sein, mit welcher Kodierung Ihre Quelle gespeichert wurde, ist `utf-8` als weiterverbreiteter Standard einen Versuch wert."
   ]
  },
  {
   "cell_type": "code",
   "execution_count": null,
   "id": "525241a0-8382-4a18-bf8a-88a1b3af8ba6",
   "metadata": {
    "deletable": false,
    "editable": false
   },
   "outputs": [],
   "source": [
    "with open('deutsche_nachnamen_haeufigkeit.txt', encoding='latin1') as file:\n",
    "    print('latin1:')\n",
    "    print(file.readlines())\n",
    "\n",
    "with open('deutsche_nachnamen_haeufigkeit.txt', encoding='utf-8') as file:\n",
    "    print('utf-8:')\n",
    "    print(file.readlines())"
   ]
  },
  {
   "cell_type": "markdown",
   "id": "84cbd1c1-1b17-4c2b-bc67-9c79947b31f3",
   "metadata": {
    "deletable": false,
    "editable": false
   },
   "source": [
    "## Schreiben in Dateien\n",
    "Das Schreiben von Dateien gestaltet sich analog mit den Methoden `write` und `writelines`, sofern eine Datei im Schreibmodus geöffnet wurde. Beachten Sie bitte, dass beide Funktionen Zeichenketten erwarten und andere Datentypen zunächst umgewandelt werden müssen."
   ]
  },
  {
   "cell_type": "code",
   "execution_count": null,
   "id": "0ae5d6cd-e6c1-469f-9e99-0041c3b78bde",
   "metadata": {
    "deletable": false,
    "editable": false
   },
   "outputs": [],
   "source": [
    "with open('nummern.txt', 'w') as file:\n",
    "    file.write('1\\n')\n",
    "    file.write('2\\n')\n",
    "    file.write('3\\n')\n",
    "\n",
    "    file.writelines(['11\\n', '12\\n', '13\\n'])"
   ]
  },
  {
   "cell_type": "markdown",
   "id": "31d0513c-60dd-4ccc-9215-565e2252da4f",
   "metadata": {
    "deletable": false,
    "editable": false
   },
   "source": [
    "## Lesen komprimierter Dateien\n",
    "Kompression spart je nach Inhalt der Datei Speicherplatz und kann somit den Transfer beschleunigen. Auch wenn Ladezeiten angesichts heutiger Geschwindigkeiten nur noch über das Netzwerk relevant sind, werden Sie dennoch einige Datensätze komprimiert vorfinden.\n",
    "\n",
    "Python kann mit einigen Kompressionsformaten direkt interagieren, sodass die Dateien nicht erst entpackt werden müssen. Die folgende Zelle lädt die Film- und Serientitel aus einer mit dem Verfahren *bzip2* komprimierten Datei. Bitte achten Sie darauf, dass komprimierte Dateien immer im Binärformat gespeichert und deshalb auch im entsprechenden Modus geöffnet werden."
   ]
  },
  {
   "cell_type": "code",
   "execution_count": null,
   "id": "863f410d-0244-466e-9d8f-08a5bfbb22e9",
   "metadata": {
    "deletable": false,
    "editable": false
   },
   "outputs": [],
   "source": [
    "import bz2\n",
    "\n",
    "with bz2.open('disney_plus_titles_jun22.txt.bz2', 'rb') as file:\n",
    "    for line_number, title in enumerate(file, 1):\n",
    "        # Konvertieren des Titels in `str`\n",
    "        print(title.decode('utf-8').strip())\n",
    "\n",
    "        # Abbruch nach 10 Titeln\n",
    "        if line_number >= 10:\n",
    "            break"
   ]
  }
 ],
 "metadata": {
  "kernelspec": {
   "display_name": "Python 3 (ipykernel)",
   "language": "python",
   "name": "python3"
  },
  "language_info": {
   "codemirror_mode": {
    "name": "ipython",
    "version": 3
   },
   "file_extension": ".py",
   "mimetype": "text/x-python",
   "name": "python",
   "nbconvert_exporter": "python",
   "pygments_lexer": "ipython3",
   "version": "3.8.10"
  }
 },
 "nbformat": 4,
 "nbformat_minor": 5
}
