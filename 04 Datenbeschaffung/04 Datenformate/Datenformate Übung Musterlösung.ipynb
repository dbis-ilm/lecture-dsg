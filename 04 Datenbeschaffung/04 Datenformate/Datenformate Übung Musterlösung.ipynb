{
 "cells": [
  {
   "cell_type": "markdown",
   "id": "dc163408",
   "metadata": {
    "deletable": false,
    "editable": false
   },
   "source": [
    "# Datenformate\n",
    "Importieren Sie vor der Arbeit an den Aufgaben die benötigten Module und die Tests zu diesem Übungsblatt."
   ]
  },
  {
   "cell_type": "code",
   "execution_count": null,
   "id": "2a1e20a2",
   "metadata": {
    "deletable": false,
    "editable": false
   },
   "outputs": [],
   "source": [
    "import csv\n",
    "import json"
   ]
  },
  {
   "cell_type": "markdown",
   "id": "079d7560",
   "metadata": {
    "deletable": false,
    "editable": false
   },
   "source": [
    "## Aufgabe 1\n",
    "Laden Sie die Datei `disney_plus_titles.csv` in eine Liste. Die Einträge der Liste sind die jeweiligen Zeilen. Die Zeilen selbst sind Listen der einzelnen Attribute."
   ]
  },
  {
   "cell_type": "code",
   "execution_count": null,
   "id": "78f7b4ae",
   "metadata": {
    "deletable": false,
    "editable": false,
    "tags": [
     "task-1"
    ]
   },
   "outputs": [],
   "source": [
    "with open('disney_plus_titles.csv') as file:\n",
    "    csv_data = list(csv.reader(file))\n",
    "\n",
    "csv_data[:4]"
   ]
  },
  {
   "cell_type": "markdown",
   "id": "c485e6f1",
   "metadata": {
    "deletable": false,
    "editable": false
   },
   "source": [
    "Erstellen Sie ein Dictionary, das als Schlüssel ein Jahr und als Wert die Anzahl der in diesem Jahr erschienenen Filme enthält. Bedenken Sie, dass die erste Zeile Ihrer Daten die Spaltennamen enthält und demnach übersprungen werden muss."
   ]
  },
  {
   "cell_type": "code",
   "execution_count": null,
   "id": "5293b9c1",
   "metadata": {
    "deletable": false,
    "editable": false,
    "tags": [
     "task-1"
    ]
   },
   "outputs": [],
   "source": [
    "releases_per_year = {}\n",
    "\n",
    "for _, year in csv_data[1:]:\n",
    "    if year in releases_per_year:\n",
    "        releases_per_year[year] += 1\n",
    "    else:\n",
    "        releases_per_year[year] = 1\n",
    "\n",
    "sorted(releases_per_year.items(), key=lambda x: x[0], reverse=True)[:10]"
   ]
  },
  {
   "cell_type": "markdown",
   "id": "3bfae5d7",
   "metadata": {
    "deletable": false,
    "editable": false
   },
   "source": [
    "## Aufgabe 2\n",
    "Laden Sie den vollständigen Datensatz aus der Datei `disney_plus_titles.json`."
   ]
  },
  {
   "cell_type": "code",
   "execution_count": null,
   "id": "bb0a3840",
   "metadata": {
    "deletable": false,
    "editable": false,
    "tags": [
     "task-2"
    ]
   },
   "outputs": [],
   "source": [
    "with open('disney_plus_titles.json') as file:\n",
    "    json_data = json.load(file)\n",
    "\n",
    "json_data[:3]"
   ]
  },
  {
   "cell_type": "markdown",
   "id": "855e14fa",
   "metadata": {
    "deletable": false,
    "editable": false
   },
   "source": [
    "Welcher Schauspieler hat an den meisten Produktionen mitgewirkt? Speichern Sie den Namen in der Variable `most_frequent_actor`.\n",
    "\n",
    "Hinweis:\n",
    "1. Erstellen Sie ein Dictionary, das als Schlüssel die Namen der Personen und als Werte die Anzahl der Filme zugewiesen bekommt.\n",
    "2. Suchen Sie in diesem Dictionary nach dem Maximum."
   ]
  },
  {
   "cell_type": "code",
   "execution_count": null,
   "id": "a0e0bd41",
   "metadata": {
    "deletable": false,
    "editable": false,
    "tags": [
     "task-2"
    ]
   },
   "outputs": [],
   "source": [
    "persons = {}\n",
    "\n",
    "for title in json_data:\n",
    "    for person in title['cast']:\n",
    "        if person == '':\n",
    "            print(title)\n",
    "\n",
    "        if person in persons:\n",
    "            persons[person] += 1\n",
    "        else:\n",
    "            persons[person] = 1\n",
    "\n",
    "most_frequent_actor = max(persons.items(), key=lambda x: x[1])[0]\n",
    "most_frequent_actor"
   ]
  }
 ],
 "metadata": {
  "kernelspec": {
   "display_name": "Python 3 (ipykernel)",
   "language": "python",
   "name": "python3"
  },
  "language_info": {
   "codemirror_mode": {
    "name": "ipython",
    "version": 3
   },
   "file_extension": ".py",
   "mimetype": "text/x-python",
   "name": "python",
   "nbconvert_exporter": "python",
   "pygments_lexer": "ipython3",
   "version": "3.8.10"
  }
 },
 "nbformat": 4,
 "nbformat_minor": 5
}
