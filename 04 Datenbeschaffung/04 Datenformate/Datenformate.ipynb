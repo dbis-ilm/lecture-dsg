{
 "cells": [
  {
   "cell_type": "markdown",
   "id": "e4dda89f",
   "metadata": {
    "deletable": false,
    "editable": false
   },
   "source": [
    "# Datenformate\n",
    "Im vorigen Abschnitt haben Sie bereits Dateien eingelesen, die ein sehr simples Format besaßen:\n",
    "- Jede Zeile enthält ein Datum.\n",
    "- Ein Datum besteht immer aus genau einer Eigenschaft / einem Feld, namentlich dem Titel.\n",
    "\n",
    "Natürlich sind die Daten der realen Welt selten so simpel. Zu einem Film oder einer Serie gehören weitere Informationen, wie beispielsweise der Veröffentlichungszeitpunkt, die Bewertung der Zuschauer oder eine kurze Beschreibung.\n",
    "\n",
    "Um ein Datum mit mehreren Feldern zu kodieren, existieren daher verschiedene Datenformate, die alle eigene Vor- und Nachteile besitzen. Unterschieden wird dabei zwischen textbasierten und binären Verfahren. Erstere lassen sich mit einem einfachen Texteditor bearbeiten und gelten als menschenlesbar, während letztere in der Regel Speicherplatz sparen und schneller zu verarbeiten sind.\n",
    "\n",
    "In diesem Abschnitt werden Ihnen drei wichtige Datenformate vorgestellt. Zur Veranschaulichung wird erneut ein Auszug aus dem Datensatz [Disney+ Movies and TV Shows](https://www.kaggle.com/code/werador/disney-data-analysis/data) verwendet."
   ]
  },
  {
   "cell_type": "markdown",
   "id": "81748813",
   "metadata": {
    "deletable": false,
    "editable": false
   },
   "source": [
    "## Inhaltsverzeichnis\n",
    "- [CSV](#CSV)\n",
    "- [JSON](#JSON)\n",
    "- [Pickle](#Pickle)"
   ]
  },
  {
   "cell_type": "markdown",
   "id": "1ac6a25e",
   "metadata": {
    "deletable": false,
    "editable": false
   },
   "source": [
    "## CSV\n",
    "*CSV* steht für *Comma-Separated Values*, ist ein textbasiertes Format und folgt einer Art Tabellenstruktur. Dementsprechend werden häufig Daten im CSV-Format gespeichert, die einer Tabellenkalkulation oder Datenbanksoftware entstammen. Dabei gelten die folgenden Regeln:\n",
    "- Die Datensätze werden durch ein festgelegtes Zeichen getrennt. In der Regel ist dies ein Zeilenumbruch.\n",
    "- Die Felder werden durch ein anderes Zeichen getrennt. Dem Namen folgend ist dies ein Komma. Es sind jedoch auch Tabulatoren (`\\t`) und Semikolons beliebt.\n",
    "- Die erste Zeile der Datei kann für die Namen der Spalten verwendet werden.\n",
    "\n",
    "Ein gültiges CSV-Dokument sieht wie folgt aus.\n",
    "```csv\n",
    "title,release_year\n",
    "Duck the Halls: A Mickey Mouse Christmas Special,2016\n",
    "Ernest Saves Christmas,1988\n",
    "\"Dr. Oakley, Yukon Vet\",2013\n",
    "```\n",
    "\n",
    "Felder, die eines der festgelegten Trennzeichen enthalten, müssen maskiert werden. Deshalb steht der Titel `Dr. Oakley, Yukon Vet` in Anführungszeichen. Die Methoden aus der Python-Standardbibliothek übernehmen diese Aufgabe sowohl beim Lesen als auch beim Schreiben automatisch.\n",
    "\n",
    "Zum Laden einer CSV-Datei öffnen Sie diese zuerst wie im vorigen Abschnitt. Verwenden Sie dann die Funktion `reader` aus dem Modul `csv`, die einen Iterator zurückgibt, um die Daten zu verarbeiten:"
   ]
  },
  {
   "cell_type": "code",
   "execution_count": null,
   "id": "f9f31d5e",
   "metadata": {
    "deletable": false,
    "editable": false
   },
   "outputs": [],
   "source": [
    "import csv\n",
    "\n",
    "with open('disney_plus_titles.csv') as file:\n",
    "    reader = csv.reader(file)\n",
    "\n",
    "    for line_number, line in enumerate(reader, 1):\n",
    "        print(line)\n",
    "\n",
    "        if line_number >= 4:\n",
    "            break"
   ]
  },
  {
   "cell_type": "markdown",
   "id": "45ef1cd7",
   "metadata": {
    "deletable": false,
    "editable": false
   },
   "source": [
    "Beachten Sie bitte, dass die Kopfzeile ebenfalls als Teil des Datensatzes gelesen wird."
   ]
  },
  {
   "cell_type": "markdown",
   "id": "5cefe1bc",
   "metadata": {
    "deletable": false,
    "editable": false
   },
   "source": [
    "## JSON\n",
    "*JSON* steht für *JavaScript Object Notation* und bezeichnet ebenfalls ein textbasiertes Format. Auch wenn JSON unabhängig der verwendeten Programmiersprache gelesen und gespeichert werden kann, ist es besonders bei der Programmierung von Websites und über das Internet erreichbaren APIs beliebt. Im Unterschied zu CSV ist es mit JSON deutlich einfacher, verschachtelte Objekte und Listen zu speichern. Wie Sie im Folgenden sehen werden, verbraucht JSON allerdings auch deutlich mehr Platz durch die häufige Wiederholung von Attributnamen.\n",
    "\n",
    "Ein JSON-Dokument erfüllt die folgenden Eigenschaften:\n",
    "- Das Dokument ist ein Objekt oder eine Liste.\n",
    "- Objekte werden von `{}` umschlossen und enthalten Schlüssel-Wert-Paare. Schlüssel sind von Anführungszeichen umschlossen.\n",
    "- Listen werden von `[]` umschlossen und enthalten Werte.\n",
    "- Werte sind entweder von primitiven Datentypen, selbst Objekte oder Listen. Strings werden ebenfalls von Anführungszeichen umschlossen.\n",
    "\n",
    "Ein gültiges JSON-Dokument sieht wie folgt aus:\n",
    "```javascript\n",
    "[\n",
    "    {\n",
    "        \"title\": \"Duck the Halls: A Mickey Mouse Christmas Special\",\n",
    "        \"cast\": [\n",
    "            \"Chris Diamantopoulos\",\n",
    "            \"Tony Anselmo\",\n",
    "            \"Tress MacNeille\",\n",
    "            \"Bill Farmer\",\n",
    "            \"Russi Taylor\",\n",
    "            \"Corey Burton\"\n",
    "        ]\n",
    "    },\n",
    "    {\n",
    "        \"title\": \"Ernest Saves Christmas\",\n",
    "        \"cast\": [\n",
    "            \"Jim Varney\",\n",
    "            \"Noelle Parker\",\n",
    "            \"Douglas Seale\"\n",
    "        ]\n",
    "    },\n",
    "    {\n",
    "        \"title\": \"Dr. Oakley, Yukon Vet\",\n",
    "        \"cast\": [\n",
    "            \"Dr. Michelle Oakley\",\n",
    "            \"Zachary Fine\"\n",
    "        ]\n",
    "    }\n",
    "]\n",
    "```\n",
    "\n",
    "Zum Laden einer JSON-Datei öffnen Sie diese zuerst wie im vorigen Abschnitt. Verwenden Sie dann die Funktion `load` aus dem Modul `json`, die ein Dictionary zurückgibt:"
   ]
  },
  {
   "cell_type": "code",
   "execution_count": null,
   "id": "263adf20",
   "metadata": {
    "deletable": false,
    "editable": false
   },
   "outputs": [],
   "source": [
    "import json\n",
    "\n",
    "with open('disney_plus_titles.json') as file:\n",
    "    data = json.load(file)\n",
    "\n",
    "    for line_number, line in enumerate(data, 1):\n",
    "        print(line['title'], ':', line['cast'])\n",
    "\n",
    "        if line_number >= 3:\n",
    "            break"
   ]
  },
  {
   "cell_type": "markdown",
   "id": "15c71394",
   "metadata": {
    "deletable": false,
    "editable": false
   },
   "source": [
    "## Pickle\n",
    "*Pickle* ist ein binäres Format, das nur in Python zur Verfügung steht. Es ist also kein Austausch mit anderen Programmiersprachen möglich. Zudem existieren verschiedene Versionen des Protokolls, sodass neuere Versionen zwar Daten älterer Versionen lesen können, dies umgekehrt aber nicht der Fall sein muss.\n",
    "\n",
    "Dementsprechend wird Pickle selten für den Austausch von Datensätzen verwendet. Es hat als binäres Format allerdings den Vorteil, dass es im Allgemeinen weniger Speicherplatz benötigt, schneller geladen und schneller verarbeitet werden kann als dies mit textbasierten Formaten der Fall ist.\n",
    "\n",
    "Pickle wird ähnlich zum JSON-Modul verwendet. Die folgende Zelle lädt den vollständigen Datensatz mehrmals via JSON und Pickle und gibt anschließend die durchschnittlich benötigte Zeit aus."
   ]
  },
  {
   "cell_type": "code",
   "execution_count": null,
   "id": "55415a8b",
   "metadata": {
    "deletable": false,
    "editable": false
   },
   "outputs": [],
   "source": [
    "import json\n",
    "import pickle\n",
    "import os\n",
    "\n",
    "# json\n",
    "def load_json():\n",
    "    with open('disney_plus_titles_full.json') as file:\n",
    "        data = json.load(file)\n",
    "\n",
    "print('json Dateigröße:  ', os.path.getsize('disney_plus_titles_full.json'))\n",
    "%timeit -r 10 -n 10 load_json()\n",
    "\n",
    "# pickle\n",
    "def load_pickle():\n",
    "    with open('disney_plus_titles_full.pickle', 'rb') as file:\n",
    "        data = pickle.load(file)\n",
    "\n",
    "print('pickle Dateigröße:', os.path.getsize('disney_plus_titles_full.pickle'))\n",
    "%timeit -r 10 -n 10 load_pickle()"
   ]
  }
 ],
 "metadata": {
  "kernelspec": {
   "display_name": "Python 3 (ipykernel)",
   "language": "python",
   "name": "python3"
  },
  "language_info": {
   "codemirror_mode": {
    "name": "ipython",
    "version": 3
   },
   "file_extension": ".py",
   "mimetype": "text/x-python",
   "name": "python",
   "nbconvert_exporter": "python",
   "pygments_lexer": "ipython3",
   "version": "3.8.10"
  }
 },
 "nbformat": 4,
 "nbformat_minor": 5
}
