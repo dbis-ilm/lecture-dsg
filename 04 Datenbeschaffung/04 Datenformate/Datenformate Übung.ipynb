{
 "cells": [
  {
   "cell_type": "markdown",
   "id": "dc163408",
   "metadata": {
    "deletable": false,
    "editable": false
   },
   "source": [
    "# Datenformate\n",
    "Importieren Sie vor der Arbeit an den Aufgaben die benötigten Module und die Tests zu diesem Übungsblatt."
   ]
  },
  {
   "cell_type": "code",
   "execution_count": null,
   "id": "32a68a5b",
   "metadata": {
    "deletable": false,
    "editable": false
   },
   "outputs": [],
   "source": [
    "import csv\n",
    "import json\n",
    "\n",
    "from tests import *"
   ]
  },
  {
   "cell_type": "markdown",
   "id": "079d7560",
   "metadata": {
    "deletable": false,
    "editable": false
   },
   "source": [
    "## Aufgabe 1\n",
    "Laden Sie die Datei `disney_plus_titles.csv` in eine Liste. Die Einträge der Liste sind die jeweiligen Zeilen. Die Zeilen selbst sind Listen der einzelnen Attribute."
   ]
  },
  {
   "cell_type": "code",
   "execution_count": null,
   "id": "0127ebc0",
   "metadata": {
    "deletable": false,
    "tags": [
     "task-1"
    ]
   },
   "outputs": [],
   "source": [
    "csv_data = []\n",
    "\n",
    "...\n",
    "\n",
    "csv_data[:4]"
   ]
  },
  {
   "cell_type": "code",
   "execution_count": null,
   "id": "ee5243db",
   "metadata": {
    "deletable": false,
    "editable": false
   },
   "outputs": [],
   "source": [
    "aufgabe1_1(csv_data)"
   ]
  },
  {
   "cell_type": "markdown",
   "id": "c485e6f1",
   "metadata": {
    "deletable": false,
    "editable": false
   },
   "source": [
    "Erstellen Sie ein Dictionary, das als Schlüssel ein Jahr und als Wert die Anzahl der in diesem Jahr erschienenen Filme enthält. Bedenken Sie, dass die erste Zeile Ihrer Daten die Spaltennamen enthält und demnach übersprungen werden muss."
   ]
  },
  {
   "cell_type": "code",
   "execution_count": null,
   "id": "975f54d8",
   "metadata": {
    "deletable": false,
    "tags": [
     "task-1"
    ]
   },
   "outputs": [],
   "source": [
    "releases_per_year = {}\n",
    "\n",
    "...\n",
    "\n",
    "sorted(releases_per_year.items(), key=lambda x: x[0], reverse=True)[:10]"
   ]
  },
  {
   "cell_type": "code",
   "execution_count": null,
   "id": "faf6ef29",
   "metadata": {
    "deletable": false,
    "editable": false
   },
   "outputs": [],
   "source": [
    "aufgabe1_2(releases_per_year)"
   ]
  },
  {
   "cell_type": "markdown",
   "id": "3bfae5d7",
   "metadata": {
    "deletable": false,
    "editable": false
   },
   "source": [
    "## Aufgabe 2\n",
    "Laden Sie den vollständigen Datensatz aus der Datei `disney_plus_titles.json`."
   ]
  },
  {
   "cell_type": "code",
   "execution_count": null,
   "id": "0a46c6e6",
   "metadata": {
    "deletable": false,
    "tags": [
     "task-2"
    ]
   },
   "outputs": [],
   "source": [
    "json_data = []\n",
    "\n",
    "...\n",
    "\n",
    "json_data[:3]"
   ]
  },
  {
   "cell_type": "code",
   "execution_count": null,
   "id": "6a10c525",
   "metadata": {
    "deletable": false,
    "editable": false
   },
   "outputs": [],
   "source": [
    "aufgabe2_1(json_data)"
   ]
  },
  {
   "cell_type": "markdown",
   "id": "855e14fa",
   "metadata": {
    "deletable": false,
    "editable": false
   },
   "source": [
    "Welcher Schauspieler hat an den meisten Produktionen mitgewirkt? Speichern Sie den Namen in der Variable `most_frequent_actor`.\n",
    "\n",
    "Hinweis:\n",
    "1. Erstellen Sie ein Dictionary, das als Schlüssel die Namen der Personen und als Werte die Anzahl der Filme zugewiesen bekommt.\n",
    "2. Suchen Sie in diesem Dictionary nach dem Maximum."
   ]
  },
  {
   "cell_type": "code",
   "execution_count": null,
   "id": "85e1890f",
   "metadata": {
    "deletable": false,
    "tags": [
     "task-2"
    ]
   },
   "outputs": [],
   "source": [
    "most_frequent_actor = ...\n",
    "most_frequent_actor"
   ]
  },
  {
   "cell_type": "code",
   "execution_count": null,
   "id": "f7b087df",
   "metadata": {
    "deletable": false,
    "editable": false
   },
   "outputs": [],
   "source": [
    "aufgabe2_2(most_frequent_actor)"
   ]
  }
 ],
 "metadata": {
  "kernelspec": {
   "display_name": "Python 3 (ipykernel)",
   "language": "python",
   "name": "python3"
  },
  "language_info": {
   "codemirror_mode": {
    "name": "ipython",
    "version": 3
   },
   "file_extension": ".py",
   "mimetype": "text/x-python",
   "name": "python",
   "nbconvert_exporter": "python",
   "pygments_lexer": "ipython3",
   "version": "3.8.10"
  }
 },
 "nbformat": 4,
 "nbformat_minor": 5
}
