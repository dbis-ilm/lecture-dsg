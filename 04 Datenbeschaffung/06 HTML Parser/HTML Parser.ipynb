{
 "cells": [
  {
   "cell_type": "markdown",
   "id": "f2e68e8a",
   "metadata": {
    "deletable": false,
    "editable": false
   },
   "source": [
    "# HTML Parser\n",
    "Gelegentlich kommt es vor, dass eine Datenquelle weder herunterladbare Datensätze noch eine (geeignete) API bereitstellt, jedoch über einen Webbrowser erreichbar ist. In diesem Fall ist es manchmal der Weg des geringsten Widerstands, eine Website herunterzuladen und zu verarbeiten. Dabei benötigen Sie einige Vorkenntnisse im Umgang mit HTML-Dokumenten.\n",
    "\n",
    "**Achtung:** Einige Anbieter bieten keine *öffentliche* API an, da sie explizit nicht wollen, dass ihre Daten heruntergeladen und gespeichert werden. Sie sollten im Allgemeinen den Wunsch des Anbieters respektieren oder zumindest Rücksprache halten."
   ]
  },
  {
   "cell_type": "markdown",
   "id": "16b2c7de",
   "metadata": {
    "deletable": false,
    "editable": false
   },
   "source": [
    "## Inhaltsverzeichnis\n",
    "- [Abrufen](#Abrufen)\n",
    "- [Suchen von Elementen](#Suchen-von-Elementen)\n",
    "- [Komplexe Selektoren](#Komplexe-Selektoren)"
   ]
  },
  {
   "cell_type": "markdown",
   "id": "a5ebc677-a88d-47a8-9b9f-6c52a5cb7b5e",
   "metadata": {
    "deletable": false,
    "editable": false
   },
   "source": [
    "## Abrufen\n",
    "Eine der einfachsten Bibliotheken zum Verarbeiten von HTML-Dokumenten nennt sich `beautifulsoup4`. Außerdem wird erneut `requests` zur Kommunikation mit dem Server benötigt."
   ]
  },
  {
   "cell_type": "code",
   "execution_count": null,
   "id": "8af4e69a-dc36-431b-b98c-5a756a9139ca",
   "metadata": {
    "deletable": false
   },
   "outputs": [],
   "source": [
    "import requests\n",
    "from bs4 import BeautifulSoup"
   ]
  },
  {
   "cell_type": "markdown",
   "id": "130ede9f-6898-4b1c-8cf0-d61ecd01a77c",
   "metadata": {
    "deletable": false,
    "editable": false
   },
   "source": [
    "Wie zuvor wird die Website mit einer GET-Anfrage abgerufen. Der zurückgegebene Text dient BeautifulSoup als Ausgangspunkt zum Erstellen einer Baumstruktur. Im nachfolgenden Beispiel wird die [Wikipedia Seite zum Thema Kino](https://de.wikipedia.org/wiki/Kino) abgerufen."
   ]
  },
  {
   "cell_type": "code",
   "execution_count": null,
   "id": "40da26a6-5d3b-4aa7-a1ba-3419ddfe7561",
   "metadata": {
    "deletable": false
   },
   "outputs": [],
   "source": [
    "text = requests.get('https://de.wikipedia.org/wiki/Kino').text\n",
    "page = BeautifulSoup(text)"
   ]
  },
  {
   "cell_type": "markdown",
   "id": "50f53760-2fc6-477e-9b79-8769e5755cc4",
   "metadata": {
    "deletable": false,
    "editable": false
   },
   "source": [
    "## Suchen von Elementen\n",
    "Innerhalb der Website kann nach Elementen mit bestimmten Eigenschaften gesucht werden. Das Inhaltsverzeichnis eines Artikels beispielsweise ist immer ein Container (`div`) und besitzt als `id` immer `toc`.\n",
    "\n",
    "```html\n",
    "<div id=\"toc\" class=\"toc\" role=\"navigation\" aria-labelledby=\"mw-toc-heading\">\n",
    "    ...\n",
    "</div>\n",
    "```\n",
    "\n",
    "BeautifulSoup erlaubt es, nach spezifischen Elementen zu suchen und diese anhand von Attributen zu filtern."
   ]
  },
  {
   "cell_type": "code",
   "execution_count": null,
   "id": "7bbc30ff-3415-453e-bfc7-c8223556d533",
   "metadata": {
    "deletable": false
   },
   "outputs": [],
   "source": [
    "table_of_contents = page.find('div', id='toc')"
   ]
  },
  {
   "cell_type": "markdown",
   "id": "97a904f8-d99c-4229-9409-b88338272a80",
   "metadata": {
    "deletable": false,
    "editable": false
   },
   "source": [
    "Anschließend können weitere Eigenschaften und Kind-Knoten verarbeitet werden. Alle Einträge des Inhaltsverzeichnis sind Links (`a`). Der Zugriff auf Attribute der HTML Elemente erfolgt wie bei einem Dictionary, während für den enthaltenen Text das Attribut `text` vorhanden ist."
   ]
  },
  {
   "cell_type": "code",
   "execution_count": null,
   "id": "ca414da2-f2e2-4010-9e93-698bea964b21",
   "metadata": {
    "deletable": false
   },
   "outputs": [],
   "source": [
    "toc_entries = table_of_contents.find_all('a')\n",
    "[(entry['href'], entry.text) for entry in toc_entries]"
   ]
  },
  {
   "cell_type": "markdown",
   "id": "a2a47351-bb6e-4c28-a66a-e163d109ec9b",
   "metadata": {
    "deletable": false,
    "editable": false
   },
   "source": [
    "## Komplexe Selektoren\n",
    "BeautifulSoup unterstützt auch komplexe Selektoren."
   ]
  },
  {
   "cell_type": "code",
   "execution_count": null,
   "id": "44849d6f-892a-48d5-9f44-9e551b0d74b3",
   "metadata": {
    "deletable": false
   },
   "outputs": [],
   "source": [
    "toc_entries = page.select('#toc a')\n",
    "[(entry['href'], entry.text) for entry in toc_entries]"
   ]
  }
 ],
 "metadata": {
  "kernelspec": {
   "display_name": "Python 3 (ipykernel)",
   "language": "python",
   "name": "python3"
  },
  "language_info": {
   "codemirror_mode": {
    "name": "ipython",
    "version": 3
   },
   "file_extension": ".py",
   "mimetype": "text/x-python",
   "name": "python",
   "nbconvert_exporter": "python",
   "pygments_lexer": "ipython3",
   "version": "3.10.12"
  }
 },
 "nbformat": 4,
 "nbformat_minor": 5
}
