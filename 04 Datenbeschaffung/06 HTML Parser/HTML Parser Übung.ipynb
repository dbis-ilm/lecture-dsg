{
 "cells": [
  {
   "cell_type": "markdown",
   "id": "c18be93c-6f2e-4ee5-939c-be792c9f400c",
   "metadata": {
    "deletable": false,
    "editable": false
   },
   "source": [
    "# HTML Parser\n",
    "Importieren Sie vor der Arbeit an den Aufgaben `requests`, `BeautifulSoup` und die Tests zu diesem Übungsblatt."
   ]
  },
  {
   "cell_type": "code",
   "execution_count": null,
   "id": "52421dfa-0fa3-4980-9b54-48d85ad56a0e",
   "metadata": {
    "deletable": false,
    "editable": false
   },
   "outputs": [],
   "source": [
    "import requests\n",
    "from bs4 import BeautifulSoup\n",
    "\n",
    "from tui_dsg.beschaffung.html import *"
   ]
  },
  {
   "cell_type": "markdown",
   "id": "10111038-b376-4983-8f04-2acf607230f8",
   "metadata": {
    "deletable": false,
    "editable": false
   },
   "source": [
    "## Aufgabe 1\n",
    "Laden Sie den [Wikipedia Artikel zum Thema *Geschichte des Kinos*](https://de.wikipedia.org/wiki/Geschichte_des_Kinos)."
   ]
  },
  {
   "cell_type": "code",
   "execution_count": null,
   "id": "1abb1918-747a-4034-b9c9-808fe5a2697c",
   "metadata": {
    "deletable": false,
    "tags": [
     "task-1"
    ]
   },
   "outputs": [],
   "source": [
    "page = ..."
   ]
  },
  {
   "cell_type": "code",
   "execution_count": null,
   "id": "75e85be0",
   "metadata": {
    "deletable": false,
    "editable": false
   },
   "outputs": [],
   "source": [
    "aufgabe1_1(page)"
   ]
  },
  {
   "cell_type": "markdown",
   "id": "2105c9b6-0371-45e4-9a53-d98c064592d2",
   "metadata": {
    "deletable": false,
    "editable": false
   },
   "source": [
    "Im Container (`div`) mit der `id` `bodyContent` ist der Text des Artikels enthalten. Finden Sie alle Links (`a`) innerhalb dieses Containers."
   ]
  },
  {
   "cell_type": "code",
   "execution_count": null,
   "id": "264fd8b6-2184-4689-8aa4-23ac6666a482",
   "metadata": {
    "deletable": false,
    "tags": [
     "task-1"
    ]
   },
   "outputs": [],
   "source": [
    "links = ..."
   ]
  },
  {
   "cell_type": "code",
   "execution_count": null,
   "id": "c06e296c",
   "metadata": {
    "deletable": false,
    "editable": false
   },
   "outputs": [],
   "source": [
    "aufgabe1_2(links)"
   ]
  },
  {
   "cell_type": "markdown",
   "id": "71f7a015-3d3f-41c5-ab97-48e1ca35270a",
   "metadata": {
    "deletable": false,
    "editable": false
   },
   "source": [
    "Extrahieren Sie das Attribut `href` aus den gefundenen Links. Filtern Sie alle Links heraus, die nicht auf andere Wikipedia Einträge verweisen, also nicht mit `/wiki/` beginnen."
   ]
  },
  {
   "cell_type": "code",
   "execution_count": null,
   "id": "ce00a512-4d6c-4e95-b8df-2ac6f5a192ab",
   "metadata": {
    "deletable": false,
    "tags": [
     "task-1"
    ]
   },
   "outputs": [],
   "source": [
    "refs = []\n",
    "\n",
    "...\n",
    "\n",
    "refs"
   ]
  },
  {
   "cell_type": "code",
   "execution_count": null,
   "id": "c6017860",
   "metadata": {
    "deletable": false,
    "editable": false
   },
   "outputs": [],
   "source": [
    "aufgabe1_3(refs)"
   ]
  }
 ],
 "metadata": {
  "kernelspec": {
   "display_name": "Python 3 (ipykernel)",
   "language": "python",
   "name": "python3"
  },
  "language_info": {
   "codemirror_mode": {
    "name": "ipython",
    "version": 3
   },
   "file_extension": ".py",
   "mimetype": "text/x-python",
   "name": "python",
   "nbconvert_exporter": "python",
   "pygments_lexer": "ipython3",
   "version": "3.10.12"
  }
 },
 "nbformat": 4,
 "nbformat_minor": 5
}
