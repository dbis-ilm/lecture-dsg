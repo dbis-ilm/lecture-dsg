{
 "cells": [
  {
   "cell_type": "markdown",
   "id": "c18be93c-6f2e-4ee5-939c-be792c9f400c",
   "metadata": {
    "deletable": false,
    "editable": false
   },
   "source": [
    "# HTML Parser\n",
    "Importieren Sie vor der Arbeit an den Aufgaben `requests`, `BeautifulSoup` und die Tests zu diesem Übungsblatt."
   ]
  },
  {
   "cell_type": "code",
   "execution_count": null,
   "id": "c9dde9e5",
   "metadata": {
    "deletable": false,
    "editable": false
   },
   "outputs": [],
   "source": [
    "import requests\n",
    "from bs4 import BeautifulSoup"
   ]
  },
  {
   "cell_type": "markdown",
   "id": "10111038-b376-4983-8f04-2acf607230f8",
   "metadata": {
    "deletable": false,
    "editable": false
   },
   "source": [
    "## Aufgabe 1\n",
    "Laden Sie den [Wikipedia Artikel zum Thema *Geschichte des Kinos*](https://de.wikipedia.org/wiki/Geschichte_des_Kinos)."
   ]
  },
  {
   "cell_type": "code",
   "execution_count": null,
   "id": "eb7670dd-b645-429a-a59e-0bd1fb061fed",
   "metadata": {
    "deletable": false,
    "editable": false,
    "tags": [
     "task-1"
    ]
   },
   "outputs": [],
   "source": [
    "text = requests.get('https://de.wikipedia.org/wiki/Geschichte_des_Kinos').text\n",
    "page = BeautifulSoup(text)"
   ]
  },
  {
   "cell_type": "markdown",
   "id": "2105c9b6-0371-45e4-9a53-d98c064592d2",
   "metadata": {
    "deletable": false,
    "editable": false
   },
   "source": [
    "Im Container (`div`) mit der `id` `bodyContent` ist der Text des Artikels enthalten. Finden Sie alle Links (`a`) innerhalb dieses Containers."
   ]
  },
  {
   "cell_type": "code",
   "execution_count": null,
   "id": "10b86846-55d3-4651-8f7f-6d0c2ac7c112",
   "metadata": {
    "deletable": false,
    "editable": false,
    "tags": [
     "task-1"
    ]
   },
   "outputs": [],
   "source": [
    "links = page.find('div', id='bodyContent').find_all('a')"
   ]
  },
  {
   "cell_type": "markdown",
   "id": "71f7a015-3d3f-41c5-ab97-48e1ca35270a",
   "metadata": {
    "deletable": false,
    "editable": false
   },
   "source": [
    "Extrahieren Sie das Attribut `href` aus den gefundenen Links. Filtern Sie alle Links heraus, die nicht auf andere Wikipedia Einträge verweisen, also nicht mit `/wiki/` beginnen."
   ]
  },
  {
   "cell_type": "code",
   "execution_count": null,
   "id": "f96ece07-d3c4-48b9-a8a0-2f80680e09a3",
   "metadata": {
    "deletable": false,
    "editable": false,
    "tags": [
     "task-1"
    ]
   },
   "outputs": [],
   "source": [
    "refs = [a['href'] for a in links if a['href'].startswith('/wiki/')]\n",
    "refs"
   ]
  }
 ],
 "metadata": {
  "kernelspec": {
   "display_name": "Python 3 (ipykernel)",
   "language": "python",
   "name": "python3"
  },
  "language_info": {
   "codemirror_mode": {
    "name": "ipython",
    "version": 3
   },
   "file_extension": ".py",
   "mimetype": "text/x-python",
   "name": "python",
   "nbconvert_exporter": "python",
   "pygments_lexer": "ipython3",
   "version": "3.8.10"
  }
 },
 "nbformat": 4,
 "nbformat_minor": 5
}
