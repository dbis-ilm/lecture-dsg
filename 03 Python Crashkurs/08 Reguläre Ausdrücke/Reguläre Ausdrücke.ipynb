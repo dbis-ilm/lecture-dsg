{
 "cells": [
  {
   "cell_type": "markdown",
   "id": "2ea39ae0",
   "metadata": {
    "deletable": false,
    "editable": false
   },
   "source": [
    "# Reguläre Ausdrücke\n",
    "Reguläre Ausdrücke ermöglichen es, Mengen von Zeichenketten auf Basis syntaktischer Regeln zu beschreiben. Für uns interessant werden sie durch die schier endlosen Möglichkeiten, die sie beim Suchen und Ersetzen in Zeichenketten ermöglichen. Auf die theoretischen Grundlagen regulärer Sprachen wird dagegen nicht eingegangen."
   ]
  },
  {
   "cell_type": "markdown",
   "id": "640231b7",
   "metadata": {
    "deletable": false,
    "editable": false
   },
   "source": [
    "## Inhaltsverzeichnis\n",
    "- [Vorbereitung](#Vorbereitung)\n",
    "- [Rohe Zeichenketten in Python](#Rohe-Zeichenketten-in-Python)\n",
    "- [Grundlagen der Mustersuche](#Grundlagen-der-Mustersuche)\n",
    "- [Funktionen aus dem Modul `re`](#Funktionen-aus-dem-Modul-re)\n",
    "- [Funfact](#Funfact)"
   ]
  },
  {
   "cell_type": "markdown",
   "id": "1d467189",
   "metadata": {
    "deletable": false,
    "editable": false
   },
   "source": [
    "## Vorbereitung\n",
    "Die meisten relevanten Funktionen zur Mustersuche befinden sich im Modul `re`. Importieren Sie zuerst dieses Modul:"
   ]
  },
  {
   "cell_type": "code",
   "execution_count": null,
   "id": "6d2a2f6f",
   "metadata": {
    "deletable": false,
    "editable": false
   },
   "outputs": [],
   "source": [
    "import re"
   ]
  },
  {
   "cell_type": "markdown",
   "id": "109459f2",
   "metadata": {
    "deletable": false,
    "editable": false
   },
   "source": [
    "## Rohe Zeichenketten in Python\n",
    "In Python gibt es verschiedene Arten von Zeichenketten, die durch unterschiedliche Präfixe gekennzeichnet werden. Im Folgenden werden wir häufig das Präfix `r` verwenden. Dieses steht nicht etwa für *regulär*, sondern für *raw*. Ihr Inhalt wird dem Namen folgend nicht von der Python Laufzeitumgebung interpretiert, sodass Sie beispielsweise Backslashes ohne Maskierung verwenden können.\n",
    "\n",
    "Veranschaulichen lässt sich das gut an einem Beispiel:"
   ]
  },
  {
   "cell_type": "code",
   "execution_count": null,
   "id": "686fb081",
   "metadata": {
    "deletable": false,
    "editable": false
   },
   "outputs": [],
   "source": [
    "print('Hallo\\nWelt')"
   ]
  },
  {
   "cell_type": "code",
   "execution_count": null,
   "id": "6398b9ad",
   "metadata": {
    "deletable": false,
    "editable": false
   },
   "outputs": [],
   "source": [
    "print(r'Hallo\\nWelt')"
   ]
  },
  {
   "cell_type": "code",
   "execution_count": null,
   "id": "eaae188c",
   "metadata": {
    "deletable": false,
    "editable": false
   },
   "outputs": [],
   "source": [
    "print('Hallo\\\\nWelt')"
   ]
  },
  {
   "cell_type": "markdown",
   "id": "7f1745ef",
   "metadata": {
    "deletable": false,
    "editable": false
   },
   "source": [
    "Während in der ersten Zelle der Backslash als Sonderzeichen erkannt und gemeinsam mit dem `n` als Zeilenumbruch interpretiert wird, bleibt die Zeichenkombination in der zweiten Zelle erhalten. Wichtig wird dies bei regulären Ausdrücken, mit deren Hilfe Sie nach Umbrüchen suchen wollen.. oder nach Tabulatoren, Backslashes selbst, etc.\n",
    "\n",
    "Die dritte Zelle zeigt eine Alternative zur zweiten Zelle, die auf Grund der Fehleranfälligkeit bei der Verwendung doppelter Backslashes jedoch gemieden werden sollte."
   ]
  },
  {
   "cell_type": "markdown",
   "id": "b88b6608",
   "metadata": {
    "deletable": false,
    "editable": false
   },
   "source": [
    "## Grundlagen der Mustersuche\n",
    "Zunächst sollen die Möglichkeiten der regulären Ausdrücke beleuchtet werden. Verwendet wird dazu die Funktion `findall`, die jedes Auftreten eines solchen Ausdrucks innerhalb einer Zeichenkette findet und zurückgibt. Nähere Informationen zur sinnvollen Verwendung dieser und anderer Funktionen sind nachfolgend notiert. Zunächst wollen wir aber erst einmal nur suchen."
   ]
  },
  {
   "cell_type": "markdown",
   "id": "d1d7b991",
   "metadata": {
    "deletable": false,
    "editable": false
   },
   "source": [
    "### Literale\n",
    "Den einfachsten Fall stellt die Suche nach Literalen dar, also solchen Bestandteile, die wörtlich übereinstimmen. Es kann sich dabei sowohl um einzelne Buchstaben als auch längere Kombinationen handeln. Wenn Sie nachzählen, werden Sie feststellen, dass der Text fünf Mal den Buchstaben `a` und drei Mal die Kombination `er` enthält."
   ]
  },
  {
   "cell_type": "code",
   "execution_count": null,
   "id": "c0157378",
   "metadata": {
    "deletable": false,
    "editable": false
   },
   "outputs": [],
   "source": [
    "re.findall(r'a', 'Franz jagt im komplett verwahrlosten Taxi quer durch Bayern.')"
   ]
  },
  {
   "cell_type": "code",
   "execution_count": null,
   "id": "48bc0206",
   "metadata": {
    "deletable": false,
    "editable": false
   },
   "outputs": [],
   "source": [
    "re.findall(r'er', 'Franz jagt im komplett verwahrlosten Taxi quer durch Bayern.')"
   ]
  },
  {
   "cell_type": "markdown",
   "id": "577d1989",
   "metadata": {
    "deletable": false,
    "editable": false
   },
   "source": [
    "Natürlich können Sie dafür auch die Funktion `find` benutzen. Im Folgenden werden Sie allerdings feststellen, dass Literale mit anderen Arten kombiniert werden können und damit erst reguläre Ausdrücke so mächtig bei der Suche in Texten machen."
   ]
  },
  {
   "cell_type": "markdown",
   "id": "d3cf9b5d",
   "metadata": {
    "deletable": false,
    "editable": false
   },
   "source": [
    "### Auswahl\n",
    "In eckigen Klammern lässt sich eine Auswahl von Zeichen ablegen. Im Text muss dann an der entsprechenden Stelle ein einzelnes Zeichen stehen, das von dieser Auswahl abgedeckt wird."
   ]
  },
  {
   "cell_type": "code",
   "execution_count": null,
   "id": "ec982461",
   "metadata": {
    "deletable": false,
    "editable": false
   },
   "outputs": [],
   "source": [
    "re.findall(r'Fran[zk] jag[td]', 'Franz jagt im komplett verwahrlosten Taxi quer durch Bayern.')"
   ]
  },
  {
   "cell_type": "code",
   "execution_count": null,
   "id": "0cac6965",
   "metadata": {
    "deletable": false,
    "editable": false
   },
   "outputs": [],
   "source": [
    "re.findall(r'Fran[zk] jag[td]', 'Frank jagd im komplett verwahrlosten Taxi quer durch Bayern.')"
   ]
  },
  {
   "cell_type": "markdown",
   "id": "41fff276",
   "metadata": {
    "deletable": false,
    "editable": false
   },
   "source": [
    "Im vorangeganenen Beispiel wird eine Auswahl mit Literalen kombiniert, um verschiedene Möglichkeiten abzudecken. Alle Phrasen, die nicht aufgezählt sind oder gar mehrere Buchstaben umfassen, werden dagegen nicht gefunden. Das gilt (in der Standardeinstellung) sogar für Groß- und Kleinschreibung."
   ]
  },
  {
   "cell_type": "code",
   "execution_count": null,
   "id": "aeb62566",
   "metadata": {
    "deletable": false,
    "editable": false
   },
   "outputs": [],
   "source": [
    "re.findall(r'Fran[zk] jag[td]', 'Franz jagT im komplett verwahrlosten Taxi quer durch Bayern.')"
   ]
  },
  {
   "cell_type": "code",
   "execution_count": null,
   "id": "1e2aebdb",
   "metadata": {
    "deletable": false,
    "editable": false
   },
   "outputs": [],
   "source": [
    "re.findall(r'Fran[zk] jag[td]', 'Franzi jagt im komplett verwahrlosten Taxi quer durch Bayern.')"
   ]
  },
  {
   "cell_type": "markdown",
   "id": "222a77e3",
   "metadata": {
    "deletable": false,
    "editable": false
   },
   "source": [
    "Innerhalb der Auswahl können Sie Bindestriche verwenden, um eine ganze Reihe von Buchstaben abzudecken, statt diese einzeln aufzuzählen."
   ]
  },
  {
   "cell_type": "code",
   "execution_count": null,
   "id": "616f29ef",
   "metadata": {
    "deletable": false,
    "editable": false
   },
   "outputs": [],
   "source": [
    "re.findall(r'Fran[A-z]', 'Franz jagt im komplett verwahrlosten Taxi quer durch Bayern.')"
   ]
  },
  {
   "cell_type": "code",
   "execution_count": null,
   "id": "030602ab",
   "metadata": {
    "deletable": false,
    "editable": false
   },
   "outputs": [],
   "source": [
    "re.findall(r'Fran[A-z]', 'FranK jagt im komplett verwahrlosten Taxi quer durch Bayern.')"
   ]
  },
  {
   "cell_type": "markdown",
   "id": "83c4b80b",
   "metadata": {
    "deletable": false,
    "editable": false
   },
   "source": [
    "Beachten Sie dabei jedoch, dass wie bereits bei der Sortierung bzw. dem Größenvergleich von Zeichenketten erneut die ASCII-Tabelle zu Rate gezogen wird. Zwischen `A` ($65$) und `z` ($122$) liegen deshalb auch die Zeichen `[` ($91$), `\\` ($92$), `]` ($93$), `^` ($94$), `_` ($95$) und `` ` `` ($96$)."
   ]
  },
  {
   "cell_type": "code",
   "execution_count": null,
   "id": "9f28f840",
   "metadata": {
    "deletable": false,
    "editable": false
   },
   "outputs": [],
   "source": [
    "re.findall(r'Fran[A-z]', 'Fran_ jagt im komplett verwahrlosten Taxi quer durch Bayern.')"
   ]
  },
  {
   "cell_type": "markdown",
   "id": "5ffe418e",
   "metadata": {
    "deletable": false,
    "editable": false
   },
   "source": [
    "In der Regel ist daher `A-Za-z` dem Ausdruck `A-Z` vorzuziehen."
   ]
  },
  {
   "cell_type": "code",
   "execution_count": null,
   "id": "db34edfd",
   "metadata": {
    "deletable": false,
    "editable": false
   },
   "outputs": [],
   "source": [
    "re.findall(r'Fran[A-Za-z]', 'Fran_ jagt im komplett verwahrlosten Taxi quer durch Bayern.')"
   ]
  },
  {
   "cell_type": "markdown",
   "id": "0c716a2d",
   "metadata": {
    "deletable": false,
    "editable": false
   },
   "source": [
    "Solche Gruppierungen lassen sich auch invertieren, indem Sie der Aufzählung ein Zirkumflex `^` voranstellen."
   ]
  },
  {
   "cell_type": "code",
   "execution_count": null,
   "id": "dcc77b70",
   "metadata": {
    "deletable": false,
    "editable": false
   },
   "outputs": [],
   "source": [
    "re.findall(r'Fran[^z]', 'Franz jagt im komplett verwahrlosten Taxi quer durch Bayern.')"
   ]
  },
  {
   "cell_type": "code",
   "execution_count": null,
   "id": "23cd4c44",
   "metadata": {
    "deletable": false,
    "editable": false
   },
   "outputs": [],
   "source": [
    "re.findall(r'Fran[^z]', 'Frank jagt im komplett verwahrlosten Taxi quer durch Bayern.')"
   ]
  },
  {
   "cell_type": "markdown",
   "id": "b2d3ccea",
   "metadata": {
    "deletable": false,
    "editable": false
   },
   "source": [
    "Häufig verwendete Gruppierungen müssen Sie übrigens selten selbst aufzählen. Verwenden Sie stattdessen eine der vordefinierten Zeichenklassen:\n",
    "\n",
    "| Klasse | Entsprechung                                        |\n",
    "| ------ | --------------------------------------------------- |\n",
    "| `\\d`   | Ziffer (**d**igit) bzw. `[0-9]`                     |\n",
    "| `\\D`   | keine Ziffer bzw. `^\\d`                             |\n",
    "| `\\w`   | Buchstabe, Ziffer, Unterstrich bzw. `[A-Za-z0-9_`   |\n",
    "| `\\W`   | `^\\w` bzw. alles außer `\\w`                         |\n",
    "| `\\s`   | alle Arten von Leerräumen (Leerzeichen, `\\t`, usw.) |\n",
    "| `\\S`   | `^\\s` bzw. alles außer `\\s`                         |\n",
    "| `.`    | ein beliebiges Zeichen                              |"
   ]
  },
  {
   "cell_type": "markdown",
   "id": "3f06bf76",
   "metadata": {
    "deletable": false,
    "editable": false
   },
   "source": [
    "### Gruppierungen und Alternativen\n",
    "Gruppen können erstellt werden, indem diese von runden Klammern umschlossen werden. Die Inhalte dieser Gruppen können nachfolgend einzeln abgerufen werden."
   ]
  },
  {
   "cell_type": "code",
   "execution_count": null,
   "id": "390bd867",
   "metadata": {
    "deletable": false,
    "editable": false
   },
   "outputs": [],
   "source": [
    "re.findall(r'(Fran[zk]) (jag[td])', 'Franz jagt im komplett verwahrlosten Taxi quer durch Bayern.')"
   ]
  },
  {
   "cell_type": "markdown",
   "id": "b57623ab",
   "metadata": {
    "deletable": false,
    "editable": false
   },
   "source": [
    "Alternativen werden durch einen vertikalen Strich `|` gekennzeichnet."
   ]
  },
  {
   "cell_type": "code",
   "execution_count": null,
   "id": "6e0e0a80",
   "metadata": {
    "deletable": false,
    "editable": false
   },
   "outputs": [],
   "source": [
    "re.findall(r'Franz|Frank', 'Franz jagt im komplett verwahrlosten Taxi quer durch Bayern.')"
   ]
  },
  {
   "cell_type": "markdown",
   "id": "de143cdb",
   "metadata": {
    "deletable": false,
    "editable": false
   },
   "source": [
    "### Quantoren und Gier\n",
    "Quantoren geben an, wie häufig ein Element vorkommen soll. Die Notation erfolgt nach dem Schema `{Anzahl}` oder `{min,max}` nach einem Literal, einer Auswahl oder einer Gruppe. Das Maximum kann auch ausgelassen werden."
   ]
  },
  {
   "cell_type": "code",
   "execution_count": null,
   "id": "a5b4d1f0",
   "metadata": {
    "deletable": false,
    "editable": false
   },
   "outputs": [],
   "source": [
    "re.findall(r'f{2}', 'Donaudampfschifffahrtsgesellschaft')"
   ]
  },
  {
   "cell_type": "code",
   "execution_count": null,
   "id": "128f8c82",
   "metadata": {
    "deletable": false,
    "editable": false
   },
   "outputs": [],
   "source": [
    "re.findall(r'f{1,2}', 'Donaudampfschifffahrtsgesellschaft')"
   ]
  },
  {
   "cell_type": "markdown",
   "id": "910c0dea",
   "metadata": {
    "deletable": false,
    "editable": false
   },
   "source": [
    "Standardmäßig ist der Interpreter \"gierig\" und wählt möglichst lange Zeichenketten, die dem regulären Ausdruck entsprechen:"
   ]
  },
  {
   "cell_type": "code",
   "execution_count": null,
   "id": "a0f985e2",
   "metadata": {
    "deletable": false,
    "editable": false
   },
   "outputs": [],
   "source": [
    "re.findall(r'f{2,}', 'Donaudampfschifffahrtsgesellschaft')"
   ]
  },
  {
   "cell_type": "markdown",
   "id": "fd588708",
   "metadata": {
    "deletable": false,
    "editable": false
   },
   "source": [
    "Der Interpreter wird \"großzügig\", sobald Sie dem Quantor ein Fragezeichen folgen lassen:"
   ]
  },
  {
   "cell_type": "code",
   "execution_count": null,
   "id": "94cb4a8f",
   "metadata": {
    "deletable": false,
    "editable": false
   },
   "outputs": [],
   "source": [
    "re.findall(r'f{2,}?', 'Donaudampfschifffahrtsgesellschaft')"
   ]
  },
  {
   "cell_type": "markdown",
   "id": "de22c2f5",
   "metadata": {
    "deletable": false,
    "editable": false
   },
   "source": [
    "Auch für die Quantoren existieren Abkürzungen:\n",
    "\n",
    "| Abkürzung | Entsprechung                  |\n",
    "| --------- | ----------------------------- |\n",
    "| `?`       | optional bzw. `{0,1}`         |\n",
    "| `+`       | mindestens einmal bzw. `{1,}` |\n",
    "| `*`       | beliebig oft bzw. `{0,}`      |"
   ]
  },
  {
   "cell_type": "markdown",
   "id": "bef02f3c",
   "metadata": {
    "deletable": false,
    "editable": false
   },
   "source": [
    "### Zeilenanfang und Zeilenende\n",
    "Der Anfang und das Ende einer Zeile lassen sich ebenfalls verwenden. Dafür sind die Zeichen `^` bzw. `$` reserviert."
   ]
  },
  {
   "cell_type": "code",
   "execution_count": null,
   "id": "2076583c",
   "metadata": {
    "deletable": false,
    "editable": false
   },
   "outputs": [],
   "source": [
    "re.findall(r'Fisch|Fritz', 'Fischers Fritz fischt frische Fische - frische Fische fischt Fischers Fritz')"
   ]
  },
  {
   "cell_type": "code",
   "execution_count": null,
   "id": "ef629beb",
   "metadata": {
    "deletable": false,
    "editable": false
   },
   "outputs": [],
   "source": [
    "re.findall(r'^Fisch', 'Fischers Fritz fischt frische Fische - frische Fische fischt Fischers Fritz')"
   ]
  },
  {
   "cell_type": "code",
   "execution_count": null,
   "id": "a2698c8f",
   "metadata": {
    "deletable": false,
    "editable": false
   },
   "outputs": [],
   "source": [
    "re.findall(r'Fritz$', 'Fischers Fritz fischt frische Fische - frische Fische fischt Fischers Fritz')"
   ]
  },
  {
   "cell_type": "markdown",
   "id": "f78fc872",
   "metadata": {
    "deletable": false,
    "editable": false
   },
   "source": [
    "Denken Sie bitte daran, dass das Zirkumflex in einer Auswahl die Rolle der Negation übernimmt und nur außerhalb für den Zeilenanfang steht."
   ]
  },
  {
   "cell_type": "markdown",
   "id": "dbea29fe",
   "metadata": {
    "deletable": false,
    "editable": false
   },
   "source": [
    "### Ein praktischer Hinweis\n",
    "Auf Seiten wie [regex101](https://regex101.com/) können Sie einen Text und Ihren regulären Ausdruck einfügen, sehen eine Erklärung und bei Änderungen auch sofort die Auswirkungen."
   ]
  },
  {
   "cell_type": "markdown",
   "id": "3603c151",
   "metadata": {
    "deletable": false,
    "editable": false
   },
   "source": [
    "## Funktionen aus dem Modul `re`\n",
    "### `match`\n",
    "`match` findet eine Übereinstimmung, wenn der Ausdruck zu Beginn der Zeichenkette gematcht werden kann."
   ]
  },
  {
   "cell_type": "code",
   "execution_count": null,
   "id": "fc74b048",
   "metadata": {
    "deletable": false,
    "editable": false
   },
   "outputs": [],
   "source": [
    "re.match(r'Franz jagt (.*?) durch Bayern.', 'Franz jagt im komplett verwahrlosten Taxi quer durch Bayern.')"
   ]
  },
  {
   "cell_type": "code",
   "execution_count": null,
   "id": "45cde794",
   "metadata": {
    "deletable": false,
    "editable": false
   },
   "outputs": [],
   "source": [
    "re.match(r'jagt (.*?) durch Bayern.', 'Franz jagt im komplett verwahrlosten Taxi quer durch Bayern.')"
   ]
  },
  {
   "cell_type": "markdown",
   "id": "25e2e86e",
   "metadata": {
    "deletable": false,
    "editable": false
   },
   "source": [
    "### `fullmatch`\n",
    "`fullmatch` findet eine Übereinstimmung, wenn der Ausdruck auf die komplette Zeichenkette gematcht werden kann."
   ]
  },
  {
   "cell_type": "code",
   "execution_count": null,
   "id": "280bad51",
   "metadata": {
    "deletable": false,
    "editable": false
   },
   "outputs": [],
   "source": [
    "re.fullmatch(r'Franz jagt (.*?) durch Bayern.', 'Franz jagt im komplett verwahrlosten Taxi quer durch Bayern.')"
   ]
  },
  {
   "cell_type": "code",
   "execution_count": null,
   "id": "19f36384",
   "metadata": {
    "deletable": false,
    "editable": false
   },
   "outputs": [],
   "source": [
    "re.fullmatch(r'Franz jagt (.*?) durch', 'Franz jagt im komplett verwahrlosten Taxi quer durch Bayern.')"
   ]
  },
  {
   "cell_type": "markdown",
   "id": "89b857d5",
   "metadata": {
    "deletable": false,
    "editable": false
   },
   "source": [
    "### `findall`\n",
    "`findall` sucht jedes Vorkommen eines Ausdrucks innerhalb einer Zeichenkette und gibt die Ergebnisse als Liste zurück."
   ]
  },
  {
   "cell_type": "code",
   "execution_count": null,
   "id": "de7364f1",
   "metadata": {
    "deletable": false,
    "editable": false
   },
   "outputs": [],
   "source": [
    "re.findall(r'er', 'Franz jagt im komplett verwahrlosten Taxi quer durch Bayern.')"
   ]
  },
  {
   "cell_type": "markdown",
   "id": "9d334d39",
   "metadata": {
    "deletable": false,
    "editable": false
   },
   "source": [
    "### `finditer`\n",
    "`finditer` sucht jedes Vorkommen eines Ausdrucks innerhalb einer Zeichenkette und gibt die Ergebnisse als Generator zurück."
   ]
  },
  {
   "cell_type": "code",
   "execution_count": null,
   "id": "43bbf95a",
   "metadata": {
    "deletable": false,
    "editable": false
   },
   "outputs": [],
   "source": [
    "for match in re.finditer(r'er', 'Franz jagt im komplett verwahrlosten Taxi quer durch Bayern.'):\n",
    "    print(match)"
   ]
  },
  {
   "cell_type": "markdown",
   "id": "dea1b98d",
   "metadata": {
    "deletable": false,
    "editable": false
   },
   "source": [
    "### `split`\n",
    "`split` teilt eine Zeichenkette anhand eines regulären Ausdrucks. Der gefundene Ausdruck wird dabei aus der Zeichenkette entfernt."
   ]
  },
  {
   "cell_type": "code",
   "execution_count": null,
   "id": "a5c69728",
   "metadata": {
    "deletable": false,
    "editable": false
   },
   "outputs": [],
   "source": [
    "re.split(r'e[nt]', 'Franz jagt im komplett verwahrlosten Taxi quer durch Bayern.')"
   ]
  },
  {
   "cell_type": "markdown",
   "id": "e77bdc98",
   "metadata": {
    "deletable": false,
    "editable": false
   },
   "source": [
    "### Flags\n",
    "Beim Aufruf der oben genannten Funktionen lassen sich sogenannte Flags als zusätzlichen, optionalen Parameter angeben, mit denen Sie Details bei der Suche nach Übereinstimmungen festlegen können. Die mit Abstand am häufigsten verwendete Flag ist `re.IGNORECASE` und bestimmt, dass Groß- und Kleinschreibung keinen Einfluss auf die Suche haben."
   ]
  },
  {
   "cell_type": "code",
   "execution_count": null,
   "id": "c84dacc1",
   "metadata": {
    "deletable": false,
    "editable": false
   },
   "outputs": [],
   "source": [
    "re.findall(r'frAnZ', 'Franz jagt im komplett verwahrlosten Taxi quer durch Bayern.', re.IGNORECASE)"
   ]
  },
  {
   "cell_type": "markdown",
   "id": "79f8dab1",
   "metadata": {
    "deletable": false,
    "editable": false
   },
   "source": [
    "Für die Verarbeitung komplexerer Zeichenketten können außerdem `re.MULTILINE` und `re.DOTALL` hilfreich sein."
   ]
  },
  {
   "cell_type": "markdown",
   "id": "940563bc",
   "metadata": {
    "deletable": false,
    "editable": false
   },
   "source": [
    "## Funfact\n",
    "Der Beispieltext *Franz jagt im komplett verwahrlosten Taxi quer durch Bayern.* ist ein sogenanntes Pangramm, da der gültige Satz jeden Buchstaben des Alphabets - abgesehen von Umlauten - mindestens einmal enthält. In der englischen Sprache ist dagegen der Satz *The quick brown fox jumps over the lazy dog.* verbreitet, während man beim Testen mit Umlauten auf *Zwölf Boxkämpfer jagen Viktor quer über den großen Sylter Deich.* ausweichen kann.\n",
    "\n",
    "Alle von diesen werden verwendet, um die Darstellung von Schriften zu prüfen. Die Idee selbst ist aber deutlich älter als der digitale Zeichensatz."
   ]
  }
 ],
 "metadata": {
  "kernelspec": {
   "display_name": "Python 3 (ipykernel)",
   "language": "python",
   "name": "python3"
  },
  "language_info": {
   "codemirror_mode": {
    "name": "ipython",
    "version": 3
   },
   "file_extension": ".py",
   "mimetype": "text/x-python",
   "name": "python",
   "nbconvert_exporter": "python",
   "pygments_lexer": "ipython3",
   "version": "3.10.6"
  }
 },
 "nbformat": 4,
 "nbformat_minor": 5
}
