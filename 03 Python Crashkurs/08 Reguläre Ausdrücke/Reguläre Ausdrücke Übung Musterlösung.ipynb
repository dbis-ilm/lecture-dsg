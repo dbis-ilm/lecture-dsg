{
 "cells": [
  {
   "cell_type": "markdown",
   "id": "591f3925",
   "metadata": {
    "deletable": false,
    "editable": false
   },
   "source": [
    "# Reguläre Ausdrücke Übungsaufgaben\n",
    "Importieren Sie zuerst die Tests für dieses Übungsblatt und das benötigte Modul `re`. Die Textverarbeitung soll im Folgenden nur mit Hilfe regulärer Ausdrücke erfolgen."
   ]
  },
  {
   "cell_type": "markdown",
   "id": "2565ca97",
   "metadata": {
    "deletable": false,
    "editable": false
   },
   "source": [
    "## Aufgabe 1\n",
    "Legen Sie eine Variable mit dem Namen `text` an und laden Sie den Beispieltext aus der Datei `faust.txt` vollständog hinein."
   ]
  },
  {
   "cell_type": "code",
   "execution_count": null,
   "id": "68b7796b",
   "metadata": {
    "deletable": false,
    "editable": false,
    "tags": [
     "task-1"
    ]
   },
   "outputs": [],
   "source": [
    "with open('faust.txt') as file:\n",
    "    text = file.read()"
   ]
  },
  {
   "cell_type": "markdown",
   "id": "0e1ac943",
   "metadata": {
    "deletable": false,
    "editable": false
   },
   "source": [
    "## Aufgabe 2\n",
    "Zählen Sie alle Vorkommen des Wortes *er*. Beachten Sie dabei zunächst Groß- und Kleinschreibung."
   ]
  },
  {
   "cell_type": "code",
   "execution_count": null,
   "id": "d22a8fa5",
   "metadata": {
    "deletable": false,
    "editable": false,
    "tags": [
     "task-2-1"
    ]
   },
   "outputs": [],
   "source": [
    "#jp_solution\n",
    "count_er = text.count('er')\n",
    "count_er"
   ]
  },
  {
   "cell_type": "markdown",
   "id": "b6e66aa9",
   "metadata": {
    "deletable": false,
    "editable": false
   },
   "source": [
    "Zählen Sie erneut alle Vorkommen des Wortes *er*. Beachten Sie dieses Mal **nicht** die Groß- und Kleinschreibung."
   ]
  },
  {
   "cell_type": "code",
   "execution_count": null,
   "id": "3d0bdf34",
   "metadata": {
    "deletable": false,
    "editable": false,
    "tags": [
     "task-2-2"
    ]
   },
   "outputs": [],
   "source": [
    "#jp_solution\n",
    "count_er = sum((1 for _ in re.finditer(r'er', text, re.IGNORECASE)))\n",
    "count_er"
   ]
  },
  {
   "cell_type": "markdown",
   "id": "05577d84",
   "metadata": {
    "deletable": false,
    "editable": false
   },
   "source": [
    "## Aufgabe 3\n",
    "Zerteilen Sie den Text in Absätze und wählen Sie den 104. aus.\n",
    "\n",
    "Absätze werden voneinander durch mindestens zwei Zeilenumbrüche getrennt. Beachten Sie bitte, dass einige Absätze auch durch mehr als zwei Zeilenumbrüche voneinander getrennt sind. Würden Sie diese nur mit dem Ausdruck `\\n\\n` aufteilen, entstünden leere Einträge, die auch die Position des gesuchten Paragraphen verschieben!\n",
    "\n",
    "```\n",
    "> Zueignung↵\n",
    "> ↵\n",
    "> ↵\n",
    "> Ihr naht euch wieder, schwankende Gestalten,↵\n",
    "```"
   ]
  },
  {
   "cell_type": "code",
   "execution_count": null,
   "id": "3dddcde9",
   "metadata": {
    "deletable": false,
    "editable": false,
    "tags": [
     "task-3"
    ]
   },
   "outputs": [],
   "source": [
    "no104 = re.split(r'\\n\\n+', text)[104]\n",
    "print(no104)"
   ]
  },
  {
   "cell_type": "markdown",
   "id": "7753bf27",
   "metadata": {
    "deletable": false,
    "editable": false
   },
   "source": [
    "## Aufgabe 4\n",
    "Suchen Sie alle Wörter, in denen mindestens drei Vokale in alphabetischer Reihenfolge erscheinen. Die Informationen in englischer Sprache zu Beginn und zu Ende des Dokuments müssen Sie dabei nicht ausschließen, sodass auch einige englische Wörter im Ergebnis enthalten sind.\n",
    "\n",
    "Zu diesen zählt auch **a**ufzur**ei**ßen, obwohl zwischen *a* und *e* zwei *u* eingebettet sind."
   ]
  },
  {
   "cell_type": "code",
   "execution_count": null,
   "id": "8cc3475a",
   "metadata": {
    "deletable": false,
    "editable": false,
    "tags": [
     "task-4"
    ]
   },
   "outputs": [],
   "source": [
    "words = re.findall(r'[A-Za-z]*a[A-Za-z]*?e[A-Za-z]*?i[A-Za-z]*|[A-Za-z]*e[A-Za-z]*?i[A-Za-z]*?o[A-Za-z]*|[A-Za-z]*i[A-Za-z]*?o[A-Za-z]*?u[A-Za-z]*', text)"
   ]
  }
 ],
 "metadata": {
  "kernelspec": {
   "display_name": "Python 3 (ipykernel)",
   "language": "python",
   "name": "python3"
  },
  "language_info": {
   "codemirror_mode": {
    "name": "ipython",
    "version": 3
   },
   "file_extension": ".py",
   "mimetype": "text/x-python",
   "name": "python",
   "nbconvert_exporter": "python",
   "pygments_lexer": "ipython3",
   "version": "3.10.6"
  }
 },
 "nbformat": 4,
 "nbformat_minor": 5
}
