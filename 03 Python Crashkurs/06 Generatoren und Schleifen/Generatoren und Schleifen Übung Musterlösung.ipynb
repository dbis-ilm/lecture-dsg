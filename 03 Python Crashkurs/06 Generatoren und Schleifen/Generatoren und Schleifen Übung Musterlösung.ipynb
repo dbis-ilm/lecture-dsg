{
 "cells": [
  {
   "cell_type": "markdown",
   "id": "8a71c734",
   "metadata": {
    "deletable": false,
    "editable": false
   },
   "source": [
    "# Generatoren und Schleifen\n",
    "Importieren Sie zunächst die Tests für dieses Übungsblatt."
   ]
  },
  {
   "cell_type": "markdown",
   "id": "f43d8490",
   "metadata": {
    "deletable": false,
    "editable": false
   },
   "source": [
    "## Aufgabe 1\n",
    "Definieren Sie einen Generator `even`, der als Parameter eine ganze Zahl erhält und alle geraden Zahlen einschließlich $0$ zurückgibt, die echt kleiner als der übergebene Wert sind."
   ]
  },
  {
   "cell_type": "code",
   "execution_count": null,
   "id": "b25cf7f1",
   "metadata": {
    "deletable": false,
    "editable": false,
    "tags": [
     "task-1"
    ]
   },
   "outputs": [],
   "source": [
    "def even(i):\n",
    "    yield from range(0, i, 2)"
   ]
  },
  {
   "cell_type": "markdown",
   "id": "5e13954b",
   "metadata": {
    "deletable": false,
    "editable": false
   },
   "source": [
    "## Aufgabe 2\n",
    "Speichern Sie alle Werte des Aufrufs `even(256)` in einer Liste `even_list`."
   ]
  },
  {
   "cell_type": "code",
   "execution_count": null,
   "id": "0ec37b2c",
   "metadata": {
    "deletable": false,
    "editable": false,
    "tags": [
     "task-2"
    ]
   },
   "outputs": [],
   "source": [
    "even_list = list(even(256))\n",
    "even_list"
   ]
  }
 ],
 "metadata": {
  "kernelspec": {
   "display_name": "Python 3 (ipykernel)",
   "language": "python",
   "name": "python3"
  },
  "language_info": {
   "codemirror_mode": {
    "name": "ipython",
    "version": 3
   },
   "file_extension": ".py",
   "mimetype": "text/x-python",
   "name": "python",
   "nbconvert_exporter": "python",
   "pygments_lexer": "ipython3",
   "version": "3.8.10"
  }
 },
 "nbformat": 4,
 "nbformat_minor": 5
}
