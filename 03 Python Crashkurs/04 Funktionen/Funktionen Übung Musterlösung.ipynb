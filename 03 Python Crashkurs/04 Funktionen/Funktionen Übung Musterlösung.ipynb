{
 "cells": [
  {
   "cell_type": "markdown",
   "id": "d0a73856",
   "metadata": {
    "deletable": false,
    "editable": false
   },
   "source": [
    "# Funktionen Übungsaufgaben\n",
    "Importieren Sie zunächst die Tests für dieses Übungsblatt."
   ]
  },
  {
   "cell_type": "markdown",
   "id": "04f005ae",
   "metadata": {
    "deletable": false,
    "editable": false
   },
   "source": [
    "## Aufgabe 1\n",
    "Schreiben Sie eine Funktion `digit_sum`, die als Parameter eine ganze Zahl mit maximal vier Ziffern erhält, die Quersumme berechnet und diese zurückgibt."
   ]
  },
  {
   "cell_type": "code",
   "execution_count": null,
   "id": "6a179b56",
   "metadata": {
    "deletable": false,
    "editable": false
   },
   "outputs": [],
   "source": [
    "def digit_sum(x):\n",
    "    y = 0\n",
    "\n",
    "    y += x % 10\n",
    "    x = x // 10\n",
    "    y += x % 10\n",
    "    x = x // 10\n",
    "    y += x % 10\n",
    "    x = x // 10\n",
    "    y += x % 10\n",
    "\n",
    "    return y"
   ]
  },
  {
   "cell_type": "markdown",
   "id": "525b7040",
   "metadata": {
    "deletable": false,
    "editable": false
   },
   "source": [
    "## Aufgabe 2\n",
    "Schreiben Sie eine Funktion `info`, die eine beliebige Anzahl an Argumenten akzeptiert. Die Funktion soll die Anzahl, das Minimum und das Maximum der Parameter in genau dieser Reihenfolge zurückgeben.\n",
    "\n",
    "Beispiel:\n",
    "```python\n",
    "info(1, 12, 3, 4) -> (4, 1, 12)\n",
    "```"
   ]
  },
  {
   "cell_type": "code",
   "execution_count": null,
   "id": "66318bae",
   "metadata": {
    "deletable": false,
    "editable": false
   },
   "outputs": [],
   "source": [
    "def info(*args):\n",
    "    return len(args), min(args), max(args)"
   ]
  }
 ],
 "metadata": {
  "kernelspec": {
   "display_name": "Python 3 (ipykernel)",
   "language": "python",
   "name": "python3"
  },
  "language_info": {
   "codemirror_mode": {
    "name": "ipython",
    "version": 3
   },
   "file_extension": ".py",
   "mimetype": "text/x-python",
   "name": "python",
   "nbconvert_exporter": "python",
   "pygments_lexer": "ipython3",
   "version": "3.8.10"
  }
 },
 "nbformat": 4,
 "nbformat_minor": 5
}
