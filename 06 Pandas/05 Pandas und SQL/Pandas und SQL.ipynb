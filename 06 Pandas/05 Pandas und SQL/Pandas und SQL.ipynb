{
 "cells": [
  {
   "cell_type": "markdown",
   "id": "8e5a01fd",
   "metadata": {
    "deletable": false,
    "editable": false
   },
   "source": [
    "# Pandas und SQL\n",
    "Pandas besitzt mit DataFrames ein Konzept, das Tabellen in relationalen Datenbanken ähnelt. Entsprechend stehen auch ähnliche Operationen bereit, um diese miteinander zu verknüpfen."
   ]
  },
  {
   "cell_type": "code",
   "execution_count": null,
   "id": "62601989",
   "metadata": {
    "deletable": false
   },
   "outputs": [],
   "source": [
    "import pandas as pd\n",
    "import sqlite3\n",
    "import csv\n",
    "\n",
    "from tui_dsg.datasets import disney_plus_titles_path\n",
    "from tui_dsg.datasets import disney_plus_ratings_path"
   ]
  },
  {
   "cell_type": "code",
   "execution_count": null,
   "id": "e0499ea3-e502-4e79-83b6-f707f094a87a",
   "metadata": {
    "deletable": false
   },
   "outputs": [],
   "source": [
    "# Datenbank im Arbeitsspeicher anlegen\n",
    "db = sqlite3.connect(':memory:')"
   ]
  },
  {
   "cell_type": "markdown",
   "id": "a40fba7d",
   "metadata": {
    "deletable": false,
    "editable": false
   },
   "source": [
    "## Inhaltsverzeichnis\n",
    "- [DataFrames als Tabelle speichern](#DataFrames-als-Tabelle-speichern)\n",
    "- [DataFrames aus Tabellen lesen](#DataFrames-aus-Tabellen-lesen)\n",
    "- [Operationen im DBMS](#Operationen-im-DBMS)\n",
    "- [Hinweise zum Datensatz](#Hinweise-zum-Datensatz)"
   ]
  },
  {
   "cell_type": "markdown",
   "id": "1393c538",
   "metadata": {
    "deletable": false,
    "editable": false
   },
   "source": [
    "## DataFrames als Tabelle speichern\n",
    "DataFrames können als Tabelle gespeichert werden. Zur Veranschaulichung müssen die Daten zunächst aus den Dateien geladen werden. Sie enthalten einen Auszug aus dem Datensatz [Disney+ Movies and TV Shows](https://www.kaggle.com/code/werador/disney-data-analysis/data) und die Bewertungen der TMDb Nutzer."
   ]
  },
  {
   "cell_type": "code",
   "execution_count": null,
   "id": "0ea5e25b",
   "metadata": {
    "deletable": false
   },
   "outputs": [],
   "source": [
    "df_titles = pd.read_csv(disney_plus_titles_path)\n",
    "df_ratings = pd.read_csv(disney_plus_ratings_path)"
   ]
  },
  {
   "cell_type": "markdown",
   "id": "d818d737",
   "metadata": {
    "deletable": false,
    "editable": false
   },
   "source": [
    "Die Funktion `to_sql` benötigt den Namen der Ziel-Tabelle als String und eine Datenbankverbindung basierend auf SQLAlchemy oder SQLite3. Zusätzlich kann angegeben werden, welches Verhalten bei bereits existierenden Tabellen gewählt wird. Zurückgegeben wird die Anzahl der veränderten Zeilen."
   ]
  },
  {
   "cell_type": "code",
   "execution_count": null,
   "id": "0e597435",
   "metadata": {
    "deletable": false
   },
   "outputs": [],
   "source": [
    "df_titles.to_sql('titles', db, if_exists='replace'), \\\n",
    "df_ratings.to_sql('ratings', db, if_exists='replace')"
   ]
  },
  {
   "cell_type": "markdown",
   "id": "25c88259",
   "metadata": {
    "deletable": false,
    "editable": false
   },
   "source": [
    "Nachdem die Daten in der Datenbank abgelegt wurden, können die DataFrames wieder gelöscht werden."
   ]
  },
  {
   "cell_type": "code",
   "execution_count": null,
   "id": "92df412c",
   "metadata": {
    "deletable": false
   },
   "outputs": [],
   "source": [
    "del df_titles\n",
    "del df_ratings"
   ]
  },
  {
   "cell_type": "markdown",
   "id": "2be15a57",
   "metadata": {
    "deletable": false,
    "editable": false
   },
   "source": [
    "## DataFrames aus Tabellen lesen\n",
    "Die Funktion `read_sql_table` liest eine Tabelle und speichert sie in ein DataFrame. Als Parameter werden der Name der Tabelle und eine Datenbankverbindung erwartet. Die Funktion benötigt allerdings zwangsweise SQLAlchemy.\n",
    "\n",
    "Alternativ können mit der Methode `read_sql_query` SQL Statements auf einer beliebigen Datenbankverbindung ausgeführt und das Ergebnis in ein DataFrame gespeichert werden."
   ]
  },
  {
   "cell_type": "code",
   "execution_count": null,
   "id": "71a2bf3a",
   "metadata": {
    "deletable": false
   },
   "outputs": [],
   "source": [
    "df_titles = pd.read_sql_query('SELECT * FROM titles', db)\n",
    "df_titles.head(3)"
   ]
  },
  {
   "cell_type": "code",
   "execution_count": null,
   "id": "8e2504ac",
   "metadata": {
    "deletable": false
   },
   "outputs": [],
   "source": [
    "df_ratings = pd.read_sql_query('SELECT * FROM ratings', db)\n",
    "df_ratings.head(3)"
   ]
  },
  {
   "cell_type": "markdown",
   "id": "e1b43f63",
   "metadata": {
    "deletable": false,
    "editable": false
   },
   "source": [
    "Da Pandas automatisch den Index als Spalte in die Datenbank schreibt, sollte dieser wiederverwendet werden. Mit dem Parameter `index_col` können Sie eine der zurückgegebenen Spalten als Index verwenden."
   ]
  },
  {
   "cell_type": "code",
   "execution_count": null,
   "id": "212e1586",
   "metadata": {
    "deletable": false
   },
   "outputs": [],
   "source": [
    "pd.read_sql_query('SELECT * FROM ratings', db, index_col='index').head(5)"
   ]
  },
  {
   "cell_type": "markdown",
   "id": "ce98f056",
   "metadata": {
    "deletable": false,
    "editable": false
   },
   "source": [
    "## Operationen im DBMS\n",
    "Diese Methode `read_sql_query` können Sie auch verwenden, um Operationen ins Datenbankmanagementsystem auszulagern.\n",
    "\n",
    "Das erspart Ihnen bei Joins, beide Tabellen vollständig als DataFrames in den Arbeitsspeicher zu laden, und kann somit den Speicherverbrauch senken."
   ]
  },
  {
   "cell_type": "code",
   "execution_count": null,
   "id": "0a3549cb",
   "metadata": {
    "deletable": false
   },
   "outputs": [],
   "source": [
    "df_merge = pd.read_sql_query('''\n",
    "    SELECT *\n",
    "    FROM      titles\n",
    "    LEFT JOIN ratings\n",
    "        ON show_id = show\n",
    "''', db)\n",
    "df_merge.head(5)"
   ]
  },
  {
   "cell_type": "markdown",
   "id": "a137bd49",
   "metadata": {
    "deletable": false,
    "editable": false
   },
   "source": [
    "Bei Aggregationen kann möglicherweise die Menge der Daten, die über das Netzwerk gesendet werden muss, deutlich verringert werden."
   ]
  },
  {
   "cell_type": "code",
   "execution_count": null,
   "id": "d32d6bc0",
   "metadata": {
    "deletable": false
   },
   "outputs": [],
   "source": [
    "df_group_by_year = pd.read_sql_query('''\n",
    "    SELECT release_year, AVG(duration)\n",
    "    FROM titles\n",
    "    GROUP BY release_year\n",
    "''', db)\n",
    "df_group_by_year.head(5)"
   ]
  },
  {
   "attachments": {
    "1.png": {
     "image/png": "[encoded data removed]"
    }
   },
   "cell_type": "markdown",
   "id": "37e3f3bf",
   "metadata": {
    "deletable": false,
    "editable": false
   },
   "source": [
    "## Hinweise zum Datensatz\n",
    "Ein Teil der Ihnen zur Verfügung gestellten Daten wurden mit Hilfe der TMDb API erzeugt. Die Verwendung wird weder von TMDb unterstützt noch zertifiziert.\n",
    "\n",
    "[![TMDb Logo](attachment:1.png)](https://developers.themoviedb.org/3)"
   ]
  }
 ],
 "metadata": {
  "kernelspec": {
   "display_name": "Python 3 (ipykernel)",
   "language": "python",
   "name": "python3"
  },
  "language_info": {
   "codemirror_mode": {
    "name": "ipython",
    "version": 3
   },
   "file_extension": ".py",
   "mimetype": "text/x-python",
   "name": "python",
   "nbconvert_exporter": "python",
   "pygments_lexer": "ipython3",
   "version": "3.10.12"
  }
 },
 "nbformat": 4,
 "nbformat_minor": 5
}
