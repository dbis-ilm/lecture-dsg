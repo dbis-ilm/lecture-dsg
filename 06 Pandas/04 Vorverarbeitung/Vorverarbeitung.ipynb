{
 "cells": [
  {
   "cell_type": "markdown",
   "id": "caa3d616",
   "metadata": {
    "deletable": false,
    "editable": false
   },
   "source": [
    "# Vorverarbeitung\n",
    "Im Laufe der Datenverarbeitung werden Sie feststellen, dass einige Elemente transformiert werden müssen. In diesem Abschnitt werden daher einige Interaktionen vorgestellt, die möglicherweise hilfreich sind. Zur Veranschaulichung werden erneut Auszüge des Datensatzes [Disney+ Movies and TV Shows](https://www.kaggle.com/code/werador/disney-data-analysis/data) verwendet."
   ]
  },
  {
   "cell_type": "code",
   "execution_count": null,
   "id": "c22da98f",
   "metadata": {
    "deletable": false
   },
   "outputs": [],
   "source": [
    "import pandas as pd\n",
    "\n",
    "from tui_dsg.datasets import disney_plus_titles_path"
   ]
  },
  {
   "cell_type": "code",
   "execution_count": null,
   "id": "e72d01c0-7c55-47cb-b099-eae82981e005",
   "metadata": {
    "deletable": false
   },
   "outputs": [],
   "source": [
    "df = pd.read_csv(disney_plus_titles_path)\n",
    "df.head(10)"
   ]
  },
  {
   "cell_type": "markdown",
   "id": "92ade956",
   "metadata": {
    "deletable": false,
    "editable": false
   },
   "source": [
    "## Inhaltsverzeichnis\n",
    "- [Datumsformate](#Datumsformate)\n",
    "- [NaN entfernen](#NaN-entfernen)\n",
    "- [Zellen aufteilen](#Zellen-aufteilen)"
   ]
  },
  {
   "cell_type": "markdown",
   "id": "704964d6",
   "metadata": {
    "deletable": false,
    "editable": false
   },
   "source": [
    "## Datumsformate\n",
    "Eventuell haben Sie direkt festgestellt, dass die Spalte `date_added` im Format *Monat Tag, Jahr* vorliegt, was in Europa eher unüblich ist. Die Ausgabe des Typs der Spalte verrät die Hintergründe."
   ]
  },
  {
   "cell_type": "code",
   "execution_count": null,
   "id": "dc307087",
   "metadata": {
    "deletable": false
   },
   "outputs": [],
   "source": [
    "df['date_added'].dtype, type(df['date_added'][0])"
   ]
  },
  {
   "cell_type": "markdown",
   "id": "02d007b3",
   "metadata": {
    "deletable": false,
    "editable": false
   },
   "source": [
    "`'O'` steht für Objekte aus Python und lässt vermuten, dass es sich um einen String handelt. Die Ausgabe des Typs des ersten Elements der Spalte bestätigt die Vorahnung. Probleme ergeben sich dann, wenn Sie mit diesen Datumsangaben rechnen, sie vergleichen oder sortieren. Die folgende Zelle zeigt Ihnen alle Zeilen, in denen die Spalte `date_added` kleiner als `2021` ist."
   ]
  },
  {
   "cell_type": "code",
   "execution_count": null,
   "id": "8ddf4e3e",
   "metadata": {
    "deletable": false
   },
   "outputs": [],
   "source": [
    "df[df['date_added'] < '2021'].head(3)"
   ]
  },
  {
   "cell_type": "markdown",
   "id": "19680792",
   "metadata": {
    "deletable": false,
    "editable": false
   },
   "source": [
    "`<` bezieht sich bei Strings jedoch auf eine alphanumerische Sortierung. Dabei ist jedoch jeder Buchstabe, der den Beginn eines Monats darstellt, größer als die Ziffer $2$ und es gibt keine passenden Zeilen, welche die Bedingung erfüllen.\n",
    "\n",
    "Durch einen Vergleich mit dem Buchstaben *N* werden folglich alle Angaben aus den Monaten November, Oktober und September gefiltert. Deshalb startet der Zeilenindex erst bei $120$."
   ]
  },
  {
   "cell_type": "code",
   "execution_count": null,
   "id": "3239971e",
   "metadata": {
    "deletable": false
   },
   "outputs": [],
   "source": [
    "df[df['date_added'] < 'N'].head(3)"
   ]
  },
  {
   "cell_type": "markdown",
   "id": "94ee4d93",
   "metadata": {
    "deletable": false,
    "editable": false
   },
   "source": [
    "Im Normalfall erwartet man jedoch ein anderes Ergebnis. Daten, die kleiner als $2021$ sind, sollten alle Jahre vor $2021$ umfassen. Um mit Datumsangaben zu rechnen, müssen diese jedoch zuerst als Datumsangaben gespeichert werden. Am Einfachsten lässt sich das beim Einlesen des Datensatzes erreichen, indem als Parameter `parse_dates` eine Liste der Spalten übergeben wird, die Datumsangaben enthalten."
   ]
  },
  {
   "cell_type": "code",
   "execution_count": null,
   "id": "af459fee",
   "metadata": {
    "deletable": false
   },
   "outputs": [],
   "source": [
    "df_dates = pd.read_csv(disney_plus_titles_path, parse_dates=['date_added'])\n",
    "df_dates.head(3)"
   ]
  },
  {
   "cell_type": "markdown",
   "id": "ea49dd86",
   "metadata": {
    "deletable": false,
    "editable": false
   },
   "source": [
    "Anschließend funktioniert die Filterung wie gewünscht."
   ]
  },
  {
   "cell_type": "code",
   "execution_count": null,
   "id": "6c37e01a",
   "metadata": {
    "deletable": false
   },
   "outputs": [],
   "source": [
    "df_dates[df_dates['date_added'] < '2021'].head(3)"
   ]
  },
  {
   "cell_type": "markdown",
   "id": "502c5524",
   "metadata": {
    "deletable": false,
    "editable": false
   },
   "source": [
    "## NaN entfernen\n",
    "In der Spalte `country` fehlen einige Einträge. In der CSV-Datei folgt in einigen Zeilen auf ein Komma direkt ein weiteres Komma, sodass der Wert der entsprechenden Spalte leer ist. Pandas erkennt diese leeren Werte und legt sie als `NaN` ab.\n",
    "\n",
    "Mit der Funktion `dropna` können Sie NaN-Werte entfernen. Standardmäßig werden Zeilen entfernt."
   ]
  },
  {
   "cell_type": "code",
   "execution_count": null,
   "id": "a9ccf315",
   "metadata": {
    "deletable": false
   },
   "outputs": [],
   "source": [
    "df.dropna().head(3)"
   ]
  },
  {
   "cell_type": "markdown",
   "id": "492390e3",
   "metadata": {
    "deletable": false,
    "editable": false
   },
   "source": [
    "Mit dem Parameter `subset` kann die Suche auf einzelne Spalten beschränkt werden."
   ]
  },
  {
   "cell_type": "code",
   "execution_count": null,
   "id": "dcf2af5c",
   "metadata": {
    "deletable": false
   },
   "outputs": [],
   "source": [
    "df.dropna(subset='listed_in').head(3)"
   ]
  },
  {
   "cell_type": "markdown",
   "id": "bc8708e5",
   "metadata": {
    "deletable": false,
    "editable": false
   },
   "source": [
    "Der Parameter `axis` kann verwendet werden, um Spalten mit NaN Werten zu entfernen."
   ]
  },
  {
   "cell_type": "code",
   "execution_count": null,
   "id": "dd1bc76c",
   "metadata": {
    "deletable": false
   },
   "outputs": [],
   "source": [
    "df.dropna(axis=1).head(3)"
   ]
  },
  {
   "cell_type": "markdown",
   "id": "595e2684",
   "metadata": {
    "deletable": false,
    "editable": false
   },
   "source": [
    "Die Funktion `fillna` kann stattdessen verwendet werden, um einen Standardwert einzusetzen."
   ]
  },
  {
   "cell_type": "code",
   "execution_count": null,
   "id": "cdd70075",
   "metadata": {
    "deletable": false
   },
   "outputs": [],
   "source": [
    "filled_df = df.copy()\n",
    "filled_df['country'] = filled_df['country'].fillna('United States')\n",
    "\n",
    "filled_df.head(3)"
   ]
  },
  {
   "cell_type": "markdown",
   "id": "6c5871ad",
   "metadata": {
    "deletable": false,
    "editable": false
   },
   "source": [
    "## Zellen aufteilen\n",
    "Gelegentlich ist es notwendig, Zellen aufzuteilen. Die Spalte `listed_in` gibt alle Genres an, in der ein Eintrag auf der Website von Disney+ gelistet wird. Wird zum Beispiel nach dieser Spalte gruppiert, sind `Drama, Historical`, `Drama` und `Historical` verschiedene Kategorien."
   ]
  },
  {
   "cell_type": "code",
   "execution_count": null,
   "id": "46b09c7d",
   "metadata": {
    "deletable": false
   },
   "outputs": [],
   "source": [
    "df.groupby('listed_in').size()"
   ]
  },
  {
   "cell_type": "markdown",
   "id": "2eb02ca2",
   "metadata": {
    "deletable": false,
    "editable": false
   },
   "source": [
    "Wünschenswert wäre es jedoch, dass ein Eintrag mit *der* Kategorie `Drama, Historical` in beide Kategorien einzeln aufgenommen wird, statt eine neue Kategorie zu eröffnen. Dazu muss zunächst die Spalte aufgeteilt werden.\n",
    "\n",
    "Dazu erfolgt zunächst ein Zugriff auf die einzelne Spalte. Die zurückgegebene Series wird als String betrachtet und geteilt. Alle Zeilen, deren Einträge NaN waren, bleiben NaN. Alle anderen Zeilen werden in Listen umgewandelt, die an ihren Kommata geteilt wurden. Pandas erhält auch bei dieser Operation den Index."
   ]
  },
  {
   "cell_type": "code",
   "execution_count": null,
   "id": "38ea2bfe",
   "metadata": {
    "deletable": false
   },
   "outputs": [],
   "source": [
    "df['listed_in'].str.split(', ')"
   ]
  },
  {
   "cell_type": "markdown",
   "id": "4e761a22",
   "metadata": {
    "deletable": false,
    "editable": false
   },
   "source": [
    "Die entstehende Series lässt sich anhand des ursprünglichen Index mit dem DataFrame verknüpfen."
   ]
  },
  {
   "cell_type": "code",
   "execution_count": null,
   "id": "53449f1a",
   "metadata": {
    "deletable": false
   },
   "outputs": [],
   "source": [
    "df_split = df.assign(listed_in_lists=df['listed_in'].str.split(', '))\n",
    "df_split.head(5)"
   ]
  },
  {
   "cell_type": "markdown",
   "id": "423d2d31",
   "metadata": {
    "deletable": false,
    "editable": false
   },
   "source": [
    "`groupby` lässt sich mit einer Spalte bestehend aus Listen jedoch nicht verwenden. Zunächst soll diese Liste also in mehrere Spalten geteilt werden. Der Parameter `expand` verschiebt die entstehenden Listenelemente in einzelne Spalten."
   ]
  },
  {
   "cell_type": "code",
   "execution_count": null,
   "id": "15eea9d4",
   "metadata": {
    "deletable": false
   },
   "outputs": [],
   "source": [
    "df['listed_in'].str.split(', ', expand=True)"
   ]
  },
  {
   "cell_type": "markdown",
   "id": "68641630",
   "metadata": {
    "deletable": false,
    "editable": false
   },
   "source": [
    "Das Ergebnis ist nun keine Series, sondern ein DataFrame. Es kann darauhin mit dem ursprünglichen DataFrame vereinigt werden."
   ]
  },
  {
   "cell_type": "code",
   "execution_count": null,
   "id": "d14c0c11",
   "metadata": {
    "deletable": false
   },
   "outputs": [],
   "source": [
    "df_split = pd.merge(df,\n",
    "                    df['listed_in'].str.split(', ', expand=True),\n",
    "                    left_index=True, right_index=True)\n",
    "df_split.head(5)"
   ]
  },
  {
   "cell_type": "markdown",
   "id": "3f7f2782",
   "metadata": {
    "deletable": false,
    "editable": false
   },
   "source": [
    "Über mehrere Spalten ist eine `groupby`-Operation möglich, wobei allerdings einige Spalten einen `None` Eintrag enthalten. Je nach gewünschtem Ergebnis kann dies dazu führen, dass komplizierte Verknüpfungen notwendig werden. Es ist daher ebenfalls möglich, die entstandenen Spalten zu Reihen zu stapeln."
   ]
  },
  {
   "cell_type": "code",
   "execution_count": null,
   "id": "64ba2a88",
   "metadata": {
    "deletable": false
   },
   "outputs": [],
   "source": [
    "df['listed_in'].str.split(', ', expand=True).stack()"
   ]
  },
  {
   "cell_type": "markdown",
   "id": "f15d3e9a",
   "metadata": {
    "deletable": false,
    "editable": false
   },
   "source": [
    "Sie sehen nun, dass der Index des ursprünglichen DataFrame beibehalten wurde, jedoch ein weiterer Subindex hinzukam. Die Nummerierung entspricht der Spaltennummer im vorhergehenden Beispiel. Zum Verknüpfen mit dem ursprünglichen DataFrame muss jedoch der Subindex entfernt werden."
   ]
  },
  {
   "cell_type": "code",
   "execution_count": null,
   "id": "92d2ae35",
   "metadata": {
    "deletable": false
   },
   "outputs": [],
   "source": [
    "df['listed_in'].str.split(', ', expand=True).stack().reset_index(level=[1], drop=True)"
   ]
  },
  {
   "cell_type": "markdown",
   "id": "fce62bad",
   "metadata": {
    "deletable": false,
    "editable": false
   },
   "source": [
    "Versuchen Sie nun allerdings die Funktion `assign` zu verwenden, wird Pandas mit einem Fehler reagieren, da doppelte Labels im Index vorhanden sind. Benennen Sie daher die Series und wandeln es in ein DataFrame um."
   ]
  },
  {
   "cell_type": "code",
   "execution_count": null,
   "id": "2c484d98",
   "metadata": {
    "deletable": false
   },
   "outputs": [],
   "source": [
    "df['listed_in'].str.split(', ', expand=True).stack().reset_index(level=[1], drop=True).rename('genre').to_frame()"
   ]
  },
  {
   "cell_type": "markdown",
   "id": "4040c56e",
   "metadata": {
    "deletable": false,
    "editable": false
   },
   "source": [
    "Anschließend lässt sich das Ergebnis mit dem ursprünglichen DataFrame verknüpfen."
   ]
  },
  {
   "cell_type": "code",
   "execution_count": null,
   "id": "783d1e6f",
   "metadata": {
    "deletable": false
   },
   "outputs": [],
   "source": [
    "df_split = pd.merge(df,\n",
    "                    df['listed_in'].str.split(', ', expand=True).stack().reset_index(level=[1], drop=True).rename('genre').to_frame(),\n",
    "                    left_index=True, right_index=True)\n",
    "df_split.head(5)"
   ]
  },
  {
   "cell_type": "markdown",
   "id": "b2daa3a5",
   "metadata": {
    "deletable": false,
    "editable": false
   },
   "source": [
    "Auch wenn diese Operation aus vielen Einzelschritten zusammengesetzt wurde, lassen sich die Erscheinungen pro Kategorie nun zählen."
   ]
  },
  {
   "cell_type": "code",
   "execution_count": null,
   "id": "cd4ac1bc",
   "metadata": {
    "deletable": false
   },
   "outputs": [],
   "source": [
    "df_split.groupby('genre').size()"
   ]
  },
  {
   "cell_type": "markdown",
   "id": "50f18cf1",
   "metadata": {
    "deletable": false,
    "editable": false
   },
   "source": [
    "Ein Blick auf die Größe der DataFrames lässt jedoch ein Problem erahnen. Jedes Werk, das in mehrere Kategorien eingeordnet wurde, ist nun in genau so vielen Zeilen vertreten. Dabei wurden alle anderen Werte multipliziert und in mehreren Zeilen redundant gespeichert. Insbesondere bei Zeichenketten wie dem Titel oder dem Produktionsland führt dies schnell zu einem hohen Speicherverbrauch.\n",
    "\n",
    "Die folgende Zelle gibt Informationen zum ursprünglichen und zum aufgeteilten DataFrame zurück. Die Größe hat sich dabei nahezu vervierfacht."
   ]
  },
  {
   "cell_type": "code",
   "execution_count": null,
   "id": "9c230625",
   "metadata": {
    "deletable": false
   },
   "outputs": [],
   "source": [
    "print('df')\n",
    "df.info()\n",
    "\n",
    "print('\\n')\n",
    "\n",
    "print('df_split')\n",
    "df_split.info()"
   ]
  }
 ],
 "metadata": {
  "kernelspec": {
   "display_name": "Python 3 (ipykernel)",
   "language": "python",
   "name": "python3"
  },
  "language_info": {
   "codemirror_mode": {
    "name": "ipython",
    "version": 3
   },
   "file_extension": ".py",
   "mimetype": "text/x-python",
   "name": "python",
   "nbconvert_exporter": "python",
   "pygments_lexer": "ipython3",
   "version": "3.10.12"
  }
 },
 "nbformat": 4,
 "nbformat_minor": 5
}
