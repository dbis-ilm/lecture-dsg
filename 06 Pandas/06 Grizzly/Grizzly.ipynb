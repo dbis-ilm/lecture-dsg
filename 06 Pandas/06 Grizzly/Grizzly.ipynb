{
 "cells": [
  {
   "cell_type": "markdown",
   "id": "31838adb",
   "metadata": {
    "deletable": false,
    "editable": false
   },
   "source": [
    "# Grizzly\n",
    "Grizzly implementiert DataFrames, die möglichst viele Operationen im Datenbankmanagementsystem berechnen, statt zuerst die Daten in den lokalen Arbeitsspeicher zu übertragen. In diesem Abschnitt wird der Unterschied in der Ausführungsgeschwindigkeit zwischen Pandas und Grizzly an Hand eines Beispiels, bei dem viele Tupel aus der Datenbank übertragen werden müssen, beleuchtet."
   ]
  },
  {
   "cell_type": "code",
   "execution_count": null,
   "id": "83e23418",
   "metadata": {
    "deletable": false
   },
   "outputs": [],
   "source": [
    "import random\n",
    "import sqlite3\n",
    "import string\n",
    "from contextlib import closing\n",
    "\n",
    "import pandas as pd\n",
    "\n",
    "import grizzly\n",
    "from grizzly.relationaldbexecutor import RelationalExecutor\n",
    "from grizzly.sqlgenerator import SQLGenerator"
   ]
  },
  {
   "cell_type": "markdown",
   "id": "3f85723d",
   "metadata": {
    "deletable": false,
    "editable": false
   },
   "source": [
    "## Inhaltsverzeichnis\n",
    "- [Datengenerierung](#Datengenerierung)\n",
    "- [Join mit Pandas](#Join-mit-Pandas)\n",
    "- [Join mit SQL](#Join-mit-SQL)\n",
    "- [Join mit Grizzly](#Join-mit-Grizzly)\n",
    "- [Evaluierung](#Evaluierung)"
   ]
  },
  {
   "cell_type": "markdown",
   "id": "4a59cd93",
   "metadata": {
    "deletable": false,
    "editable": false
   },
   "source": [
    "## Datengenerierung\n",
    "Diese Zelle erstellt eine Datenbank mit zwei Tabellen und fügt in jede $1.000.000$ Tupel ein. Die Datenbank wird vollständig im Arbeitsspeicher behalten."
   ]
  },
  {
   "cell_type": "code",
   "execution_count": null,
   "id": "89af83c2",
   "metadata": {
    "deletable": false
   },
   "outputs": [],
   "source": [
    "db = sqlite3.connect(':memory:')\n",
    "with closing(db.cursor()) as cur:\n",
    "    for table, id_offset in ('table1', 1), ('table2', 6):\n",
    "        cur.execute(f'CREATE TABLE IF NOT EXISTS {table} (id INTEGER PRIMARY KEY, name TEXT)')\n",
    "        for i in range(id_offset, 1_000_000 + id_offset):\n",
    "            random_name = ''.join(random.choices(string.ascii_lowercase + string.digits, k=32))\n",
    "            cur.execute(f'INSERT INTO {table} VALUES ({i}, \"{random_name}\")')"
   ]
  },
  {
   "cell_type": "markdown",
   "id": "074c9b9e",
   "metadata": {
    "deletable": false,
    "editable": false
   },
   "source": [
    "Im Folgenden sollen die Namen der IDs extrahiert werden, die nur in einer der beiden Tabellen vorkommen."
   ]
  },
  {
   "cell_type": "markdown",
   "id": "a8f423f6",
   "metadata": {
    "deletable": false,
    "editable": false
   },
   "source": [
    "## Join mit Pandas\n",
    "Zunächst werden beide Tabelle in ein DataFrame geladen. Anschließend können beide Tabellen durch einen Outer-Join verknüpft werden. (Die DataFrames `table1` und `table2` könnten nun gelöscht werden.) Zuletzt lässt sich das Ergebnis filtern."
   ]
  },
  {
   "cell_type": "code",
   "execution_count": null,
   "id": "529fbec0",
   "metadata": {
    "deletable": false
   },
   "outputs": [],
   "source": [
    "%%time\n",
    "\n",
    "table1 = pd.read_sql_query('SELECT * FROM table1', db, index_col='id')\n",
    "table2 = pd.read_sql_query('SELECT * FROM table2', db, index_col='id')\n",
    "\n",
    "result = table1.join(table2, how='outer', lsuffix='l', rsuffix='r')\n",
    "\n",
    "result[result['namel'].isna() | result['namer'].isna()]"
   ]
  },
  {
   "cell_type": "markdown",
   "id": "c147f770",
   "metadata": {
    "deletable": false,
    "editable": false
   },
   "source": [
    "## Join mit SQL\n",
    "Auf Grund von Beschränkungen bezüglich Outer Joins in SQLite ist das Statement aus zwei Left Joins zusammengesetzt."
   ]
  },
  {
   "cell_type": "code",
   "execution_count": null,
   "id": "bf56d794",
   "metadata": {
    "deletable": false
   },
   "outputs": [],
   "source": [
    "%%time\n",
    "\n",
    "pd.read_sql_query('''\n",
    "    SELECT table1.id, table1.name as namel, NULL as namer\n",
    "    FROM table1\n",
    "    LEFT JOIN table2\n",
    "        ON table1.id = table2.id\n",
    "    WHERE table2.name IS NULL\n",
    "\n",
    "    UNION\n",
    "\n",
    "    SELECT table2.id, NULL as namel, table2.name as namer\n",
    "    FROM table2\n",
    "    LEFT JOIN table1\n",
    "        ON table2.id = table1.id\n",
    "    WHERE table1.name IS NULL\n",
    "''', db, index_col='id')"
   ]
  },
  {
   "cell_type": "markdown",
   "id": "3a5ac74a",
   "metadata": {
    "deletable": false,
    "editable": false
   },
   "source": [
    "## Join mit Grizzly\n",
    "Grizzly bietet eine Schnittstelle, die Pandas ähnelt. Im Hintergrund wird jedoch auf Basis der Operationen ein SQL-Statement generiert und zur Datenbank gesendet. Das Ziel ist dabei, einen möglichst großen Teil der Berechnungen dem Datenbankmanagementsystem zu überlassen, um dort vorgehaltene Informationen über die Datenstrukturen zu nutzen, während die Größe der zu übertragenden Daten sinkt.\n",
    "\n",
    "Grizzly implementiert nicht alle Operationen aus Pandas. Weiterhin ist Grizzly natürlich von der verwendeten Datenbank-Software abhängig. Demnach muss bei der Verwendung mit SQLite ebenfalls der Outer Join nachgebildet werden."
   ]
  },
  {
   "cell_type": "code",
   "execution_count": null,
   "id": "3b523e96",
   "metadata": {
    "deletable": false
   },
   "outputs": [],
   "source": [
    "grizzly.use(RelationalExecutor(db, SQLGenerator(\"sqlite\")))"
   ]
  },
  {
   "cell_type": "code",
   "execution_count": null,
   "id": "c13ecf7a",
   "metadata": {
    "deletable": false
   },
   "outputs": [],
   "source": [
    "%%time\n",
    "\n",
    "# Tabellen lesen und Spalten umbenennen\n",
    "table1 = grizzly.read_table('table1')\n",
    "table1['namel'] = table1['name']\n",
    "\n",
    "table2 = grizzly.read_table('table2')\n",
    "table2['namer'] = table2['name']\n",
    "\n",
    "# Joins durchführen\n",
    "result1 = table1.join(table2, how='left', on=['id', 'id'])\n",
    "result1 = result1[result1['namer'] == None][['id', 'namel']]\n",
    "\n",
    "result2 = table2.join(table1, how='left', on=['id', 'id'])\n",
    "result2 = result2[result2['namel'] == None][['id', 'namer']]\n",
    "\n",
    "# Ergebnis in \"normale\" DataFrames kopieren\n",
    "result1 = pd.DataFrame(dict(result1.items())).set_index('id')\n",
    "result2 = pd.DataFrame(dict(result2.items())).set_index('id')\n",
    "\n",
    "# Ergebnisse verknüpfen\n",
    "result = pd.concat([result1, result2])\n",
    "result"
   ]
  },
  {
   "cell_type": "markdown",
   "id": "f61a249e",
   "metadata": {
    "deletable": false,
    "editable": false
   },
   "source": [
    "## Evaluierung\n",
    "Die Tabelle listet die benötigte Zeit auf, welche die verschiedenen Methoden auf einem betagten Notebook benötigen. Vergleichen Sie diese hinsichtlich der Verhältnisse mit Ihren eigenen Ergebnissen.\n",
    "\n",
    "| Methode        | Zeit in Millisekunden |\n",
    "| -------------- | --------------------- |\n",
    "| Pandas         | 2170                  |\n",
    "| Join in SQLite | 195                   |\n",
    "| Grizzly        | 251                   |\n",
    "\n",
    "Festhalten lässt sich, dass es lohnenswert sein kann, Daten aus Datenbanken nicht komplett in Pandas zu laden und stattdessen einige Operationen dem Datenbankmanagementsystem zu überlassen."
   ]
  }
 ],
 "metadata": {
  "kernelspec": {
   "display_name": "Python 3 (ipykernel)",
   "language": "python",
   "name": "python3"
  },
  "language_info": {
   "codemirror_mode": {
    "name": "ipython",
    "version": 3
   },
   "file_extension": ".py",
   "mimetype": "text/x-python",
   "name": "python",
   "nbconvert_exporter": "python",
   "pygments_lexer": "ipython3",
   "version": "3.10.6"
  }
 },
 "nbformat": 4,
 "nbformat_minor": 5
}
