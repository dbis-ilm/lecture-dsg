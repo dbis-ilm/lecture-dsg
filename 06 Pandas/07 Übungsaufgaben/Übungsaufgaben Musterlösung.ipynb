{
 "cells": [
  {
   "cell_type": "markdown",
   "id": "51571af6",
   "metadata": {
    "deletable": false,
    "editable": false
   },
   "source": [
    "# Übungsaufgaben\n",
    "Importieren Sie zuerst Pandas und die Tests für dieses Übungsblatt."
   ]
  },
  {
   "cell_type": "code",
   "execution_count": null,
   "id": "e8c4d36f",
   "metadata": {
    "deletable": false,
    "editable": false
   },
   "outputs": [],
   "source": [
    "import pandas as pd"
   ]
  },
  {
   "cell_type": "markdown",
   "id": "5a97a662",
   "metadata": {
    "deletable": false,
    "editable": false
   },
   "source": [
    "## Aufgabe 1\n",
    "Laden Sie den Datensatz aus der Datei `disney_plus_titles.csv`."
   ]
  },
  {
   "cell_type": "code",
   "execution_count": null,
   "id": "1562f22d",
   "metadata": {
    "deletable": false,
    "editable": false,
    "tags": [
     "task-1"
    ]
   },
   "outputs": [],
   "source": [
    "df = pd.read_csv('disney_plus_titles.csv')\n",
    "df.head(5)"
   ]
  },
  {
   "cell_type": "markdown",
   "id": "345d3be3",
   "metadata": {
    "deletable": false,
    "editable": false
   },
   "source": [
    "## Aufgabe 2\n",
    "Fügen Sie eine neue Spalte `release_after_2000` hinzu, welche die Information beinhaltet, ob die Produktion im oder nach dem Jahr 2000 veröffentlicht wurde."
   ]
  },
  {
   "cell_type": "code",
   "execution_count": null,
   "id": "dd1cac38",
   "metadata": {
    "deletable": false,
    "editable": false,
    "tags": [
     "task-2-1"
    ]
   },
   "outputs": [],
   "source": [
    "df['release_after_2000'] = df['release_year'] >= 2000\n",
    "df.head(5)"
   ]
  },
  {
   "cell_type": "markdown",
   "id": "efcdf9e8",
   "metadata": {
    "deletable": false,
    "editable": false
   },
   "source": [
    "Löschen Sie die Spalte `duration`."
   ]
  },
  {
   "cell_type": "code",
   "execution_count": null,
   "id": "167f7f3d",
   "metadata": {
    "deletable": false,
    "editable": false,
    "tags": [
     "task-2-2"
    ]
   },
   "outputs": [],
   "source": [
    "df.drop('duration', axis=1, inplace=True)\n",
    "df.head(5)"
   ]
  },
  {
   "cell_type": "markdown",
   "id": "36b0b2b6",
   "metadata": {
    "deletable": false,
    "editable": false
   },
   "source": [
    "## Aufgabe 3\n",
    "Bestimmen Sie die jeweilige relative Anzahl an Filmen (`Movie`) und Serien (`TV Show`)."
   ]
  },
  {
   "cell_type": "code",
   "execution_count": null,
   "id": "c3200de3",
   "metadata": {
    "deletable": false,
    "editable": false,
    "tags": [
     "task-3"
    ]
   },
   "outputs": [],
   "source": [
    "count = df.groupby('type').size()\n",
    "abs_movie_count = count['Movie']\n",
    "abs_tvshow_count = count['TV Show']\n",
    "\n",
    "rel_movie_count = abs_movie_count / (abs_movie_count + abs_tvshow_count)\n",
    "rel_tvshow_count = abs_tvshow_count / (abs_movie_count + abs_tvshow_count)\n",
    "\n",
    "rel_movie_count, rel_tvshow_count"
   ]
  },
  {
   "cell_type": "markdown",
   "id": "b301105a",
   "metadata": {
    "deletable": false,
    "editable": false
   },
   "source": [
    "# Aufgabe 4\n",
    "Drehen Sie die Tabelle um. Das Ergebnis soll die Spalten `director` und `title` enthalten. In der ersten kommt jeder Regisseur genau einmal vor, während die zweite aus einer durch Kommata mit nachfolgendem Leerzeichen (`, `) getrennten Liste besteht, die alle Titel enthält, an denen der jeweilige Regisseur mitgewirkt hat.\n",
    "\n",
    "Teilen Sie zuerst die Spalte `director` an den enthaltenen Kommata. Stellen Sie sicher, dass sich nicht mehrere Spalten, sondern mehrere Zeilen mit geteilten Indizes ergeben. Entfernen Sie anschließend den Subindex, benennen Sie das Ergebnis in `director` um und speichern Sie das Ergebnis in einem DataFrame."
   ]
  },
  {
   "cell_type": "code",
   "execution_count": null,
   "id": "0815db3a",
   "metadata": {
    "deletable": false,
    "editable": false,
    "tags": [
     "task-4"
    ]
   },
   "outputs": [],
   "source": [
    "series = df['director'].str.split(', ', expand=True).stack().reset_index(level=[1], drop=True)\n",
    "df_directors = series.rename('director').to_frame()\n",
    "\n",
    "df_directors"
   ]
  },
  {
   "cell_type": "markdown",
   "id": "39ee865c",
   "metadata": {
    "deletable": false,
    "editable": false
   },
   "source": [
    "Erstellen Sie eine Kopie des ursprünglichen DataFrames, die nur die Spalte `title` enthält. Joinen Sie diese Kopie mit `df_directors` mit Hilfe ihrer Indizes. Das Ergebnis ist ein DataFrame, das in der Spalte `director` jeden Regisseur mindestens einmal und in der Spalte `title` jeweils das zugehörige Werk enthält."
   ]
  },
  {
   "cell_type": "code",
   "execution_count": null,
   "id": "c40c9b04",
   "metadata": {
    "deletable": false,
    "editable": false,
    "tags": [
     "task-4"
    ]
   },
   "outputs": [],
   "source": [
    "df_titles_only = df[['title']]\n",
    "df_directors_with_titles = pd.merge(df_directors, df_titles_only, left_index=True, right_index=True)\n",
    "\n",
    "df_directors_with_titles"
   ]
  },
  {
   "cell_type": "markdown",
   "id": "c17bd252",
   "metadata": {
    "deletable": false,
    "editable": false
   },
   "source": [
    "Gruppieren Sie zuletzt nach dem Regisseur. Aggregieren Sie anschließend alle Titel, indem Sie sie durch Kommata und Leerzeichen getrennt zu einem String zusammenfügen."
   ]
  },
  {
   "cell_type": "code",
   "execution_count": null,
   "id": "7eba5f35",
   "metadata": {
    "deletable": false,
    "editable": false,
    "tags": [
     "task-4"
    ]
   },
   "outputs": [],
   "source": [
    "df_result = df_directors_with_titles.groupby('director').agg({'title': lambda x: ', '.join(x)})\n",
    "df_result"
   ]
  }
 ],
 "metadata": {
  "kernelspec": {
   "display_name": "Python 3 (ipykernel)",
   "language": "python",
   "name": "python3"
  },
  "language_info": {
   "codemirror_mode": {
    "name": "ipython",
    "version": 3
   },
   "file_extension": ".py",
   "mimetype": "text/x-python",
   "name": "python",
   "nbconvert_exporter": "python",
   "pygments_lexer": "ipython3",
   "version": "3.8.10"
  }
 },
 "nbformat": 4,
 "nbformat_minor": 5
}
