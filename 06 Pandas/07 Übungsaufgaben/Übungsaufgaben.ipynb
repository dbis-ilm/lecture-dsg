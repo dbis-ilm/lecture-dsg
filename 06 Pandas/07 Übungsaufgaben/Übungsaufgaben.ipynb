{
 "cells": [
  {
   "cell_type": "markdown",
   "id": "51571af6",
   "metadata": {
    "deletable": false,
    "editable": false
   },
   "source": [
    "# Übungsaufgaben\n",
    "Importieren Sie zuerst Pandas und die Tests für dieses Übungsblatt."
   ]
  },
  {
   "cell_type": "code",
   "execution_count": null,
   "id": "d5011c02",
   "metadata": {
    "deletable": false,
    "editable": false
   },
   "outputs": [],
   "source": [
    "import pandas as pd\n",
    "\n",
    "from tui_dsg.datasets import disney_plus_titles_director_path\n",
    "\n",
    "from tui_dsg.pandas import *"
   ]
  },
  {
   "cell_type": "markdown",
   "id": "5a97a662",
   "metadata": {
    "deletable": false,
    "editable": false
   },
   "source": [
    "## Aufgabe 1\n",
    "Laden Sie einen Ausschnitt des Datensatzes [Disney+ Movies and TV Shows](https://www.kaggle.com/code/werador/disney-data-analysis/data) aus der Datei `disney_plus_titles_director_path`."
   ]
  },
  {
   "cell_type": "code",
   "execution_count": null,
   "id": "9ef227cc",
   "metadata": {
    "deletable": false,
    "tags": [
     "task-1"
    ]
   },
   "outputs": [],
   "source": [
    "df = ...\n",
    "df"
   ]
  },
  {
   "cell_type": "code",
   "execution_count": null,
   "id": "18095deb",
   "metadata": {
    "deletable": false,
    "editable": false
   },
   "outputs": [],
   "source": [
    "aufgabe1(df)"
   ]
  },
  {
   "cell_type": "markdown",
   "id": "345d3be3",
   "metadata": {
    "deletable": false,
    "editable": false
   },
   "source": [
    "## Aufgabe 2\n",
    "Fügen Sie eine neue Spalte `release_after_2000` hinzu, welche die Information beinhaltet, ob die Produktion im oder nach dem Jahr 2000 veröffentlicht wurde."
   ]
  },
  {
   "cell_type": "code",
   "execution_count": null,
   "id": "082cc718",
   "metadata": {
    "deletable": false,
    "tags": [
     "task-2-1"
    ]
   },
   "outputs": [],
   "source": [
    "df['release_after_2000'] = ...\n",
    "df"
   ]
  },
  {
   "cell_type": "code",
   "execution_count": null,
   "id": "4bc7700a",
   "metadata": {
    "deletable": false,
    "editable": false
   },
   "outputs": [],
   "source": [
    "aufgabe2_1(df)"
   ]
  },
  {
   "cell_type": "markdown",
   "id": "efcdf9e8",
   "metadata": {
    "deletable": false,
    "editable": false
   },
   "source": [
    "Löschen Sie die Spalte `duration`."
   ]
  },
  {
   "cell_type": "code",
   "execution_count": null,
   "id": "fef28f8f",
   "metadata": {
    "deletable": false,
    "tags": [
     "task-2-2"
    ]
   },
   "outputs": [],
   "source": [
    "...\n",
    "\n",
    "df"
   ]
  },
  {
   "cell_type": "code",
   "execution_count": null,
   "id": "a39d0ffa",
   "metadata": {
    "deletable": false,
    "editable": false
   },
   "outputs": [],
   "source": [
    "aufgabe2_2(df)"
   ]
  },
  {
   "cell_type": "markdown",
   "id": "36b0b2b6",
   "metadata": {
    "deletable": false,
    "editable": false
   },
   "source": [
    "## Aufgabe 3\n",
    "Bestimmen Sie die jeweilige relative Anzahl an Filmen (`Movie`) und Serien (`TV Show`)."
   ]
  },
  {
   "cell_type": "code",
   "execution_count": null,
   "id": "5d795dd2",
   "metadata": {
    "deletable": false,
    "tags": [
     "task-3"
    ]
   },
   "outputs": [],
   "source": [
    "abs_movie_count = 1\n",
    "abs_tvshow_count = 1\n",
    "\n",
    "...\n",
    "\n",
    "rel_movie_count = abs_movie_count / (abs_movie_count + abs_tvshow_count)\n",
    "rel_tvshow_count = abs_tvshow_count / (abs_movie_count + abs_tvshow_count)\n",
    "\n",
    "rel_movie_count, rel_tvshow_count"
   ]
  },
  {
   "cell_type": "code",
   "execution_count": null,
   "id": "f17687ca",
   "metadata": {
    "deletable": false,
    "editable": false
   },
   "outputs": [],
   "source": [
    "aufgabe3(rel_movie_count, rel_tvshow_count)"
   ]
  },
  {
   "cell_type": "markdown",
   "id": "b301105a",
   "metadata": {
    "deletable": false,
    "editable": false
   },
   "source": [
    "# Aufgabe 4\n",
    "Drehen Sie die Tabelle um. Das Ergebnis soll die Spalten `director` und `title` enthalten. In der ersten kommt jeder Regisseur genau einmal vor, während die zweite aus einer durch Kommata mit nachfolgendem Leerzeichen (`, `) getrennten Liste besteht, die alle Titel enthält, an denen der jeweilige Regisseur mitgewirkt hat.\n",
    "\n",
    "Teilen Sie zuerst die Spalte `director` an den enthaltenen Kommata. Stellen Sie sicher, dass sich nicht mehrere Spalten, sondern mehrere Zeilen mit geteilten Indizes ergeben. Entfernen Sie anschließend den Subindex, benennen Sie das Ergebnis in `director` um und speichern Sie das Ergebnis in einem DataFrame."
   ]
  },
  {
   "cell_type": "code",
   "execution_count": null,
   "id": "518a5f72",
   "metadata": {
    "deletable": false,
    "tags": [
     "task-4"
    ]
   },
   "outputs": [],
   "source": [
    "series = df['director']\n",
    "df_directors = series.rename('director').to_frame()\n",
    "\n",
    "df_directors"
   ]
  },
  {
   "cell_type": "code",
   "execution_count": null,
   "id": "78957660",
   "metadata": {
    "deletable": false,
    "editable": false
   },
   "outputs": [],
   "source": [
    "aufgabe4_1(df_directors)"
   ]
  },
  {
   "cell_type": "markdown",
   "id": "39ee865c",
   "metadata": {
    "deletable": false,
    "editable": false
   },
   "source": [
    "Erstellen Sie eine Kopie des ursprünglichen DataFrames, die nur die Spalte `title` enthält. Joinen Sie diese Kopie mit `df_directors` mit Hilfe ihrer Indizes. Das Ergebnis ist ein DataFrame, das in der Spalte `director` jeden Regisseur mindestens einmal und in der Spalte `title` jeweils das zugehörige Werk enthält."
   ]
  },
  {
   "cell_type": "code",
   "execution_count": null,
   "id": "90070aad",
   "metadata": {
    "deletable": false,
    "tags": [
     "task-4"
    ]
   },
   "outputs": [],
   "source": [
    "df_titles_only = ...\n",
    "df_directors_with_titles = ...\n",
    "\n",
    "df_directors_with_titles"
   ]
  },
  {
   "cell_type": "code",
   "execution_count": null,
   "id": "6efcc5b5",
   "metadata": {
    "deletable": false,
    "editable": false
   },
   "outputs": [],
   "source": [
    "aufgabe4_2(df_directors_with_titles)"
   ]
  },
  {
   "cell_type": "markdown",
   "id": "c17bd252",
   "metadata": {
    "deletable": false,
    "editable": false
   },
   "source": [
    "Gruppieren Sie zuletzt nach dem Regisseur. Aggregieren Sie anschließend alle Titel, indem Sie sie durch Kommata und Leerzeichen getrennt zu einem String zusammenfügen."
   ]
  },
  {
   "cell_type": "code",
   "execution_count": null,
   "id": "43f13a08",
   "metadata": {
    "deletable": false,
    "tags": [
     "task-4"
    ]
   },
   "outputs": [],
   "source": [
    "df_result = df_directors_with_titles\n",
    "df_result"
   ]
  },
  {
   "cell_type": "code",
   "execution_count": null,
   "id": "02cc9463",
   "metadata": {
    "deletable": false,
    "editable": false
   },
   "outputs": [],
   "source": [
    "aufgabe4_3(df_result)"
   ]
  }
 ],
 "metadata": {
  "kernelspec": {
   "display_name": "Python 3 (ipykernel)",
   "language": "python",
   "name": "python3"
  },
  "language_info": {
   "codemirror_mode": {
    "name": "ipython",
    "version": 3
   },
   "file_extension": ".py",
   "mimetype": "text/x-python",
   "name": "python",
   "nbconvert_exporter": "python",
   "pygments_lexer": "ipython3",
   "version": "3.8.10"
  }
 },
 "nbformat": 4,
 "nbformat_minor": 5
}
