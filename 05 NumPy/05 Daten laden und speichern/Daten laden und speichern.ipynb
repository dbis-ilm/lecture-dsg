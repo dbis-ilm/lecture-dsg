{
 "cells": [
  {
   "cell_type": "markdown",
   "id": "61dc739c",
   "metadata": {
    "deletable": false,
    "editable": false
   },
   "source": [
    "# Daten laden und speichern\n",
    "Dieser Abschnitt enthält Informationen über das Speichern und Laden von Arrays in und aus Dateien. Beginnen Sie mit dem Laden von NumPy."
   ]
  },
  {
   "cell_type": "code",
   "execution_count": null,
   "id": "57dbfa77",
   "metadata": {
    "deletable": false
   },
   "outputs": [],
   "source": [
    "import numpy as np\n",
    "from os import path, remove"
   ]
  },
  {
   "cell_type": "markdown",
   "id": "f50824d7",
   "metadata": {
    "deletable": false,
    "editable": false
   },
   "source": [
    "## Inhaltsverzeichnis\n",
    "- [Beispieldaten](#Beispieldaten)\n",
    "- [CSV](#CSV)\n",
    "- [NumPy Binärdateien](#NumPy-Binärdateien)\n",
    "- [Temporäre Dateien löschen](#Temporäre-Dateien-löschen)"
   ]
  },
  {
   "cell_type": "markdown",
   "id": "a23d88e5",
   "metadata": {
    "deletable": false,
    "editable": false
   },
   "source": [
    "## Beispieldaten\n",
    "Erzeugen Sie zunächst ein Array mit zufälligen Zahlen, um die nachfolgenden Methoden testen zu können."
   ]
  },
  {
   "cell_type": "code",
   "execution_count": null,
   "id": "d6402f50",
   "metadata": {
    "deletable": false
   },
   "outputs": [],
   "source": [
    "ar = np.random.randint(1, 8192, (1024, 1024))\n",
    "ar.dtype, ar.shape, ar"
   ]
  },
  {
   "cell_type": "markdown",
   "id": "b644fb2b",
   "metadata": {
    "deletable": false,
    "editable": false
   },
   "source": [
    "## CSV\n",
    "Mit CSV-Dateien haben Sie bereits in einem vorigen Kapitel Erfahrung gesammelt. NumPy kann direkt mit so formatierten Dateien interagieren und diese sowohl speichern wie auch einlesen. Zum Schreiben steht die Funktion `savetxt` bereit."
   ]
  },
  {
   "cell_type": "code",
   "execution_count": null,
   "id": "fdd408f7",
   "metadata": {
    "deletable": false
   },
   "outputs": [],
   "source": [
    "np.savetxt('random_array.csv', ar)"
   ]
  },
  {
   "cell_type": "markdown",
   "id": "c345c031",
   "metadata": {
    "deletable": false,
    "editable": false
   },
   "source": [
    "Sie können diese Datei mit einem Texteditor öffnen oder sich mit Hilfe des Kommandos `head` einige Zeilen anzeigen lassen.\n",
    "\n",
    "Wenn Sie dem Pfad das Suffix `.bz2` oder `.gz` anfügen, wird automatisch eine Komprimierung im zugehörigen Format aktiviert."
   ]
  },
  {
   "cell_type": "code",
   "execution_count": null,
   "id": "e9a1c77d",
   "metadata": {
    "deletable": false
   },
   "outputs": [],
   "source": [
    "np.savetxt('random_array.csv.bz2', ar)"
   ]
  },
  {
   "cell_type": "markdown",
   "id": "9dd4af2b",
   "metadata": {
    "deletable": false,
    "editable": false
   },
   "source": [
    "Die Speicherung dauert vermutlich etwas länger, da die Kompression zusätzliche Zeit in Anspruch nimmt. Die Dateigröße unterscheidet sich jedoch in der Regel deutlich:"
   ]
  },
  {
   "cell_type": "code",
   "execution_count": null,
   "id": "46872732",
   "metadata": {
    "deletable": false
   },
   "outputs": [],
   "source": [
    "for file in 'random_array.csv', 'random_array.csv.bz2':\n",
    "    size_in_mib = path.getsize(file) / (1024 * 1024)\n",
    "    print(f'{file}: {size_in_mib:.1f} MiB')"
   ]
  },
  {
   "cell_type": "markdown",
   "id": "5e04b8af",
   "metadata": {
    "deletable": false,
    "editable": false
   },
   "source": [
    "Zum Laden steht die Funktion `loadtxt` bereit. Sie akzeptiert ebenfalls sowohl komprimierte wie auch nicht komprimierte Dateien."
   ]
  },
  {
   "cell_type": "code",
   "execution_count": null,
   "id": "f4854382",
   "metadata": {
    "deletable": false
   },
   "outputs": [],
   "source": [
    "ar2 = np.loadtxt('random_array.csv.bz2')"
   ]
  },
  {
   "cell_type": "markdown",
   "id": "e9c16715",
   "metadata": {
    "deletable": false,
    "editable": false
   },
   "source": [
    "Der Vergleich des ursprünglichen und des geladenen Arrays sollte Gleichheit ergeben."
   ]
  },
  {
   "cell_type": "code",
   "execution_count": null,
   "id": "9228adcf",
   "metadata": {
    "deletable": false
   },
   "outputs": [],
   "source": [
    "(ar == ar2).all()"
   ]
  },
  {
   "cell_type": "markdown",
   "id": "dcaff6d4",
   "metadata": {
    "deletable": false,
    "editable": false
   },
   "source": [
    "## NumPy Binärdateien\n",
    "NumPy bietet außerdem die Möglichkeit, Arrays mit Hilfe von Pickle in einem eigenen Binärformat zu speichern. Dazu existiert die Funktion `save`. Als Dateiendung verwendet man in der Regel `npy`."
   ]
  },
  {
   "cell_type": "code",
   "execution_count": null,
   "id": "8306865a",
   "metadata": {
    "deletable": false
   },
   "outputs": [],
   "source": [
    "np.save('random_array.npy', ar)"
   ]
  },
  {
   "cell_type": "markdown",
   "id": "6772a167",
   "metadata": {
    "deletable": false,
    "editable": false
   },
   "source": [
    "Mit `savez_compressed` existiert außerdem eine Funktion zur Speicherung mit Kompression bereit. Dafür wird die Dateiendung `npz` empfohlen."
   ]
  },
  {
   "cell_type": "code",
   "execution_count": null,
   "id": "02b02b90",
   "metadata": {
    "deletable": false
   },
   "outputs": [],
   "source": [
    "np.savez_compressed('random_array.npz', ar)"
   ]
  },
  {
   "cell_type": "markdown",
   "id": "cb2ac157",
   "metadata": {
    "deletable": false,
    "editable": false
   },
   "source": [
    "Die Dateigrößen verhalten sich dabei wie folgt."
   ]
  },
  {
   "cell_type": "code",
   "execution_count": null,
   "id": "d9e3211d",
   "metadata": {
    "deletable": false
   },
   "outputs": [],
   "source": [
    "for file in 'random_array.npy', 'random_array.npz':\n",
    "    size_in_mib = path.getsize(file) / (1024 * 1024)\n",
    "    print(f'{file}: {size_in_mib:.1f} MiB')"
   ]
  },
  {
   "cell_type": "markdown",
   "id": "bc7d96c0",
   "metadata": {
    "deletable": false,
    "editable": false
   },
   "source": [
    "Laden können Sie die Daten mit der Funktion `load`."
   ]
  },
  {
   "cell_type": "code",
   "execution_count": null,
   "id": "ac740472",
   "metadata": {
    "deletable": false
   },
   "outputs": [],
   "source": [
    "ar3 = np.load('random_array.npy')\n",
    "(ar == ar3).all()"
   ]
  },
  {
   "cell_type": "markdown",
   "id": "de3cd60f",
   "metadata": {
    "deletable": false,
    "editable": false
   },
   "source": [
    "Beachten Sie, dass die Funktion `savez_compressed` eine Datei erzeugt, die mehrere Arrays enthalten kann. Sie müssen beim Laden daher zusätzlich das erste Array mit dem Namen `arr_0` auswählen."
   ]
  },
  {
   "cell_type": "code",
   "execution_count": null,
   "id": "438ad23f",
   "metadata": {
    "deletable": false
   },
   "outputs": [],
   "source": [
    "ar4 = np.load('random_array.npz')['arr_0']\n",
    "(ar == ar4).all()"
   ]
  },
  {
   "cell_type": "markdown",
   "id": "29604aff",
   "metadata": {
    "deletable": false,
    "editable": false
   },
   "source": [
    "## Temporäre Dateien löschen\n",
    "Sie können die zu Anschauungszwecken angelegten Dateien nun wieder von Ihrem System löschen:"
   ]
  },
  {
   "cell_type": "code",
   "execution_count": null,
   "id": "6445a4cb",
   "metadata": {
    "deletable": false
   },
   "outputs": [],
   "source": [
    "for file in 'random_array.csv', 'random_array.csv.bz2', 'random_array.npy', 'random_array.npz':\n",
    "    if path.exists(file):\n",
    "        remove(file)"
   ]
  }
 ],
 "metadata": {
  "kernelspec": {
   "display_name": "Python 3 (ipykernel)",
   "language": "python",
   "name": "python3"
  },
  "language_info": {
   "codemirror_mode": {
    "name": "ipython",
    "version": 3
   },
   "file_extension": ".py",
   "mimetype": "text/x-python",
   "name": "python",
   "nbconvert_exporter": "python",
   "pygments_lexer": "ipython3",
   "version": "3.8.10"
  }
 },
 "nbformat": 4,
 "nbformat_minor": 5
}
