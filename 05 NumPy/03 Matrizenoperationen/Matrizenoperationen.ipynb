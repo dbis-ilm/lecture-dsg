{
 "cells": [
  {
   "cell_type": "markdown",
   "id": "52e0f8b3",
   "metadata": {
    "deletable": false,
    "editable": false
   },
   "source": [
    "# Matrizenoperationen\n",
    "In diesem Abschnitt werden Ihnen einige Operationen gezeigt. Importieren Sie zuerst NumPy und legen Sie einige Vektoren und Matrizen zur Veranschaulichung an."
   ]
  },
  {
   "cell_type": "code",
   "execution_count": null,
   "id": "4851a949",
   "metadata": {
    "deletable": false
   },
   "outputs": [],
   "source": [
    "import numpy as np\n",
    "\n",
    "v1 = np.array([1, 2, 3])\n",
    "\n",
    "m1 = np.array([[1, 2, 3],\n",
    "               [4, 5, 6]])\n",
    "m2 = np.array([[4, 5, 6],\n",
    "               [7, 8, 9]])\n",
    "m3 = np.array([[1, 2],\n",
    "               [3, 4],\n",
    "               [5, 6]])"
   ]
  },
  {
   "cell_type": "markdown",
   "id": "9bcd36b1",
   "metadata": {
    "deletable": false,
    "editable": false
   },
   "source": [
    "## Inhaltsverzeichnis\n",
    "- [Skalare Operationen](#Skalare-Operationen)\n",
    "- [Elementweise Operationen](#Elementweise-Operationen)\n",
    "- [Aggregationsfunktionen](#Aggregationsfunktionen)\n",
    "- [Transposition](#Transposition)\n",
    "- [Matrizenmultiplikation](#Matrizenmultiplikation)"
   ]
  },
  {
   "cell_type": "markdown",
   "id": "6417053b",
   "metadata": {
    "deletable": false,
    "editable": false
   },
   "source": [
    "## Skalare Operationen\n",
    "Matrizen und Vektoren können mit Skalaren multipliziert werden."
   ]
  },
  {
   "cell_type": "code",
   "execution_count": null,
   "id": "6d8706d9",
   "metadata": {
    "deletable": false
   },
   "outputs": [],
   "source": [
    "v1 * 1.5"
   ]
  },
  {
   "cell_type": "code",
   "execution_count": null,
   "id": "bd336ece",
   "metadata": {
    "deletable": false
   },
   "outputs": [],
   "source": [
    "m1 * 1.5"
   ]
  },
  {
   "cell_type": "markdown",
   "id": "eac1f46d",
   "metadata": {
    "deletable": false,
    "editable": false
   },
   "source": [
    "## Elementweise Operationen\n",
    "Die grundlegenden Rechenoperationen finden elementweise statt."
   ]
  },
  {
   "cell_type": "code",
   "execution_count": null,
   "id": "925d51af",
   "metadata": {
    "deletable": false
   },
   "outputs": [],
   "source": [
    "m1 + m2"
   ]
  },
  {
   "cell_type": "code",
   "execution_count": null,
   "id": "dde779d7",
   "metadata": {
    "deletable": false
   },
   "outputs": [],
   "source": [
    "m1 - m2"
   ]
  },
  {
   "cell_type": "code",
   "execution_count": null,
   "id": "519a8b67",
   "metadata": {
    "deletable": false
   },
   "outputs": [],
   "source": [
    "m1 * m2"
   ]
  },
  {
   "cell_type": "code",
   "execution_count": null,
   "id": "9893f859",
   "metadata": {
    "deletable": false
   },
   "outputs": [],
   "source": [
    "m1 / m2"
   ]
  },
  {
   "cell_type": "markdown",
   "id": "99d75ffb",
   "metadata": {
    "deletable": false,
    "editable": false
   },
   "source": [
    "## Aggregationsfunktionen\n",
    "Zur Analyse von Matrizen stehen mehrere Aggregationsfunktionen zur Verfügung. Darunter befinden sich beispielsweise `min`, `max` und `sum`."
   ]
  },
  {
   "cell_type": "code",
   "execution_count": null,
   "id": "1666ce2b",
   "metadata": {
    "deletable": false
   },
   "outputs": [],
   "source": [
    "m1.min(), m1.max(), m1.sum()"
   ]
  },
  {
   "cell_type": "markdown",
   "id": "50d557a8",
   "metadata": {
    "deletable": false,
    "editable": false
   },
   "source": [
    "Außerdem gibt es einige statistische Analysefunktionen wie `mean`, `var` und `std`."
   ]
  },
  {
   "cell_type": "code",
   "execution_count": null,
   "id": "0c989b15",
   "metadata": {
    "deletable": false
   },
   "outputs": [],
   "source": [
    "m1.mean(), m1.var(), m1.std()"
   ]
  },
  {
   "cell_type": "markdown",
   "id": "934e6031",
   "metadata": {
    "deletable": false,
    "editable": false
   },
   "source": [
    "Aus der linearen Algebra gibt es weiterhin Funktionen wie beispielsweise `trace`."
   ]
  },
  {
   "cell_type": "code",
   "execution_count": null,
   "id": "fd3e571c",
   "metadata": {
    "deletable": false
   },
   "outputs": [],
   "source": [
    "m1.trace()"
   ]
  },
  {
   "cell_type": "markdown",
   "id": "2f3f75ea",
   "metadata": {
    "deletable": false,
    "editable": false
   },
   "source": [
    "## Transposition\n",
    "Matrizen lassen sich transponieren."
   ]
  },
  {
   "cell_type": "code",
   "execution_count": null,
   "id": "8faf8fcb",
   "metadata": {
    "deletable": false
   },
   "outputs": [],
   "source": [
    "m1.transpose()"
   ]
  },
  {
   "cell_type": "code",
   "execution_count": null,
   "id": "c6ec0e81",
   "metadata": {
    "deletable": false
   },
   "outputs": [],
   "source": [
    "(m1.transpose().transpose() == m1).all()"
   ]
  },
  {
   "cell_type": "markdown",
   "id": "bcb2d54b",
   "metadata": {
    "deletable": false,
    "editable": false
   },
   "source": [
    "## Matrizenmultiplikation\n",
    "Matrizen lassen sich sowohl mit Vektoren als auch mit Matrizen multiplizieren."
   ]
  },
  {
   "cell_type": "code",
   "execution_count": null,
   "id": "2e4871ad",
   "metadata": {
    "deletable": false
   },
   "outputs": [],
   "source": [
    "m1.dot(v1)"
   ]
  },
  {
   "cell_type": "code",
   "execution_count": null,
   "id": "3370b6f4",
   "metadata": {
    "deletable": false
   },
   "outputs": [],
   "source": [
    "m1.dot(m3)"
   ]
  }
 ],
 "metadata": {
  "kernelspec": {
   "display_name": "Python 3 (ipykernel)",
   "language": "python",
   "name": "python3"
  },
  "language_info": {
   "codemirror_mode": {
    "name": "ipython",
    "version": 3
   },
   "file_extension": ".py",
   "mimetype": "text/x-python",
   "name": "python",
   "nbconvert_exporter": "python",
   "pygments_lexer": "ipython3",
   "version": "3.8.10"
  }
 },
 "nbformat": 4,
 "nbformat_minor": 5
}
