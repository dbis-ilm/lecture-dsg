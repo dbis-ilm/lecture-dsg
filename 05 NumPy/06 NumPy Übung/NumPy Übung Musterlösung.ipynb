{
 "cells": [
  {
   "cell_type": "markdown",
   "id": "d7d0e38a",
   "metadata": {
    "deletable": false,
    "editable": false
   },
   "source": [
    "# NumPy Übung\n",
    "Laden Sie zuerst `numpy`, `csv` und die Tests für dieses Übungsblatt."
   ]
  },
  {
   "cell_type": "code",
   "execution_count": null,
   "id": "4a35dd7a",
   "metadata": {
    "deletable": false,
    "editable": false
   },
   "outputs": [],
   "source": [
    "import numpy as np\n",
    "import csv"
   ]
  },
  {
   "cell_type": "markdown",
   "id": "4b546a1b",
   "metadata": {
    "deletable": false,
    "editable": false
   },
   "source": [
    "## Aufgabe 1\n",
    "Die Datei `cast.csv.bz2` enthält ein NumPy Array. Reihen und Spalten enthalten jeweils einen Schauspieler aus einem der Werke des Ihnen bereits bekannten Datensatzes [Disney+ Movies and TV Shows](https://www.kaggle.com/code/werador/disney-data-analysis/data). Die Einträge beschreiben die Anzahl der Werke, in denen die Schauspieler der jeweiligen Reihe und Spalte zusammengearbeitet haben. Um die Dateigröße zu reduzieren wurden die Personen entfernt, die lediglich an einer Produktion mitwirkten.\n",
    "\n",
    "Laden Sie diese Datei in ein NumPy Array. Beachten Sie, dass die Datei komprimiert wurde."
   ]
  },
  {
   "cell_type": "code",
   "execution_count": null,
   "id": "fdb4f056",
   "metadata": {
    "deletable": false,
    "editable": false,
    "tags": [
     "task-1"
    ]
   },
   "outputs": [],
   "source": [
    "cast = np.loadtxt('cast.csv.bz2')\n",
    "np.shape(cast)"
   ]
  },
  {
   "cell_type": "markdown",
   "id": "ba74dab2",
   "metadata": {
    "deletable": false,
    "editable": false
   },
   "source": [
    "Die Datei `cast_names.csv` enthält zu jedem Index den Namen eines Schauspielers. Laden Sie diese Datei in eine gewöhnliche Liste."
   ]
  },
  {
   "cell_type": "code",
   "execution_count": null,
   "id": "92c10bea",
   "metadata": {
    "deletable": false,
    "editable": false,
    "tags": [
     "task-1"
    ]
   },
   "outputs": [],
   "source": [
    "cast_names = []\n",
    "\n",
    "with open('cast_names.csv', encoding='utf-8') as file:\n",
    "    reader = csv.reader(file)\n",
    "    for line_number, (_, name) in enumerate(reader):\n",
    "        if line_number > 0:\n",
    "            cast_names.append(name)"
   ]
  },
  {
   "cell_type": "markdown",
   "id": "bda309d6",
   "metadata": {
    "deletable": false,
    "editable": false
   },
   "source": [
    "## Aufgabe 2\n",
    "Die fallende Diagonale enthält die Anzahl der Werke, in denen ein Schauspieler mit sich selbst gearbeitet hat. Dieser Wert markiert folglich das Maximum jeder Zeile und Spalte.\n",
    "\n",
    "Finden Sie zunächst den Index und die Anzahl und anschließend den Namen der Person(en), die an den meisten Werken mitarbeitete(n)."
   ]
  },
  {
   "cell_type": "code",
   "execution_count": null,
   "id": "64474e7a",
   "metadata": {
    "deletable": false,
    "editable": false
   },
   "outputs": [],
   "source": [
    "max_value = cast.max()\n",
    "max_indices = np.where(cast == max_value)\n",
    "\n",
    "max_indices"
   ]
  },
  {
   "cell_type": "code",
   "execution_count": null,
   "id": "5bbfffff",
   "metadata": {
    "deletable": false,
    "editable": false,
    "tags": [
     "task-2"
    ]
   },
   "outputs": [],
   "source": [
    "max_value = cast.max()\n",
    "max_indices = np.argwhere(cast == max_value)\n",
    "\n",
    "max_indices"
   ]
  },
  {
   "cell_type": "code",
   "execution_count": null,
   "id": "6256820f",
   "metadata": {
    "deletable": false,
    "editable": false,
    "tags": [
     "task-2"
    ]
   },
   "outputs": [],
   "source": [
    "names = [cast_names[i] for i in max_indices[:,0]]\n",
    "names"
   ]
  },
  {
   "cell_type": "markdown",
   "id": "40ec1633",
   "metadata": {
    "deletable": false,
    "editable": false
   },
   "source": [
    "## Aufgabe 3\n",
    "Bestimmen Sie die Paare von Schauspielern, die am häufigsten zusammenarbeiteten. Eliminieren Sie dazu zunächst die fallende Hauptdiagonale."
   ]
  },
  {
   "cell_type": "code",
   "execution_count": null,
   "id": "6d0f9b2a",
   "metadata": {
    "deletable": false,
    "editable": false,
    "tags": [
     "task-3"
    ]
   },
   "outputs": [],
   "source": [
    "cast_wo_self = cast * (1 - np.eye(*cast.shape))\n",
    "cast_wo_self"
   ]
  },
  {
   "cell_type": "markdown",
   "id": "54c80515",
   "metadata": {
    "deletable": false,
    "editable": false
   },
   "source": [
    "Bestimmen Sie nun erneut den maximalen Wert und die zugehörigen Indizes."
   ]
  },
  {
   "cell_type": "code",
   "execution_count": null,
   "id": "8eeb61cd",
   "metadata": {
    "deletable": false,
    "editable": false
   },
   "outputs": [],
   "source": [
    "max_value = cast_wo_self.max()\n",
    "max_indices = np.where(cast_wo_self == max_value)\n",
    "\n",
    "max_indices"
   ]
  },
  {
   "cell_type": "code",
   "execution_count": null,
   "id": "82c42234",
   "metadata": {
    "deletable": false,
    "editable": false,
    "tags": [
     "task-3"
    ]
   },
   "outputs": [],
   "source": [
    "max_value = cast_wo_self.max()\n",
    "max_indices = np.argwhere(cast_wo_self == max_value)\n",
    "\n",
    "max_indices"
   ]
  },
  {
   "cell_type": "markdown",
   "id": "2274295d",
   "metadata": {
    "deletable": false,
    "editable": false
   },
   "source": [
    "Suchen Sie zu den gefundenen Indizes die entsprechenden Namen heraus. Speichern Sie es als eine Liste von Tupeln der Form `(str, str)`."
   ]
  },
  {
   "cell_type": "code",
   "execution_count": null,
   "id": "433a3d40",
   "metadata": {
    "deletable": false,
    "editable": false,
    "tags": [
     "task-3"
    ]
   },
   "outputs": [],
   "source": [
    "names = [cast_names[i] for i in max_indices[0]]\n",
    "names"
   ]
  }
 ],
 "metadata": {
  "kernelspec": {
   "display_name": "Python 3 (ipykernel)",
   "language": "python",
   "name": "python3"
  },
  "language_info": {
   "codemirror_mode": {
    "name": "ipython",
    "version": 3
   },
   "file_extension": ".py",
   "mimetype": "text/x-python",
   "name": "python",
   "nbconvert_exporter": "python",
   "pygments_lexer": "ipython3",
   "version": "3.8.10"
  }
 },
 "nbformat": 4,
 "nbformat_minor": 5
}
