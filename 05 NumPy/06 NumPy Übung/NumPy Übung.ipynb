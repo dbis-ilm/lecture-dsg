{
 "cells": [
  {
   "cell_type": "markdown",
   "id": "d7d0e38a",
   "metadata": {
    "deletable": false,
    "editable": false
   },
   "source": [
    "# NumPy Übung\n",
    "Laden Sie zuerst `numpy`, `csv` und die Tests für dieses Übungsblatt."
   ]
  },
  {
   "cell_type": "code",
   "execution_count": null,
   "id": "821276ec",
   "metadata": {
    "deletable": false,
    "editable": false
   },
   "outputs": [],
   "source": [
    "import numpy as np\n",
    "import csv\n",
    "\n",
    "from tests import *"
   ]
  },
  {
   "cell_type": "markdown",
   "id": "4b546a1b",
   "metadata": {
    "deletable": false,
    "editable": false
   },
   "source": [
    "## Aufgabe 1\n",
    "Die Datei `cast.csv.bz2` enthält ein NumPy Array. Reihen und Spalten enthalten jeweils einen Schauspieler aus einem der Werke des Ihnen bereits bekannten Datensatzes [Disney+ Movies and TV Shows](https://www.kaggle.com/code/werador/disney-data-analysis/data). Die Einträge beschreiben die Anzahl der Werke, in denen die Schauspieler der jeweiligen Reihe und Spalte zusammengearbeitet haben. Um die Dateigröße zu reduzieren wurden die Personen entfernt, die lediglich an einer Produktion mitwirkten.\n",
    "\n",
    "Laden Sie diese Datei in ein NumPy Array. Beachten Sie, dass die Datei komprimiert wurde."
   ]
  },
  {
   "cell_type": "code",
   "execution_count": null,
   "id": "cecfee11",
   "metadata": {
    "deletable": false,
    "tags": [
     "task-1"
    ]
   },
   "outputs": [],
   "source": [
    "cast = ...\n",
    "np.shape(cast)"
   ]
  },
  {
   "cell_type": "code",
   "execution_count": null,
   "id": "a0f1fa5e",
   "metadata": {
    "deletable": false,
    "editable": false
   },
   "outputs": [],
   "source": [
    "aufgabe1_1(cast)"
   ]
  },
  {
   "cell_type": "markdown",
   "id": "ba74dab2",
   "metadata": {
    "deletable": false,
    "editable": false
   },
   "source": [
    "Die Datei `cast_names.csv` enthält zu jedem Index den Namen eines Schauspielers. Laden Sie diese Datei in eine gewöhnliche Liste."
   ]
  },
  {
   "cell_type": "code",
   "execution_count": null,
   "id": "0d92f16d",
   "metadata": {
    "deletable": false,
    "tags": [
     "task-1"
    ]
   },
   "outputs": [],
   "source": [
    "cast_names = []\n",
    "\n",
    "..."
   ]
  },
  {
   "cell_type": "code",
   "execution_count": null,
   "id": "09af2e69",
   "metadata": {
    "deletable": false,
    "editable": false
   },
   "outputs": [],
   "source": [
    "aufgabe1_2(cast_names)"
   ]
  },
  {
   "cell_type": "markdown",
   "id": "bda309d6",
   "metadata": {
    "deletable": false,
    "editable": false
   },
   "source": [
    "## Aufgabe 2\n",
    "Die fallende Diagonale enthält die Anzahl der Werke, in denen ein Schauspieler mit sich selbst gearbeitet hat. Dieser Wert markiert folglich das Maximum jeder Zeile und Spalte.\n",
    "\n",
    "Finden Sie zunächst den Index und die Anzahl und anschließend den Namen der Person(en), die an den meisten Werken mitarbeitete(n)."
   ]
  },
  {
   "cell_type": "code",
   "execution_count": null,
   "id": "0e6d6c72",
   "metadata": {
    "deletable": false,
    "tags": [
     "task-2"
    ]
   },
   "outputs": [],
   "source": [
    "max_value = ...\n",
    "max_indices = ...\n",
    "\n",
    "max_indices"
   ]
  },
  {
   "cell_type": "code",
   "execution_count": null,
   "id": "7cfc285b",
   "metadata": {
    "deletable": false,
    "editable": false
   },
   "outputs": [],
   "source": [
    "aufgabe2_1(max_value, max_indices)"
   ]
  },
  {
   "cell_type": "code",
   "execution_count": null,
   "id": "e3c7da22",
   "metadata": {
    "deletable": false,
    "tags": [
     "task-2"
    ]
   },
   "outputs": [],
   "source": [
    "names = [...]\n",
    "names"
   ]
  },
  {
   "cell_type": "code",
   "execution_count": null,
   "id": "2279bc83",
   "metadata": {
    "deletable": false,
    "editable": false
   },
   "outputs": [],
   "source": [
    "aufgabe2_2(names)"
   ]
  },
  {
   "cell_type": "markdown",
   "id": "40ec1633",
   "metadata": {
    "deletable": false,
    "editable": false
   },
   "source": [
    "## Aufgabe 3\n",
    "Bestimmen Sie die Paare von Schauspielern, die am häufigsten zusammenarbeiteten. Eliminieren Sie dazu zunächst die fallende Hauptdiagonale."
   ]
  },
  {
   "cell_type": "code",
   "execution_count": null,
   "id": "43c5cd31",
   "metadata": {
    "deletable": false,
    "tags": [
     "task-3"
    ]
   },
   "outputs": [],
   "source": [
    "cast_wo_self = ...\n",
    "cast_wo_self"
   ]
  },
  {
   "cell_type": "code",
   "execution_count": null,
   "id": "a3aded0f",
   "metadata": {
    "deletable": false,
    "editable": false
   },
   "outputs": [],
   "source": [
    "aufgabe3_1(cast_wo_self)"
   ]
  },
  {
   "cell_type": "markdown",
   "id": "54c80515",
   "metadata": {
    "deletable": false,
    "editable": false
   },
   "source": [
    "Bestimmen Sie nun erneut den maximalen Wert und die zugehörigen Indizes."
   ]
  },
  {
   "cell_type": "code",
   "execution_count": null,
   "id": "1c4f05af",
   "metadata": {
    "deletable": false,
    "tags": [
     "task-3"
    ]
   },
   "outputs": [],
   "source": [
    "max_value = ...\n",
    "max_indices = ...\n",
    "\n",
    "max_indices"
   ]
  },
  {
   "cell_type": "code",
   "execution_count": null,
   "id": "eb67188f",
   "metadata": {
    "deletable": false,
    "editable": false
   },
   "outputs": [],
   "source": [
    "aufgabe3_2(max_value, max_indices)"
   ]
  },
  {
   "cell_type": "markdown",
   "id": "2274295d",
   "metadata": {
    "deletable": false,
    "editable": false
   },
   "source": [
    "Suchen Sie zu den gefundenen Indizes die entsprechenden Namen heraus. Speichern Sie es als eine Liste von Tupeln der Form `(str, str)`."
   ]
  },
  {
   "cell_type": "code",
   "execution_count": null,
   "id": "99671f71",
   "metadata": {
    "deletable": false,
    "tags": [
     "task-3"
    ]
   },
   "outputs": [],
   "source": [
    "names = ...\n",
    "names"
   ]
  },
  {
   "cell_type": "code",
   "execution_count": null,
   "id": "bd84e939",
   "metadata": {
    "deletable": false,
    "editable": false
   },
   "outputs": [],
   "source": [
    "aufgabe3_3(names)"
   ]
  }
 ],
 "metadata": {
  "kernelspec": {
   "display_name": "Python 3 (ipykernel)",
   "language": "python",
   "name": "python3"
  },
  "language_info": {
   "codemirror_mode": {
    "name": "ipython",
    "version": 3
   },
   "file_extension": ".py",
   "mimetype": "text/x-python",
   "name": "python",
   "nbconvert_exporter": "python",
   "pygments_lexer": "ipython3",
   "version": "3.8.10"
  }
 },
 "nbformat": 4,
 "nbformat_minor": 5
}
