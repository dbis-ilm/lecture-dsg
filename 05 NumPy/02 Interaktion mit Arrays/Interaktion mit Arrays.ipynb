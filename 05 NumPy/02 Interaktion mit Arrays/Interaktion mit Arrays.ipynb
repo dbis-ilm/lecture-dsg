{
 "cells": [
  {
   "cell_type": "markdown",
   "id": "25ada85e",
   "metadata": {
    "deletable": false,
    "editable": false
   },
   "source": [
    "# Interaktion mit Arrays\n",
    "In diesem Abschnitt werden Arrays angelegt und einige grundsätzliche Operationen vorgestellt. Importieren Sie zunächst NumPy."
   ]
  },
  {
   "cell_type": "code",
   "execution_count": null,
   "id": "2800683c",
   "metadata": {
    "deletable": false,
    "editable": false
   },
   "outputs": [],
   "source": [
    "import numpy as np"
   ]
  },
  {
   "cell_type": "markdown",
   "id": "bc2a9cf2",
   "metadata": {
    "deletable": false,
    "editable": false
   },
   "source": [
    "## Inhaltsverzeichnis\n",
    "- [Arrays anlegen](#Arrays-anlegen)\n",
    "- [Anordnung ändern](#Anordnung-ändern)\n",
    "- [Arrays kopieren](#Arrays-kopieren)\n",
    "- [*Index* und *Slice*](#Index-und-Slice)"
   ]
  },
  {
   "cell_type": "markdown",
   "id": "37d64e3a",
   "metadata": {
    "deletable": false,
    "editable": false
   },
   "source": [
    "## Arrays anlegen\n",
    "Im vorigen Abschnitt haben Sie bereits gesehen, wie Arrays eines bestimmten Datentyps aus Listen erstellt werden können."
   ]
  },
  {
   "cell_type": "code",
   "execution_count": null,
   "id": "aaa428df",
   "metadata": {
    "deletable": false,
    "editable": false
   },
   "outputs": [],
   "source": [
    "ar = np.array([1, 2, 3], dtype=np.float64)\n",
    "ar.dtype, ar"
   ]
  },
  {
   "cell_type": "markdown",
   "id": "faec239f",
   "metadata": {
    "deletable": false,
    "editable": false
   },
   "source": [
    "Das Vorgehen funktioniert auch in mehreren Dimensionen. Dazu fügen Sie der Liste weitere Listen hinzu, die Reihen markieren."
   ]
  },
  {
   "cell_type": "code",
   "execution_count": null,
   "id": "8bb89d6b",
   "metadata": {
    "deletable": false,
    "editable": false
   },
   "outputs": [],
   "source": [
    "ar = np.array([[1, 2], [3, 4], [5, 6]])\n",
    "ar.dtype, ar"
   ]
  },
  {
   "cell_type": "markdown",
   "id": "d0bf65f6",
   "metadata": {
    "deletable": false,
    "editable": false
   },
   "source": [
    "Zudem existieren weitere Funktionen, um übliche Arrays zu erzeugen."
   ]
  },
  {
   "cell_type": "code",
   "execution_count": null,
   "id": "f33fcccc",
   "metadata": {
    "deletable": false,
    "editable": false
   },
   "outputs": [],
   "source": [
    "np.ones(5)"
   ]
  },
  {
   "cell_type": "code",
   "execution_count": null,
   "id": "e96e0e9c",
   "metadata": {
    "deletable": false,
    "editable": false
   },
   "outputs": [],
   "source": [
    "np.zeros((2, 5))"
   ]
  },
  {
   "cell_type": "code",
   "execution_count": null,
   "id": "8f186368",
   "metadata": {
    "deletable": false,
    "editable": false
   },
   "outputs": [],
   "source": [
    "np.eye(3)"
   ]
  },
  {
   "cell_type": "code",
   "execution_count": null,
   "id": "f095f97d",
   "metadata": {
    "deletable": false,
    "editable": false
   },
   "outputs": [],
   "source": [
    "np.diag([4, 2, 3])"
   ]
  },
  {
   "cell_type": "code",
   "execution_count": null,
   "id": "5f340beb",
   "metadata": {
    "deletable": false,
    "editable": false
   },
   "outputs": [],
   "source": [
    "np.arange(5)"
   ]
  },
  {
   "cell_type": "markdown",
   "id": "d5c3a1d7",
   "metadata": {
    "deletable": false,
    "editable": false
   },
   "source": [
    "Die Maße eines Arrays lassen sich über das Attribut `shape` abfragen."
   ]
  },
  {
   "cell_type": "code",
   "execution_count": null,
   "id": "c74ea771",
   "metadata": {
    "deletable": false,
    "editable": false
   },
   "outputs": [],
   "source": [
    "np.ones((5, 2)).shape"
   ]
  },
  {
   "cell_type": "markdown",
   "id": "86605ab3",
   "metadata": {
    "deletable": false,
    "editable": false
   },
   "source": [
    "## Anordnung ändern"
   ]
  },
  {
   "cell_type": "code",
   "execution_count": null,
   "id": "cf85b3da",
   "metadata": {
    "deletable": false,
    "editable": false
   },
   "outputs": [],
   "source": [
    "ar = np.arange(12).reshape(4, 3)\n",
    "br = np.arange(21, 29).reshape(4, 2)\n",
    "cr = np.arange(21, 27).reshape(2, 3)\n",
    "\n",
    "print('ar:', ar, sep='\\n', end='\\n'*2)\n",
    "print('br:', br, sep='\\n', end='\\n'*2)\n",
    "print('cr:', cr, sep='\\n')"
   ]
  },
  {
   "cell_type": "markdown",
   "id": "2016cbf5",
   "metadata": {
    "deletable": false,
    "editable": false
   },
   "source": [
    "Es besteht die Möglichkeit, die Anzahl der Achsen zu ändern. Die Anzahl der Elemente muss dabei gleich bleiben."
   ]
  },
  {
   "cell_type": "code",
   "execution_count": null,
   "id": "2fdcd70a",
   "metadata": {
    "deletable": false,
    "editable": false
   },
   "outputs": [],
   "source": [
    "ar.reshape((2, 6))"
   ]
  },
  {
   "cell_type": "markdown",
   "id": "b3a8d6ba",
   "metadata": {
    "deletable": false,
    "editable": false
   },
   "source": [
    "Außerdem lassen sich Arrays horizontal und vertikal verbinden."
   ]
  },
  {
   "cell_type": "code",
   "execution_count": null,
   "id": "f5f79ba3",
   "metadata": {
    "deletable": false,
    "editable": false
   },
   "outputs": [],
   "source": [
    "np.hstack((ar, br))"
   ]
  },
  {
   "cell_type": "code",
   "execution_count": null,
   "id": "d1d97c0b",
   "metadata": {
    "deletable": false,
    "editable": false
   },
   "outputs": [],
   "source": [
    "np.vstack((ar, cr))"
   ]
  },
  {
   "cell_type": "markdown",
   "id": "d316c71c",
   "metadata": {
    "deletable": false,
    "editable": false
   },
   "source": [
    "## Arrays kopieren\n",
    "In der folgenden Zelle wird das Array in der Variable `ar` einer Variable `br` zugewiesen. `br` wird anschließend verändert, was allerdings auch eine Änderung in `ar` nach sich zieht."
   ]
  },
  {
   "cell_type": "code",
   "execution_count": null,
   "id": "c2fc86db",
   "metadata": {
    "deletable": false,
    "editable": false
   },
   "outputs": [],
   "source": [
    "ar = np.arange(5)\n",
    "br = ar\n",
    "br[2] = -2\n",
    "\n",
    "ar, br"
   ]
  },
  {
   "cell_type": "markdown",
   "id": "86176454",
   "metadata": {
    "deletable": false,
    "editable": false
   },
   "source": [
    "Um die Veränderung des Originals zu vermeiden, muss eine Kopie mit der Methode `copy` angelegt werden."
   ]
  },
  {
   "cell_type": "code",
   "execution_count": null,
   "id": "d551f07e",
   "metadata": {
    "deletable": false,
    "editable": false
   },
   "outputs": [],
   "source": [
    "ar = np.arange(5)\n",
    "br = ar.copy()\n",
    "br[2] = -2\n",
    "\n",
    "ar, br"
   ]
  },
  {
   "cell_type": "markdown",
   "id": "f978fb67",
   "metadata": {
    "deletable": false,
    "editable": false
   },
   "source": [
    "## *Index* und *Slice*"
   ]
  },
  {
   "cell_type": "code",
   "execution_count": null,
   "id": "86c76193",
   "metadata": {
    "deletable": false,
    "editable": false
   },
   "outputs": [],
   "source": [
    "ar = np.arange(15).reshape((5, 3))\n",
    "ar"
   ]
  },
  {
   "cell_type": "markdown",
   "id": "93b3cfa9",
   "metadata": {
    "deletable": false,
    "editable": false
   },
   "source": [
    "Index und Slice funktionieren analog zu Listen in Python. Das erste Element erhält den Index `0`. Mit dem Doppelpunkt können \"Scheiben\" herausgetrennt werden."
   ]
  },
  {
   "cell_type": "code",
   "execution_count": null,
   "id": "08b13fce",
   "metadata": {
    "deletable": false,
    "editable": false
   },
   "outputs": [],
   "source": [
    "print('zweite Reihe, dritte Spalte:',           ar[1][2],   sep='\\n', end='\\n'*2)\n",
    "print('zweite und dritte Reihe:',               ar[1:3],    sep='\\n', end='\\n'*2)\n",
    "print('zweite Reihe, erste und zweite Spalte:', ar[1][0:2], sep='\\n')"
   ]
  },
  {
   "cell_type": "markdown",
   "id": "f643dd71",
   "metadata": {
    "deletable": false,
    "editable": false
   },
   "source": [
    "Im Unterschied zu Listen akzeptiert NumPy als Indizes sogar Tupel. Tatsächlich ist das sogar notwendig, um Spalten und Teilmatrizen herauszulösen. Mit einem Doppelpunkt symbolisieren Sie, dass die gesamte Reihe oder Spalte gewählt werden soll."
   ]
  },
  {
   "cell_type": "code",
   "execution_count": null,
   "id": "186ee73d",
   "metadata": {
    "deletable": false,
    "editable": false
   },
   "outputs": [],
   "source": [
    "print('erste Spalte:',   ar[:, 0],   sep='\\n', end='\\n'*2)\n",
    "print('2x2 Teilmatrix:', ar[:2, :2], sep='\\n', end='\\n'*2)"
   ]
  }
 ],
 "metadata": {
  "kernelspec": {
   "display_name": "Python 3 (ipykernel)",
   "language": "python",
   "name": "python3"
  },
  "language_info": {
   "codemirror_mode": {
    "name": "ipython",
    "version": 3
   },
   "file_extension": ".py",
   "mimetype": "text/x-python",
   "name": "python",
   "nbconvert_exporter": "python",
   "pygments_lexer": "ipython3",
   "version": "3.8.10"
  }
 },
 "nbformat": 4,
 "nbformat_minor": 5
}
