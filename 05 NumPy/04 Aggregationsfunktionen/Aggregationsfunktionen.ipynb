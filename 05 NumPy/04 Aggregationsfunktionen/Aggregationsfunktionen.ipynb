{
 "cells": [
  {
   "cell_type": "markdown",
   "id": "52e0f8b3",
   "metadata": {
    "deletable": false,
    "editable": false
   },
   "source": [
    "# Aggregationsfunktionen\n",
    "In diesem Abschnitt werden Ihnen verschiedene Aggregationsfunktionen vorgestellt. Laden Sie zuerst NumPy und legen Sie eine Beispielmatrix an."
   ]
  },
  {
   "cell_type": "code",
   "execution_count": null,
   "id": "4851a949",
   "metadata": {
    "deletable": false
   },
   "outputs": [],
   "source": [
    "import numpy as np\n",
    "\n",
    "ar = np.array([[8, 2, 3],\n",
    "               [6, 1, 4],\n",
    "               [5, 9, 7]])\n",
    "ar"
   ]
  },
  {
   "cell_type": "markdown",
   "id": "9bcd36b1",
   "metadata": {
    "deletable": false,
    "editable": false
   },
   "source": [
    "## Inhaltsverzeichnis\n",
    "- [`min` und `argmin`](#min-und-argmin)\n",
    "- [`max` und `argmax`](#max-und-argmax)\n",
    "- [`where` und `argwhere`](#where-und-argwhere)"
   ]
  },
  {
   "cell_type": "markdown",
   "id": "6417053b",
   "metadata": {
    "deletable": false,
    "editable": false
   },
   "source": [
    "## `min` und `argmin`\n",
    "`min` dient der Bestimmung des Minimums."
   ]
  },
  {
   "cell_type": "code",
   "execution_count": null,
   "id": "6d8706d9",
   "metadata": {
    "deletable": false
   },
   "outputs": [],
   "source": [
    "ar.min()"
   ]
  },
  {
   "cell_type": "markdown",
   "id": "e173c7cd",
   "metadata": {
    "deletable": false,
    "editable": false
   },
   "source": [
    "Ohne Angabe der Achse wird das globale Minimum zurückgegeben. Sie können jedoch auch die Minima pro Reihe oder Spalte bestimmen lassen."
   ]
  },
  {
   "cell_type": "code",
   "execution_count": null,
   "id": "bd336ece",
   "metadata": {
    "deletable": false
   },
   "outputs": [],
   "source": [
    "ar.min(axis=1), ar.min(axis=0)"
   ]
  },
  {
   "cell_type": "markdown",
   "id": "a5e0d79b",
   "metadata": {
    "deletable": false,
    "editable": false
   },
   "source": [
    "Mit der Funktion `argmin` lässt sich die Position des Minimums bestimmen."
   ]
  },
  {
   "cell_type": "code",
   "execution_count": null,
   "id": "fd021a0b",
   "metadata": {
    "deletable": false
   },
   "outputs": [],
   "source": [
    "ar.argmin()"
   ]
  },
  {
   "cell_type": "markdown",
   "id": "e9168b1b",
   "metadata": {
    "deletable": false,
    "editable": false
   },
   "source": [
    "Standardmäßig wird das Array \"abgeflacht\", also reihenweise gelesen, und darauf basierend der Index bestimmt. Das Ergebnis kann also auch größer als eine einzelne Reihe oder Spalte sein. Zur Bestimmung der ursprünglichen Position dient die Funktion `unravel_index`."
   ]
  },
  {
   "cell_type": "code",
   "execution_count": null,
   "id": "132e157a",
   "metadata": {
    "deletable": false
   },
   "outputs": [],
   "source": [
    "np.unravel_index(ar.argmin(), ar.shape)"
   ]
  },
  {
   "cell_type": "markdown",
   "id": "c50f88e1",
   "metadata": {
    "deletable": false,
    "editable": false
   },
   "source": [
    "Auch `argmin` akzeptiert die Angabe einer Achse."
   ]
  },
  {
   "cell_type": "code",
   "execution_count": null,
   "id": "98ce63ba",
   "metadata": {
    "deletable": false
   },
   "outputs": [],
   "source": [
    "ar.argmin(axis=1), ar.argmin(axis=0)"
   ]
  },
  {
   "cell_type": "markdown",
   "id": "eac1f46d",
   "metadata": {
    "deletable": false,
    "editable": false
   },
   "source": [
    "## `max` und `argmax`\n",
    "`max` dient der Bestimmung des Maximums und wird analog zur `min` Funktion verwendet."
   ]
  },
  {
   "cell_type": "code",
   "execution_count": null,
   "id": "925d51af",
   "metadata": {
    "deletable": false
   },
   "outputs": [],
   "source": [
    "ar.max()"
   ]
  },
  {
   "cell_type": "code",
   "execution_count": null,
   "id": "dde779d7",
   "metadata": {
    "deletable": false
   },
   "outputs": [],
   "source": [
    "np.unravel_index(ar.argmax(), ar.shape)"
   ]
  },
  {
   "cell_type": "markdown",
   "id": "99d75ffb",
   "metadata": {
    "deletable": false,
    "editable": false
   },
   "source": [
    "## `where` und `argwhere`\n",
    "`where` gibt die Position aller wahren Einträge innerhalb eines Arrays zurück."
   ]
  },
  {
   "cell_type": "code",
   "execution_count": null,
   "id": "1666ce2b",
   "metadata": {
    "deletable": false
   },
   "outputs": [],
   "source": [
    "np.where([True, False, True])"
   ]
  },
  {
   "cell_type": "markdown",
   "id": "50d557a8",
   "metadata": {
    "deletable": false,
    "editable": false
   },
   "source": [
    "Mit Vergleichen kann dies zum Auffinden verschiedener Einträge innerhalb eines Arrays verwendet werden."
   ]
  },
  {
   "cell_type": "code",
   "execution_count": null,
   "id": "0c989b15",
   "metadata": {
    "deletable": false
   },
   "outputs": [],
   "source": [
    "np.where(ar >= 7)"
   ]
  },
  {
   "cell_type": "markdown",
   "id": "934e6031",
   "metadata": {
    "deletable": false,
    "editable": false
   },
   "source": [
    "Beachten Sie bitte, dass ein Tupel zurückgegeben wird, dessen Einträge die jeweiligen Achsen repräsentieren. Der erste Fund befindet sich also in der Reihe des ersten Eintrags des ersten Elements und in der Spalte des ersten Eintrags des zweiten Elements.\n",
    "\n",
    "`argwhere` dagegen gibt die Koordinaten nach Element gruppiert zurück."
   ]
  },
  {
   "cell_type": "code",
   "execution_count": null,
   "id": "786cb795",
   "metadata": {
    "deletable": false
   },
   "outputs": [],
   "source": [
    "np.argwhere(ar >= 7)"
   ]
  }
 ],
 "metadata": {
  "kernelspec": {
   "display_name": "Python 3 (ipykernel)",
   "language": "python",
   "name": "python3"
  },
  "language_info": {
   "codemirror_mode": {
    "name": "ipython",
    "version": 3
   },
   "file_extension": ".py",
   "mimetype": "text/x-python",
   "name": "python",
   "nbconvert_exporter": "python",
   "pygments_lexer": "ipython3",
   "version": "3.10.12"
  }
 },
 "nbformat": 4,
 "nbformat_minor": 5
}
