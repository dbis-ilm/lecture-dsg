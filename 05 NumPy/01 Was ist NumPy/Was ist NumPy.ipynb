{
 "cells": [
  {
   "cell_type": "markdown",
   "id": "be6d8361-667a-4a0d-94a6-51e91ba3ec51",
   "metadata": {
    "deletable": false,
    "editable": false
   },
   "source": [
    "# NumPy\n",
    "*NumPy*, kurz für *Numerical Python*, ist eine Bibliothek, die den Umgang mit mehrdimensionalen Matrizen erleichtert, und gilt als der Standard im Umgang mit numerischen Daten innerhalb der Python-Welt. Auch wenn Sie NumPy eventuell nicht direkt verwenden, überlassen andere Bibliotheken wie Pandas, SciPy und scikit ihre Berechnungen der mächtigen, performanten und offenen Umsetzung. Im Folgenden sollen einige relevante Konzepte kurz vorgestellt werden, sodass Sie diese auch im Umgang mit anderen Problemstellungen anwenden können.\n",
    "\n",
    "NumPy lässt sich mit Hilfe eines Paketmanagers installieren und steht als Modul zur Verfügung. In der Regel (in diesem Fall wird es sogar von den Entwicklern empfohlen) wird das Kürzel `np` verwendet."
   ]
  },
  {
   "cell_type": "code",
   "execution_count": null,
   "id": "d28ec890",
   "metadata": {
    "deletable": false
   },
   "outputs": [],
   "source": [
    "import numpy as np"
   ]
  },
  {
   "cell_type": "markdown",
   "id": "e5d7a3ae",
   "metadata": {
    "deletable": false,
    "editable": false
   },
   "source": [
    "Das Kernelement von NumPy sind Arrays. Im Unterschied zu in Python integrierten Listen besitzen diese die Eigenschaft, homogen zu sein. Es dürfen also nur Elemente gleichen Typs enthalten sein, sodass die Speicherung kompakter bleibt und Algorithmen besser optimiert werden können.\n",
    "\n",
    "Die folgenden beiden Zellen veranschaulichen das, indem der enthaltene Datentyp durch die Eigenschaft `dtype` abgefragt wird. Das erste Array besteht nur aus ganzen Zahlen, wobei der resultierende Typ `int64` ist. Wenn lediglich eine einzige Dezimalzahl `3.0` enthalten ist, wechselt der Typ des gesamten Arrays zu Gleitkommazahlen `float64`. Beachten Sie bitte auch, dass damit auch jedes andere Element in diesem Array umgewandelt und dementsprechend in der Darstellung mit einem abschließenden Punkt versehen wird."
   ]
  },
  {
   "cell_type": "code",
   "execution_count": null,
   "id": "dacc9549",
   "metadata": {
    "deletable": false
   },
   "outputs": [],
   "source": [
    "ar = np.array([1, 2, 3])\n",
    "ar.dtype, ar"
   ]
  },
  {
   "cell_type": "code",
   "execution_count": null,
   "id": "ecf623cc",
   "metadata": {
    "deletable": false
   },
   "outputs": [],
   "source": [
    "ar = np.array([1, 2, 3.0])\n",
    "ar.dtype, ar"
   ]
  },
  {
   "cell_type": "markdown",
   "id": "9a6832bf",
   "metadata": {
    "deletable": false,
    "editable": false
   },
   "source": [
    "Der Datentyp kann auch manuell festgelegt werden. Beachten Sie dabei unbedingt, dass diese Konvertierung auch zu Informationsverlust führen kann und NumPy in manchen Fällen keinen Fehler zurückgibt. Das nachfolgend letzte Beispiel ist dabei besonders interessant, weil es eine räumliche Trennung zwischen der Fehlerursache und dem Auftreten des Fehlers erlaubt."
   ]
  },
  {
   "cell_type": "code",
   "execution_count": null,
   "id": "da52dc7f",
   "metadata": {
    "deletable": false,
    "editable": true,
    "slideshow": {
     "slide_type": ""
    },
    "tags": []
   },
   "outputs": [],
   "source": [
    "# Abschneiden der Nachkommastellen\n",
    "ar = np.array([1.1, 2.5, 3.9], dtype=np.int64)\n",
    "ar.dtype, ar"
   ]
  },
  {
   "cell_type": "code",
   "execution_count": null,
   "id": "2b4139eb",
   "metadata": {
    "deletable": false
   },
   "outputs": [],
   "source": [
    "# Umwandlung in Wahrheitswert\n",
    "ar = np.array([0, 1, '', 'numpy', 'False'], dtype=np.bool_)\n",
    "ar.dtype, ar"
   ]
  },
  {
   "cell_type": "code",
   "execution_count": null,
   "id": "facbb594",
   "metadata": {
    "deletable": false,
    "editable": true,
    "slideshow": {
     "slide_type": ""
    },
    "tags": [
     "raises-exception"
    ]
   },
   "outputs": [],
   "source": [
    "# Überlauf bei Erstellung\n",
    "# Erzeugt in neueren NumPy Versionen einen Fehler!\n",
    "ar = np.array([32767, 32767 + 1], dtype=np.int16)\n",
    "ar.dtype, ar"
   ]
  },
  {
   "cell_type": "code",
   "execution_count": null,
   "id": "6dd43132",
   "metadata": {
    "deletable": false,
    "editable": true,
    "slideshow": {
     "slide_type": ""
    },
    "tags": []
   },
   "outputs": [],
   "source": [
    "# Überlauf bei Rechenoperation\n",
    "ar = np.array([5, 250], dtype=np.int16)\n",
    "(ar * ar).dtype, ar * ar"
   ]
  }
 ],
 "metadata": {
  "kernelspec": {
   "display_name": "Python 3 (ipykernel)",
   "language": "python",
   "name": "python3"
  },
  "language_info": {
   "codemirror_mode": {
    "name": "ipython",
    "version": 3
   },
   "file_extension": ".py",
   "mimetype": "text/x-python",
   "name": "python",
   "nbconvert_exporter": "python",
   "pygments_lexer": "ipython3",
   "version": "3.10.12"
  }
 },
 "nbformat": 4,
 "nbformat_minor": 5
}
