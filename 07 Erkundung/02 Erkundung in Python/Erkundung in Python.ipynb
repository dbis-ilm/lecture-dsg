{
 "cells": [
  {
   "cell_type": "markdown",
   "id": "e1ae059d",
   "metadata": {
    "deletable": false,
    "editable": false
   },
   "source": [
    "# Erkundung in Python\n",
    "Alle Befehle, die auf der Kommandozeile ausführbar sind, lassen sich in Python nachbilden. Nachfolgend wird dies mit Pandas gezeigt. Importieren Sie die Bibliothek und laden Sie den Datensatz."
   ]
  },
  {
   "cell_type": "code",
   "execution_count": null,
   "id": "2d65fa2e",
   "metadata": {
    "deletable": false
   },
   "outputs": [],
   "source": [
    "import pandas as pd\n",
    "from tui_dsg.datasets import deutsche_nachnamen_haeufigkeit_path"
   ]
  },
  {
   "cell_type": "code",
   "execution_count": null,
   "id": "b071b40a-44a6-42fd-8a92-52af012eb51c",
   "metadata": {
    "deletable": false
   },
   "outputs": [],
   "source": [
    "df = pd.read_csv(deutsche_nachnamen_haeufigkeit_path, sep=' ',\n",
    "                 header=None, names=['Name', 'Anzahl'])"
   ]
  },
  {
   "cell_type": "markdown",
   "id": "ec3f1053",
   "metadata": {
    "deletable": false,
    "editable": false
   },
   "source": [
    "## Inhaltsverzeichnis\n",
    "- [`cat`](#cat)\n",
    "- [`wc`](#wc)\n",
    "- [`head` und `tail`](#head-und-tail)\n",
    "- [`sort`](#sort)\n",
    "- [`cut`](#cut)\n",
    "- [`describe`](#describe)"
   ]
  },
  {
   "cell_type": "markdown",
   "id": "c6b0a1a6",
   "metadata": {
    "deletable": false,
    "editable": false
   },
   "source": [
    "## `cat`\n",
    "Die Ausgabe erfolgt durch Angabe der Variable. Die vollständige Ausgabe kann erzwungen werden."
   ]
  },
  {
   "cell_type": "code",
   "execution_count": null,
   "id": "6a9c79fd",
   "metadata": {
    "deletable": false
   },
   "outputs": [],
   "source": [
    "pd.set_option('display.max_rows', 100)\n",
    "df"
   ]
  },
  {
   "cell_type": "markdown",
   "id": "12355cab",
   "metadata": {
    "deletable": false,
    "editable": false
   },
   "source": [
    "## `wc`\n",
    "Das Zählen der Zeilen ist trivial, während das Zählen von Wörtern und Zeichen auf den Inhalt der Spalten angepasst werden muss."
   ]
  },
  {
   "cell_type": "code",
   "execution_count": null,
   "id": "e0dc1dac",
   "metadata": {
    "deletable": false
   },
   "outputs": [],
   "source": [
    "len(df)"
   ]
  },
  {
   "cell_type": "markdown",
   "id": "051b4496",
   "metadata": {
    "deletable": false,
    "editable": false
   },
   "source": [
    "## `head` und `tail`\n",
    "pandas besitzt die Funktionen `head` und `tail`."
   ]
  },
  {
   "cell_type": "code",
   "execution_count": null,
   "id": "34188379",
   "metadata": {
    "deletable": false
   },
   "outputs": [],
   "source": [
    "# Ausgabe der ersten 5 Namen\n",
    "df.head(5)"
   ]
  },
  {
   "cell_type": "code",
   "execution_count": null,
   "id": "dfcf5bb6",
   "metadata": {
    "deletable": false
   },
   "outputs": [],
   "source": [
    "# Ausgabe der letzten 5 Namen\n",
    "df.tail(5)"
   ]
  },
  {
   "cell_type": "code",
   "execution_count": null,
   "id": "ac96713c",
   "metadata": {
    "deletable": false
   },
   "outputs": [],
   "source": [
    "# Ausgabe aller Zeilen außer der ersten 90\n",
    "df[90:]"
   ]
  },
  {
   "cell_type": "markdown",
   "id": "e6de0d8d",
   "metadata": {
    "deletable": false,
    "editable": false
   },
   "source": [
    "## `sort`"
   ]
  },
  {
   "cell_type": "code",
   "execution_count": null,
   "id": "ad94bd84",
   "metadata": {
    "deletable": false
   },
   "outputs": [],
   "source": [
    "df.sort_values('Name')"
   ]
  },
  {
   "cell_type": "markdown",
   "id": "90dc0879",
   "metadata": {
    "deletable": false,
    "editable": false
   },
   "source": [
    "## `cut`"
   ]
  },
  {
   "cell_type": "code",
   "execution_count": null,
   "id": "e7094643",
   "metadata": {
    "deletable": false
   },
   "outputs": [],
   "source": [
    "df['Anzahl']"
   ]
  },
  {
   "cell_type": "markdown",
   "id": "71d5c529",
   "metadata": {
    "deletable": false,
    "editable": false
   },
   "source": [
    "## `describe`\n",
    "Alle DataFrames besitzen die Methode `describe`. Mit dieser ist es möglich, sich einige statistische Kennwerte auf einfache Weise ausrechnen zu lassen. Diese Funktion existiert auf der Kommandozeile nicht."
   ]
  },
  {
   "cell_type": "code",
   "execution_count": null,
   "id": "c7c8c416",
   "metadata": {
    "deletable": false
   },
   "outputs": [],
   "source": [
    "df.describe()"
   ]
  }
 ],
 "metadata": {
  "kernelspec": {
   "display_name": "Python 3 (ipykernel)",
   "language": "python",
   "name": "python3"
  },
  "language_info": {
   "codemirror_mode": {
    "name": "ipython",
    "version": 3
   },
   "file_extension": ".py",
   "mimetype": "text/x-python",
   "name": "python",
   "nbconvert_exporter": "python",
   "pygments_lexer": "ipython3",
   "version": "3.10.12"
  }
 },
 "nbformat": 4,
 "nbformat_minor": 5
}
