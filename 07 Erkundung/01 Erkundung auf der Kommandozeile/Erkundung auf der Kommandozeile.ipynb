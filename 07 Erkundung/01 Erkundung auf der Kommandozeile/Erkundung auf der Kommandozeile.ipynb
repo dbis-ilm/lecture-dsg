{
 "cells": [
  {
   "cell_type": "markdown",
   "id": "ce067698",
   "metadata": {
    "deletable": false,
    "editable": false
   },
   "source": [
    "# Erkundung auf der Kommandozeile\n",
    "Im Folgenden werden Ihnen einige Befehle gezeigt, mit denen Sie einen Datensatz auf der Kommandozeile erkunden können. Dazu werden Programme benötigt, die unter Windows nur nach einer separaten Installation zur Verfügung stehen. Der nachfolgende Abschnitt *Erkundung in Python* umfasst die selben Operationen plattformübergreifend."
   ]
  },
  {
   "cell_type": "markdown",
   "id": "d60985d6",
   "metadata": {
    "deletable": false,
    "editable": false
   },
   "source": [
    "## Inhaltsverzeichnis\n",
    "- [`cat`](#cat)\n",
    "- [`wc`](#wc)\n",
    "- [`head` und `tail`](#head-und-tail)\n",
    "- [`sort`](#sort)\n",
    "- [`cut`](#cut)"
   ]
  },
  {
   "cell_type": "markdown",
   "id": "8f083a9a",
   "metadata": {
    "deletable": false,
    "editable": false
   },
   "source": [
    "## `cat`\n",
    "`cat` steht für *concatenate* und kann verwendet werden, um Dateien auszugeben. Die Ausgabe binärer oder großer Dateien kann jedoch dazu führen, dass das Terminal einfriert."
   ]
  },
  {
   "cell_type": "code",
   "execution_count": null,
   "id": "b0543f75",
   "metadata": {
    "deletable": false,
    "editable": false
   },
   "outputs": [],
   "source": [
    "%%bash\n",
    "cat deutsche_nachnamen_haeufigkeit.txt"
   ]
  },
  {
   "cell_type": "markdown",
   "id": "8f0fe518",
   "metadata": {
    "deletable": false,
    "editable": false
   },
   "source": [
    "## `wc`\n",
    "`wc` steht für *word count* und zählt neben Wörter auch Zeilen und Zeichen. Mit dem Parameter `-l` werden Zeilen gezählt, mit `-w` Wörter und mit `-c` Zeichen. Ohne Angabe eines Parameters werden alle drei Angaben in dieser Reihenfolge ausgegeben."
   ]
  },
  {
   "cell_type": "code",
   "execution_count": null,
   "id": "cd687cf2",
   "metadata": {
    "deletable": false,
    "editable": false
   },
   "outputs": [],
   "source": [
    "%%bash\n",
    "wc -l deutsche_nachnamen_haeufigkeit.txt"
   ]
  },
  {
   "cell_type": "code",
   "execution_count": null,
   "id": "9ca01b5b",
   "metadata": {
    "deletable": false,
    "editable": false
   },
   "outputs": [],
   "source": [
    "%%bash\n",
    "wc -w deutsche_nachnamen_haeufigkeit.txt"
   ]
  },
  {
   "cell_type": "code",
   "execution_count": null,
   "id": "025bde11",
   "metadata": {
    "deletable": false,
    "editable": false
   },
   "outputs": [],
   "source": [
    "%%bash\n",
    "wc -c deutsche_nachnamen_haeufigkeit.txt"
   ]
  },
  {
   "cell_type": "code",
   "execution_count": null,
   "id": "c1ded8f5",
   "metadata": {
    "deletable": false,
    "editable": false
   },
   "outputs": [],
   "source": [
    "%%bash\n",
    "wc deutsche_nachnamen_haeufigkeit.txt"
   ]
  },
  {
   "cell_type": "markdown",
   "id": "8798f3b3",
   "metadata": {
    "deletable": false,
    "editable": false
   },
   "source": [
    "Bei CSV-Dateien ist die Anzahl der Zeilen gleich der Länge des Datensatzes, sofern keine Kopfzeile verwendet wurde."
   ]
  },
  {
   "cell_type": "markdown",
   "id": "53399527",
   "metadata": {
    "deletable": false,
    "editable": false
   },
   "source": [
    "## `head` und `tail`\n",
    "`head` und `tail` werden genutzt, um Ausschnitte vom Anfang bzw. vom Ende einer Datei auszugeben. Mit dem Paramter `-n` wird die Anzahl der ausgegebenen Zeilen gesteuert."
   ]
  },
  {
   "cell_type": "code",
   "execution_count": null,
   "id": "b1828d9b",
   "metadata": {
    "deletable": false,
    "editable": false
   },
   "outputs": [],
   "source": [
    "%%bash\n",
    "# Ausgabe der ersten 5 Namen\n",
    "head -n 5 deutsche_nachnamen_haeufigkeit.txt"
   ]
  },
  {
   "cell_type": "code",
   "execution_count": null,
   "id": "426f7ad5",
   "metadata": {
    "deletable": false,
    "editable": false
   },
   "outputs": [],
   "source": [
    "%%bash\n",
    "# Ausgabe der letzten 5 Namen\n",
    "tail -n 5 deutsche_nachnamen_haeufigkeit.txt"
   ]
  },
  {
   "cell_type": "markdown",
   "id": "e47c4ee6",
   "metadata": {
    "deletable": false,
    "editable": false
   },
   "source": [
    "Wird der Anzahl an Zeilen bei `tail` ein Plus vorangestellt, wird erst ab dieser Zeile ausgegeben. Bei CSV-Dateien kann damit beispielsweise die Kopfzeile entfernt werden."
   ]
  },
  {
   "cell_type": "code",
   "execution_count": null,
   "id": "61a14d69",
   "metadata": {
    "deletable": false,
    "editable": false
   },
   "outputs": [],
   "source": [
    "%%bash\n",
    "# Ausgabe aller Zeilen außer der ersten 90\n",
    "tail -n +91 deutsche_nachnamen_haeufigkeit.txt"
   ]
  },
  {
   "cell_type": "markdown",
   "id": "663d071f",
   "metadata": {
    "deletable": false,
    "editable": false
   },
   "source": [
    "## `sort`\n",
    "`sort` sortiert die Zeilen der angegebenen Datei nach verschiedenen Kriterien. Ohne weitere Spezifikation wird alphabetisch sortiert."
   ]
  },
  {
   "cell_type": "code",
   "execution_count": null,
   "id": "da6f7b9b",
   "metadata": {
    "deletable": false,
    "editable": false
   },
   "outputs": [],
   "source": [
    "%%bash\n",
    "sort deutsche_nachnamen_haeufigkeit.txt"
   ]
  },
  {
   "cell_type": "markdown",
   "id": "373bd762",
   "metadata": {
    "deletable": false,
    "editable": false
   },
   "source": [
    "## `cut`\n",
    "`cut` erlaubt die Auswahl einer Spalte. Mit dem Paramter `-d` wird ein Trennzeichen festgelegt, während `-f` die auszugebende Spalte bestimmt."
   ]
  },
  {
   "cell_type": "code",
   "execution_count": null,
   "id": "0851c921",
   "metadata": {
    "deletable": false,
    "editable": false
   },
   "outputs": [],
   "source": [
    "%%bash\n",
    "cut deutsche_nachnamen_haeufigkeit.txt -d \" \" -f 2"
   ]
  }
 ],
 "metadata": {
  "kernelspec": {
   "display_name": "Python 3 (ipykernel)",
   "language": "python",
   "name": "python3"
  },
  "language_info": {
   "codemirror_mode": {
    "name": "ipython",
    "version": 3
   },
   "file_extension": ".py",
   "mimetype": "text/x-python",
   "name": "python",
   "nbconvert_exporter": "python",
   "pygments_lexer": "ipython3",
   "version": "3.10.2"
  }
 },
 "nbformat": 4,
 "nbformat_minor": 5
}
