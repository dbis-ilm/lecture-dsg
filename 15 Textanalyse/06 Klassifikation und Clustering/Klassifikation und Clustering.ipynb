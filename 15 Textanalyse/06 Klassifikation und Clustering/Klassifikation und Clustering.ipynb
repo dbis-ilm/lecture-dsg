{
 "cells": [
  {
   "cell_type": "markdown",
   "id": "5ce08bfc-1f6d-4787-b7e4-bbef0c4db778",
   "metadata": {
    "deletable": false,
    "editable": false
   },
   "source": [
    "# Klassifikation und Clustering\n",
    "Nachdem Texte in einem Vektorraummodell repräsentiert wurden, lassen sie sich mit Hilfe bereits bekannter Methoden klassifizieren oder in Cluster einteilen."
   ]
  },
  {
   "cell_type": "code",
   "execution_count": null,
   "id": "3c4ea6ac-60ee-4f6e-aef1-cd2ba0524610",
   "metadata": {
    "deletable": false
   },
   "outputs": [],
   "source": [
    "from sklearn.datasets import fetch_20newsgroups\n",
    "from sklearn.feature_extraction.text import CountVectorizer, TfidfTransformer\n",
    "from sklearn.tree import DecisionTreeClassifier, plot_tree\n",
    "from sklearn.cluster import KMeans"
   ]
  },
  {
   "cell_type": "markdown",
   "id": "296bda73-c7bf-4e40-80c8-262bdc199e0b",
   "metadata": {
    "deletable": false,
    "editable": false
   },
   "source": [
    "## Inhaltsverzeichnis\n",
    "- [Datensatz](#Datensatz)\n",
    "- [Beispiel: Klassifikation](#Beispiel-Klassifikation)\n",
    "- [Beispiel: Clustering](#Beispiel-Clustering)"
   ]
  },
  {
   "cell_type": "markdown",
   "id": "aa990aab-b8f0-46f4-9bd7-496fa3892d89",
   "metadata": {
    "deletable": false,
    "editable": false
   },
   "source": [
    "## Datensatz\n",
    "Als Beispiel verwenden wir einen fertigen Datensatz, der aus einer Reihe von Nachrichten innerhalb verschiedener, thematisch getrennter Newsgroups bestehen."
   ]
  },
  {
   "cell_type": "code",
   "execution_count": null,
   "id": "ad3e46c2-87fe-4ff6-8f33-83904137d64c",
   "metadata": {
    "deletable": false
   },
   "outputs": [],
   "source": [
    "categories = ['sci.space', 'rec.sport.baseball', 'comp.graphics', 'sci.med']\n",
    "# categories = ['comp.graphics', 'sci.med']\n",
    "train = fetch_20newsgroups(subset='train', categories=categories, shuffle=True, random_state=42)"
   ]
  },
  {
   "cell_type": "markdown",
   "id": "33aa47a3-8a58-4964-8d3e-359535b51496",
   "metadata": {
    "deletable": false,
    "editable": false
   },
   "source": [
    "`data` enthält dabei die Nachrichten, während `target` und `target_names` die Zuordnung aufzeigt."
   ]
  },
  {
   "cell_type": "code",
   "execution_count": null,
   "id": "f531d6e1-c559-4aad-847b-e9d3bad54555",
   "metadata": {
    "deletable": false
   },
   "outputs": [],
   "source": [
    "print(train.data[440].strip())\n",
    "print('-' * 60)\n",
    "print(train.target[440], '->', train.target_names[train.target[440]])"
   ]
  },
  {
   "cell_type": "markdown",
   "id": "ac89c47e-66f0-4db4-9172-82a1b1747612",
   "metadata": {
    "deletable": false,
    "editable": false
   },
   "source": [
    "Mit der Klasse `TfidfTransformer` lässt sich eine Repräsentation im Vektorraummodell effizient berechnen. (Gegebenenfalls sollte noch eine erweiterte Vorverarbeitung stattfinden.)"
   ]
  },
  {
   "cell_type": "code",
   "execution_count": null,
   "id": "78b525a6-2589-4466-85a8-7238b2977b77",
   "metadata": {
    "deletable": false
   },
   "outputs": [],
   "source": [
    "count = CountVectorizer()\n",
    "tfidf = TfidfTransformer()\n",
    "\n",
    "X_train_counts = count.fit_transform(train.data)\n",
    "X_train_tfidf = tfidf.fit_transform(X_train_counts)\n",
    "\n",
    "X_train_tfidf[440].shape[1]"
   ]
  },
  {
   "cell_type": "markdown",
   "id": "e01c9eb1-ed68-4dbc-adbf-85e54df2bbc7",
   "metadata": {
    "deletable": false,
    "editable": false
   },
   "source": [
    "Die entstehenden Vektoren haben eine Größe von mehr als $36.000$ Elementen."
   ]
  },
  {
   "cell_type": "markdown",
   "id": "a12504d4-f1cc-4368-aabc-af2d8dec1fd6",
   "metadata": {
    "deletable": false,
    "editable": false
   },
   "source": [
    "## Beispiel: Klassifikation\n",
    "Die Vektoren lassen sich jetzt wie aus vorangegangenen Kapiteln bekannt klassifizieren. Die folgende Zelle trainiert beispielsweise einen einfachen Entscheidungsbaum mit Standardparametern und stellt ihn zur Veranschaulichung der Tiefe einmal grafisch dar."
   ]
  },
  {
   "cell_type": "code",
   "execution_count": null,
   "id": "6f35fabe-6c57-42c8-8ff7-551c534507af",
   "metadata": {
    "deletable": false
   },
   "outputs": [],
   "source": [
    "tree = DecisionTreeClassifier()\n",
    "tree.fit(X_train_tfidf, train.target)\n",
    "\n",
    "plot_tree(tree)\n",
    "pass"
   ]
  },
  {
   "cell_type": "markdown",
   "id": "b9026160-d77e-4fc1-b626-38f9a89c158c",
   "metadata": {
    "deletable": false,
    "editable": false
   },
   "source": [
    "Um unseren trainierten Klassifikator zu testen, erstellen wir neue Dokumente und transformieren diese ebenfalls mit Hilfe des TF-IDF Modells."
   ]
  },
  {
   "cell_type": "code",
   "execution_count": null,
   "id": "acc131df-1652-4d8c-a627-701fe487bd5a",
   "metadata": {
    "deletable": false
   },
   "outputs": [],
   "source": [
    "new_documents = [\n",
    "    'Covid-19 is a bad disease.',\n",
    "    'OpenGL on the GPU is fast.'\n",
    "]\n",
    "\n",
    "X_test_counts = count.transform(new_documents)\n",
    "X_test_tfidf = tfidf.transform(X_test_counts)"
   ]
  },
  {
   "cell_type": "markdown",
   "id": "10a896db-9ed4-4289-9062-9fcaee8271ce",
   "metadata": {
    "deletable": false,
    "editable": false
   },
   "source": [
    "Auch wenn die neuen Dokumente nicht der oben gezeigten Form entsprechen, hoffen wir auf Abstraktion durch die Feature-Extraktion und das Training des Klassifikators."
   ]
  },
  {
   "cell_type": "code",
   "execution_count": null,
   "id": "75f7aafb-de37-4c9b-aa22-aa3f3d728a36",
   "metadata": {
    "deletable": false
   },
   "outputs": [],
   "source": [
    "prediction = tree.predict(X_test_tfidf)\n",
    "[train.target_names[p] for p in prediction]"
   ]
  },
  {
   "cell_type": "markdown",
   "id": "85b966ef-30b5-4501-98e4-b96b6298592a",
   "metadata": {
    "deletable": false,
    "editable": false
   },
   "source": [
    "Beachten Sie, dass zu starke Abweichungen vom usprünglichen Trainingsmaterial dennoch zu Fehlklassifikationen führt. Ein Wechsel der Sprache kann beispielsweise schnell zu Fehlklassifikationen führen."
   ]
  },
  {
   "cell_type": "code",
   "execution_count": null,
   "id": "930b4453-e9a4-4fe4-8830-d64f687c290b",
   "metadata": {
    "deletable": false
   },
   "outputs": [],
   "source": [
    "new_documents_ger = [\n",
    "    'Covid-19 ist eine schlimme Krankheit.',\n",
    "    'OpenGL ist schnell auf Grafikkarten.'\n",
    "]\n",
    "\n",
    "X_test_ger_counts = count.transform(new_documents_ger)\n",
    "X_test_ger_tfidf = tfidf.transform(X_test_ger_counts)\n",
    "\n",
    "prediction = tree.predict(X_test_ger_tfidf)\n",
    "[train.target_names[p] for p in prediction]"
   ]
  },
  {
   "cell_type": "markdown",
   "id": "7168b408-fd20-428b-bc37-aa1f2294656a",
   "metadata": {
    "deletable": false,
    "editable": false
   },
   "source": [
    "## Beispiel: Clustering\n",
    "Die Vektoren lassen sich ebenfalls mit den bekannten Methoden zu Clustern zusammenfassen."
   ]
  },
  {
   "cell_type": "code",
   "execution_count": null,
   "id": "3cf6ae50-1d04-4bfe-854d-9ee8e8744df6",
   "metadata": {
    "deletable": false
   },
   "outputs": [],
   "source": [
    "true_k = len(train.target_names)\n",
    "KMeans(n_clusters=true_k).fit_predict(X_train_tfidf)"
   ]
  },
  {
   "cell_type": "markdown",
   "id": "e5850b90-6da0-42a8-82d7-4455bf982c7c",
   "metadata": {
    "deletable": false,
    "editable": false
   },
   "source": [
    "In diesem Fall ist $k$ bekannt. Es lassen sich aber natürlich alle Methoden zur Parameterbestimmung oder ein Wechsel zu einem dichtebasierten Verfahren anwenden."
   ]
  }
 ],
 "metadata": {
  "kernelspec": {
   "display_name": "Python 3 (ipykernel)",
   "language": "python",
   "name": "python3"
  },
  "language_info": {
   "codemirror_mode": {
    "name": "ipython",
    "version": 3
   },
   "file_extension": ".py",
   "mimetype": "text/x-python",
   "name": "python",
   "nbconvert_exporter": "python",
   "pygments_lexer": "ipython3",
   "version": "3.12.8"
  }
 },
 "nbformat": 4,
 "nbformat_minor": 5
}
