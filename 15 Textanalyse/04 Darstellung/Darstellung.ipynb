{
 "cells": [
  {
   "cell_type": "markdown",
   "id": "a22e01fb",
   "metadata": {
    "deletable": false,
    "editable": false
   },
   "source": [
    "# Darstellung\n",
    "Auch analysierter Text lässt sich grafisch darstellen, um Sachverhalte leichter zu veranschaulichen. In diesem Abschnitt werden zwei einfache Plots gezeigt, die allein mit NLTK (mit Hilfe von matplotlib) dargestellt werden können."
   ]
  },
  {
   "cell_type": "markdown",
   "id": "a4ecf763",
   "metadata": {
    "deletable": false,
    "editable": false
   },
   "source": [
    "## Inhaltsverzeichnis\n",
    "- [Vorbereitung](#Vorbereitung)\n",
    "- [Verteilungsdiagramme](#Verteilungsdiagramme)\n",
    "- [Häufigkeitsdiagramme](#Häufigkeitsdiagramme)"
   ]
  },
  {
   "cell_type": "markdown",
   "id": "bc448fec",
   "metadata": {
    "deletable": false,
    "editable": false
   },
   "source": [
    "## Vorbereitung\n",
    "Laden Sie zunächst NLTK und einen Beispieltext. Vom Beispieltext entfernen Sie zusätzlich die Lizenzhinweise."
   ]
  },
  {
   "cell_type": "code",
   "execution_count": null,
   "id": "9c9e91f2",
   "metadata": {
    "deletable": false
   },
   "outputs": [],
   "source": [
    "import nltk"
   ]
  },
  {
   "cell_type": "code",
   "execution_count": null,
   "id": "532ab518",
   "metadata": {
    "deletable": false
   },
   "outputs": [],
   "source": [
    "with open('faust.txt', encoding='utf-8') as file:\n",
    "    full_text = file.read()\n",
    "    full_text = full_text \\\n",
    "        .split('*** START OF THE PROJECT GUTENBERG EBOOK FAUST: DER TRAGÖDIE ERSTER TEIL ***')[1] \\\n",
    "        .split('*** END OF THE PROJECT GUTENBERG EBOOK FAUST: DER TRAGÖDIE ERSTER TEIL ***')[0]"
   ]
  },
  {
   "cell_type": "markdown",
   "id": "d060592c",
   "metadata": {
    "deletable": false,
    "editable": false
   },
   "source": [
    "## Verteilungsdiagramme\n",
    "Verteilungsdiagramme eignen sich, um die Häufung bestimmter Wörter innerhalb des Textes zu finden. Wir suchen dazu zuerst die häufigsten Wörter des geladenen Textes, indem wir zunächst diesen in Tokens umwandeln und die Stopwörter entfernen."
   ]
  },
  {
   "cell_type": "code",
   "execution_count": null,
   "id": "01164408",
   "metadata": {
    "deletable": false
   },
   "outputs": [],
   "source": [
    "from nltk.tokenize import sent_tokenize, word_tokenize\n",
    "from nltk.corpus import stopwords\n",
    "\n",
    "stopwords = set((*stopwords.words('german'), *',.!?’;()'))\n",
    "all_words = [word.casefold()\n",
    "             for sent in sent_tokenize(full_text)\n",
    "             for word in word_tokenize(sent)\n",
    "             if word.casefold() not in stopwords]"
   ]
  },
  {
   "cell_type": "markdown",
   "id": "396a8b8d",
   "metadata": {
    "deletable": false,
    "editable": false
   },
   "source": [
    "Mit der Klasse `FreqDist` lassen sich in einer Anweisung die häufigsten Wörter und deren Häufigkeit finden. Da wir nur das Wort selbst benötigen, reduzieren wir die entstehenden Tupel."
   ]
  },
  {
   "cell_type": "code",
   "execution_count": null,
   "id": "d3c2bdf2",
   "metadata": {
    "deletable": false
   },
   "outputs": [],
   "source": [
    "from nltk import FreqDist\n",
    "\n",
    "top10 = [word for word, _ in FreqDist(all_words).most_common(10)]\n",
    "top10"
   ]
  },
  {
   "cell_type": "markdown",
   "id": "8015abfb",
   "metadata": {
    "deletable": false,
    "editable": false
   },
   "source": [
    "Die Funktion `dispersion_plot` aus dem Modul `nltk.draw` erlaubt es uns dann, ein Verteilungsdiagramm zu zeichnen. Übergeben Sie dazu als ersten Parameter eine Liste aller Wörter. Aus diesen wird dann auch die Position abgeleitet. Als zweiten Parameter übergeben Sie die Liste der Wörter, die dargestellt werden soll."
   ]
  },
  {
   "cell_type": "code",
   "execution_count": null,
   "id": "33987181",
   "metadata": {
    "deletable": false
   },
   "outputs": [],
   "source": [
    "nltk.draw.dispersion_plot(all_words, top10)"
   ]
  },
  {
   "cell_type": "markdown",
   "id": "98e8a2c4",
   "metadata": {
    "deletable": false,
    "editable": false
   },
   "source": [
    "Mit dem Parameter `ignore_case` können Sie außerdem festlegen, dass Groß- und Kleinschreibung ignoriert werden soll. In diesem Fall ist das nicht notwendig, da wir bereits alle Wörter mit der Funktion `casefold` in Kleinbuchstaben konvertiert haben.\n",
    "\n",
    "Mit dem Parameter `title` können Sie zusätzlich den Titel des Plots beliebig abändern."
   ]
  },
  {
   "cell_type": "markdown",
   "id": "02500912",
   "metadata": {
    "deletable": false,
    "editable": false
   },
   "source": [
    "## Häufigkeitsdiagramme\n",
    "Häufigkeitsdiagramme erlauben einen Einblick in die Häufigkeit einzelner Wörter und den direkten grafischen Vergleich gegenüber anderen.\n",
    "\n",
    "Am einfachsten ist dabei die Verwendung der Klasse `FreqDist`, die zuvor zur Bestimmung der häufigsten Worte verwendet wurde. Diese stellt neben der Funktion `most_common` auch die Funktion `plot` bereit, mit der sich Häufigkeitsdiagramme erzeugen lassen. Der Parameter gibt dabei an, wie viele der häufigsten Wörter im Plot aufgeführt werden sollen."
   ]
  },
  {
   "cell_type": "code",
   "execution_count": null,
   "id": "aec59e54",
   "metadata": {
    "deletable": false
   },
   "outputs": [],
   "source": [
    "frequency_distribution = FreqDist(all_words)\n",
    "frequency_distribution.plot(32)"
   ]
  },
  {
   "cell_type": "markdown",
   "id": "8ec44764",
   "metadata": {
    "deletable": false,
    "editable": false
   },
   "source": [
    "Mit dem Parameter `cumulative` können Sie zudem sehr einfach zu einer anhäufenden Darstellung wechseln."
   ]
  },
  {
   "cell_type": "code",
   "execution_count": null,
   "id": "418e0f63",
   "metadata": {
    "deletable": false
   },
   "outputs": [],
   "source": [
    "frequency_distribution.plot(32, cumulative=True)"
   ]
  }
 ],
 "metadata": {
  "kernelspec": {
   "display_name": "Python 3 (ipykernel)",
   "language": "python",
   "name": "python3"
  },
  "language_info": {
   "codemirror_mode": {
    "name": "ipython",
    "version": 3
   },
   "file_extension": ".py",
   "mimetype": "text/x-python",
   "name": "python",
   "nbconvert_exporter": "python",
   "pygments_lexer": "ipython3",
   "version": "3.10.6"
  }
 },
 "nbformat": 4,
 "nbformat_minor": 5
}
