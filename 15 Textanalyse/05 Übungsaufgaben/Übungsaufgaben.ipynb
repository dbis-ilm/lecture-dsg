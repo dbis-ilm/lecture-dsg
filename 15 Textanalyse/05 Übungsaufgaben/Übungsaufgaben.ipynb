{
 "cells": [
  {
   "cell_type": "markdown",
   "id": "e2ddb9a2",
   "metadata": {
    "deletable": false,
    "editable": false
   },
   "source": [
    "# Übungsaufgaben\n",
    "Laden Sie zuerst `nltk` und die Tests für dieses Aufgabenblatt."
   ]
  },
  {
   "cell_type": "code",
   "execution_count": null,
   "id": "59d2683f",
   "metadata": {
    "deletable": false,
    "editable": false,
    "tags": [
     "imports"
    ]
   },
   "outputs": [],
   "source": [
    "import nltk\n",
    "from nltk import SyllableTokenizer\n",
    "from nltk.tokenize import WhitespaceTokenizer, sent_tokenize, word_tokenize\n",
    "from nltk.stem import WordNetLemmatizer\n",
    "from nltk.stem.snowball import SnowballStemmer\n",
    "from nltk.corpus import stopwords\n",
    "from nltk import FreqDist\n",
    "from HanTa import HanoverTagger as ht\n",
    "\n",
    "nltk.download('punkt')\n",
    "nltk.download('stopwords')\n",
    "\n",
    "from tests import *"
   ]
  },
  {
   "cell_type": "markdown",
   "id": "38d5b6fd",
   "metadata": {
    "deletable": false,
    "editable": false
   },
   "source": [
    "## Aufgabe 1\n",
    "Laden Sie den Text aus der Datei `faust.txt`."
   ]
  },
  {
   "cell_type": "code",
   "execution_count": null,
   "id": "680b7fa3",
   "metadata": {
    "deletable": false,
    "tags": [
     "task-1"
    ]
   },
   "outputs": [],
   "source": [
    "text = ..."
   ]
  },
  {
   "cell_type": "markdown",
   "id": "5679ff83",
   "metadata": {
    "deletable": false,
    "editable": false
   },
   "source": [
    "Entfernen Sie vor der weitergehenden Analyse die Lizenzhinweise aus dem Text."
   ]
  },
  {
   "cell_type": "code",
   "execution_count": null,
   "id": "f8652ea5",
   "metadata": {
    "deletable": false,
    "tags": [
     "task-1"
    ]
   },
   "outputs": [],
   "source": [
    "full_text = ..."
   ]
  },
  {
   "cell_type": "markdown",
   "id": "4ff33cd4",
   "metadata": {
    "deletable": false,
    "editable": false
   },
   "source": [
    "Wandeln Sie den Text in Kleinbuchstaben um."
   ]
  },
  {
   "cell_type": "code",
   "execution_count": null,
   "id": "2e0aa094",
   "metadata": {
    "deletable": false,
    "tags": [
     "task-1"
    ]
   },
   "outputs": [],
   "source": [
    "lowercase_text = ..."
   ]
  },
  {
   "cell_type": "code",
   "execution_count": null,
   "id": "dfd43a02",
   "metadata": {
    "deletable": false,
    "editable": false
   },
   "outputs": [],
   "source": [
    "aufgabe1(lowercase_text)"
   ]
  },
  {
   "cell_type": "markdown",
   "id": "af3980e8",
   "metadata": {
    "deletable": false,
    "editable": false
   },
   "source": [
    "## Aufgabe 2\n",
    "Wählen Sie einen Tokenizer und extrahieren Sie die einzelnen Wörter aus dem Text."
   ]
  },
  {
   "cell_type": "code",
   "execution_count": null,
   "id": "ae80cab2",
   "metadata": {
    "deletable": false,
    "tags": [
     "task-2"
    ]
   },
   "outputs": [],
   "source": [
    "tokens = ..."
   ]
  },
  {
   "cell_type": "markdown",
   "id": "8bc532ff",
   "metadata": {
    "deletable": false,
    "editable": false
   },
   "source": [
    "Entfernen Sie die Stopwörter aus den Tokens."
   ]
  },
  {
   "cell_type": "code",
   "execution_count": null,
   "id": "9dbb680c",
   "metadata": {
    "deletable": false,
    "tags": [
     "task-2"
    ]
   },
   "outputs": [],
   "source": [
    "filtered_tokens = ..."
   ]
  },
  {
   "cell_type": "markdown",
   "id": "bfc87af4",
   "metadata": {
    "deletable": false,
    "editable": false
   },
   "source": [
    "Stellen Sie sicher, dass Satzzeichen korrekt entfernt wurden."
   ]
  },
  {
   "cell_type": "code",
   "execution_count": null,
   "id": "5efb2426",
   "metadata": {
    "deletable": false,
    "editable": false,
    "tags": [
     "task-2"
    ]
   },
   "outputs": [],
   "source": [
    "# jp-practice\n",
    "final_tokens = ..."
   ]
  },
  {
   "cell_type": "code",
   "execution_count": null,
   "id": "a884d8af",
   "metadata": {
    "deletable": false,
    "editable": false
   },
   "outputs": [],
   "source": [
    "aufgabe2(final_tokens)"
   ]
  },
  {
   "cell_type": "markdown",
   "id": "37d89b42",
   "metadata": {
    "deletable": false,
    "editable": false
   },
   "source": [
    "## Aufgabe 3\n",
    "Zerteilen Sie jedes Token in Silben. Speichern Sie eine flache Liste aller Silben."
   ]
  },
  {
   "cell_type": "code",
   "execution_count": null,
   "id": "b2c3b845",
   "metadata": {
    "deletable": false,
    "tags": [
     "task-3"
    ]
   },
   "outputs": [],
   "source": [
    "syllables = ..."
   ]
  },
  {
   "cell_type": "code",
   "execution_count": null,
   "id": "80998b09",
   "metadata": {
    "deletable": false,
    "editable": false
   },
   "outputs": [],
   "source": [
    "aufgabe3(syllables)\n",
    "syllables"
   ]
  },
  {
   "cell_type": "markdown",
   "id": "a11d9848",
   "metadata": {
    "deletable": false,
    "editable": false
   },
   "source": [
    "## Aufgabe 4\n",
    "Bestimmen Sie die $10$ häufigsten Silben."
   ]
  },
  {
   "cell_type": "code",
   "execution_count": null,
   "id": "c812a9ef",
   "metadata": {
    "deletable": false,
    "tags": [
     "task-4"
    ]
   },
   "outputs": [],
   "source": [
    "top10 = ...\n",
    "top10"
   ]
  },
  {
   "cell_type": "code",
   "execution_count": null,
   "id": "048f4354",
   "metadata": {
    "deletable": false,
    "editable": false
   },
   "outputs": [],
   "source": [
    "aufgabe4(top10)"
   ]
  },
  {
   "cell_type": "code",
   "execution_count": null,
   "id": "1a1b1150",
   "metadata": {
    "deletable": false,
    "editable": false
   },
   "outputs": [],
   "source": [
    "nltk.draw.dispersion_plot(syllables, top10)"
   ]
  }
 ],
 "metadata": {
  "kernelspec": {
   "display_name": "Python 3 (ipykernel)",
   "language": "python",
   "name": "python3"
  },
  "language_info": {
   "codemirror_mode": {
    "name": "ipython",
    "version": 3
   },
   "file_extension": ".py",
   "mimetype": "text/x-python",
   "name": "python",
   "nbconvert_exporter": "python",
   "pygments_lexer": "ipython3",
   "version": "3.10.6"
  }
 },
 "nbformat": 4,
 "nbformat_minor": 5
}
