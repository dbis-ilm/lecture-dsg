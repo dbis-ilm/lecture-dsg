{
 "cells": [
  {
   "cell_type": "markdown",
   "id": "fd8db2a9",
   "metadata": {
    "deletable": false,
    "editable": false
   },
   "source": [
    "# OLAP Operationen\n",
    "OLAP steht für **O**n**l**ine **A**nalytical **P**rocessing und bezeichnet eine Methode, Daten aus verschiedenen Blickwinkeln zu erfassen und zu analysieren. Als Basis dafür dient ein Ergebniswürfel."
   ]
  },
  {
   "cell_type": "markdown",
   "id": "4ece7aaa",
   "metadata": {
    "deletable": false,
    "editable": false
   },
   "source": [
    "## Inhaltsverzeichnis\n",
    "- [Vorbereitung](#Vorbereitung)\n",
    "- [Pivotierung](#Pivotierung)\n",
    "- [Roll-Up und Drill-Down](#Roll-Up-und-Drill-Down)\n",
    "- [Drill-Across](#Drill-Across)\n",
    "- [Slice and Dice](#Slice-and-Dice)"
   ]
  },
  {
   "cell_type": "markdown",
   "id": "b9f44e2f",
   "metadata": {
    "deletable": false,
    "editable": false
   },
   "source": [
    "## Vorbereitung\n",
    "Zunächst wird Pandas geladen und der Ergebniswürfel des vorigen Abschnitts erneut erzeugt.\n",
    "\n",
    "Eventuell ist Ihnen bereits im vorangegangenen Abschnitt aufgefallen, dass beispielsweise für `Act`, `MiS`, `1990` keine Daten vorliegen und diese in der Aggregation entsprechend fehlen. Um den Würfel farbig markieren zu können ist jedoch ein vollständiger Index notwendig, sodass die Erstellung des Ergebniswürfels in der nachfolgenden Zelle geringfügig verändert wurde."
   ]
  },
  {
   "cell_type": "code",
   "execution_count": null,
   "id": "523b38de",
   "metadata": {
    "deletable": false
   },
   "outputs": [],
   "source": [
    "import pandas as pd\n",
    "from cube import draw\n",
    "\n",
    "df = pd.read_csv('vgsales.csv', index_col='rank')\n",
    "\n",
    "cube = df.groupby(['decade', 'genre', 'platform'])['sales'].mean()\n",
    "cube = cube.unstack(0).stack(0, dropna=False).fillna(0)\n",
    "cube = cube.round(2)\n",
    "\n",
    "cube.head(15)"
   ]
  },
  {
   "cell_type": "code",
   "execution_count": null,
   "id": "c5d54c0c",
   "metadata": {
    "deletable": false
   },
   "outputs": [],
   "source": [
    "draw(cube)"
   ]
  },
  {
   "cell_type": "markdown",
   "id": "16340f48",
   "metadata": {
    "deletable": false,
    "editable": false
   },
   "source": [
    "## Pivotierung\n",
    "Die **Pivotierung** oder auch Rotation beschreibt ein Vertauschen der Dimensionen, um einen anderen Blickwinkel zu ermöglichen. In Pandas steht die Funktion `swaplevel` bereit, um zwei Indizes zu vertauschen. Die Funktion verändert nicht die Reihenfolge der Elemente."
   ]
  },
  {
   "cell_type": "code",
   "execution_count": null,
   "id": "00312baa",
   "metadata": {
    "deletable": false
   },
   "outputs": [],
   "source": [
    "cube.swaplevel(i=0, j=2).head(15)"
   ]
  },
  {
   "cell_type": "code",
   "execution_count": null,
   "id": "f1d53e0d",
   "metadata": {
    "deletable": false
   },
   "outputs": [],
   "source": [
    "draw(\n",
    "    cube,\n",
    "    cube.swaplevel(i=0, j=2)\n",
    ")"
   ]
  },
  {
   "cell_type": "markdown",
   "id": "52a82361",
   "metadata": {
    "deletable": false,
    "editable": false
   },
   "source": [
    "## Roll-Up und Drill-Down\n",
    "**Roll-Up** beschreibt eine Operation, die bei hierarchisch strukturierten Daten zum Einsatz kommen. Die Dimensionalität bleibt dabei erhalten. Beliebt ist beispielsweise das Zusammenfassen von Zeitspannen, also Monaten zu Quartalen oder Jahren.\n",
    "\n",
    "In Pandas ist ein Umweg von Nöten. Verwenden Sie erneut `groupby` und übergeben Sie eine Liste, deren Werte entweder Namen bereits vorhandener Indizes oder Funktionen sind. Diese Funktionen erhalten als Parameter ein Tupel bestehend aus den indexierten Werten einer Zeile und geben einen Schlüssel zur Gruppierung zurück.\n",
    "\n",
    "In diesem Fall wird das enthaltene Jahrzehnt auf zwei Positionen reduziert, nämlich alle Werte vor und alle Werte nach (einschließlich) 2010. Durch Funktionen entstandene Indizes besitzen keinen Namen, weshalb dieser manuell gesetzt werden muss."
   ]
  },
  {
   "cell_type": "code",
   "execution_count": null,
   "id": "f3dce2ba",
   "metadata": {
    "deletable": false
   },
   "outputs": [],
   "source": [
    "rolled_up_cube = cube.groupby(['genre', 'platform', lambda x: x[2] >= 2010]).mean()\n",
    "rolled_up_cube.index.names = [*rolled_up_cube.index.names[:2], '≥ 2010']\n",
    "\n",
    "rolled_up_cube.tail(18)"
   ]
  },
  {
   "cell_type": "code",
   "execution_count": null,
   "id": "933e04d2",
   "metadata": {
    "deletable": false
   },
   "outputs": [],
   "source": [
    "draw(\n",
    "    cube,\n",
    "    rolled_up_cube\n",
    ")"
   ]
  },
  {
   "cell_type": "markdown",
   "id": "f0aa0c90",
   "metadata": {
    "deletable": false,
    "editable": false
   },
   "source": [
    "(Beachten Sie bitte, dass ein Durchschnitt aus Durchschnitten selten das gewünschte Ergebnis hervorbringt und an dieser Stelle zur Veranschaulichung gedacht ist.)\n",
    "\n",
    "**Drill-Down** ist die Komplementäroperation zu Roll-Up. In diesem Fall wird von Daten zu detaillierten Daten aggregiert. Die Operation ist aber natürlich durch die Granularität der Daten in der Datenbank beschränkt."
   ]
  },
  {
   "cell_type": "markdown",
   "id": "fd7d6be2",
   "metadata": {
    "deletable": false,
    "editable": false
   },
   "source": [
    "## Drill-Across\n",
    "**Drill-Across** beschreibt eine Operation, bei der zu einem anderen Ergebniswürfel gewechselt wird. Dabei ändert sich jedoch nur die Kennzahl, die Dimensionen bleiben gleich."
   ]
  },
  {
   "cell_type": "markdown",
   "id": "ad1fd619",
   "metadata": {
    "deletable": false,
    "editable": false
   },
   "source": [
    "## Slice and Dice\n",
    "**Slice** dient dem Herausschneiden von *Scheiben* aus dem Würfel. Die Dimensionalität wird also verringert, indem z.B. nur die Werte eines einzelnen Genres verwendet werden."
   ]
  },
  {
   "cell_type": "code",
   "execution_count": null,
   "id": "6c352398",
   "metadata": {
    "deletable": false
   },
   "outputs": [],
   "source": [
    "cube['Rac']"
   ]
  },
  {
   "cell_type": "code",
   "execution_count": null,
   "id": "b1f599a9",
   "metadata": {
    "deletable": false
   },
   "outputs": [],
   "source": [
    "draw(\n",
    "    (cube, cube[['Rac']]),\n",
    "    cube[['Rac']]\n",
    ")"
   ]
  },
  {
   "cell_type": "markdown",
   "id": "0b3f2f87",
   "metadata": {
    "deletable": false,
    "editable": false
   },
   "source": [
    "**Dice** beschreibt das Heraustrennen eines Teil*würfels*. Die Dimensionalität bleibt dabei erhalten. Verwenden Sie die Funktion `loc`, um anhand der Indizes zu trennen."
   ]
  },
  {
   "cell_type": "code",
   "execution_count": null,
   "id": "33b96ad5",
   "metadata": {
    "deletable": false
   },
   "outputs": [],
   "source": [
    "cube.loc[['Adv', 'Rac'], ['Com', 'MiS'], 1990:2000]"
   ]
  },
  {
   "cell_type": "code",
   "execution_count": null,
   "id": "7af43b88",
   "metadata": {
    "deletable": false
   },
   "outputs": [],
   "source": [
    "draw(\n",
    "    (cube, cube.loc[['Adv', 'Rac'], ['Com', 'MiS'], 1990:2000]),\n",
    "    cube.loc[['Adv', 'Rac'], ['Com', 'MiS'], 1990:2000]\n",
    ")"
   ]
  }
 ],
 "metadata": {
  "kernelspec": {
   "display_name": "Python 3 (ipykernel)",
   "language": "python",
   "name": "python3"
  },
  "language_info": {
   "codemirror_mode": {
    "name": "ipython",
    "version": 3
   },
   "file_extension": ".py",
   "mimetype": "text/x-python",
   "name": "python",
   "nbconvert_exporter": "python",
   "pygments_lexer": "ipython3",
   "version": "3.10.5"
  }
 },
 "nbformat": 4,
 "nbformat_minor": 5
}
