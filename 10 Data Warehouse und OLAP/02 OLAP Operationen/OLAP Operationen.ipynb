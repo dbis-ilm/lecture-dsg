{
 "cells": [
  {
   "cell_type": "markdown",
   "id": "fd8db2a9",
   "metadata": {
    "deletable": false,
    "editable": false
   },
   "source": [
    "# OLAP Operationen\n",
    "OLAP steht für **O**n**l**ine **A**nalytical **P**rocessing und bezeichnet eine Methode, Daten aus verschiedenen Blickwinkeln zu erfassen und zu analysieren. Als Basis dafür dient ein Ergebniswürfel."
   ]
  },
  {
   "cell_type": "markdown",
   "id": "4ece7aaa",
   "metadata": {
    "deletable": false,
    "editable": false
   },
   "source": [
    "## Inhaltsverzeichnis\n",
    "- [Vorbereitung](#Vorbereitung)\n",
    "- [Pivotierung](#Pivotierung)\n",
    "- [Roll-Up und Drill-Down](#Roll-Up-und-Drill-Down)\n",
    "- [Drill-Across](#Drill-Across)\n",
    "- [Slice and Dice](#Slice-and-Dice)\n",
    "- [Hinweise zum Datensatz](#Hinweise-zum-Datensatz)"
   ]
  },
  {
   "cell_type": "markdown",
   "id": "b9f44e2f",
   "metadata": {
    "deletable": false,
    "editable": false
   },
   "source": [
    "## Vorbereitung\n",
    "Zunächst wird Pandas geladen und der Ergebniswürfel des vorigen Abschnitts erneut erzeugt."
   ]
  },
  {
   "cell_type": "code",
   "execution_count": null,
   "id": "523b38de",
   "metadata": {
    "deletable": false,
    "editable": false
   },
   "outputs": [],
   "source": [
    "import pandas as pd\n",
    "\n",
    "df = pd.read_csv('disney_plus_titles.csv')\n",
    "df = df[(df['budget'] > 0) & (df['vote_count'] > 0) & (df['runtime'] > 0)]\n",
    "df['budget'] = pd.cut(df['budget'],\n",
    "                      (0, 1_000_000, 100_000_000, df['budget'].max()),\n",
    "                      labels=('klein', 'mittel', 'groß'))\n",
    "df['runtime'] = pd.cut(df['runtime'],\n",
    "                       (0, 60, 150, df['runtime'].max()),\n",
    "                       labels=('kurz', 'mittel', 'lang'))\n",
    "\n",
    "result = df.groupby(['release_year', 'runtime', 'budget'])['vote_average'].mean()\n",
    "result.tail(18)"
   ]
  },
  {
   "cell_type": "markdown",
   "id": "16340f48",
   "metadata": {
    "deletable": false,
    "editable": false
   },
   "source": [
    "## Pivotierung\n",
    "Die **Pivotierung** oder auch Rotation beschreibt ein Vertauschen der Dimensionen, um einen anderen Blickwinkel zu ermöglichen. In Pandas steht die Funktion `swaplevel` bereit, um zwei Indizes zu vertauschen. Die Funktion verändert nicht die Reihenfolge der Elemente."
   ]
  },
  {
   "cell_type": "code",
   "execution_count": null,
   "id": "00312baa",
   "metadata": {
    "deletable": false,
    "editable": false
   },
   "outputs": [],
   "source": [
    "result.swaplevel(i=0, j=2).tail(18)"
   ]
  },
  {
   "cell_type": "markdown",
   "id": "52a82361",
   "metadata": {
    "deletable": false,
    "editable": false
   },
   "source": [
    "## Roll-Up und Drill-Down\n",
    "**Roll-Up** beschreibt eine Operation, die bei hierarchisch strukturierten Daten zum Einsatz kommen. Die Dimensionalität bleibt dabei erhalten. Beliebt ist beispielsweise das Zusammenfassen von Zeitspannen, also Monaten zu Quartalen oder Jahren.\n",
    "\n",
    "In Pandas ist ein Umweg von Nöten. Verwenden Sie erneut `groupby` und übergeben Sie eine Liste, deren erstes Element eine Funktion ist. Diese erhält als Parameter ein Tupel bestehend aus den indexierten Werten einer Zeile und gibt einen Schlüssel zur Gruppierung zurück. In diesem Fall wird für die neue erste Position des Index nur das Jahr zum Jahrzehnt transformiert."
   ]
  },
  {
   "cell_type": "code",
   "execution_count": null,
   "id": "f3dce2ba",
   "metadata": {
    "deletable": false,
    "editable": false
   },
   "outputs": [],
   "source": [
    "result.groupby([lambda x: x[0] // 10 * 10, 'runtime', 'release_year']).mean().tail(18)"
   ]
  },
  {
   "cell_type": "markdown",
   "id": "f0aa0c90",
   "metadata": {
    "deletable": false,
    "editable": false
   },
   "source": [
    "(Beachten Sie bitte, dass ein Durchschnitt aus Durchschnitten selten das gewünschte Ergebnis hervorbringt und an dieser Stelle zur Veranschaulichung gedacht ist.)\n",
    "\n",
    "**Drill-Down** ist die Komplementäroperation zu Roll-Up. In diesem Fall wird von Daten zu detaillierten Daten aggregiert. Die Operation ist aber natürlich durch die Granularität der Daten in der Datenbank beschränkt."
   ]
  },
  {
   "cell_type": "markdown",
   "id": "fd7d6be2",
   "metadata": {
    "deletable": false,
    "editable": false
   },
   "source": [
    "## Drill-Across\n",
    "**Drill-Across** beschreibt eine Operation, bei der zu einem anderen Ergebniswürfel gewechselt wird. Dabei ändert sich jedoch nur die Kennzahl, die Dimensionen bleiben gleich."
   ]
  },
  {
   "cell_type": "markdown",
   "id": "ad1fd619",
   "metadata": {
    "deletable": false,
    "editable": false
   },
   "source": [
    "## Slice and Dice\n",
    "**Slice** dient dem Herausschneiden von *Scheiben* aus dem Würfel. Die Dimensionalität wird also verringert, indem z.B. nur die Werte des aktuellen Jahres verwendet werden."
   ]
  },
  {
   "cell_type": "code",
   "execution_count": null,
   "id": "6c352398",
   "metadata": {
    "deletable": false,
    "editable": false
   },
   "outputs": [],
   "source": [
    "result[2019]"
   ]
  },
  {
   "cell_type": "markdown",
   "id": "0b3f2f87",
   "metadata": {
    "deletable": false,
    "editable": false
   },
   "source": [
    "**Dice** beschreibt das Heraustrennen eines Teil*würfels*. Die Dimensionalität bleibt dabei erhalten. Verwenden Sie die Funktion `loc`, um anhand der Indizes zu trennen."
   ]
  },
  {
   "cell_type": "code",
   "execution_count": null,
   "id": "33b96ad5",
   "metadata": {
    "deletable": false,
    "editable": false
   },
   "outputs": [],
   "source": [
    "result.loc[2020:, 'kurz':'mittel', 'klein':'mittel']"
   ]
  },
  {
   "cell_type": "markdown",
   "id": "12a06da1",
   "metadata": {
    "deletable": false,
    "editable": false
   },
   "source": [
    "## Hinweise zum Datensatz\n",
    "Ein Teil der Ihnen zur Verfügung gestellten Daten wurden mit Hilfe der TMDb API erzeugt. Die Verwendung wird weder von TMDb unterstützt noch zertifiziert.\n",
    "\n",
    "[![TMDb Logo]( data:image/png;base64,iVBORw0KGgoAAAANSUhEUgAAAF8AAAApBAMAAAChGegaAAAACXBIWXMAAA3XAAAN1wFCKJt4AAAAGFBMVEVCv8YnutOBzKhJwMRJwMVIwMVixrcPtt6/AjOqAAAABnRSTlP9+/oDda8H8hdKAAACoklEQVQ4y92Uu4/iQAzGB/GoEyGUPqdLzeKEbWEDXBs2Ya8d8XBNdCD+/bM9nglhq2vPEssKfT99fo3NZyoBUKTHE9DX5cJfAPnmW9Cvc5MG4IgX+mWJkxHrV8YMBjFHkjw02rIHYJaRcGdxyEakN5EicavEnYDN9iP9ud0CLI6IJQCiPRNQGWOiKIoHYpF4l3puSJn+4BwKPGJNwGQyFAMlSM+EetyegMXxjCfI8YJnrk3kURxJRsHh0XM4kXSJWzuUkrloV4PolVg9O5y+LrDDgh2sZGSoBl+EOkQ9hx3CFxaW5iD64NC23uBx7TksscRzgTSHiRYdu752xLXnUGBDf7wDG7ia29ClFwduUS0OlVEk1qT8sKueA00NS3FY+bYOdG6e6HeJSkYQh7kaRPFL1f05UFMvIA65kV3Soruu9id9orGdnYPLSWtIaPkUKV8c5MMOzsKllEhKzgAYyBU41JDrhwnZ17i33jcQ4J/ifwFyd2noSWvIqo5LvR2mkf8KatasEcDJOZycgxGWrWUO3Oe3cAQ+BMhSr2fCMDFSgMZQeuBOQKfPMiGste79lAyMDRFTBm6b37x8C71k3gEt1eCe9JABGv0+iRn4A8CAZuTC6SdKjBwAeZKUDkgI+Hx1QErJCjFTAPaPWoCca0g7B0EmvmbDF8UB63ZKwP2QPKbhGEvRfg6+CA+8CaDH2Ou5gkwTsqI3weHdA/ziVO8IPznJKYr6Kd2afdcl0R/dGHxbzTgU3bqi4RedSj+HTAnLScluDIa+rTxqAd7pkBUq5+XLfFedQ63Avr2Dd7jqajgHHbSOwcguzapuNbZy+RZhW58drBjAWq59HLZVLl9Yjm7Suhh+W8sAyCGDvHmJw7Y5bOSBraqqOrgH1MYtP6C/fvSvEPCZwaQAAAAASUVORK5CYII=)](https://developers.themoviedb.org/3)"
   ]
  }
 ],
 "metadata": {
  "kernelspec": {
   "display_name": "Python 3 (ipykernel)",
   "language": "python",
   "name": "python3"
  },
  "language_info": {
   "codemirror_mode": {
    "name": "ipython",
    "version": 3
   },
   "file_extension": ".py",
   "mimetype": "text/x-python",
   "name": "python",
   "nbconvert_exporter": "python",
   "pygments_lexer": "ipython3",
   "version": "3.10.5"
  }
 },
 "nbformat": 4,
 "nbformat_minor": 5
}
