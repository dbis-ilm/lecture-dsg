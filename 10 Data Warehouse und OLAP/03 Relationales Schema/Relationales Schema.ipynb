{
 "cells": [
  {
   "cell_type": "markdown",
   "id": "7b20a2d8-e190-436e-8c38-56d3ccebff02",
   "metadata": {
    "deletable": false,
    "editable": false
   },
   "source": [
    "# Relationales Schema\n",
    "Die langfristige Speicherung in einem Data Warehouse wird häufig mit einem relationalen Datenbanksystem ermöglicht. Dazu existieren zwei einfache Schemata."
   ]
  },
  {
   "cell_type": "code",
   "execution_count": null,
   "id": "883c497f-1686-4e00-b259-a79b0d3c239c",
   "metadata": {
    "deletable": false
   },
   "outputs": [],
   "source": [
    "%CREATE :memory: OF vgsales.sql"
   ]
  },
  {
   "cell_type": "markdown",
   "id": "d608d929-52f8-4b34-9a32-dc80feb9064b",
   "metadata": {
    "deletable": false,
    "editable": false
   },
   "source": [
    "## Inhaltsverzeichnis\n",
    "- [Daten](#Daten)\n",
    "- [Snowflake Schema](#Snowflake-Schema)\n",
    "- [Star Schema](#Star-Schema)\n",
    "- [Zusammenfassung](#Zusammenfassung)"
   ]
  },
  {
   "cell_type": "markdown",
   "id": "056c6a66-259d-4c53-927b-7b93eae298e8",
   "metadata": {
    "deletable": false,
    "editable": false
   },
   "source": [
    "## Daten\n",
    "Wir betrachten erneut den Datensatz der Videospielverkäufe pro Jahrzehnt. Im Gegensatz zum vorangegangenen Abschnitt sind noch einige Attribute hinzugekommen."
   ]
  },
  {
   "cell_type": "code",
   "execution_count": null,
   "id": "00b587fe-9528-4247-bf0b-952de36c995b",
   "metadata": {
    "deletable": false
   },
   "outputs": [],
   "source": [
    "%SCHEMA ONLY sales\n",
    "FROM sales"
   ]
  },
  {
   "cell_type": "markdown",
   "id": "e38eaa28-c9f4-4fa0-aaf4-d0bc391a5076",
   "metadata": {
    "deletable": false,
    "editable": false
   },
   "source": [
    "Daten ohne Normalisierung zu speichern erzeugt aber die üblichen Probleme hinsichtlich Redundanzen und Update-Anomalien."
   ]
  },
  {
   "cell_type": "markdown",
   "id": "fc83eba8-2033-41a3-93a3-1a34c7461941",
   "metadata": {
    "deletable": false,
    "editable": false
   },
   "source": [
    "## Snowflake Schema\n",
    "Das Snowflake Schema speichert die Fakten (Kennzahlen) in einer zentralen Faktentabelle. Jede Klassifikationsstufe wird dabei in eine eigene Dimensionstabelle gespeichert, die ebenfalls in die dritte Normalform zerlegt gespeichert und mit Fremdschlüsseln referenziert werden. Die Fremdschlüssel bilden dabei auch den Primärschlüssel der Faktentabelle.\n",
    "\n",
    "Der Name leitet sich von der Form ab. Ausgehend von einer zentralen Faktentabelle werden die Dimensionstabellen referenziert und verzweigen sich durch die dritte Normalform immer weiter."
   ]
  },
  {
   "cell_type": "code",
   "execution_count": null,
   "id": "c45866e3-2335-4a3c-8519-20baf8ed74b0",
   "metadata": {
    "deletable": false
   },
   "outputs": [],
   "source": [
    "%SCHEMA ONLY sf_sales"
   ]
  },
  {
   "cell_type": "markdown",
   "id": "8e38fdcf-0c53-4d2a-94df-d1636c5043da",
   "metadata": {
    "deletable": false,
    "editable": false
   },
   "source": [
    "Der Nachteil wird deutlich, wenn die ursprüngliche Relation wieder erzeugt werden soll. In diesem anschaulichen, aber verhältnismäßig kleinen Beispiel sind dazu bereits sieben Joins nötig."
   ]
  },
  {
   "cell_type": "code",
   "execution_count": null,
   "id": "66daa5a1-7865-4f6b-8713-727103060d13",
   "metadata": {
    "deletable": false
   },
   "outputs": [],
   "source": [
    "SELECT rank, genre, platform, manufacturer, year AS manufacturer_year, city AS headquarter_city, country AS headquarter_country, ceo, decade, sales\n",
    "FROM sf_sales\n",
    "    NATURAL JOIN sf_genre\n",
    "    NATURAL JOIN sf_platforms\n",
    "        NATURAL JOIN sf_manufacturers\n",
    "            NATURAL JOIN sf_cities\n",
    "                NATURAL JOIN sf_countries\n",
    "            NATURAL JOIN sf_ceos\n",
    "    NATURAL JOIN sf_decades"
   ]
  },
  {
   "cell_type": "markdown",
   "id": "a9c9ac81-a19e-4dfa-8f18-22e1cabe4df9",
   "metadata": {
    "deletable": false,
    "editable": false
   },
   "source": [
    "## Star Schema\n",
    "Das Star Schema normalisiert nur die Faktentabelle, belässt die Dimensionstabellen aber denormalisiert (1. Normalform). Der Primärschlüssel der Faktentabelle ergibt sich erneut aus den Fremdschlüsseln, die auf die Dimensionstabellen verweisen.\n",
    "\n",
    "Der Name leitet sich wieder von der Form ab. Ausgehend von einer zentralen Faktentabelle werden um diese angeordnete, aber nicht weiter verzweigte Dimensionstabellen referenziert."
   ]
  },
  {
   "cell_type": "code",
   "execution_count": null,
   "id": "c7b37832-b592-486b-ac86-583e2d334aaf",
   "metadata": {
    "deletable": false
   },
   "outputs": [],
   "source": [
    "%SCHEMA ONLY st_sales"
   ]
  },
  {
   "cell_type": "markdown",
   "id": "67ed4062-d6c6-4747-9158-fb165f8434c4",
   "metadata": {
    "deletable": false,
    "editable": false
   },
   "source": [
    "Somit ist nur die Faktentabelle von Redundanzen und Update-Anomalien befreit. Die Anzahl der Joins verringert sich aber entsprechend. Für das gezeigte Beispiel werden nur noch drei Joins benötigt."
   ]
  },
  {
   "cell_type": "code",
   "execution_count": null,
   "id": "e26b5903-3e94-4f0a-a63b-eba1e268e221",
   "metadata": {
    "deletable": false
   },
   "outputs": [],
   "source": [
    "SELECT genre, platform, manufacturer, manufacturer_year, headquarter_city, headquarter_country, ceo, decade, sales, rank\n",
    "FROM st_sales\n",
    "    NATURAL JOIN st_genre\n",
    "    NATURAL JOIN st_platforms\n",
    "    NATURAL JOIN st_decades"
   ]
  },
  {
   "cell_type": "markdown",
   "id": "742bcff2-3873-4b11-8495-16bfcbb607dd",
   "metadata": {
    "deletable": false,
    "editable": false
   },
   "source": [
    "## Zusammenfassung\n",
    "Das Snowflake- und das Star Schema sind zwei Möglichkeiten, Fakten und Dimensionen in relationalen Datenbanksystemen abzubilden. Die Entscheidung erfolgt unter Abwägung von Redundanzen und Update-Anomalien gegenüber dem Aufwand der Abfrage. Darüber hinaus sind auch Mischformen denkbar, die abhängig von den geplanten Anfragen nur einen Teil der Dimensionstabellen in die dritte Normalform übertragen.\n",
    "\n",
    "Eine weitere Form, die Erwähnung finden sollte, ist das **Galaxie Schema**. Bei diesem existieren mehrere Faktentabellen, die auch gemeinsame Dimensionstabellen besitzen dürfen."
   ]
  }
 ],
 "metadata": {
  "kernelspec": {
   "display_name": "DuckDB",
   "language": "",
   "name": "duckdb_kernel"
  },
  "language_info": {
   "file_extension": ".sql",
   "mimetype": "application/sql",
   "name": "duckdb"
  }
 },
 "nbformat": 4,
 "nbformat_minor": 5
}
