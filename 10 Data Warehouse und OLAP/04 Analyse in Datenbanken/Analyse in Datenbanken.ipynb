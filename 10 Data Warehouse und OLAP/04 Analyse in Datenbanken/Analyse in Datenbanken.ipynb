{
 "cells": [
  {
   "cell_type": "markdown",
   "id": "dd763428-27a7-4abc-8cc9-4d5228153b1c",
   "metadata": {
    "deletable": false,
    "editable": false
   },
   "source": [
    "# Analyse in Datenbanken\n",
    "Dieses Notebook zeigt anhand eines kurzen Beispiels, dass nicht immer Python und umfangreiche Bibliotheken für Analysen notwendig sind. Moderne Datenbanksysteme haben eine Vielzahl von integrierten Funktionen, die sowohl das Laden und Speichern von Dateien, aber auch statistische Berechnungen ermöglichen."
   ]
  },
  {
   "cell_type": "code",
   "execution_count": null,
   "id": "4a53d95b-786e-4a0b-99d6-eda461d1eb3f",
   "metadata": {
    "deletable": false
   },
   "outputs": [],
   "source": [
    "%CREATE :memory:\n",
    "%MAX_ROWS 10"
   ]
  },
  {
   "cell_type": "markdown",
   "id": "0cd764b1-ae27-48aa-a50e-b69ba83e00ad",
   "metadata": {
    "deletable": false,
    "editable": false
   },
   "source": [
    "## Inhaltsverzeichnis\n",
    "- [Datensatz](#Datensatz)\n",
    "- [Vorverarbeitung](#Vorverarbeitung)\n",
    "- [Aggregation](#Aggregation)\n",
    "- [Visualisierung](#Visualisierung)\n",
    "- [Zusammenfassung](#Zusammenfassung)"
   ]
  },
  {
   "cell_type": "markdown",
   "id": "f8faf559-ec1a-42bc-b2b3-e22c711315fa",
   "metadata": {
    "deletable": false,
    "editable": false
   },
   "source": [
    "## Datensatz\n",
    "Die Wiener Sportstätten haben [auf ihrer Website](https://www.wienersportstaetten.at/home/stadthallenbad/oeffnungszeiten) einen Besucherzähler für das Stadthallenbad eingebaut. Dieser wird während der Badezeiten in Form eines Livestreams auf Twitch veröffentlicht.\n",
    "\n",
    "<img src=\"data:image/jpeg;base64,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\" width=\"640\">\n",
    "\n",
    "Das mitgelieferte [script.sh](script.sh) lädt ein Standbild aus dem Stream und wendet einige Vorverarbeitungsschritte an:\n",
    "\n",
    "<img src=\"data:image/png;base64,iVBORw0KGgoAAAANSUhEUgAAATYAAACMCAIAAAB5+BJZAAAACXBIWXMAAAABAAAAAQBPJcTWAAAC70lEQVR4nO3VS3LdOBQFQe1/03aEh5bj8QOQt9SdORZJxBFK+voFhH1NHwD4RKKQJlFIkyikSRTSJAppEoU0iUKaRCFNopAmUUiTKKRJFNIkCmkShTSJQppEIU2ikCZRSJMopEkU0iQKaRKFNIlCmkQhTaKQJlFIkyikSRTSJAppEoU0iUKaRCFNopAmUUiTKKRJFNIkCmkShTSJQppEIU2ikCZRSJMopEkU0iQKaRKFNIlCmkQhTaKQJtGKrz/W3/BPuw7517e2v5bvrDxsS0sf4twb6tPl852Vx+yq6GSfT/wJuPc2LrHy2zYmdCnOG5/Y+Cpus/JLtvdz/p03vvLEabnHyo/bG8/n157/+sun5TYrP+61RLf8sERrrPy4D/f7ByW6eFpus/LjPlzr25f+6oO3E91yWlZY+XEfbnM20b2nZYWVJ72W6PdH3jwtK6w8aeXSX3p2S10SHWHlSRLlkJUnSZRDVp60eOlPPr4rLYmOsPKk9Uv//Q2HBk/LDVaetOXSv9PnrtNylZUn7br0L/S58bRcYuVJWy79yT7Xo5LoCCtPWr/0l/pc7EqiI6w8afHSHxa4t1KJjrDypJVLf/7ZXZVKdISVJ92+9FcflOjPZeVJryW68q2Nb+AGK0+SKIesPGlXoo9+a+MbuMHKkyTKIStPkiiHrDxpV6JnHpToD2XlSRLlkJUnbUz087NXf37vaVlh5Ukrl/58dVv6XDwtt1l50vZET3r/tNxm5UmLl16i/wdWnrR+6V/rc8tpucHKk577/7Y3zr2n5RIr/6c8USaz/P4gTaKQJlFIkyikSRTSJAppEoU0iUKaRCFNopAmUUiTKKRJFNIkCmkShTSJQppEIU2ikCZRSJMopEkU0iQKaRKFNIlCmkQhTaKQJlFIkyikSRTSJAppEoU0iUKaRCFNopAmUUiTKKRJFNIkCmkShTSJQppEIU2ikCZRSJMopEkU0iQKaRKFNIlCmkQhTaKQJlFIkyik/QZKfOg3eEHQrgAAAABJRU5ErkJggg==\" style=\"border: 1px solid black\">\n",
    "\n",
    "Die Anzahl wird dann mit Hilfe einer Texterkennung in einer CSV Datei im Format `Timestamp,Anzahl` protokolliert. Nachfolgend wollen wir diese Datei mit dem OLAP-Datenbanksystem [DuckDB](https://duckdb.org/) verarbeiten."
   ]
  },
  {
   "cell_type": "markdown",
   "id": "8eca874c-8aed-4ea5-9f34-007a1924edd2",
   "metadata": {
    "deletable": false,
    "editable": false
   },
   "source": [
    "DuckDB besitzt zum Lesen von CSV Dateien eine [eigene Erweiterung](https://duckdb.org/docs/stable/data/csv/overview.html) `read_csv`. Die nachfolgende Zelle erstellt eine Sicht basierend auf dieser Funktion."
   ]
  },
  {
   "cell_type": "code",
   "execution_count": null,
   "id": "2c647ef9-ab6b-4251-a1f3-f0a2074d5c7c",
   "metadata": {
    "deletable": false
   },
   "outputs": [],
   "source": [
    "CREATE OR REPLACE VIEW data (ts, day_of_week, minute_of_day, people) AS (\n",
    "    SELECT\n",
    "        ts,\n",
    "        EXTRACT(ISODOW FROM ts),\n",
    "        EXTRACT(HOUR FROM ts) * 60 + EXTRACT(MINUTE FROM ts),\n",
    "        people\n",
    "    FROM\n",
    "        read_csv(\n",
    "            'stadthallenbad_wien.csv',\n",
    "            delim=',',\n",
    "            header=false,\n",
    "            auto_detect=false,\n",
    "            columns = {\n",
    "                'ts':     TIMESTAMP,\n",
    "                'people': INTEGER\n",
    "            },\n",
    "            timestampformat='%Y-%m-%d_%H-%M-%S'\n",
    "        )\n",
    ")"
   ]
  },
  {
   "cell_type": "code",
   "execution_count": null,
   "id": "2020ea7d-a3d5-4319-a044-2dea7dfab5dd",
   "metadata": {
    "deletable": false
   },
   "outputs": [],
   "source": [
    "FROM data\n",
    "ORDER BY ts"
   ]
  },
  {
   "cell_type": "markdown",
   "id": "aca5d1a6-38b2-4e50-acc7-073bf8650bd8",
   "metadata": {
    "deletable": false,
    "editable": false
   },
   "source": [
    "Bei einer Abfrage dieser Sicht wird tatsächlich aus der CSV Datei gelesen. Sie können das überprüfen, indem Sie eine Zeile in der Datei ändern und nur die Abfrage der Sicht erneut ausführen."
   ]
  },
  {
   "cell_type": "markdown",
   "id": "12333f75-244f-4299-86d5-3eb489853a84",
   "metadata": {
    "deletable": false,
    "editable": false
   },
   "source": [
    "## Vorverarbeitung\n",
    "Um eine sinnvolle Darstellung zu ermöglichen, erzeugen wir 30-minütige Slots während der Öffnungszeiten."
   ]
  },
  {
   "cell_type": "code",
   "execution_count": null,
   "id": "626f6121-57e3-4a8d-91b1-96b4e5a870d9",
   "metadata": {
    "deletable": false
   },
   "outputs": [],
   "source": [
    "CREATE OR REPLACE VIEW days (num, name) AS (\n",
    "    VALUES\n",
    "        (1, 'Montag'), (2, 'Dienstag'), (3, 'Mittwoch'), (4, 'Donnerstag'),\n",
    "        (5, 'Freitag'), (6, 'Samstag'), (7, 'Sonntag')\n",
    ")"
   ]
  },
  {
   "cell_type": "code",
   "execution_count": null,
   "id": "3ba7d590-a461-4fd3-b3cc-26545479e2b4",
   "metadata": {
    "deletable": false
   },
   "outputs": [],
   "source": [
    "CREATE OR REPLACE VIEW times (minute_of_day) AS (\n",
    "    WITH RECURSIVE t (minute) AS (\n",
    "        SELECT 0\n",
    "\n",
    "        UNION ALL\n",
    "\n",
    "        SELECT minute + 30\n",
    "        FROM   t\n",
    "        WHERE  minute < 24 * 60\n",
    "    )\n",
    "\n",
    "    FROM  t\n",
    "    WHERE EXISTS (\n",
    "        FROM  data\n",
    "        WHERE ABS(EXTRACT(HOUR FROM ts) * 60 + EXTRACT(MINUTE FROM ts) - t.minute) BETWEEN -15 AND 14\n",
    "    )\n",
    ")"
   ]
  },
  {
   "cell_type": "code",
   "execution_count": null,
   "id": "11a3384f-6e96-49f4-b868-e28d96112b1d",
   "metadata": {
    "deletable": false
   },
   "outputs": [],
   "source": [
    "CREATE OR REPLACE VIEW slots (day_of_week, day_name, minute_of_day, slot_name) AS (\n",
    "    SELECT *, printf('%02d:%02d', CAST(FLOOR(minute_of_day / 60) AS INTEGER), minute_of_day % 60)\n",
    "    FROM   days, times\n",
    ")"
   ]
  },
  {
   "cell_type": "code",
   "execution_count": null,
   "id": "402d78e8-e59f-47e9-aba3-98e0c37f5fe7",
   "metadata": {
    "deletable": false
   },
   "outputs": [],
   "source": [
    "FROM slots\n",
    "ORDER BY day_of_week, minute_of_day"
   ]
  },
  {
   "cell_type": "markdown",
   "id": "2f7521a1-a5a0-4472-a12b-a2cdd253009b",
   "metadata": {
    "deletable": false,
    "editable": false
   },
   "source": [
    "Jeder Eintrag wird nun dem Slot zugeordnet, der die geringste Distanz zum eigenen Zeitstempel besitzt. Dem Slot um 17:00 sollen also alle Einträge zugeordnet werden, die zwischen 16:45 (einschließlich) und 17:15 (ausschließlich) aufgenommen wurden. Ein `LEFT JOIN` wird verwendet, damit keine Slots verlorengehen."
   ]
  },
  {
   "cell_type": "code",
   "execution_count": null,
   "id": "d5f71902-2b90-49b0-8d20-f1f8b9a69963",
   "metadata": {
    "deletable": false
   },
   "outputs": [],
   "source": [
    "CREATE OR REPLACE VIEW data_in_slots (day_of_week, day_name, slot_name, ts, people) AS (\n",
    "    SELECT    slots.day_of_week, day_name, slot_name, ts, people\n",
    "    FROM      slots\n",
    "    LEFT JOIN data\n",
    "    ON        slots.day_of_week = data.day_of_week AND ABS(slots.minute_of_day - data.minute_of_day) BETWEEN -15 AND 14\n",
    ")"
   ]
  },
  {
   "cell_type": "code",
   "execution_count": null,
   "id": "60a3be74-29d5-4865-92e9-206d5fc4140f",
   "metadata": {
    "deletable": false
   },
   "outputs": [],
   "source": [
    "FROM data_in_slots\n",
    "ORDER BY day_of_week, slot_name, ts"
   ]
  },
  {
   "cell_type": "markdown",
   "id": "97b9955a-84bf-4e33-8659-eb11b40cb381",
   "metadata": {
    "deletable": false,
    "editable": false
   },
   "source": [
    "## Aggregation\n",
    "Um die Daten zu aggregieren, wird der Median für jeden Slot berechnet."
   ]
  },
  {
   "cell_type": "code",
   "execution_count": null,
   "id": "0ffdc11c-a689-43ad-96e6-15e777a71933",
   "metadata": {
    "deletable": false
   },
   "outputs": [],
   "source": [
    "CREATE OR REPLACE VIEW median_per_slot (day_of_week, day_name, slot, people) AS (\n",
    "    SELECT   day_of_week, day_name, slot_name, CAST(MEDIAN(people) AS INTEGER)\n",
    "    FROM     data_in_slots\n",
    "    GROUP BY day_of_week, day_name, slot_name\n",
    ")"
   ]
  },
  {
   "cell_type": "code",
   "execution_count": null,
   "id": "fe473f91-7804-45d6-bd22-754ef48f9cd0",
   "metadata": {
    "deletable": false
   },
   "outputs": [],
   "source": [
    "FROM median_per_slot\n",
    "ORDER BY day_of_week, slot"
   ]
  },
  {
   "cell_type": "markdown",
   "id": "85969de4-8ae8-4cae-96ca-409309eb7941",
   "metadata": {
    "deletable": false,
    "editable": false
   },
   "source": [
    "## Visualisierung\n",
    "Um die Daten darzustellen, wird [Plotly](https://plotly.com/javascript/) verwendet. Dazu muss ein JSON-Objekt generiert werden, das von der JavaScript Bibliothek dargestellt werden kann. Glücklicherweise besitzt DuckDB auch die Fähigkeit, JSON-Objekte und -Listen zu verwalten."
   ]
  },
  {
   "cell_type": "code",
   "execution_count": null,
   "id": "ef06f200-38f7-4a9b-9d40-3d8b4aa34518",
   "metadata": {
    "deletable": false
   },
   "outputs": [],
   "source": [
    "%PLOTLY_RAW TITLE Auslastung\n",
    "SELECT\n",
    "    array_to_json(LIST(json_object(\n",
    "        'mode', 'lines+markers',\n",
    "        'hovertemplate', day_name || ', %{x} Uhr<br>%{y} Gäste<extra></extra>',\n",
    "        'name', day_name,\n",
    "        'x', x,\n",
    "        'y', y\n",
    "    ) ORDER BY day_of_week)) AS json\n",
    "FROM (\n",
    "    SELECT\n",
    "        day_of_week, day_name,\n",
    "        LIST(slot ORDER BY slot) AS x,\n",
    "        LIST(people ORDER BY slot) AS y\n",
    "    FROM median_per_slot\n",
    "    GROUP BY day_of_week, day_name\n",
    ")"
   ]
  },
  {
   "cell_type": "markdown",
   "id": "4e30fea9-24f9-4245-a30e-556a6ca0c4d8",
   "metadata": {
    "deletable": false,
    "editable": false
   },
   "source": [
    "Mit einer weiteren Schachtelung der Anfragen lassen sich auch noch komplexere Diagrammtypen erzeugen."
   ]
  },
  {
   "cell_type": "code",
   "execution_count": null,
   "id": "d57f5f18-acf1-4a11-98fb-4acb5e0e1d81",
   "metadata": {
    "deletable": false
   },
   "outputs": [],
   "source": [
    "%PLOTLY_RAW TITLE Auslastung\n",
    "SELECT\n",
    "    json_array(json_object(\n",
    "        'type', 'heatmap',\n",
    "        'hoverongaps', false,\n",
    "        'hovertemplate', '%{y}, %{x} Uhr<br>%{z} Gäste<extra></extra>',\n",
    "        'x', x.x,\n",
    "        'y', y.y,\n",
    "        'z', z.z\n",
    "    )) AS json\n",
    "FROM\n",
    "    (\n",
    "        SELECT LIST(DISTINCT slot ORDER BY slot) AS x\n",
    "        FROM   median_per_slot\n",
    "    ) x,\n",
    "    (\n",
    "        SELECT LIST(name ORDER BY num DESC) AS y\n",
    "        FROM   days\n",
    "    ) y,\n",
    "    (\n",
    "        SELECT LIST(people_per_day_of_week ORDER BY day_of_week DESC) AS z\n",
    "        FROM   (\n",
    "            SELECT   day_of_week, LIST(people ORDER BY slot) AS people_per_day_of_week\n",
    "            FROM     median_per_slot\n",
    "            GROUP BY day_of_week\n",
    "        )\n",
    "    ) z"
   ]
  },
  {
   "cell_type": "markdown",
   "id": "bd44d365-d846-4659-b6b9-8e7e5accef89",
   "metadata": {
    "deletable": false,
    "editable": false
   },
   "source": [
    "## Zusammenfassung\n",
    "Viele Operationen lassen sch direkt innerhalb von Datenbanksystemen durchführen, sodass eine Datenübertragung vom Datenbankserver und ein Wechsel der Programmierumgebung entfällt. Andererseits müssen die gewünschte Funktionalität in SQL oder zumindest in UDFs ausdrückbar sein, wobei auf Analyse ausgerichtete Systeme bereits viele Funktionen mitbringen."
   ]
  }
 ],
 "metadata": {
  "kernelspec": {
   "display_name": "DuckDB",
   "language": "",
   "name": "duckdb_kernel"
  },
  "language_info": {
   "file_extension": ".sql",
   "mimetype": "application/sql",
   "name": "duckdb"
  }
 },
 "nbformat": 4,
 "nbformat_minor": 5
}
