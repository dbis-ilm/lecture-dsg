{
 "cells": [
  {
   "cell_type": "markdown",
   "id": "639c1781",
   "metadata": {
    "deletable": false,
    "editable": false
   },
   "source": [
    "# Übungsaufgaben\n",
    "Importieren Sie zuerst die benötigten Module und Tests für die Übungsaufgaben."
   ]
  },
  {
   "cell_type": "code",
   "execution_count": null,
   "id": "f9d6bbb4",
   "metadata": {
    "deletable": false,
    "editable": false
   },
   "outputs": [],
   "source": [
    "import pandas as pd"
   ]
  },
  {
   "cell_type": "markdown",
   "id": "0195e519",
   "metadata": {
    "deletable": false,
    "editable": false
   },
   "source": [
    "## Aufgabe 1\n",
    "Laden Sie den Datensatz `disney_plus_titles.csv`."
   ]
  },
  {
   "cell_type": "code",
   "execution_count": null,
   "id": "2661ce6e",
   "metadata": {
    "deletable": false,
    "editable": false,
    "tags": [
     "task-1"
    ]
   },
   "outputs": [],
   "source": [
    "df = pd.read_csv('disney_plus_titles.csv')\n",
    "df"
   ]
  },
  {
   "cell_type": "markdown",
   "id": "36766a9b",
   "metadata": {
    "deletable": false,
    "editable": false
   },
   "source": [
    "Fügen Sie eine Spalte `avg_runtime` hinzu. Diese enthält bei Filmen die Laufzeit aus der Spalte `runtime`. Bei Serien soll die Spalte die Laufzeit (`runtime`) geteilt durch die Anzahl der Episoden (`episode_count`) enthalten."
   ]
  },
  {
   "cell_type": "code",
   "execution_count": null,
   "id": "33dd8dd4",
   "metadata": {
    "deletable": false,
    "editable": false,
    "tags": [
     "task-1"
    ]
   },
   "outputs": [],
   "source": [
    "df['avg_runtime'] = df['runtime'] / df['episode_count'].fillna(1)\n",
    "df"
   ]
  },
  {
   "cell_type": "markdown",
   "id": "198aefaa",
   "metadata": {
    "deletable": false,
    "editable": false
   },
   "source": [
    "## Aufgabe 2\n",
    "Diskretisieren Sie folgende Spalten:\n",
    "1. `release` in Monate\n",
    "2. `avg_runtime` in Intervalle:\n",
    "  - `kurz`: $[0, 30)$\n",
    "  - `mittel`: $[30, 70)$\n",
    "  - `lang`: $[70, \\infty]$"
   ]
  },
  {
   "cell_type": "code",
   "execution_count": null,
   "id": "bf4a66f2",
   "metadata": {
    "deletable": false,
    "editable": false,
    "tags": [
     "task-2"
    ]
   },
   "outputs": [],
   "source": [
    "df_discrete = df.copy()\n",
    "\n",
    "df_discrete['release'] = df_discrete['release'].str[:7]\n",
    "df_discrete['avg_runtime'] = pd.cut(df_discrete['avg_runtime'],\n",
    "                                   (0, 30, 70, df_discrete['avg_runtime'].max()),\n",
    "                                   labels=('kurz', 'mittel', 'lang'))\n",
    "\n",
    "df_discrete"
   ]
  },
  {
   "cell_type": "markdown",
   "id": "373900e6",
   "metadata": {
    "deletable": false,
    "editable": false
   },
   "source": [
    "Erstellen Sie einen Ergebniswürfel mit den Dimensionen Veröffentlichungszeitpunkt (`release`), durchschnittliche Laufzeit (`avg_runtime`), Anzahl der Episoden (`episode_count`) und Typ (`type`). Die relevante Kennzahl ist die maximale Beliebtheit (`popularity`)."
   ]
  },
  {
   "cell_type": "code",
   "execution_count": null,
   "id": "13c1fe08",
   "metadata": {
    "deletable": false,
    "editable": false,
    "tags": [
     "task-2"
    ]
   },
   "outputs": [],
   "source": [
    "result_cube = df_discrete.groupby(['release', 'avg_runtime', 'episode_count', 'type'])['popularity'].max()\n",
    "result_cube"
   ]
  },
  {
   "cell_type": "markdown",
   "id": "b338f0b3",
   "metadata": {
    "deletable": false,
    "editable": false
   },
   "source": [
    "## Aufgabe 3\n",
    "Drehen Sie den Ergebniswürfel, sodass die Dimensionen in der Reihenfolge Typ (`type`), Veröffentlichungszeitpunkt (`release`), Anzahl der Episoden (`episode_count`) und durchschnittliche Laufzeit (`avg_runtime`) sind."
   ]
  },
  {
   "cell_type": "code",
   "execution_count": null,
   "id": "3d778dec",
   "metadata": {
    "deletable": false,
    "editable": false,
    "tags": [
     "task-3"
    ]
   },
   "outputs": [],
   "source": [
    "rotated_cube = result_cube.swaplevel(i=0, j=1).swaplevel(i=0, j=3)\n",
    "rotated_cube"
   ]
  },
  {
   "cell_type": "markdown",
   "id": "2601b203",
   "metadata": {
    "deletable": false,
    "editable": false
   },
   "source": [
    "## Aufgabe 4\n",
    "Schneiden Sie eine \"Scheibe\" vom Ergebniswürfel `rotated_cube` ab. Das Ergebnis soll ausschließlich Serien beinhalten, aber keine Filme. Die anderen Dimensionen verbleiben unverändert."
   ]
  },
  {
   "cell_type": "code",
   "execution_count": null,
   "id": "38060941",
   "metadata": {
    "deletable": false,
    "editable": false,
    "tags": [
     "task-4"
    ]
   },
   "outputs": [],
   "source": [
    "sliced_cube = rotated_cube['TV Show']\n",
    "sliced_cube"
   ]
  },
  {
   "cell_type": "markdown",
   "id": "5ca8c81b",
   "metadata": {
    "deletable": false,
    "editable": false
   },
   "source": [
    "## Aufgabe 5\n",
    "Fassen Sie die Werte des Würfels aus der vorigen Aufgabe `sliced_cube` zusammen. `release` soll dabei auf Jahresebene gespeichert werden, während `episode_count` und `avg_runtime` gleich bleiben."
   ]
  },
  {
   "cell_type": "code",
   "execution_count": null,
   "id": "78b52b9e",
   "metadata": {
    "deletable": false,
    "editable": false,
    "tags": [
     "task-5"
    ]
   },
   "outputs": [],
   "source": [
    "rolled_cube = sliced_cube.groupby([lambda x: x[0][:4], 'episode_count', 'avg_runtime']).max()\n",
    "rolled_cube"
   ]
  },
  {
   "cell_type": "markdown",
   "id": "d2dee99f",
   "metadata": {
    "deletable": false,
    "editable": false
   },
   "source": [
    "## Hinweise zum Datensatz\n",
    "Ein Teil der Ihnen zur Verfügung gestellten Daten wurden mit Hilfe der TMDb API erzeugt. Die Verwendung wird weder von TMDb unterstützt noch zertifiziert.\n",
    "\n",
    "[![TMDb Logo]( data:image/png;base64,iVBORw0KGgoAAAANSUhEUgAAAF8AAAApBAMAAAChGegaAAAACXBIWXMAAA3XAAAN1wFCKJt4AAAAGFBMVEVCv8YnutOBzKhJwMRJwMVIwMVixrcPtt6/AjOqAAAABnRSTlP9+/oDda8H8hdKAAACoklEQVQ4y92Uu4/iQAzGB/GoEyGUPqdLzeKEbWEDXBs2Ya8d8XBNdCD+/bM9nglhq2vPEssKfT99fo3NZyoBUKTHE9DX5cJfAPnmW9Cvc5MG4IgX+mWJkxHrV8YMBjFHkjw02rIHYJaRcGdxyEakN5EicavEnYDN9iP9ud0CLI6IJQCiPRNQGWOiKIoHYpF4l3puSJn+4BwKPGJNwGQyFAMlSM+EetyegMXxjCfI8YJnrk3kURxJRsHh0XM4kXSJWzuUkrloV4PolVg9O5y+LrDDgh2sZGSoBl+EOkQ9hx3CFxaW5iD64NC23uBx7TksscRzgTSHiRYdu752xLXnUGBDf7wDG7ia29ClFwduUS0OlVEk1qT8sKueA00NS3FY+bYOdG6e6HeJSkYQh7kaRPFL1f05UFMvIA65kV3Soruu9id9orGdnYPLSWtIaPkUKV8c5MMOzsKllEhKzgAYyBU41JDrhwnZ17i33jcQ4J/ifwFyd2noSWvIqo5LvR2mkf8KatasEcDJOZycgxGWrWUO3Oe3cAQ+BMhSr2fCMDFSgMZQeuBOQKfPMiGste79lAyMDRFTBm6b37x8C71k3gEt1eCe9JABGv0+iRn4A8CAZuTC6SdKjBwAeZKUDkgI+Hx1QErJCjFTAPaPWoCca0g7B0EmvmbDF8UB63ZKwP2QPKbhGEvRfg6+CA+8CaDH2Ou5gkwTsqI3weHdA/ziVO8IPznJKYr6Kd2afdcl0R/dGHxbzTgU3bqi4RedSj+HTAnLScluDIa+rTxqAd7pkBUq5+XLfFedQ63Avr2Dd7jqajgHHbSOwcguzapuNbZy+RZhW58drBjAWq59HLZVLl9Yjm7Suhh+W8sAyCGDvHmJw7Y5bOSBraqqOrgH1MYtP6C/fvSvEPCZwaQAAAAASUVORK5CYII=)](https://developers.themoviedb.org/3)"
   ]
  }
 ],
 "metadata": {
  "kernelspec": {
   "display_name": "Python 3 (ipykernel)",
   "language": "python",
   "name": "python3"
  },
  "language_info": {
   "codemirror_mode": {
    "name": "ipython",
    "version": 3
   },
   "file_extension": ".py",
   "mimetype": "text/x-python",
   "name": "python",
   "nbconvert_exporter": "python",
   "pygments_lexer": "ipython3",
   "version": "3.10.5"
  }
 },
 "nbformat": 4,
 "nbformat_minor": 5
}
