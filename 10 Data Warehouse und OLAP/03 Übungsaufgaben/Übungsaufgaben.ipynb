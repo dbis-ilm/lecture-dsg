{
 "cells": [
  {
   "cell_type": "markdown",
   "id": "639c1781",
   "metadata": {
    "deletable": false,
    "editable": false
   },
   "source": [
    "# Übungsaufgaben\n",
    "Importieren Sie zuerst die benötigten Module und Tests für die Übungsaufgaben."
   ]
  },
  {
   "cell_type": "code",
   "execution_count": null,
   "id": "ff8417a4",
   "metadata": {
    "deletable": false,
    "editable": false
   },
   "outputs": [],
   "source": [
    "import pandas as pd\n",
    "\n",
    "from tui_dsg.datasets import disney_plus_titles_olap_path\n",
    "\n",
    "from tui_dsg.olap import *"
   ]
  },
  {
   "cell_type": "markdown",
   "id": "0195e519",
   "metadata": {
    "deletable": false,
    "editable": false
   },
   "source": [
    "## Aufgabe 1\n",
    "Laden Sie den Datensatz `disney_plus_titles_olap_path`."
   ]
  },
  {
   "cell_type": "code",
   "execution_count": null,
   "id": "662ea663",
   "metadata": {
    "deletable": false,
    "tags": [
     "task-1"
    ]
   },
   "outputs": [],
   "source": [
    "df = ...\n",
    "df"
   ]
  },
  {
   "cell_type": "markdown",
   "id": "36766a9b",
   "metadata": {
    "deletable": false,
    "editable": false
   },
   "source": [
    "Fügen Sie eine Spalte `avg_runtime` hinzu. Diese enthält bei Filmen die Laufzeit aus der Spalte `runtime`. Bei Serien soll die Spalte die Laufzeit (`runtime`) geteilt durch die Anzahl der Episoden (`episode_count`) enthalten."
   ]
  },
  {
   "cell_type": "code",
   "execution_count": null,
   "id": "656f0249",
   "metadata": {
    "deletable": false,
    "tags": [
     "task-1"
    ]
   },
   "outputs": [],
   "source": [
    "df['avg_runtime'] = ...\n",
    "df"
   ]
  },
  {
   "cell_type": "code",
   "execution_count": null,
   "id": "e5528a5d",
   "metadata": {
    "deletable": false,
    "editable": false
   },
   "outputs": [],
   "source": [
    "aufgabe1(df)"
   ]
  },
  {
   "cell_type": "markdown",
   "id": "198aefaa",
   "metadata": {
    "deletable": false,
    "editable": false
   },
   "source": [
    "## Aufgabe 2\n",
    "Diskretisieren Sie folgende Spalten:\n",
    "1. `release` in Monate\n",
    "2. `avg_runtime` in Intervalle:\n",
    "  - `kurz`: $[0, 30)$\n",
    "  - `mittel`: $[30, 70)$\n",
    "  - `lang`: $[70, \\infty]$"
   ]
  },
  {
   "cell_type": "code",
   "execution_count": null,
   "id": "db776c47",
   "metadata": {
    "deletable": false,
    "tags": [
     "task-2"
    ]
   },
   "outputs": [],
   "source": [
    "df_discrete = df.copy()\n",
    "\n",
    "...\n",
    "\n",
    "df_discrete['avg_runtime'].describe()"
   ]
  },
  {
   "cell_type": "markdown",
   "id": "373900e6",
   "metadata": {
    "deletable": false,
    "editable": false
   },
   "source": [
    "Erstellen Sie einen Ergebniswürfel mit den Dimensionen Veröffentlichungszeitpunkt (`release`), durchschnittliche Laufzeit (`avg_runtime`), Anzahl der Episoden (`episode_count`) und Typ (`type`). Die relevante Kennzahl ist die maximale Beliebtheit (`popularity`)."
   ]
  },
  {
   "cell_type": "code",
   "execution_count": null,
   "id": "8404a79f",
   "metadata": {
    "deletable": false,
    "tags": [
     "task-2"
    ]
   },
   "outputs": [],
   "source": [
    "result_cube = ...\n",
    "result_cube"
   ]
  },
  {
   "cell_type": "code",
   "execution_count": null,
   "id": "3b45e731",
   "metadata": {
    "deletable": false,
    "editable": false
   },
   "outputs": [],
   "source": [
    "aufgabe2(result_cube)"
   ]
  },
  {
   "cell_type": "markdown",
   "id": "b338f0b3",
   "metadata": {
    "deletable": false,
    "editable": false
   },
   "source": [
    "## Aufgabe 3\n",
    "Drehen Sie den Ergebniswürfel, sodass die Dimensionen in der Reihenfolge Typ (`type`), Veröffentlichungszeitpunkt (`release`), Anzahl der Episoden (`episode_count`) und durchschnittliche Laufzeit (`avg_runtime`) sind."
   ]
  },
  {
   "cell_type": "code",
   "execution_count": null,
   "id": "c19aea00",
   "metadata": {
    "deletable": false,
    "tags": [
     "task-3"
    ]
   },
   "outputs": [],
   "source": [
    "rotated_cube = ...\n",
    "rotated_cube"
   ]
  },
  {
   "cell_type": "code",
   "execution_count": null,
   "id": "2f9c5b26",
   "metadata": {
    "deletable": false,
    "editable": false
   },
   "outputs": [],
   "source": [
    "aufgabe3(rotated_cube)"
   ]
  },
  {
   "cell_type": "markdown",
   "id": "2601b203",
   "metadata": {
    "deletable": false,
    "editable": false
   },
   "source": [
    "## Aufgabe 4\n",
    "Schneiden Sie eine \"Scheibe\" vom Ergebniswürfel `rotated_cube` ab. Das Ergebnis soll ausschließlich Serien beinhalten, aber keine Filme. Die anderen Dimensionen verbleiben unverändert."
   ]
  },
  {
   "cell_type": "code",
   "execution_count": null,
   "id": "40bf4d60",
   "metadata": {
    "deletable": false,
    "tags": [
     "task-4"
    ]
   },
   "outputs": [],
   "source": [
    "sliced_cube = ...\n",
    "sliced_cube"
   ]
  },
  {
   "cell_type": "code",
   "execution_count": null,
   "id": "0a3324b2",
   "metadata": {
    "deletable": false,
    "editable": false
   },
   "outputs": [],
   "source": [
    "aufgabe4(sliced_cube)"
   ]
  },
  {
   "cell_type": "markdown",
   "id": "5ca8c81b",
   "metadata": {
    "deletable": false,
    "editable": false
   },
   "source": [
    "## Aufgabe 5\n",
    "Fassen Sie die Werte des Würfels aus der vorigen Aufgabe `sliced_cube` zusammen. `release` soll dabei auf Jahresebene gespeichert werden, während `episode_count` und `avg_runtime` gleich bleiben."
   ]
  },
  {
   "cell_type": "code",
   "execution_count": null,
   "id": "e879a4be",
   "metadata": {
    "deletable": false,
    "tags": [
     "task-5"
    ]
   },
   "outputs": [],
   "source": [
    "rolled_cube = ...\n",
    "rolled_cube"
   ]
  },
  {
   "cell_type": "code",
   "execution_count": null,
   "id": "c22a6e63",
   "metadata": {
    "deletable": false,
    "editable": false
   },
   "outputs": [],
   "source": [
    "aufgabe5(rolled_cube)"
   ]
  },
  {
   "attachments": {
    "1.png": {
     "image/png": "[encoded data removed]"
    }
   },
   "cell_type": "markdown",
   "id": "d2dee99f",
   "metadata": {
    "deletable": false,
    "editable": false
   },
   "source": [
    "## Hinweise zum Datensatz\n",
    "Ein Teil der Ihnen zur Verfügung gestellten Daten wurden mit Hilfe der TMDb API erzeugt. Die Verwendung wird weder von TMDb unterstützt noch zertifiziert.\n",
    "\n",
    "[![TMDb Logo](attachment:1.png)](https://developers.themoviedb.org/3)"
   ]
  }
 ],
 "metadata": {
  "kernelspec": {
   "display_name": "Python 3 (ipykernel)",
   "language": "python",
   "name": "python3"
  },
  "language_info": {
   "codemirror_mode": {
    "name": "ipython",
    "version": 3
   },
   "file_extension": ".py",
   "mimetype": "text/x-python",
   "name": "python",
   "nbconvert_exporter": "python",
   "pygments_lexer": "ipython3",
   "version": "3.10.12"
  }
 },
 "nbformat": 4,
 "nbformat_minor": 5
}
