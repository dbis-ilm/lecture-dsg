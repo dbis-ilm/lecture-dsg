{
 "cells": [
  {
   "cell_type": "markdown",
   "id": "9a349316",
   "metadata": {
    "deletable": false,
    "editable": false
   },
   "source": [
    "# Probleme durch Überanpassung\n",
    "Durch Hinzunahme weiterer Parameter des Modells (beispielsweise durch die Erhöhung des Polynomgrades) scheint die Anpassung zunehmend besser zu werden. In diesem Abschnitt sollen Probleme aufgezeigt werden, die damit einhergehen."
   ]
  },
  {
   "cell_type": "code",
   "execution_count": null,
   "id": "660534bb",
   "metadata": {
    "deletable": false
   },
   "outputs": [],
   "source": [
    "import pandas as pd\n",
    "import numpy as np\n",
    "import plotly.express as px\n",
    "import random\n",
    "from sklearn.model_selection import train_test_split\n",
    "\n",
    "from draw import draw_regression, R_squared\n",
    "from ipywidgets import interact, IntSlider"
   ]
  },
  {
   "cell_type": "markdown",
   "id": "0025a43a",
   "metadata": {
    "deletable": false,
    "editable": false
   },
   "source": [
    "## Inhaltsverzeichnis\n",
    "- [Trainings- und Testdaten](#Trainings--und-Testdaten)\n",
    "- [Schätzung der Parameter](#Schätzung-der-Parameter)"
   ]
  },
  {
   "cell_type": "markdown",
   "id": "d66662d9",
   "metadata": {
    "deletable": false,
    "editable": false
   },
   "source": [
    "## Trainings- und Testdaten\n",
    "Zunächst werden Trainings- und Testdaten etwa im Verhältnis 3:1 erstellt. Sie orientieren sich wie zuvor an einer Funktion quadratischer Ordnung."
   ]
  },
  {
   "cell_type": "code",
   "execution_count": null,
   "id": "86a2089f",
   "metadata": {
    "deletable": false
   },
   "outputs": [],
   "source": [
    "np.random.seed(1)\n",
    "random.seed(1)\n",
    "\n",
    "df = pd.DataFrame({\n",
    "    'x': (random.random() * 10 - 4 for _ in range(200))\n",
    "})\n",
    "df['y'] = 5 - 2 * df['x'] + df['x'] ** 2\n",
    "df['y'] += np.random.normal(loc=0, scale=3, size=200)\n",
    "df['c'] = random.choices(['train', 'test'], k=200, weights=[0.75, 0.25])\n",
    "\n",
    "px.scatter(df, x='x', y='y', color='c')"
   ]
  },
  {
   "cell_type": "code",
   "execution_count": null,
   "id": "fe95b522",
   "metadata": {
    "deletable": false
   },
   "outputs": [],
   "source": [
    "train, test = df[df['c'] == 'train'], df[df['c'] == 'test']\n",
    "len(train), len(test)"
   ]
  },
  {
   "cell_type": "markdown",
   "id": "758c595d",
   "metadata": {
    "deletable": false,
    "editable": false
   },
   "source": [
    "## Schätzung der Parameter\n",
    "Erhöhen Sie langsam die Anzahl der verwendeten Parameter und beobachten Sie die dabei, wie gut die Ausgleichskurve jeweils die Trainings- und Testobjekte abbildet."
   ]
  },
  {
   "cell_type": "code",
   "execution_count": null,
   "id": "560bb901",
   "metadata": {
    "deletable": false
   },
   "outputs": [],
   "source": [
    "def est(n):\n",
    "    A = np.zeros((n, n))\n",
    "    for row in range(n):\n",
    "        for col in range(n):\n",
    "            A[row,col] = (train['x'] ** (row+col)).sum()\n",
    "\n",
    "    b = np.zeros(n)\n",
    "    for row in range(n):\n",
    "        b[row] = ((train['x'] ** row) * train['y']).sum()\n",
    "\n",
    "    return np.linalg.solve(A, b)\n",
    "\n",
    "@interact(n=IntSlider(2, 1, 50, 1))\n",
    "def _(n):\n",
    "    x = est(n)\n",
    "\n",
    "    fig = px.scatter(df, x='x', y='y', color='c', range_y=[-5, 35])\n",
    "    draw_regression(fig, *x)\n",
    "\n",
    "    return fig"
   ]
  },
  {
   "cell_type": "markdown",
   "id": "41967c9b",
   "metadata": {
    "deletable": false,
    "editable": false
   },
   "source": [
    "Die folgende Grafik zeigt dagegen das (durchschnittliche) quadratische Residuum in Abhängigkeit der Anzahl der Parameter für die Trainings- und die Testmenge."
   ]
  },
  {
   "cell_type": "code",
   "execution_count": null,
   "id": "1e65561d",
   "metadata": {
    "deletable": false
   },
   "outputs": [],
   "source": [
    "ns = [1, 2, 3, 4, 5, *range(10, 31, 2)]\n",
    "r2tr, r2te = [], []\n",
    "\n",
    "for n in ns:\n",
    "    x = est(n)\n",
    "    r2tr.append(R_squared(train['x'], train['y'], *x) / len(train))\n",
    "    r2te.append(R_squared(test['x'], test['y'], *x) / len(test))\n",
    "\n",
    "dfr = pd.DataFrame({\n",
    "    'n': ns,\n",
    "    'R^2 (train)': r2tr,\n",
    "    'R^2 (test)': r2te\n",
    "})\n",
    "\n",
    "px.line(dfr, x='n', y=['R^2 (train)', 'R^2 (test)'])"
   ]
  },
  {
   "cell_type": "markdown",
   "id": "76607749",
   "metadata": {
    "deletable": false,
    "editable": false
   },
   "source": [
    "Während die Residuen der Trainingsobjekte sinken und diese Menge damit scheinbar immer besser repräsentiert wird, steigen die Residuen der Testmenge. Zurückzuführen ist dies auf eine Überanpassung an die Trainingsmenge."
   ]
  }
 ],
 "metadata": {
  "kernelspec": {
   "display_name": "Python 3 (ipykernel)",
   "language": "python",
   "name": "python3"
  },
  "language_info": {
   "codemirror_mode": {
    "name": "ipython",
    "version": 3
   },
   "file_extension": ".py",
   "mimetype": "text/x-python",
   "name": "python",
   "nbconvert_exporter": "python",
   "pygments_lexer": "ipython3",
   "version": "3.10.6"
  }
 },
 "nbformat": 4,
 "nbformat_minor": 5
}
