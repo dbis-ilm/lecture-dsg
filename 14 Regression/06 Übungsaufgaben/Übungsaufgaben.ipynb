{
 "cells": [
  {
   "cell_type": "markdown",
   "id": "9ea45f3a",
   "metadata": {
    "deletable": false,
    "editable": false
   },
   "source": [
    "# Regression"
   ]
  },
  {
   "cell_type": "code",
   "execution_count": null,
   "id": "f9bd37ba",
   "metadata": {
    "deletable": false,
    "editable": false
   },
   "outputs": [],
   "source": [
    "import numpy as np\n",
    "import pandas as pd\n",
    "import plotly.graph_objects as go"
   ]
  },
  {
   "cell_type": "markdown",
   "id": "ca66b55d",
   "metadata": {
    "deletable": false,
    "editable": false
   },
   "source": [
    "## Aufgabe 1\n",
    "Laden Sie den Datensatz aus der Datei `xyz.csv` und lassen Sie diesen dreidimensional darstellen."
   ]
  },
  {
   "cell_type": "code",
   "execution_count": null,
   "id": "eb7749a7",
   "metadata": {
    "deletable": false
   },
   "outputs": [],
   "source": [
    "df = ...\n",
    "df"
   ]
  },
  {
   "cell_type": "code",
   "execution_count": null,
   "id": "c10bad0f",
   "metadata": {
    "deletable": false,
    "editable": false
   },
   "outputs": [],
   "source": [
    "fig = go.Figure(data=[go.Scatter3d(x=df['x'], y=df['y'], z=df['z'], mode='markers')])\n",
    "fig.show()"
   ]
  },
  {
   "cell_type": "markdown",
   "id": "01bc7d27",
   "metadata": {
    "deletable": false,
    "editable": false
   },
   "source": [
    "Bestimmen Sie optisch (ohne Schätzung der Parameter) eine Ausgleichsebene."
   ]
  },
  {
   "cell_type": "markdown",
   "id": "1a038ccf",
   "metadata": {
    "deletable": false,
    "editable": false
   },
   "source": [
    "## Aufgabe 2\n",
    "Seit die Ausgleichsebene gegeben durch die folgende Gleichung:\n",
    "$$\n",
    "z = \\alpha_0 + \\alpha_1 x + \\alpha_2 y\n",
    "$$\n",
    "\n",
    "Bestimmen Sie analog zur Vorlesung die notwendigen Matrizen im Sinne der Methode der kleinsten Quadrate. Setzen Sie diese in mit Hilfe von NumPy und Pandas um und berechnen Sie anschließend die Parameter der Ausgleichsebene."
   ]
  },
  {
   "cell_type": "code",
   "execution_count": null,
   "id": "21e79f9c",
   "metadata": {
    "deletable": false
   },
   "outputs": [],
   "source": [
    "A = np.array([\n",
    "    [...]\n",
    "])\n",
    "\n",
    "b = np.array([\n",
    "    ...\n",
    "])"
   ]
  },
  {
   "cell_type": "code",
   "execution_count": null,
   "id": "41443977",
   "metadata": {
    "deletable": false,
    "editable": false
   },
   "outputs": [],
   "source": [
    "x = np.linalg.solve(A, b)  # [a_0, a_1, a_2]\n",
    "x"
   ]
  }
 ],
 "metadata": {
  "kernelspec": {
   "display_name": "Python 3 (ipykernel)",
   "language": "python",
   "name": "python3"
  },
  "language_info": {
   "codemirror_mode": {
    "name": "ipython",
    "version": 3
   },
   "file_extension": ".py",
   "mimetype": "text/x-python",
   "name": "python",
   "nbconvert_exporter": "python",
   "pygments_lexer": "ipython3",
   "version": "3.10.6"
  }
 },
 "nbformat": 4,
 "nbformat_minor": 5
}
