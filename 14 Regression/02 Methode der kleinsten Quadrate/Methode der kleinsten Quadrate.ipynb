{
 "cells": [
  {
   "cell_type": "markdown",
   "id": "925f7dd9",
   "metadata": {
    "deletable": false,
    "editable": false
   },
   "source": [
    "# Methode der kleinsten Quadrate\n",
    "Die Methode der kleinsten Quadrate gilt als **das** Standardverfahren zur Ausgleichsrechnung. Ursprünglich von Adrien-Marie Legendre im Jahr 1805 zur Berechnung von Kometenbahnen veröffentlicht, wird es allerdings häufiger mit Carl Friedrich Gauß in Verbindung gebracht. Dieser entwickelte es wohl zwischen 1795 und 1798 und verwendete es bereits 1801 zur Berechnung der Bahn des Zwergplaneten Ceres aus verschiedenen Beobachtungen, veröffentlichte es aber erst 1809."
   ]
  },
  {
   "cell_type": "markdown",
   "id": "f09cf350",
   "metadata": {
    "deletable": false,
    "editable": false
   },
   "source": [
    "## Inhaltsverzeichnis\n",
    "- [Das Verfahren](#Das-Verfahren)\n",
    "- [Umsetzung in Pandas](#Umsetzung-in-Pandas)\n",
    "- [Umsetzung mit Plotly](#Umsetzung-mit-Plotly)"
   ]
  },
  {
   "cell_type": "markdown",
   "id": "a31c8ec9",
   "metadata": {
    "deletable": false,
    "editable": false
   },
   "source": [
    "## Das Verfahren\n",
    "Das Verfahren basiert auf der Minimierung der im letzten Abschnitt eingeführten Residuen, welche die Differenz vom vorhergesagten zum tatsächlichen $y$-Wert beschreiben. Für einen Punkt $(x_i, y_i)$ und einer Ausgleichsfunktion $f(x)$ gilt also:\n",
    "\n",
    "$$ y_i = f(x_i) - \\epsilon_i $$\n",
    "\n",
    "Im Falle einer Ausgleichsgeraden mit den Parametern $\\alpha$ (statt $n$) und $\\beta$ (statt $m$) reduziert sich diese Gleichung auf:\n",
    "\n",
    "$$ y_i = \\alpha + \\beta * x_i - \\epsilon_i $$\n",
    "\n",
    "Als Optimierungskriterium wird die Summe der quadratischen Residuen $R^2$ herangezogen:\n",
    "\n",
    "$$ R^2 = \\sum_{i=1}^{n} \\epsilon_i^2 = \\sum_{i=1}^{n} (\\alpha + \\beta * x_i - y_i)^2 $$\n",
    "\n",
    "Unser Ziel ist es nun $\\alpha$ und $\\beta$ so zu wählen, dass $R^2$ minimal wird. Drückt man $R^2$ als Funktion in Abhängigkeit der Parameter $\\alpha$ und $\\beta$ aus, ergibt sich auch direkt ein Vorteil gegenüber der älteren *Methode der kleinsten absoluten Abweichungen*:\n",
    "\n",
    "$$ f_\\epsilon(\\alpha, \\beta) = \\sum_{i=1}^{n} (\\alpha + \\beta * x_i - y_i)^2 $$\n",
    "\n",
    "Diese Funktion ist differenzierbar, sodass beide partiellen Ableitungen gebildet werden können:\n",
    "\n",
    "$$ \\frac{\\partial}{\\partial \\alpha} f_{\\epsilon}(\\alpha, \\beta) = 2 * \\sum_{i=1}^{n} \\beta x_i + \\alpha - y_i $$\n",
    "$$ \\frac{\\partial}{\\partial \\beta} f_{\\epsilon}(\\alpha, \\beta) = 2 * \\sum_{i=1}^{n} x_i * (\\beta x_i + \\alpha - y_i) $$\n",
    "\n",
    "Zur Bestimmung des Minimums werden die Nullstellen beider Ableitungen gesucht. Auflösen nach $\\alpha$ und $\\beta$ ergibt dann:\n",
    "\n",
    "$$ \\beta = \\dfrac{\\sum_{i=1}^{n} (x_i - \\overline{x}) * (y_i - \\overline{y})}{\\sum_{i=1}^{n} (x_i - \\overline{x})^2} $$\n",
    "$$ \\alpha = \\overline{y} - \\beta \\overline{x} $$\n",
    "\n",
    "Im Fall einer Ausgleichsgeraden lassen sich $\\alpha$ und $\\beta$ also sogar als geschlossener Ausdruck angeben. Beachten Sie, dass mindestens ein $x_i$ existieren muss, das nicht dem Durchschnitt entspricht. (Es müssen also mindestens zwei unterschiedliche Werte für $x$ existieren.)"
   ]
  },
  {
   "cell_type": "markdown",
   "id": "763d538a",
   "metadata": {
    "deletable": false,
    "editable": false
   },
   "source": [
    "## Umsetzung in Pandas\n",
    "Zur Veranschaulichung laden wir erneut die benötigten Bibliotheken und den am Ende des letzten Abschnitts präsentierten Datensatz."
   ]
  },
  {
   "cell_type": "code",
   "execution_count": null,
   "id": "80269452",
   "metadata": {
    "deletable": false
   },
   "outputs": [],
   "source": [
    "import pandas as pd\n",
    "import plotly.express as px\n",
    "\n",
    "from draw import draw_regression, R_squared"
   ]
  },
  {
   "cell_type": "code",
   "execution_count": null,
   "id": "1887c358",
   "metadata": {
    "deletable": false
   },
   "outputs": [],
   "source": [
    "df = pd.read_csv('height_weight.csv', index_col='index').sample(250, random_state=5)"
   ]
  },
  {
   "cell_type": "markdown",
   "id": "5f57066b",
   "metadata": {
    "deletable": false,
    "editable": false
   },
   "source": [
    "Da die Lösungen für $\\alpha$ und $\\beta$ in einer geschlossenen Form angegeben werden können, ist die Umsetzung sehr einfach zu bewerkstelligen. $x\\_$ und $y\\_$ stehen dabei für die Durchschnitte (`mean`) der jeweiligen Spalten."
   ]
  },
  {
   "cell_type": "code",
   "execution_count": null,
   "id": "3df85c43",
   "metadata": {
    "deletable": false
   },
   "outputs": [],
   "source": [
    "x = df['height']\n",
    "y = df['weight']\n",
    "x_ = x.mean()\n",
    "y_ = y.mean()\n",
    "\n",
    "beta = ((x - x_) * (y - y_)).sum() / ((x - x_) ** 2).sum()\n",
    "alpha = y_ - beta * x_\n",
    "\n",
    "alpha, beta"
   ]
  },
  {
   "cell_type": "markdown",
   "id": "53020ef5",
   "metadata": {
    "deletable": false,
    "editable": false
   },
   "source": [
    "Die entstehende Gerade sieht dann wie folgt aus."
   ]
  },
  {
   "cell_type": "code",
   "execution_count": null,
   "id": "a00783d8",
   "metadata": {
    "deletable": false
   },
   "outputs": [],
   "source": [
    "fig = px.scatter(df, x='height', y='weight')\n",
    "draw_regression(fig, alpha, beta)"
   ]
  },
  {
   "cell_type": "markdown",
   "id": "4a69d966",
   "metadata": {
    "deletable": false,
    "editable": false
   },
   "source": [
    "Vergleicht man die Ergebnisse für $R^2$ für die durch die Methode der kleinsten Quadrate ermittelten Werte mit den Werten im vorangegangenen Abschnitt, ergibt sich das Folgende:"
   ]
  },
  {
   "cell_type": "code",
   "execution_count": null,
   "id": "a4d99206",
   "metadata": {
    "deletable": false
   },
   "outputs": [],
   "source": [
    "R_squared(df['height'], df['weight'], alpha, beta)"
   ]
  },
  {
   "cell_type": "code",
   "execution_count": null,
   "id": "cd55f5ee",
   "metadata": {
    "deletable": false
   },
   "outputs": [],
   "source": [
    "R_squared(df['height'], df['weight'], -30, 0.5)"
   ]
  },
  {
   "cell_type": "markdown",
   "id": "48dcfe53",
   "metadata": {
    "deletable": false,
    "editable": false
   },
   "source": [
    "## Umsetzung mit Plotly\n",
    "Plotly selbst bietet eine integrierte Funktion zur linearen Regression. Übergeben Sie dazu beim Aufruf der Funktion `scatter` den Parameter `trendline`. `ols` steht dabei für gewöhnliche kleinste Quadrate (**O**rdinary **L**east **S**quares)."
   ]
  },
  {
   "cell_type": "code",
   "execution_count": null,
   "id": "4ba25730",
   "metadata": {
    "deletable": false
   },
   "outputs": [],
   "source": [
    "px.scatter(df, x='height', y='weight', trendline='ols')"
   ]
  }
 ],
 "metadata": {
  "kernelspec": {
   "display_name": "Python 3 (ipykernel)",
   "language": "python",
   "name": "python3"
  },
  "language_info": {
   "codemirror_mode": {
    "name": "ipython",
    "version": 3
   },
   "file_extension": ".py",
   "mimetype": "text/x-python",
   "name": "python",
   "nbconvert_exporter": "python",
   "pygments_lexer": "ipython3",
   "version": "3.10.6"
  }
 },
 "nbformat": 4,
 "nbformat_minor": 5
}
