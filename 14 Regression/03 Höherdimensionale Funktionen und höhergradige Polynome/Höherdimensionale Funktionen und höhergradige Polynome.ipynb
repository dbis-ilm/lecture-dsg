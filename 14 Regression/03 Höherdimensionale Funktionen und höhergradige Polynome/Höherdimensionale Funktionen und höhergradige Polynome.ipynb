{
 "cells": [
  {
   "cell_type": "markdown",
   "id": "06952bd7",
   "metadata": {
    "deletable": false,
    "editable": false
   },
   "source": [
    "# Höherdimensionale Funktionen und höhergradige Polynome\n",
    "Bisher wurden ausschließlich Ausgleichsgeraden für eine unabhängige und eine abhängige Variable berechnet. Es gibt aber durchaus funktionale Zusammenhänge, die mehr als eine unabhängige Variable einbeziehen oder die sich nicht linear verhalten. In diesem Notebook werden diese beiden Fälle auf Basis der Methode der kleinsten Quadrate angeschnitten."
   ]
  },
  {
   "cell_type": "code",
   "execution_count": null,
   "id": "f208d4db",
   "metadata": {
    "deletable": false
   },
   "outputs": [],
   "source": [
    "import random\n",
    "\n",
    "import pandas as pd\n",
    "import numpy as np\n",
    "import plotly.express as px\n",
    "import plotly.graph_objects as go\n",
    "\n",
    "from tui_dsg.regression import draw_regression, R_squared\n",
    "from tui_dsg.datasets import xyz_regression_path"
   ]
  },
  {
   "cell_type": "markdown",
   "id": "b2678af7",
   "metadata": {
    "deletable": false,
    "editable": false
   },
   "source": [
    "## Inhaltsverzeichnis\n",
    "- [Höhergradige Polynome](#Höhergradige-Polynome)\n",
    "- [Höherdimensionale Funktionen](#Höherdimensionale-Funktionen)"
   ]
  },
  {
   "cell_type": "markdown",
   "id": "e2090957",
   "metadata": {
    "deletable": false,
    "editable": false
   },
   "source": [
    "## Höhergradige Polynome\n",
    "Zunächst soll wieder ein künstlicher Datensatz erzeugt werden, der sich an einer quadratischen Funktion mit den Parametern $5$, $-2$ und $1$ orientiert. An der eingezeichneten Ausgleichsgerade lässt sich erkennen, dass die Methode der kleinsten Quadrate ohne Anpassungen keine korrekten Resultate bei derartigen Polynomen liefert."
   ]
  },
  {
   "cell_type": "code",
   "execution_count": null,
   "id": "1b6946a4",
   "metadata": {
    "deletable": false
   },
   "outputs": [],
   "source": [
    "np.random.seed(1)\n",
    "\n",
    "df_sqr = pd.DataFrame({\n",
    "    'x': (random.random() * 10 - 4 for _ in range(200))\n",
    "})\n",
    "df_sqr['y'] = 5 - 2 * df_sqr['x'] + df_sqr['x'] ** 2\n",
    "df_sqr['y'] += np.random.normal(loc=0, scale=2, size=200)\n",
    "\n",
    "px.scatter(df_sqr, x='x', y='y', trendline='ols')"
   ]
  },
  {
   "cell_type": "markdown",
   "id": "6d0b9a83",
   "metadata": {
    "deletable": false,
    "editable": false
   },
   "source": [
    "Ist allerdings der Grad des Polynoms bekannt, dem die Ausgleichsfunktion angehören soll, lässt sich die Methode der kleinsten Quadrate sehr leicht adaptieren. Im Folgenden wird das beispielhaft anhand der quadratischen Funktion veranschaulicht. Das Vorgehen lässt sich aber auch auf kubische oder noch höhergradige Polynome verallgemeinern.\n",
    "\n",
    "Da im Beispiel von einer quadratischen Ausgleichsfunktion ausgegangen wird, wird der funktionale Zusammenhang angepasst. Um leichter verallgemeinern zu können, wird außerdem nicht mehr $\\alpha$ und $\\beta$ verwendet, sondern $\\alpha_0$, $\\alpha_1$, ... statt diesen.\n",
    "\n",
    "$$\n",
    "y = \\alpha_0 + \\alpha_1 * x + \\alpha_2 * x^2\n",
    "$$\n",
    "\n",
    "Die Residuen und auch die Residuenfunktion lassen sich nun wie folgt formulieren:\n",
    "\n",
    "$$\n",
    "r_i = \\alpha_0 + \\alpha_1 * x_i + \\alpha_2 * x_i^2 - y_i\n",
    "$$\n",
    "$$\n",
    "f_\\epsilon(\\alpha_0, \\alpha_1, \\alpha_2) = \\sum_{i=1}^{n} (\\alpha_0 + \\alpha_1 * x_i + \\alpha_2 * x_i^2 - y_i)^2\n",
    "$$\n",
    "\n",
    "Auch für diese Residuenfunktion lassen sich alle partiellen Ableitungen bilden:\n",
    "\n",
    "$$\n",
    "\\frac{\\partial}{\\partial \\alpha_0} f_{\\epsilon}(\\alpha_0, \\alpha_1, \\alpha_2) = 2 * \\sum_{i=1}^{n} \\alpha_0 + \\alpha_1 x_i + \\alpha_2 x_i^2 - y_i\n",
    "$$\n",
    "$$\n",
    "\\frac{\\partial}{\\partial \\alpha_1} f_{\\epsilon}(\\alpha_0, \\alpha_1, \\alpha_2) = 2 * \\sum_{i=1}^{n} x_i * (\\alpha_0 + \\alpha_1 x_i + \\alpha_2 x_i^2 - y_i)\n",
    "$$\n",
    "$$\n",
    "\\frac{\\partial}{\\partial \\alpha_2} f_{\\epsilon}(\\alpha_0, \\alpha_1, \\alpha_2) = 2 * \\sum_{i=1}^{n} x_i^2 * (\\alpha_0 + \\alpha_1 x_i + \\alpha_2 x_i^2 - y_i)\n",
    "$$\n",
    "\n",
    "Durch die Suche nach Nullstellen ergibt sich das folgende Gleichungssystem:\n",
    "\n",
    "$$\n",
    "\\sum_{i=1}^{n} y_i = \\alpha_0 * n + \\alpha_1 * \\sum_{i=1}^{n} x_i + \\alpha_2 * \\sum_{i=1}^{n} x_i^2\n",
    "$$\n",
    "$$\n",
    "\\sum_{i=1}^{n} x_i y_i = \\alpha_0 * \\sum_{i=1}^{n} x_i + \\alpha_1 * \\sum_{i=1}^{n} x_i^2 + \\alpha_2 * \\sum_{i=1}^{n} x_i^3\n",
    "$$\n",
    "$$\n",
    "\\sum_{i=1}^{n} x_i^2 y_i = \\alpha_0 * \\sum_{i=1}^{n} x_i^2 + \\alpha_1 * \\sum_{i=1}^{n} x_i^3 + \\alpha_2 * \\sum_{i=1}^{n} x_i^4\n",
    "$$\n",
    "\n",
    "Diese drei Gleichungen lassen sich am einfachsten notieren, wenn sie als lineares Gleichungssystem der Form $A * x = b$ notiert werden.\n",
    "\n",
    "$$\n",
    "\\begin{pmatrix}\n",
    "\tn & \\sum_{i=1}^{n} x_i & \\sum_{i=1}^{n} x_i^2 \\\\\n",
    "\t\\sum_{i=1}^{n} x_i & \\sum_{i=1}^{n} x_i^2 & \\sum_{i=1}^{n} x_i^3 \\\\\n",
    "\t\\sum_{i=1}^{n} x_i^2 & \\sum_{i=1}^{n} x_i^3 & \\sum_{i=1}^{n} x_i^4\n",
    "\\end{pmatrix} * \\begin{pmatrix}\n",
    "\t\\alpha_0 \\\\\n",
    "\t\\alpha_1 \\\\\n",
    "\t\\alpha_2\n",
    "\\end{pmatrix} = \\begin{pmatrix}\n",
    "\t\\sum_{i=1}^{n} y_i \\\\\n",
    "\t\\sum_{i=1}^{n} x_i y_i \\\\\n",
    "\t\\sum_{i=1}^{n} x_i^2 y_i\n",
    "\\end{pmatrix}\n",
    "$$"
   ]
  },
  {
   "cell_type": "markdown",
   "id": "03694cbc",
   "metadata": {
    "deletable": false,
    "editable": false
   },
   "source": [
    "Eine Umsetzung in Python könnte nun wie folgt aussehen. Zunächst wird die Matrix $A$ gebildet, indem abhängig von Reihe und Spalte die entsprechenden Potenzen aller $x$-Koordinaten gebildet und aufsummiert werden. Analog geschieht dies für den Vektor $b$. Die Funktion `solve` aus Numpy berechnet dann den Lösungsvektor $x$, der die Werte für $a_0$, $a_1$ und $a_2$ enthält."
   ]
  },
  {
   "cell_type": "code",
   "execution_count": null,
   "id": "77cdd7ff",
   "metadata": {
    "deletable": false
   },
   "outputs": [],
   "source": [
    "A = np.zeros((3, 3))\n",
    "for row in range(3):\n",
    "    for col in range(3):\n",
    "        A[row,col] = (df_sqr['x'] ** (row+col)).sum()\n",
    "\n",
    "b = np.zeros(3)\n",
    "for row in range(3):\n",
    "    b[row] = ((df_sqr['x'] ** row) * df_sqr['y']).sum()\n",
    "\n",
    "x = np.linalg.solve(A, b)  # [a_0, a_1, a_2]\n",
    "x"
   ]
  },
  {
   "cell_type": "markdown",
   "id": "2858593a",
   "metadata": {
    "deletable": false,
    "editable": false
   },
   "source": [
    "An den Parametern lässt sich bereits erkennen, dass sie sehr nah an den ursprünglich gewählten Koeffizienten liegen. In der grafischen Darstellung bestätigt sich dieser Eindruck erneut."
   ]
  },
  {
   "cell_type": "code",
   "execution_count": null,
   "id": "473c6683",
   "metadata": {
    "deletable": false
   },
   "outputs": [],
   "source": [
    "fig = px.scatter(df_sqr, x='x', y='y')\n",
    "draw_regression(fig, *x)"
   ]
  },
  {
   "cell_type": "markdown",
   "id": "7ef19060",
   "metadata": {
    "deletable": false,
    "editable": false
   },
   "source": [
    "Sofern der Polynomgrad bekannt ist, lassen sich wie bereits erwähnt auch noch deutlich komplexere Polynome durch eine Ausgleichskurve beschreiben. Die folgenden zwei Zellen zeigen beispielhaft die Anpassung an ein Polynom vierten Grades."
   ]
  },
  {
   "cell_type": "code",
   "execution_count": null,
   "id": "90fee95c",
   "metadata": {
    "deletable": false
   },
   "outputs": [],
   "source": [
    "np.random.seed(1)\n",
    "\n",
    "df_quar = pd.DataFrame({\n",
    "    'x': (random.random() * 8 - 3.75 for _ in range(200))\n",
    "})\n",
    "df_quar['y'] = df_quar['x'] ** 4 - 1 * df_quar['x'] ** 3 - 14 * df_quar['x'] ** 2 + 5 * df_quar['x']\n",
    "df_quar['y'] += np.random.normal(loc=0, scale=3, size=200)\n",
    "\n",
    "px.scatter(df_quar, x='x', y='y', trendline='ols')"
   ]
  },
  {
   "cell_type": "markdown",
   "id": "fa1840ec",
   "metadata": {
    "deletable": false,
    "editable": false
   },
   "source": [
    "Beachten Sie, dass die Größe der Matrix $A$ und des Vektors $b$ angepasst werden muss."
   ]
  },
  {
   "cell_type": "code",
   "execution_count": null,
   "id": "79f1f336",
   "metadata": {
    "deletable": false
   },
   "outputs": [],
   "source": [
    "A = np.zeros((5, 5))\n",
    "for row in range(5):\n",
    "    for col in range(5):\n",
    "        A[row,col] = (df_quar['x'] ** (row+col)).sum()\n",
    "\n",
    "b = np.zeros(5)\n",
    "for row in range(5):\n",
    "    b[row] = ((df_quar['x'] ** row) * df_quar['y']).sum()\n",
    "\n",
    "x = np.linalg.solve(A, b)  # [a_0, a_1, a_2, a_3, a_4]\n",
    "\n",
    "fig = px.scatter(df_quar, x='x', y='y')\n",
    "draw_regression(fig, *x)"
   ]
  },
  {
   "cell_type": "markdown",
   "id": "8e93b792",
   "metadata": {
    "deletable": false,
    "editable": false
   },
   "source": [
    "## Höherdimensionale Funktionen\n",
    "Laden Sie zuerst den folgenden Datensatz, lassen Sie ihn grafisch darstellen und suchen Sie visuell nach einer Ausgleichsebene."
   ]
  },
  {
   "cell_type": "code",
   "execution_count": null,
   "id": "33b4b010",
   "metadata": {
    "deletable": false
   },
   "outputs": [],
   "source": [
    "df_hdf = pd.read_csv(xyz_regression_path)\n",
    "go.Figure(data=[go.Scatter3d(x=df_hdf['x'], y=df_hdf['y'], z=df_hdf['z'], mode='markers')])"
   ]
  },
  {
   "cell_type": "markdown",
   "id": "5993f381",
   "metadata": {
    "deletable": false,
    "editable": false
   },
   "source": [
    "Die Ausgleichsebene sei nun gegeben durch die nachfolgende Gleichung:\n",
    "$$\n",
    "z = \\alpha_0 + \\alpha_1 x + \\alpha_2 y\n",
    "$$\n",
    "\n",
    "Analog zur Behandlung höhergradiger Polynome lassen sich nun die Residuen sowie die Residuenfunktion formulieren. Mit Hilfe der partiellen Ableitungen lässt sich nun ein Extremum suchen, indem das entstehende Gleichungssystem mit der bereits zuvor angewandten Funktion `solve` gelöst wird."
   ]
  }
 ],
 "metadata": {
  "kernelspec": {
   "display_name": "Python 3 (ipykernel)",
   "language": "python",
   "name": "python3"
  },
  "language_info": {
   "codemirror_mode": {
    "name": "ipython",
    "version": 3
   },
   "file_extension": ".py",
   "mimetype": "text/x-python",
   "name": "python",
   "nbconvert_exporter": "python",
   "pygments_lexer": "ipython3",
   "version": "3.10.12"
  }
 },
 "nbformat": 4,
 "nbformat_minor": 5
}
