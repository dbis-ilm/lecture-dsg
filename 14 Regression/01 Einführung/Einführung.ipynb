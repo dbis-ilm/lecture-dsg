{
 "cells": [
  {
   "cell_type": "markdown",
   "id": "021bb44f",
   "metadata": {
    "deletable": false,
    "editable": false
   },
   "source": [
    "# Einführung\n",
    "Regression als Methode erscheint zunächst verwandt mit der Klassifikation. Während bei letzterer allerdings nur eine diskrete Menge von Ergebnissen in Betracht zu ziehen ist (nämlich genau die zur Auswahl stehenden Klassen), zielt die Regression auf stetige Ergebnisse. Gefunden werden soll nämlich ein funktionaler Zusammenhang zwischen verschiedenen Attributen, sodass die Ausgabe eine reelle Zahl darstellt."
   ]
  },
  {
   "cell_type": "markdown",
   "id": "67ebee5e",
   "metadata": {
    "deletable": false,
    "editable": false
   },
   "source": [
    "## Inhaltsverzeichnis\n",
    "- [Vorbetrachtungen](#Vorbetrachtungen)\n",
    "- [Beispiel 1](#Beispiel-1)\n",
    "- [Beispiel 2](#Beispiel-2)\n",
    "- [Beispiel 3](#Beispiel-3)"
   ]
  },
  {
   "cell_type": "markdown",
   "id": "d56aa8f0",
   "metadata": {
    "deletable": false,
    "editable": false
   },
   "source": [
    "## Vorbetrachtungen\n",
    "Zunächst kommen wir aber noch einmal zu den Voraussetzungen: Zur Regression wird eine Menge von Punkten $G = \\{(x_1, y_1), \\dots, (x_n, y_n)\\}$ benötigt, deren Dimensionen sich in zwei Kategorien einteilen lassen.\n",
    "\n",
    "1. Ein Wert $x$ ist eine **unabhängige** Variable. (Im weiteren Verlauf erweitern wir diese Betrachtung auch auf höhere Dimensionen.)\n",
    "2. Ein Wert $y$ ist eine **abhängige** Variable, da sie mit Hilfe eines funktionalen Zusammenhangs aus $x$ berechnet werden kann.\n",
    "\n",
    "Bevor wir jedoch mit einem Beispiel beginnen, benötigen wir einige Bibliotheken:"
   ]
  },
  {
   "cell_type": "code",
   "execution_count": null,
   "id": "aff513d3",
   "metadata": {
    "deletable": false
   },
   "outputs": [],
   "source": [
    "import random\n",
    "\n",
    "from ipywidgets import interact, IntSlider, FloatSlider\n",
    "import pandas as pd\n",
    "import numpy as np\n",
    "import plotly.express as px\n",
    "\n",
    "from tui_dsg.regression import draw_regression, R_squared\n",
    "from tui_dsg.datasets import heightweight_path"
   ]
  },
  {
   "cell_type": "markdown",
   "id": "3597ac0d",
   "metadata": {
    "deletable": false,
    "editable": false
   },
   "source": [
    "Hinweis: In vielen Zellen wird entweder per `random.seed` oder `np.random.seed` ein Startwert für den Zufallsgenerator vergeben. Das garantiert, dass die zufälligen Werte nicht \"entarten\". Zum Testen können Sie diese Zeile natürlich auch auskommentieren oder den Startwert verändern."
   ]
  },
  {
   "cell_type": "markdown",
   "id": "fcbac2dc",
   "metadata": {
    "deletable": false,
    "editable": false
   },
   "source": [
    "## Beispiel 1\n",
    "Die folgende Zelle erzeugt einen künstlichen Beispieldatensatz, der Körpergröße und Gewicht verschiedener Personen enthält und dessen funktionaler Zusammenhang offensichtlich ist."
   ]
  },
  {
   "cell_type": "code",
   "execution_count": null,
   "id": "e690cc45",
   "metadata": {
    "deletable": false
   },
   "outputs": [],
   "source": [
    "random.seed(1)\n",
    "\n",
    "df1 = pd.DataFrame({\n",
    "    'Größe': (random.random() * 60 + 140 for _ in range(80))\n",
    "})\n",
    "df1['Gewicht'] = 0.75 * df1['Größe'] - 60\n",
    "\n",
    "px.scatter(df1, x='Größe', y='Gewicht')"
   ]
  },
  {
   "cell_type": "markdown",
   "id": "9ca542a4",
   "metadata": {
    "deletable": false,
    "editable": false
   },
   "source": [
    "Sie erkennen auch ohne eine Analyse des dahinterstehenden Codes, dass sich alle Punkte exakt entlang einer Geraden bewegen. Den funktionalen Zusammenhang zu finden ist deshalb in diesem Fall trivial: Man wählt zwei unterschiedliche Punkte, bestimmt die Steigung mithilfe eines Steigungsdreiecks und zuletzt noch die Verschiebung entlang der $y$-Achse:"
   ]
  },
  {
   "cell_type": "code",
   "execution_count": null,
   "id": "038f28e4",
   "metadata": {
    "deletable": false
   },
   "outputs": [],
   "source": [
    "# zwei Punkte wählen\n",
    "x1, y1 = df1.iloc[0]\n",
    "x2, y2 = df1.iloc[79]\n",
    "\n",
    "# Anstieg über Steigungsdreieck berechnen\n",
    "m = (y2 - y1) / (x2 - x1)\n",
    "\n",
    "# Verschiebung berechnen\n",
    "n = y1 - m * x1\n",
    "\n",
    "m, n"
   ]
  },
  {
   "cell_type": "markdown",
   "id": "c871b8ac",
   "metadata": {
    "deletable": false,
    "editable": false
   },
   "source": [
    "Grafisch dargestellt durchläuft die berechnete Gerade genau dem Datensatz:"
   ]
  },
  {
   "cell_type": "code",
   "execution_count": null,
   "id": "ba09544e",
   "metadata": {
    "deletable": false
   },
   "outputs": [],
   "source": [
    "fig = px.scatter(df1, x='Größe', y='Gewicht')\n",
    "draw_regression(fig, n, m)\n",
    "\n",
    "fig"
   ]
  },
  {
   "cell_type": "markdown",
   "id": "fc0bf90a",
   "metadata": {
    "deletable": false,
    "editable": false
   },
   "source": [
    "## Beispiel 2\n",
    "Reale Werte unterliegen allerdings immer leichten Abweichungen.\n",
    "\n",
    "Zum einen können statistische Annahmen über das der Messung zugrunde liegende Merkmal getroffen werden: Nicht jeder Mensch, der $180cm$ groß ist, wiegt exakt $75kg$. Stattdessen befinden sich die meisten Menschen in der Nähe dieses Wertes, während sehr wenige Personen mit dieser Körpergröße nur $50kg$ wiegen.\n",
    "\n",
    "Zum anderen sind Messfehler nicht auszuschließen, während außerdem mit Rauschen in der Messung gerechnet werden muss. Menschen könnten beim Ablesen der Größe nicht perfekt gerade stehen oder der Blickwinkel auf den Maßstab ändert sich immer wieder leicht.\n",
    "\n",
    "Die folgende Zelle simuliert daher eine normalverteilte Abweichung."
   ]
  },
  {
   "cell_type": "code",
   "execution_count": null,
   "id": "b852a0a4",
   "metadata": {
    "deletable": false
   },
   "outputs": [],
   "source": [
    "np.random.seed(1)\n",
    "\n",
    "df2 = df1.copy()\n",
    "df2['Gewicht'] += np.random.normal(loc=0, scale=3, size=80)\n",
    "\n",
    "px.scatter(df2, x='Größe', y='Gewicht')"
   ]
  },
  {
   "cell_type": "markdown",
   "id": "f7160e27",
   "metadata": {
    "deletable": false,
    "editable": false
   },
   "source": [
    "Die Wahl der Punkte zur Bestimmung des Steigungsdreiecks hat nun einen immensen Einfluss auf das Ergebnis."
   ]
  },
  {
   "cell_type": "code",
   "execution_count": null,
   "id": "9fc97fb2",
   "metadata": {
    "deletable": false
   },
   "outputs": [],
   "source": [
    "fig = px.scatter(df2, x='Größe', y='Gewicht')\n",
    "\n",
    "for p1, p2 in ((0, 24), (25, 49), (50, 74)):\n",
    "    x1, y1 = df2.iloc[p1]\n",
    "    x2, y2 = df2.iloc[p2]\n",
    "    m = (y2 - y1) / (x2 - x1)\n",
    "    n = y1 - m * x1\n",
    "\n",
    "    draw_regression(fig, n, m)\n",
    "\n",
    "fig"
   ]
  },
  {
   "cell_type": "markdown",
   "id": "831b45f4",
   "metadata": {
    "deletable": false,
    "editable": false
   },
   "source": [
    "Um zu bewerten, welche die besten Punkte zur Berechnung sind, müsste im Voraus also schon die Ausgleichsgerade bekannt sein. In einigen Fällen liegt aber sogar kein einziger Punkt des Datensatzes auf der *optimalen* Geraden, was die Methode des Steigungsdreiecks unmöglich macht."
   ]
  },
  {
   "cell_type": "markdown",
   "id": "8b9fdb72",
   "metadata": {
    "deletable": false,
    "editable": false
   },
   "source": [
    "## Beispiel 3"
   ]
  },
  {
   "cell_type": "markdown",
   "id": "ed8348cf",
   "metadata": {
    "deletable": false,
    "editable": false
   },
   "source": [
    "Das letzte Beispiel entstammt einem [gebrauchsfertigen Datensatz](https://www.kaggle.com/datasets/burnoutminer/heights-and-weights-dataset) und enthält die Körpergröße und das Gewicht von $25.000$ Personen, von denen wir zur Darstellung $250$ auswählen. Die vertikalen Linien, die in der nachfolgenden Darstellung jeweils die Differenz zwischen dem erwarteten und dem tatsächlichen $y$-Wert markieren, werden als Residuen bezeichnet und im nächsten Abschnitt detailliert behandelt. Die quadratische Summe dieser zu minimieren, wird Optimierungskriterium für die nachfolgenden Verfahren."
   ]
  },
  {
   "cell_type": "code",
   "execution_count": null,
   "id": "35eecd5c",
   "metadata": {
    "deletable": false
   },
   "outputs": [],
   "source": [
    "df3 = pd.read_csv(heightweight_path, index_col='index').sample(250, random_state=5)\n",
    "\n",
    "fig = px.scatter(df3, x='height', y='weight')\n",
    "draw_regression(fig, -30, 0.5, residual_opacity=1)\n",
    "\n",
    "fig"
   ]
  },
  {
   "cell_type": "markdown",
   "id": "7db842eb",
   "metadata": {
    "deletable": false,
    "editable": false
   },
   "source": [
    "In der letzten Zelle in diesem Notebook haben Sie noch einmal die Möglichkeit, beide Parameter experimentell anzupassen. Beobachten Sie währenddessen die quadrierte Summe der Residuen und versuchen Sie, ein möglichst geringes Ergebnis zu erzielen."
   ]
  },
  {
   "cell_type": "code",
   "execution_count": null,
   "id": "29106ee8",
   "metadata": {
    "deletable": false
   },
   "outputs": [],
   "source": [
    "@interact(\n",
    "    m=IntSlider(min=-1000, max=1000, step=1, value=-30),\n",
    "    n=FloatSlider(min=0.1, max=3, step=0.05, value=0.5)\n",
    ")\n",
    "def _(m, n):\n",
    "    R = R_squared(df3['height'], df3['weight'], m, n)\n",
    "    fig = px.scatter(df3, x='height', y='weight', title=f'ΣR² = {R:.2f}')\n",
    "    draw_regression(fig, m, n)\n",
    "\n",
    "    return fig"
   ]
  }
 ],
 "metadata": {
  "kernelspec": {
   "display_name": "Python 3 (ipykernel)",
   "language": "python",
   "name": "python3"
  },
  "language_info": {
   "codemirror_mode": {
    "name": "ipython",
    "version": 3
   },
   "file_extension": ".py",
   "mimetype": "text/x-python",
   "name": "python",
   "nbconvert_exporter": "python",
   "pygments_lexer": "ipython3",
   "version": "3.10.12"
  }
 },
 "nbformat": 4,
 "nbformat_minor": 5
}
