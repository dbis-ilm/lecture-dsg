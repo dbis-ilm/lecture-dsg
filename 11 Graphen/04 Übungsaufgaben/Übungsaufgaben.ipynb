{
 "cells": [
  {
   "cell_type": "markdown",
   "id": "7b701c93",
   "metadata": {
    "deletable": false,
    "editable": false
   },
   "source": [
    "# Übungsaufgaben\n",
    "Für diese Übung erhalten Sie einen Graphen, der alle Filme und Serien auf Disney+ als Knoten enthält. Zwei Werke werden durch eine Kante verbunden, wenn sie mindestens einen gemeinsamen Schauspieler in einer wichtigeren Rolle besitzen. Anhand dieses Graphen werden Sie einige Kennzahlen berechnen und ihn schlussendlich grafisch darstellen.\n",
    "\n",
    "Laden Sie jedoch zuerst NetworkX und die Tests für dieses Übungsblatt."
   ]
  },
  {
   "cell_type": "code",
   "execution_count": null,
   "id": "9d4a0222",
   "metadata": {
    "deletable": false,
    "editable": false
   },
   "outputs": [],
   "source": [
    "import networkx as nx\n",
    "from networkx import community, clique\n",
    "\n",
    "from tui_dsg.datasets import movie_graph_path\n",
    "from tui_dsg.graph import *"
   ]
  },
  {
   "cell_type": "markdown",
   "id": "0aed1a3c",
   "metadata": {
    "deletable": false,
    "editable": false
   },
   "source": [
    "## Aufgabe 1\n",
    "Laden Sie den Graphen aus der Datei `movie_graph_path`."
   ]
  },
  {
   "cell_type": "code",
   "execution_count": null,
   "id": "240aff8d",
   "metadata": {
    "deletable": false,
    "tags": [
     "task-1"
    ]
   },
   "outputs": [],
   "source": [
    "G = ...\n",
    "str(G)"
   ]
  },
  {
   "cell_type": "code",
   "execution_count": null,
   "id": "82a1fa48",
   "metadata": {
    "deletable": false,
    "editable": false
   },
   "outputs": [],
   "source": [
    "aufgabe1(G)"
   ]
  },
  {
   "cell_type": "markdown",
   "id": "a4dc33b0",
   "metadata": {
    "deletable": false,
    "editable": false
   },
   "source": [
    "## Aufgabe 2"
   ]
  },
  {
   "cell_type": "markdown",
   "id": "c538818c",
   "metadata": {
    "deletable": false,
    "editable": false
   },
   "source": [
    "### Aufgabe 2.1\n",
    "Berechnen Sie die Dichte des Graphen."
   ]
  },
  {
   "cell_type": "code",
   "execution_count": null,
   "id": "d8eb1e3f",
   "metadata": {
    "deletable": false,
    "tags": [
     "task-2-1"
    ]
   },
   "outputs": [],
   "source": [
    "density = ...\n",
    "density"
   ]
  },
  {
   "cell_type": "code",
   "execution_count": null,
   "id": "8826a492",
   "metadata": {
    "deletable": false,
    "editable": false
   },
   "outputs": [],
   "source": [
    "aufgabe2_1(density)"
   ]
  },
  {
   "cell_type": "markdown",
   "id": "d6f56874",
   "metadata": {
    "deletable": false,
    "editable": false
   },
   "source": [
    "### Aufgabe 2.2\n",
    "Prüfen Sie, ob der Graph vollständig verbunden ist."
   ]
  },
  {
   "cell_type": "code",
   "execution_count": null,
   "id": "8b77c4b4",
   "metadata": {
    "deletable": false,
    "tags": [
     "task-2-2"
    ]
   },
   "outputs": [],
   "source": [
    "cc = ...\n",
    "cc"
   ]
  },
  {
   "cell_type": "code",
   "execution_count": null,
   "id": "90207a3f",
   "metadata": {
    "deletable": false,
    "editable": false
   },
   "outputs": [],
   "source": [
    "aufgabe2_2(cc)"
   ]
  },
  {
   "cell_type": "markdown",
   "id": "25ea0c5c",
   "metadata": {
    "deletable": false,
    "editable": false
   },
   "source": [
    "### Aufgabe 2.3\n",
    "Suchen Sie die kürzeste Verbindung zwischen den Knoten `Mickey Mouse` und `Star Wars: Episode III - Revenge of the Sith`."
   ]
  },
  {
   "cell_type": "code",
   "execution_count": null,
   "id": "0488f2f9",
   "metadata": {
    "deletable": false,
    "tags": [
     "task-2-3"
    ]
   },
   "outputs": [],
   "source": [
    "shortest_path = ...\n",
    "shortest_path"
   ]
  },
  {
   "cell_type": "code",
   "execution_count": null,
   "id": "5e05bbf0",
   "metadata": {
    "deletable": false,
    "editable": false
   },
   "outputs": [],
   "source": [
    "aufgabe2_3(shortest_path)"
   ]
  },
  {
   "cell_type": "markdown",
   "id": "489c6ee8",
   "metadata": {
    "deletable": false,
    "editable": false
   },
   "source": [
    "### Aufgabe 2.4\n",
    "Suchen Sie den Knoten mit dem größten Knotengrad."
   ]
  },
  {
   "cell_type": "code",
   "execution_count": null,
   "id": "abdaedad",
   "metadata": {
    "deletable": false,
    "tags": [
     "task-2-4",
     "task-2-6"
    ]
   },
   "outputs": [],
   "source": [
    "max_degree_node = ...\n",
    "max_degree_node"
   ]
  },
  {
   "cell_type": "code",
   "execution_count": null,
   "id": "c6679501",
   "metadata": {
    "deletable": false,
    "editable": false
   },
   "outputs": [],
   "source": [
    "aufgabe2_4(max_degree_node)"
   ]
  },
  {
   "cell_type": "markdown",
   "id": "a2569190",
   "metadata": {
    "deletable": false,
    "editable": false
   },
   "source": [
    "### Aufgabe 2.5\n",
    "Suchen Sie den Knoten mit dem größten Pagerank."
   ]
  },
  {
   "cell_type": "code",
   "execution_count": null,
   "id": "62f26b16",
   "metadata": {
    "deletable": false,
    "tags": [
     "task-2-5"
    ]
   },
   "outputs": [],
   "source": [
    "max_pagerank_node = ...\n",
    "max_pagerank_node"
   ]
  },
  {
   "cell_type": "code",
   "execution_count": null,
   "id": "cdb78628",
   "metadata": {
    "deletable": false,
    "editable": false
   },
   "outputs": [],
   "source": [
    "aufgabe2_5(max_pagerank_node)"
   ]
  },
  {
   "cell_type": "markdown",
   "id": "bcb3600d",
   "metadata": {
    "deletable": false,
    "editable": false
   },
   "source": [
    "### Aufgabe 2.6\n",
    "Finden Sie die größte Clique im Graphen."
   ]
  },
  {
   "cell_type": "code",
   "execution_count": null,
   "id": "d88148ec",
   "metadata": {
    "deletable": false,
    "tags": [
     "task-2-4",
     "task-2-6"
    ]
   },
   "outputs": [],
   "source": [
    "max_clique = ...\n",
    "max_clique"
   ]
  },
  {
   "cell_type": "code",
   "execution_count": null,
   "id": "253c94da",
   "metadata": {
    "deletable": false,
    "editable": false
   },
   "outputs": [],
   "source": [
    "aufgabe2_6(max_clique)"
   ]
  }
 ],
 "metadata": {
  "kernelspec": {
   "display_name": "Python 3 (ipykernel)",
   "language": "python",
   "name": "python3"
  },
  "language_info": {
   "codemirror_mode": {
    "name": "ipython",
    "version": 3
   },
   "file_extension": ".py",
   "mimetype": "text/x-python",
   "name": "python",
   "nbconvert_exporter": "python",
   "pygments_lexer": "ipython3",
   "version": "3.10.12"
  }
 },
 "nbformat": 4,
 "nbformat_minor": 5
}
