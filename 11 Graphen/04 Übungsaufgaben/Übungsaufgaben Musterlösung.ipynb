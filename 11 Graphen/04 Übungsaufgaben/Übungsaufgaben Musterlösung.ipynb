{
 "cells": [
  {
   "cell_type": "markdown",
   "id": "7b701c93",
   "metadata": {
    "deletable": false,
    "editable": false
   },
   "source": [
    "# Übungsaufgaben\n",
    "Für diese Übung erhalten Sie einen Graphen, der alle Filme und Serien auf Disney+ als Knoten enthält. Zwei Werke werden durch eine Kante verbunden, wenn sie mindestens einen gemeinsamen Schauspieler in einer wichtigeren Rolle besitzen. Anhand dieses Graphen werden Sie einige Kennzahlen berechnen und ihn schlussendlich grafisch darstellen.\n",
    "\n",
    "Laden Sie jedoch zuerst NetworkX und die Tests für dieses Übungsblatt."
   ]
  },
  {
   "cell_type": "code",
   "execution_count": null,
   "id": "09710617",
   "metadata": {
    "deletable": false,
    "editable": false
   },
   "outputs": [],
   "source": [
    "import networkx as nx\n",
    "from networkx import community, clique"
   ]
  },
  {
   "cell_type": "markdown",
   "id": "0aed1a3c",
   "metadata": {
    "deletable": false,
    "editable": false
   },
   "source": [
    "## Aufgabe 1\n",
    "Laden Sie den Graphen aus der Datei `movie_graph.csv`."
   ]
  },
  {
   "cell_type": "code",
   "execution_count": null,
   "id": "6de4c3c0",
   "metadata": {
    "deletable": false,
    "editable": false,
    "tags": [
     "task-1"
    ]
   },
   "outputs": [],
   "source": [
    "G = nx.read_edgelist('movie_graph.csv', data=False, delimiter=',')\n",
    "str(G)"
   ]
  },
  {
   "cell_type": "markdown",
   "id": "a4dc33b0",
   "metadata": {
    "deletable": false,
    "editable": false
   },
   "source": [
    "## Aufgabe 2"
   ]
  },
  {
   "cell_type": "markdown",
   "id": "c538818c",
   "metadata": {
    "deletable": false,
    "editable": false
   },
   "source": [
    "### Aufgabe 2.1\n",
    "Berechnen Sie die Dichte des Graphen."
   ]
  },
  {
   "cell_type": "code",
   "execution_count": null,
   "id": "e8d1aa7b",
   "metadata": {
    "deletable": false,
    "editable": false,
    "tags": [
     "task-2-1"
    ]
   },
   "outputs": [],
   "source": [
    "density = nx.density(G)\n",
    "density"
   ]
  },
  {
   "cell_type": "markdown",
   "id": "d6f56874",
   "metadata": {
    "deletable": false,
    "editable": false
   },
   "source": [
    "### Aufgabe 2.2\n",
    "Prüfen Sie, ob der Graph vollständig verbunden ist."
   ]
  },
  {
   "cell_type": "code",
   "execution_count": null,
   "id": "3c7b8a3c",
   "metadata": {
    "deletable": false,
    "editable": false,
    "tags": [
     "task-2-2"
    ]
   },
   "outputs": [],
   "source": [
    "cc = nx.is_connected(G)\n",
    "cc"
   ]
  },
  {
   "cell_type": "markdown",
   "id": "25ea0c5c",
   "metadata": {
    "deletable": false,
    "editable": false
   },
   "source": [
    "### Aufgabe 2.3\n",
    "Suchen Sie die kürzeste Verbindung zwischen den Knoten `Mickey Mouse` und `Star Wars: Episode III - Revenge of the Sith`."
   ]
  },
  {
   "cell_type": "code",
   "execution_count": null,
   "id": "e3225e67",
   "metadata": {
    "deletable": false,
    "editable": false,
    "tags": [
     "task-2-3"
    ]
   },
   "outputs": [],
   "source": [
    "shortest_path = nx.shortest_path(G, source='Mickey Mouse', target='Star Wars: Episode III - Revenge of the Sith')\n",
    "shortest_path"
   ]
  },
  {
   "cell_type": "markdown",
   "id": "489c6ee8",
   "metadata": {
    "deletable": false,
    "editable": false
   },
   "source": [
    "### Aufgabe 2.4\n",
    "Suchen Sie den Knoten mit dem größten Knotengrad."
   ]
  },
  {
   "cell_type": "code",
   "execution_count": null,
   "id": "2f0f4c3c",
   "metadata": {
    "deletable": false,
    "editable": false,
    "tags": [
     "task-2-4",
     "task-2-6"
    ]
   },
   "outputs": [],
   "source": [
    "max_degree_node, degree = max(nx.degree(G), key=lambda x: x[1])\n",
    "max_degree_node, degree"
   ]
  },
  {
   "cell_type": "markdown",
   "id": "a2569190",
   "metadata": {
    "deletable": false,
    "editable": false
   },
   "source": [
    "### Aufgabe 2.5\n",
    "Suchen Sie den Knoten mit dem größten Pagerank."
   ]
  },
  {
   "cell_type": "code",
   "execution_count": null,
   "id": "f2b4615c",
   "metadata": {
    "deletable": false,
    "editable": false,
    "tags": [
     "task-2-5"
    ]
   },
   "outputs": [],
   "source": [
    "max_pagerank_node, pagerank = max(nx.pagerank(G).items(), key=lambda x: x[1])\n",
    "max_pagerank_node, pagerank"
   ]
  },
  {
   "cell_type": "markdown",
   "id": "bcb3600d",
   "metadata": {
    "deletable": false,
    "editable": false
   },
   "source": [
    "### Aufgabe 2.6\n",
    "Finden Sie die größte Clique im Graphen."
   ]
  },
  {
   "cell_type": "code",
   "execution_count": null,
   "id": "6c330714",
   "metadata": {
    "deletable": false,
    "editable": false,
    "tags": [
     "task-2-4",
     "task-2-6"
    ]
   },
   "outputs": [],
   "source": [
    "max_clique = max(clique.find_cliques(G), key=len)\n",
    "max_clique"
   ]
  }
 ],
 "metadata": {
  "kernelspec": {
   "display_name": "Python 3 (ipykernel)",
   "language": "python",
   "name": "python3"
  },
  "language_info": {
   "codemirror_mode": {
    "name": "ipython",
    "version": 3
   },
   "file_extension": ".py",
   "mimetype": "text/x-python",
   "name": "python",
   "nbconvert_exporter": "python",
   "pygments_lexer": "ipython3",
   "version": "3.8.10"
  }
 },
 "nbformat": 4,
 "nbformat_minor": 5
}
