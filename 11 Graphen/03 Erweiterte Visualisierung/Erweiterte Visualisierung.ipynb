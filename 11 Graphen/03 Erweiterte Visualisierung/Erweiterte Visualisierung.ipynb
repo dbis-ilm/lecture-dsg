{
 "cells": [
  {
   "cell_type": "markdown",
   "id": "f3afe328",
   "metadata": {
    "deletable": false,
    "editable": false
   },
   "source": [
    "# Erweiterte Visualisierung\n",
    "Gelegentlich ermöglicht es die grafische Darstellung eines Graphen, Informationen und Muster zu erkennen. In diesem Abschnitt soll Ihnen gezeigt werden, wie ein Layout Algorithmus angewendet und das Ergebnis mit Plotly dargestellt wird."
   ]
  },
  {
   "cell_type": "markdown",
   "id": "cda50c7c",
   "metadata": {
    "deletable": false,
    "editable": false
   },
   "source": [
    "## Inhaltsverzeichnis\n",
    "- [Vorbereitung](#Vorbereitung)\n",
    "- [Layout Algorithmen](#Layout-Algorithmen)\n",
    "- [Plotly](#Plotly)\n",
    "- [Information durch Einfärben](#Information-durch-Einfärben)\n",
    "- [Abschließende Bemerkung](#Abschließende-Bemerkung)\n",
    "- [Hinweise zum Datensatz](#Hinweise-zum-Datensatz)"
   ]
  },
  {
   "cell_type": "markdown",
   "id": "cef55c5a",
   "metadata": {
    "deletable": false,
    "editable": false
   },
   "source": [
    "## Vorbereitung\n",
    "Importieren Sie zunächst NetworkX und den Graphen. Die Daten enthalten als Knoten die wichtigsten Schauspieler aller Erzeugnisse. Eine Kante wird zwischen zwei Knoten angelegt, wenn die Schauspieler an mindestens zwei gemeinsamen Werken mitwirkten."
   ]
  },
  {
   "cell_type": "code",
   "execution_count": null,
   "id": "78f2edc9",
   "metadata": {
    "deletable": false
   },
   "outputs": [],
   "source": [
    "import networkx as nx\n",
    "G = nx.read_edgelist('cast_graph.csv', data=False, delimiter=',')\n",
    "\n",
    "str(G)"
   ]
  },
  {
   "cell_type": "markdown",
   "id": "dc29a6bd",
   "metadata": {
    "deletable": false,
    "editable": false
   },
   "source": [
    "## Layout Algorithmen\n",
    "Layout Algorithmen erstellen eine Art Landkarte aus einem gegebenen Graphen. Sie nutzen verschiedene Modelle und Simulationen, um Knoten nach einem nützlichen Muster anzuordnen. [ForceAtlas](https://gephi.wordpress.com/2011/06/06/forceatlas2-the-new-version-of-our-home-brew-layout/) ist ein bekannter Algorithmus, der nach mechanischen Prinzipien arbeitet, sodass sich Knoten gegenseitig abstoßen, durch Kanten aber zusammengezogen werden. Demnach entfernen sich Gruppen mit wenigen Verbindungen voneinander, während dicht vernetzte Teilgraphen Ansammlungen bilden.\n",
    "\n",
    "Eine [Implementierung in Python](https://github.com/bhargavchippada/forceatlas2) steht zur Verfügung. Die folgende Zelle orientiert sich weitestgehend an einem Beispiel auf der Projektseite und berechnet das entsprechende Layout für den importierten Graphen."
   ]
  },
  {
   "cell_type": "code",
   "execution_count": null,
   "id": "7e9747d9",
   "metadata": {
    "deletable": false
   },
   "outputs": [],
   "source": [
    "from fa2_modified import ForceAtlas2\n",
    "\n",
    "forceatlas2 = ForceAtlas2(\n",
    "    # Behavior alternatives\n",
    "    outboundAttractionDistribution=True,  # Dissuade hubs\n",
    "    linLogMode=False,  # NOT IMPLEMENTED\n",
    "    adjustSizes=False,  # Prevent overlap (NOT IMPLEMENTED)\n",
    "    edgeWeightInfluence=1.0,\n",
    "\n",
    "    # Performance\n",
    "    jitterTolerance=1.0,  # Tolerance\n",
    "    barnesHutOptimize=True,\n",
    "    barnesHutTheta=0.9,\n",
    "    multiThreaded=False,  # NOT IMPLEMENTED\n",
    "\n",
    "    # Tuning\n",
    "    scalingRatio=3.0,\n",
    "    strongGravityMode=False,\n",
    "    gravity=1,\n",
    "\n",
    "    # Log\n",
    "    verbose=True\n",
    ")\n",
    "\n",
    "positions = forceatlas2.forceatlas2_networkx_layout(G, pos=None, iterations=3000)"
   ]
  },
  {
   "cell_type": "markdown",
   "id": "184e9468",
   "metadata": {
    "deletable": false,
    "editable": false
   },
   "source": [
    "Nachdem die gewünschte Anzahl an Iterationen durchgeführt wurde, werden die Positionen in einem Dictionary gespeichert. Als Schlüssel dient die Bezeichnung des Knotens. Die Werte enthalten Tupel der Form `(x, y)`."
   ]
  },
  {
   "cell_type": "code",
   "execution_count": null,
   "id": "e036d9ae",
   "metadata": {
    "deletable": false
   },
   "outputs": [],
   "source": [
    "positions['Ewan McGregor']"
   ]
  },
  {
   "cell_type": "markdown",
   "id": "bd431e3b",
   "metadata": {
    "deletable": false,
    "editable": false
   },
   "source": [
    "## Plotly\n",
    "Für viele beliebte Arten der grafischen Darstellung besitzt Plotly fertige Funktionen im Paket `plotly.express`. Zur Zeichnung eines Graphen mit benutzerdefinierten Koordinaten steht jedoch keine solche zur Verfügung. Im Folgenden wird deshalb das Paket `plotly.graph_objects` genutzt, das deutlich mehr Kontrolle über die einzelnen Darstellungen erlaubt."
   ]
  },
  {
   "cell_type": "code",
   "execution_count": null,
   "id": "3c11fa04",
   "metadata": {
    "deletable": false
   },
   "outputs": [],
   "source": [
    "import plotly.graph_objects as go"
   ]
  },
  {
   "cell_type": "markdown",
   "id": "dcafa2ed",
   "metadata": {
    "deletable": false,
    "editable": false
   },
   "source": [
    "Die Darstellung wird aufgeteilt in Kanten und Knoten. Beiden werden verschiedene Eigenschaften zugewiesen, bevor sie gemeinsam gezeichnet werden.\n",
    "\n",
    "Sollten Sie diesen Code nicht vollständig verstehen, genügt es, ihn an geeigneter Stelle zu kopieren und anzupassen. Sofern Sie mehr über die Darstellung von Graphen mit Plotly erfahren wollen, ist womöglich [die entsprechende Website](https://plotly.com/python/network-graphs/) hilfreich."
   ]
  },
  {
   "cell_type": "code",
   "execution_count": null,
   "id": "bf8bf450",
   "metadata": {
    "deletable": false
   },
   "outputs": [],
   "source": [
    "def draw_graph(pos, additional_data=None, column=None):\n",
    "    # Vorbereitung der Kanten\n",
    "    edge_trace = go.Scatter(\n",
    "        x=sum(((pos[source][0], pos[target][0], None) for source, target in G.edges), ()),\n",
    "        y=sum(((pos[source][1], pos[target][1], None) for source, target in G.edges), ()),\n",
    "        mode='lines',\n",
    "        line=dict(\n",
    "            width=0.5,\n",
    "            color='#888'\n",
    "        ),\n",
    "        hoverinfo='none'\n",
    "    )\n",
    "\n",
    "    # Vorbereitung der Knoten\n",
    "    node_trace = go.Scatter(\n",
    "        x=[n[0] for _, n in pos.items()],\n",
    "        y=[n[1] for _, n in pos.items()],\n",
    "        mode='markers',\n",
    "        hoverinfo='text',\n",
    "        marker=dict(\n",
    "            showscale=True,\n",
    "            colorscale='sunsetdark',\n",
    "            reversescale=True,\n",
    "            color=[],\n",
    "            size=8,\n",
    "            colorbar=dict(\n",
    "                thickness=15,\n",
    "                title=column,\n",
    "                xanchor='left',\n",
    "                titleside='right'\n",
    "            ),\n",
    "            line_width=2\n",
    "        )\n",
    "    )\n",
    "\n",
    "    # Hinzufügen zusätzlicher Knoten-Informationen\n",
    "    if additional_data is not None:\n",
    "        data = {n: v for _, (n, v) in additional_data[['name', column]].iterrows()}\n",
    "        color = [data[str(n)] for n in G.nodes()]\n",
    "\n",
    "        node_trace.text = list(zip(G.nodes(), color))\n",
    "        node_trace.marker.color = color\n",
    "    else:\n",
    "        node_trace.text = list(G.nodes())\n",
    "\n",
    "    # Darstellung beider Bestandteile\n",
    "    return go.Figure(data=[edge_trace, node_trace],\n",
    "                     layout=go.Layout(\n",
    "                         titlefont_size=16,\n",
    "                         showlegend=False,\n",
    "                         hovermode='closest',\n",
    "                         margin=dict(\n",
    "                             b=0,\n",
    "                             l=0,\n",
    "                             r=0,\n",
    "                             t=0),\n",
    "                         xaxis=dict(\n",
    "                             showgrid=False,\n",
    "                             zeroline=False,\n",
    "                             showticklabels=False\n",
    "                         ),\n",
    "                         yaxis=dict(\n",
    "                             showgrid=False,\n",
    "                             zeroline=False,\n",
    "                             showticklabels=False\n",
    "                         )\n",
    "                     ))\n",
    "\n",
    "\n",
    "draw_graph(positions)"
   ]
  },
  {
   "cell_type": "markdown",
   "id": "f550ecd2",
   "metadata": {
    "deletable": false,
    "editable": false
   },
   "source": [
    "Es ist bereits zu erkennen, dass es eine große Menge an Schauspielern gibt, die sich in einem Cluster sammeln und untereinander eine relativ große Anzahl an Verbindungen pflegen. Zudem sind weitere kleinere Cluster zu erkennen, während sich im äußeren Bereich einzelne Schauspieler und kleine Gruppen sammeln, die untereinander keine Kanten besitzen.\n",
    "\n",
    "Dank Plotly können Sie in diesem Graphen nun nach Belieben zoomen und scrollen. Im Detail lassen sich zum Beispiel ein Star-Wars- und ein Marvel-Cluster finden. Verbunden werden diese durch Schauspieler, die in beiden Franchises mitspielten, wie beispielsweise Natalie Portman oder Samuel L. Jackson."
   ]
  },
  {
   "cell_type": "markdown",
   "id": "7114315c",
   "metadata": {
    "deletable": false,
    "editable": false
   },
   "source": [
    "## Information durch Einfärben\n",
    "Zuletzt sollen weitere Muster gesucht werden, indem eine dritte Dimension als farbliche Markierung der einzelnen Knoten in die Darstellung einfließt.\n",
    "\n",
    "Laden Sie zunächst Pandas und die Datei `cast_type.csv`, in der sich weitere Details zu jedem Schauspieler befinden:\n",
    "- `known_for` beinhaltet:\n",
    "    - `red`, falls der Schauspieler in einem Marvel Film mitwirkte,\n",
    "    - `blau`, falls der Schauspieler in einem Star Wars Film mitwirkte\n",
    "    - und `NaN`, falls nichts von beidem zutrifft.\n",
    "\n",
    "  Diese Spalte ist händisch hinzugefügt worden und daher nicht ansatzweise vollständig.\n",
    "- `ratio` ist eine Zahl im Intervall $[0, 1]$ und spiegelt das Verhältnis aus Filmen und Serien wider. Ein Wert von $1$ bedeutet, dass nur Filme produziert wurden, während ein Wert von $0$ bedeutet, dass ausschließlich an Serien mitgearbeitet wurde.\n",
    "- `vote_average` ist die durchschnittliche Nutzerwertung aller Werke.\n",
    "- `release_year_average` ist das durchschnittliche Veröffentlichungsjahr."
   ]
  },
  {
   "cell_type": "code",
   "execution_count": null,
   "id": "3697b5bd",
   "metadata": {
    "deletable": false
   },
   "outputs": [],
   "source": [
    "import pandas as pd\n",
    "additional_data = pd.read_csv('cast_type.csv')\n",
    "\n",
    "additional_data"
   ]
  },
  {
   "cell_type": "markdown",
   "id": "aed684e2",
   "metadata": {
    "deletable": false,
    "editable": false
   },
   "source": [
    "Mit Hilfe dieser Daten können Knoten eingefärbt werden. Wird dabei die Spalte `known_for` gewählt, bestätigt sich die Vorahnung zweier sich bildender Häufungen. Eventuell entdecken Sie bei der Erkundung der weiteren Features weitere Muster, die Ihre Vorahnungen bestätigen oder Ihnen sogar komplett neu sind."
   ]
  },
  {
   "cell_type": "code",
   "execution_count": null,
   "id": "67d624c7",
   "metadata": {
    "deletable": false
   },
   "outputs": [],
   "source": [
    "from ipywidgets import interact\n",
    "\n",
    "@interact(column=['known_for', 'release_year_min', 'ratio', 'vote_average'])\n",
    "def _(column):\n",
    "    return draw_graph(\n",
    "        positions,\n",
    "        additional_data,\n",
    "        column\n",
    "    )"
   ]
  },
  {
   "cell_type": "markdown",
   "id": "a50dfaf6",
   "metadata": {
    "deletable": false,
    "editable": false
   },
   "source": [
    "## Abschließende Bemerkung\n",
    "Sie haben nun gesehen, wie ein Graph anhand eines komplexen Algorithmus visuell dargestellt werden kann. Berücksichtigen Sie aber auch die Erkenntnis, dass aus einer unscheinbaren Verknüpfung deutlich mehr an Einblicken zu gewinnen ist, als man zunächst annehmen würde. So reicht bereits ein einziges Feauture - nämlich die Zusammenarbeit zweier Schauspieler - aus, um im großen Rahmen ganze Franchises visuell zu entdecken.\n",
    "\n",
    "Stellen Sie sich nun aber vor, die herausgefundene Zuordnung wäre gar nicht für die Öffentlichkeit bestimmt. Aus vermeintlich harmlosen Daten, zum Beispiel wie häufig und zu welcher Zeit Sie Messenger-Nachrichten an eine andere Person senden, lassen sich plötzlich Rückschlüsse auf private Beziehungen oder Zusammenarbeit ziehen - grafisch an jeden vermittelbar und ohne auch nur eine einzige Nachricht zu entschlüsseln.\n",
    "\n",
    "Einen Vortrag von David Kriesel, der diese Gefahren neben der Mächtigkeit der grafischen Darstellung von Graphen adressiert, finden Sie unter [media.ccc.de](https://media.ccc.de/v/33c3-7912-spiegelmining_reverse_engineering_von_spiegel-online)."
   ]
  },
  {
   "attachments": {
    "1.png": {
     "image/png": "[encoded data removed]"
    }
   },
   "cell_type": "markdown",
   "id": "0da2cbdc",
   "metadata": {
    "deletable": false,
    "editable": false
   },
   "source": [
    "## Hinweise zum Datensatz\n",
    "Ein Teil der Ihnen zur Verfügung gestellten Daten wurden mit Hilfe der TMDb API erzeugt. Die Verwendung wird weder von TMDb unterstützt noch zertifiziert.\n",
    "\n",
    "[![TMDb Logo](attachment:1.png)](https://developers.themoviedb.org/3)"
   ]
  }
 ],
 "metadata": {
  "kernelspec": {
   "display_name": "Python 3 (ipykernel)",
   "language": "python",
   "name": "python3"
  },
  "language_info": {
   "codemirror_mode": {
    "name": "ipython",
    "version": 3
   },
   "file_extension": ".py",
   "mimetype": "text/x-python",
   "name": "python",
   "nbconvert_exporter": "python",
   "pygments_lexer": "ipython3",
   "version": "3.10.6"
  }
 },
 "nbformat": 4,
 "nbformat_minor": 5
}
