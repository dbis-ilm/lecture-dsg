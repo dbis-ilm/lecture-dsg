{
 "cells": [
  {
   "cell_type": "markdown",
   "id": "087e4435",
   "metadata": {
    "deletable": false,
    "editable": false
   },
   "source": [
    "# Definition und Repräsentation"
   ]
  },
  {
   "cell_type": "markdown",
   "id": "f24858f0",
   "metadata": {
    "deletable": false,
    "editable": false
   },
   "source": [
    "## Inhaltsverzeichnis\n",
    "- [Definition](#Definition)\n",
    "- [Repräsentation](#Repräsentation)\n",
    "- [Graphen aus Dateien](#Graphen-aus-Dateien)\n",
    "- [Darstellung](#Darstellung)"
   ]
  },
  {
   "attachments": {
    "1.png": {
     "image/png": "[encoded data removed]"
    }
   },
   "cell_type": "markdown",
   "id": "08a2ef98",
   "metadata": {
    "deletable": false,
    "editable": false
   },
   "source": [
    "## Definition\n",
    "Ein Graph ist eine abstrakte Struktur. Sie enthält Knoten, die beliebige Objekte repräsentieren, und Kanten, die  Verbindungen zwischen diesen Objekten darstellen. Ein anschauliches Beispiel eines Graphen ist das öffentliche Verkehrsnetz einer Stadt. Dabei bilden die Haltestellen die Knoten und Kanten repräsentieren Linien, die zwischen ihnen verkehren.\n",
    "\n",
    "![ÖPNV Netz](attachment:1.png)\n",
    "\n",
    "Kanten können gerichtet sein, um asymmetrische Beziehungen auszudrücken. Im Beispiel des Busnetzes sind Linien gerichtet, die nur in eine Richtung verlaufen, während gegenläufig verkehrende Linien ungerichtete Kanten darstellen.\n",
    "\n",
    "Um eine zusätzliche Dimension einzufügen, können Kanten sogenannte Gewichte beinhalten. Ist das Gewicht beispielsweise die erwartete Reisezeit entlang dieser Strecke bis zur nächsten Haltestelle, kann diese Information für Wegfindungs- und Planungsalgorithmen verwendet werden."
   ]
  },
  {
   "cell_type": "markdown",
   "id": "43ce2674",
   "metadata": {
    "deletable": false,
    "editable": false
   },
   "source": [
    "## Repräsentation\n",
    "In Python existieren mehrere Bibliotheken zur Verwaltung und Analyse von Graphen. Eine der bekanntesten und komplett in Python verfassten Bibliotheken nennt sich `networkx` und wird dabei häufig mit `nx` abgekürzt."
   ]
  },
  {
   "cell_type": "code",
   "execution_count": null,
   "id": "6c159e7c",
   "metadata": {
    "deletable": false,
    "editable": false
   },
   "outputs": [],
   "source": [
    "import networkx as nx"
   ]
  },
  {
   "cell_type": "markdown",
   "id": "633b90f6",
   "metadata": {
    "deletable": false,
    "editable": false
   },
   "source": [
    "NetworkX unterstützt mehrere Arten von Graphen. Um einen ungerichteten Graphen, der zwischen zwei Knoten jeweils nur eine Kante besitzen kann, anzulegen, dient die Funktion `Graph`."
   ]
  },
  {
   "cell_type": "code",
   "execution_count": null,
   "id": "22653d73",
   "metadata": {
    "deletable": false,
    "editable": false
   },
   "outputs": [],
   "source": [
    "G = nx.Graph()"
   ]
  },
  {
   "cell_type": "markdown",
   "id": "9557ab98",
   "metadata": {
    "deletable": false,
    "editable": false
   },
   "source": [
    "Als Knoten können Sie jedes hashbare Python-Objekt verwenden. Knoten werden mit den Funktionen `add_node` bzw. `add_nodes_from` hinzugefügt."
   ]
  },
  {
   "cell_type": "code",
   "execution_count": null,
   "id": "8fc76c1a",
   "metadata": {
    "deletable": false,
    "editable": false
   },
   "outputs": [],
   "source": [
    "G.add_node(1)\n",
    "G.add_nodes_from(['a', 'b'])"
   ]
  },
  {
   "cell_type": "markdown",
   "id": "7b824c17",
   "metadata": {
    "deletable": false,
    "editable": false
   },
   "source": [
    "Kanten werden mit den Funktion `add_edge` bzw. `add_edges_from` hinzugefügt."
   ]
  },
  {
   "cell_type": "code",
   "execution_count": null,
   "id": "79c72c00",
   "metadata": {
    "deletable": false,
    "editable": false
   },
   "outputs": [],
   "source": [
    "G.add_edge('a', 'b')\n",
    "G.add_edges_from([(1, 'a'), (1, 'b')])"
   ]
  },
  {
   "cell_type": "markdown",
   "id": "6456ec7d",
   "metadata": {
    "deletable": false,
    "editable": false
   },
   "source": [
    "Nicht existierende Knoten werden automatisch angelegt, sobald eine entsprechende Kante zu oder von ihm aufgenommen wird."
   ]
  },
  {
   "cell_type": "code",
   "execution_count": null,
   "id": "bf1fa607",
   "metadata": {
    "deletable": false,
    "editable": false
   },
   "outputs": [],
   "source": [
    "G.add_edge(2, 'z')"
   ]
  },
  {
   "cell_type": "markdown",
   "id": "ee790f4f",
   "metadata": {
    "deletable": false,
    "editable": false
   },
   "source": [
    "Auf Knoten und Kanten lässt sich mit den Funktionen `nodes` und `edges` zugreifen."
   ]
  },
  {
   "cell_type": "code",
   "execution_count": null,
   "id": "b3941d57",
   "metadata": {
    "deletable": false,
    "editable": false
   },
   "outputs": [],
   "source": [
    "G.nodes()"
   ]
  },
  {
   "cell_type": "code",
   "execution_count": null,
   "id": "f62c29ae",
   "metadata": {
    "deletable": false,
    "editable": false
   },
   "outputs": [],
   "source": [
    "G.edges()"
   ]
  },
  {
   "cell_type": "markdown",
   "id": "4b92823f",
   "metadata": {
    "deletable": false,
    "editable": false
   },
   "source": [
    "NetworkX verhindert bei ungerichteten Graphen automatisch, dass Kanten doppelt hinzugefügt werden. Dazu zählen auch die symmetrischen Versionen dieser Kanten."
   ]
  },
  {
   "cell_type": "code",
   "execution_count": null,
   "id": "ca9d2745",
   "metadata": {
    "deletable": false,
    "editable": false
   },
   "outputs": [],
   "source": [
    "for i in range(20):\n",
    "    G.add_edge('a', 'b')\n",
    "\n",
    "G.edges()"
   ]
  },
  {
   "cell_type": "code",
   "execution_count": null,
   "id": "0115ed51",
   "metadata": {
    "deletable": false,
    "editable": false
   },
   "outputs": [],
   "source": [
    "for i in range(20):\n",
    "    G.add_edge('b', 'a')\n",
    "\n",
    "G.edges()"
   ]
  },
  {
   "cell_type": "markdown",
   "id": "f8ab1ac2",
   "metadata": {
    "deletable": false,
    "editable": false
   },
   "source": [
    "## Graphen aus Dateien\n",
    "NetworkX erlaubt das Schreiben in und das Lesen aus Dateien. Zum Schreiben steht die Funktion `write_edgelist` bereit, die zeilenweise durch Leerzeichen getrennte Tupel bestehend aus Quellknoten, Zielknoten und Metadaten enthält. Mit den Parameters `data` und `delimiter` lassen sich gewöhnliche CSV-Dateien erzeugen."
   ]
  },
  {
   "cell_type": "code",
   "execution_count": null,
   "id": "b52b2c3e",
   "metadata": {
    "deletable": false,
    "editable": false
   },
   "outputs": [],
   "source": [
    "nx.write_edgelist(G, 'graph.csv', data=False, delimiter=',')"
   ]
  },
  {
   "cell_type": "markdown",
   "id": "36d43459",
   "metadata": {
    "deletable": false,
    "editable": false
   },
   "source": [
    "Mit der Methode `read_edgelist` lassen sich diese Dateien auch wieder einlesen."
   ]
  },
  {
   "cell_type": "code",
   "execution_count": null,
   "id": "35cba0df",
   "metadata": {
    "deletable": false,
    "editable": false
   },
   "outputs": [],
   "source": [
    "G2 = nx.read_edgelist('graph.csv', data=False, delimiter=',')\n",
    "\n",
    "nx.is_isomorphic(G, G2)"
   ]
  },
  {
   "cell_type": "markdown",
   "id": "5bf29a4d",
   "metadata": {
    "deletable": false,
    "editable": false
   },
   "source": [
    "Endet ein Dateiname mit `.gz` oder `.bz2`, wird automatisch eine Kompression oder Dekompression aktiviert. Außerdem stehen [weitere Formate](https://networkx.org/documentation/stable/reference/readwrite/index.html) zur Verfügung, sodass Graphen aus NetworkX in einer Vielzahl anderer Software geladen werden können und umgekehrt."
   ]
  },
  {
   "cell_type": "markdown",
   "id": "74e96a4d",
   "metadata": {
    "deletable": false,
    "editable": false
   },
   "source": [
    "## Darstellung\n",
    "NetworkX stellt mehrere Funktionen bereit, um Graphen in verschiedenen Layouts zu zeichnen."
   ]
  },
  {
   "cell_type": "code",
   "execution_count": null,
   "id": "975e8cf3",
   "metadata": {
    "deletable": false,
    "editable": false
   },
   "outputs": [],
   "source": [
    "G3 = nx.read_edgelist('g3.csv', data=False, delimiter=',')"
   ]
  },
  {
   "cell_type": "code",
   "execution_count": null,
   "id": "6165bbf4",
   "metadata": {
    "deletable": false,
    "editable": false
   },
   "outputs": [],
   "source": [
    "nx.draw(G3, with_labels=True)"
   ]
  },
  {
   "cell_type": "code",
   "execution_count": null,
   "id": "c3252f66",
   "metadata": {
    "deletable": false,
    "editable": false
   },
   "outputs": [],
   "source": [
    "nx.draw_circular(G3, with_labels=True)"
   ]
  },
  {
   "cell_type": "code",
   "execution_count": null,
   "id": "5315a287",
   "metadata": {
    "deletable": false,
    "editable": false
   },
   "outputs": [],
   "source": [
    "nx.draw_kamada_kawai(G3, with_labels=True)"
   ]
  },
  {
   "cell_type": "code",
   "execution_count": null,
   "id": "33d3d4db",
   "metadata": {
    "deletable": false,
    "editable": false
   },
   "outputs": [],
   "source": [
    "nx.draw_planar(G3, with_labels=True)"
   ]
  },
  {
   "cell_type": "code",
   "execution_count": null,
   "id": "483a2d20",
   "metadata": {
    "deletable": false,
    "editable": false
   },
   "outputs": [],
   "source": [
    "nx.draw_random(G3, with_labels=True)"
   ]
  },
  {
   "cell_type": "code",
   "execution_count": null,
   "id": "2d5acfe8",
   "metadata": {
    "deletable": false,
    "editable": false
   },
   "outputs": [],
   "source": [
    "nx.draw_spectral(G3, with_labels=True)"
   ]
  },
  {
   "cell_type": "code",
   "execution_count": null,
   "id": "345d33bc",
   "metadata": {
    "deletable": false,
    "editable": false
   },
   "outputs": [],
   "source": [
    "nx.draw_spring(G3, with_labels=True)"
   ]
  },
  {
   "cell_type": "code",
   "execution_count": null,
   "id": "93947196",
   "metadata": {
    "deletable": false,
    "editable": false
   },
   "outputs": [],
   "source": [
    "nx.draw_shell(G3, with_labels=True)"
   ]
  }
 ],
 "metadata": {
  "kernelspec": {
   "display_name": "Python 3 (ipykernel)",
   "language": "python",
   "name": "python3"
  },
  "language_info": {
   "codemirror_mode": {
    "name": "ipython",
    "version": 3
   },
   "file_extension": ".py",
   "mimetype": "text/x-python",
   "name": "python",
   "nbconvert_exporter": "python",
   "pygments_lexer": "ipython3",
   "version": "3.8.10"
  }
 },
 "nbformat": 4,
 "nbformat_minor": 5
}
