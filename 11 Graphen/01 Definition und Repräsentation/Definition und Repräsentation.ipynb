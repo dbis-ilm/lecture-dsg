{
 "cells": [
  {
   "cell_type": "markdown",
   "id": "4af5fc85",
   "metadata": {
    "deletable": false,
    "editable": false
   },
   "source": [
    "# Definition und Repräsentation"
   ]
  },
  {
   "cell_type": "markdown",
   "id": "b24ed0cb",
   "metadata": {
    "deletable": false,
    "editable": false
   },
   "source": [
    "## Inhaltsverzeichnis\n",
    "- [Definition](#Definition)\n",
    "- [Repräsentation](#Repräsentation)"
   ]
  },
  {
   "cell_type": "markdown",
   "id": "365ec6cb",
   "metadata": {
    "deletable": false,
    "editable": false
   },
   "source": [
    "## Definition\n",
    "Ein Graph ist eine abstrakte Struktur. Sie enthält Knoten, die beliebige Objekte repräsentieren, und Kanten, die  Verbindungen zwischen diesen Objekten darstellen. Ein anschauliches Beispiel eines Graphen ist das Straßennetz einer Stadt. Dabei bilden die Kreuzungen die Knoten und die sie verbindenden Straßen die Kanten.\n",
    "\n",
    "Kanten können gerichtet sein, um asymmetrische Beziehungen auszudrücken. Im Beispiel des Straßennetzes sind Einbahnstraßen gerichtet, da der Verkehr nur in eine Richtung hindurchlaufen kann, während normale Straßen ungerichtete Kanten darstellen.\n",
    "\n",
    "Um eine zusätzliche Dimension einzufügen, können Kanten sogenannte Gewichte beinhalten. Ist das Gewicht beispielsweise die erwartete Reisezeit entlang dieser Straße bis zur nächsten Kreuzung, kann diese Information für Wegfindungsalgorithmen verwendet werden."
   ]
  },
  {
   "cell_type": "markdown",
   "id": "5c179ba9",
   "metadata": {
    "deletable": false,
    "editable": false
   },
   "source": [
    "## Repräsentation"
   ]
  }
 ],
 "metadata": {
  "kernelspec": {
   "display_name": "Python 3 (ipykernel)",
   "language": "python",
   "name": "python3"
  },
  "language_info": {
   "codemirror_mode": {
    "name": "ipython",
    "version": 3
   },
   "file_extension": ".py",
   "mimetype": "text/x-python",
   "name": "python",
   "nbconvert_exporter": "python",
   "pygments_lexer": "ipython3",
   "version": "3.8.10"
  }
 },
 "nbformat": 4,
 "nbformat_minor": 5
}
