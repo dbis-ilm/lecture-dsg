{
 "cells": [
  {
   "cell_type": "markdown",
   "id": "e3620c69",
   "metadata": {
    "deletable": false,
    "editable": false
   },
   "source": [
    "# Kennzahlen"
   ]
  },
  {
   "cell_type": "markdown",
   "id": "4deaf454",
   "metadata": {
    "deletable": false,
    "editable": false
   },
   "source": [
    "## Inhaltsverzeichnis\n",
    "- [Vorbereitung](#Vorbereitung)\n",
    "- [Struktur des Graphen](#Struktur-des-Graphen)\n",
    "  - [Vollständige Verbundenheit](#Vollständige-Verbundenheit)\n",
    "  - [Dichte](#Dichte)\n",
    "  - [Kürzeste Pfade](#Kürzeste-Pfade)\n",
    "  - [Zusammenhängende Teilgraphen](#Zusammenhängende-Teilgraphen)\n",
    "- [Graphanalyse](#Graphanalyse)\n",
    "  - [Knotengrad](#Knotengrad)\n",
    "  - [Nähe](#Nähe)\n",
    "  - [Betweenness-Zentralität](#Betweenness-Zentralität)\n",
    "  - [Pagerank](#Pagerank)\n",
    "  - [Cliquen](#Cliquen)\n",
    "  - [Communities](#Communities)"
   ]
  },
  {
   "cell_type": "markdown",
   "id": "1112c634",
   "metadata": {
    "deletable": false,
    "editable": false
   },
   "source": [
    "## Vorbereitung\n",
    "Importieren Sie zunächst `networkx` und laden Sie den Graphen."
   ]
  },
  {
   "cell_type": "code",
   "execution_count": null,
   "id": "818c49c3",
   "metadata": {
    "deletable": false,
    "editable": false
   },
   "outputs": [],
   "source": [
    "import networkx as nx\n",
    "from networkx import community, clique\n",
    "\n",
    "G = nx.read_edgelist('g.csv', data=False, delimiter=',')\n",
    "nx.draw(G, with_labels=True)"
   ]
  },
  {
   "cell_type": "markdown",
   "id": "80f45f54",
   "metadata": {
    "deletable": false,
    "editable": false
   },
   "source": [
    "## Struktur des Graphen\n",
    "### Vollständige Verbundenheit\n",
    "Ein Graph heißt vollständig verbunden, wenn jeder Knoten eine Kante zu jedem anderen Knoten besitzt. In NetworkX existiert zur Überprüfung die Funktion `is_connected`."
   ]
  },
  {
   "cell_type": "code",
   "execution_count": null,
   "id": "4aec0a46",
   "metadata": {
    "deletable": false,
    "editable": false
   },
   "outputs": [],
   "source": [
    "nx.is_connected(G)"
   ]
  },
  {
   "cell_type": "markdown",
   "id": "e3f11747",
   "metadata": {
    "deletable": false,
    "editable": false
   },
   "source": [
    "### Dichte\n",
    "Die Dichte eines Graphen gibt an, wie viele der möglichen Kanten vorhanden sind. Ein Wert von $1$ entspricht einem vollständig verbundenen Graphen, während $0$ einen Graphen ohne Kanten widerspiegelt. Die Dichte wird wie folgt berechnet:\n",
    "\n",
    "$$\n",
    "d(G) = \\dfrac{\\left|E\\right|}{\\binom{\\left|V\\right|}{2}}\n",
    "$$\n",
    "\n",
    "NetworkX stellt die Funktion `density` bereit."
   ]
  },
  {
   "cell_type": "code",
   "execution_count": null,
   "id": "0e6a1d05",
   "metadata": {
    "deletable": false,
    "editable": false
   },
   "outputs": [],
   "source": [
    "nx.density(G)"
   ]
  },
  {
   "cell_type": "markdown",
   "id": "326c51d1",
   "metadata": {
    "deletable": false,
    "editable": false
   },
   "source": [
    "### Kürzeste Pfade\n",
    "Ein Pfad ist eine Verbindung zweier Knoten über eine Folge von Kanten. Der kürzeste Pfad ist dabei derjenige, der am wenigsten Kanten einschließt. Zum Auffinden eines kürzesten Pfades existiert die Funktion `shortest_path`."
   ]
  },
  {
   "cell_type": "code",
   "execution_count": null,
   "id": "362fc18c",
   "metadata": {
    "deletable": false,
    "editable": false
   },
   "outputs": [],
   "source": [
    "nx.shortest_path(G, source='d', target='z')"
   ]
  },
  {
   "cell_type": "markdown",
   "id": "ff22e9bc",
   "metadata": {
    "deletable": false,
    "editable": false
   },
   "source": [
    "### Zusammenhängende Teilgraphen\n",
    "Ein Graph heißt zusammenhängend, wenn seine Knoten paarweise durch einen Pfad verbunden sind. Ist ein Graph nicht zusammenhängend, lässt er sich in zwei oder mehr zusammenhängende Teilgraphen spalten. Mit der Funktion `connected_components` wird nach solchen gesucht."
   ]
  },
  {
   "cell_type": "code",
   "execution_count": null,
   "id": "71823987",
   "metadata": {
    "deletable": false,
    "editable": false
   },
   "outputs": [],
   "source": [
    "list(nx.connected_components(G))"
   ]
  },
  {
   "cell_type": "markdown",
   "id": "3e705795",
   "metadata": {
    "deletable": false,
    "editable": false
   },
   "source": [
    "## Graphanalyse\n",
    "### Knotengrad\n",
    "Der Knotengrad gibt an, wie viele Kanten von einem Knoten ausgehen. Die Funktion `degree` gibt ein Objekt zurück, das zu jedem Knoten den Grad enthält."
   ]
  },
  {
   "cell_type": "code",
   "execution_count": null,
   "id": "d72cb64e",
   "metadata": {
    "deletable": false,
    "editable": false
   },
   "outputs": [],
   "source": [
    "nx.degree(G)"
   ]
  },
  {
   "cell_type": "markdown",
   "id": "402c86e8",
   "metadata": {
    "deletable": false,
    "editable": false
   },
   "source": [
    "### Nähe\n",
    "Die Nähe *(\"Closeness Centrality\")* ist ein Wert für die Entfernung eines Knotens zu allen anderen. Die Funktion `closeness_centrality` berechnet das Reziproke der durchschnittlichen Entfernung eines Knotens zu allen anderen. Je höher der Wert ist, desto zentraler liegt der Knoten hinsichtlich der Entfernungen."
   ]
  },
  {
   "cell_type": "code",
   "execution_count": null,
   "id": "629af020",
   "metadata": {
    "deletable": false,
    "editable": false
   },
   "outputs": [],
   "source": [
    "nx.closeness_centrality(G)"
   ]
  },
  {
   "cell_type": "markdown",
   "id": "daa575bb",
   "metadata": {
    "deletable": false,
    "editable": false
   },
   "source": [
    "### Betweenness-Zentralität\n",
    "Die Betweenness-Zentralität richtet sich nach der Anzahl der kürzesten Wege, die einen Graphen durchlaufen. NetworkX stellt die Funktion `betweenness_centrality` bereit."
   ]
  },
  {
   "cell_type": "code",
   "execution_count": null,
   "id": "e222d039",
   "metadata": {
    "deletable": false,
    "editable": false
   },
   "outputs": [],
   "source": [
    "nx.betweenness_centrality(G)"
   ]
  },
  {
   "cell_type": "markdown",
   "id": "5aeb663f",
   "metadata": {
    "deletable": false,
    "editable": false
   },
   "source": [
    "### Pagerank\n",
    "Pagerank wurde ursprünglich als Algorithmus zur Bewertung der Relevanz von Webseiten in Suchergebnissen entwickelt. NetworkX implementiert dazu die Funktion `pagerank`."
   ]
  },
  {
   "cell_type": "code",
   "execution_count": null,
   "id": "f5952d64",
   "metadata": {
    "deletable": false,
    "editable": false
   },
   "outputs": [],
   "source": [
    "nx.pagerank(G)"
   ]
  },
  {
   "cell_type": "markdown",
   "id": "1bc70a33",
   "metadata": {
    "deletable": false,
    "editable": false
   },
   "source": [
    "### Cliquen\n",
    "Cliquen sind Teilgraphen, die vollständig verbunden sind. Die Methode `find_clique` findet alle Teilmengen, die eine Clique bilden. (Teilgraphen, die aus zwei verbundenen Knoten bestehen, sind immer Cliquen.)"
   ]
  },
  {
   "cell_type": "code",
   "execution_count": null,
   "id": "c68d0ee5",
   "metadata": {
    "deletable": false,
    "editable": false
   },
   "outputs": [],
   "source": [
    "list(clique.find_cliques(G))"
   ]
  },
  {
   "cell_type": "markdown",
   "id": "8e48f2d0",
   "metadata": {
    "deletable": false,
    "editable": false
   },
   "source": [
    "### Communities\n",
    "Communities sind eine Partitionierung des Graphen, sodass Knoten innerhalb einer Community dichter sind als außerhalb. NetworkX stellt zum Auffinden von Communities unter anderem die Funktion `greedy_modularity_communities` zur Verfügung."
   ]
  },
  {
   "cell_type": "code",
   "execution_count": null,
   "id": "2bd510ee",
   "metadata": {
    "deletable": false,
    "editable": false
   },
   "outputs": [],
   "source": [
    "community.greedy_modularity_communities(G)"
   ]
  }
 ],
 "metadata": {
  "kernelspec": {
   "display_name": "Python 3 (ipykernel)",
   "language": "python",
   "name": "python3"
  },
  "language_info": {
   "codemirror_mode": {
    "name": "ipython",
    "version": 3
   },
   "file_extension": ".py",
   "mimetype": "text/x-python",
   "name": "python",
   "nbconvert_exporter": "python",
   "pygments_lexer": "ipython3",
   "version": "3.10.6"
  }
 },
 "nbformat": 4,
 "nbformat_minor": 5
}
